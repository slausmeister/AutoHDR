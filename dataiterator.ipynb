{
 "cells": [
  {
   "cell_type": "code",
   "execution_count": 1,
   "metadata": {},
   "outputs": [],
   "source": [
    "import itertools\n",
    "import numpy as np\n",
    "from pathlib import Path\n",
    "import LightroomSettings as ls\n",
    "import torch\n",
    "import pickle"
   ]
  },
  {
   "cell_type": "code",
   "execution_count": 2,
   "metadata": {},
   "outputs": [],
   "source": [
    "\n",
    "\n",
    "#------------------------Für mich um Dummy-Daten zu erstellen-----------------------\n",
    "def reduce_hyperparam(dict):\n",
    "    trivial_keys = ['batch_size', 'num_of_dataloader_workers', 'shuffle_dataset', 'force_preprocessing', 'cropping_scale', 'distortion_scale', 'sigma', 'validation_split', 'grid_param']\n",
    "\n",
    "    nontrivial_dict = {}\n",
    "    for key, value in dict.items():\n",
    "        if key in trivial_keys:\n",
    "            continue\n",
    "        if value == 0 or value == []:\n",
    "            continue\n",
    "        nontrivial_dict[key] = value\n",
    "    \n",
    "    return nontrivial_dict\n",
    "\n",
    "\n",
    "\n",
    "# def load_data(path, params):\n",
    "#     \n",
    "#     nontrivial_dict = reduce_hyperparam(params)\n",
    "#     print(params)\n",
    "#     \n",
    "#     return nontrivial_dict, 0\n",
    "\n",
    "\n",
    "# def trainer(params1, params2, data1, data2):\n",
    "#     #print(data1)\n",
    "#     loss = np.random.rand(params2['num_epochs']).tolist()\n",
    "#     model = {\"weights\":np.random.rand(8)}\n",
    "#     print(f\"Model saved at {params1['path']}.\")\n",
    "#     return model, loss, 0\n",
    "#---------------------------------------------------------------------------------------\n",
    "\n"
   ]
  },
  {
   "cell_type": "code",
   "execution_count": 3,
   "metadata": {},
   "outputs": [
    {
     "name": "stdout",
     "output_type": "stream",
     "text": [
      "Loading tensors from file\n",
      "Starting training\n"
     ]
    },
    {
     "name": "stderr",
     "output_type": "stream",
     "text": [
      "/home/slaus/miniconda3/envs/light/lib/python3.12/site-packages/huggingface_hub/file_download.py:1132: FutureWarning: `resume_download` is deprecated and will be removed in version 1.0.0. Downloads always resume when possible. If you want to force a new download, use `force_download=True`.\n",
      "  warnings.warn(\n"
     ]
    },
    {
     "data": {
      "text/html": [
       "<b>Batch [2/2]</b><br>Batch Loss: 0.0682<br>Batch Duration: 0.01<br>Estimated Batch time left: 0.00s"
      ],
      "text/plain": [
       "<IPython.core.display.HTML object>"
      ]
     },
     "metadata": {},
     "output_type": "display_data"
    },
    {
     "data": {
      "text/html": [
       "<b>Validation [28/28]</b><br>Val Loss: 0.1181<br>Val Duration: 0.02<br>Estimated Val time left: 0.00s"
      ],
      "text/plain": [
       "<IPython.core.display.HTML object>"
      ]
     },
     "metadata": {},
     "output_type": "display_data"
    },
    {
     "data": {
      "text/html": [
       "<b>Epoch [6/6]</b><br>Average Epoch Loss: 0.0634<br>Estimated time left: 0.00"
      ],
      "text/plain": [
       "<IPython.core.display.HTML object>"
      ]
     },
     "metadata": {},
     "output_type": "display_data"
    },
    {
     "name": "stdout",
     "output_type": "stream",
     "text": [
      "Total time: 00:18:19\n",
      "Loading tensors from file\n",
      "Starting training\n"
     ]
    },
    {
     "data": {
      "text/html": [
       "<b>Batch [2/2]</b><br>Batch Loss: 0.0783<br>Batch Duration: 0.01<br>Estimated Batch time left: 0.00s"
      ],
      "text/plain": [
       "<IPython.core.display.HTML object>"
      ]
     },
     "metadata": {},
     "output_type": "display_data"
    },
    {
     "data": {
      "text/html": [
       "<b>Validation [28/28]</b><br>Val Loss: 0.1126<br>Val Duration: 0.02<br>Estimated Val time left: 0.00s"
      ],
      "text/plain": [
       "<IPython.core.display.HTML object>"
      ]
     },
     "metadata": {},
     "output_type": "display_data"
    },
    {
     "data": {
      "text/html": [
       "<b>Epoch [6/6]</b><br>Average Epoch Loss: 0.0918<br>Estimated time left: 0.00"
      ],
      "text/plain": [
       "<IPython.core.display.HTML object>"
      ]
     },
     "metadata": {},
     "output_type": "display_data"
    },
    {
     "name": "stdout",
     "output_type": "stream",
     "text": [
      "Total time: 00:14:18\n",
      "Loading tensors from file\n",
      "Starting training\n"
     ]
    },
    {
     "data": {
      "text/html": [
       "<b>Batch [2/2]</b><br>Batch Loss: 0.1493<br>Batch Duration: 0.01<br>Estimated Batch time left: 0.00s"
      ],
      "text/plain": [
       "<IPython.core.display.HTML object>"
      ]
     },
     "metadata": {},
     "output_type": "display_data"
    },
    {
     "data": {
      "text/html": [
       "<b>Validation [28/28]</b><br>Val Loss: 0.1731<br>Val Duration: 0.01<br>Estimated Val time left: 0.00s"
      ],
      "text/plain": [
       "<IPython.core.display.HTML object>"
      ]
     },
     "metadata": {},
     "output_type": "display_data"
    },
    {
     "data": {
      "text/html": [
       "<b>Epoch [6/6]</b><br>Average Epoch Loss: 0.1502<br>Estimated time left: 0.00"
      ],
      "text/plain": [
       "<IPython.core.display.HTML object>"
      ]
     },
     "metadata": {},
     "output_type": "display_data"
    },
    {
     "name": "stdout",
     "output_type": "stream",
     "text": [
      "Total time: 00:12:19\n",
      "Loading tensors from file\n",
      "Starting training\n"
     ]
    },
    {
     "data": {
      "text/html": [
       "<b>Batch [2/2]</b><br>Batch Loss: 0.0421<br>Batch Duration: 0.01<br>Estimated Batch time left: 0.00s"
      ],
      "text/plain": [
       "<IPython.core.display.HTML object>"
      ]
     },
     "metadata": {},
     "output_type": "display_data"
    },
    {
     "data": {
      "text/html": [
       "<b>Validation [28/28]</b><br>Val Loss: 0.0632<br>Val Duration: 0.02<br>Estimated Val time left: 0.00s"
      ],
      "text/plain": [
       "<IPython.core.display.HTML object>"
      ]
     },
     "metadata": {},
     "output_type": "display_data"
    },
    {
     "data": {
      "text/html": [
       "<b>Epoch [6/6]</b><br>Average Epoch Loss: 0.0591<br>Estimated time left: 0.00"
      ],
      "text/plain": [
       "<IPython.core.display.HTML object>"
      ]
     },
     "metadata": {},
     "output_type": "display_data"
    },
    {
     "name": "stdout",
     "output_type": "stream",
     "text": [
      "Total time: 00:10:19\n",
      "Loading tensors from file\n",
      "Starting training\n"
     ]
    },
    {
     "data": {
      "text/html": [
       "<b>Batch [2/2]</b><br>Batch Loss: 0.1053<br>Batch Duration: 0.01<br>Estimated Batch time left: 0.00s"
      ],
      "text/plain": [
       "<IPython.core.display.HTML object>"
      ]
     },
     "metadata": {},
     "output_type": "display_data"
    },
    {
     "data": {
      "text/html": [
       "<b>Validation [28/28]</b><br>Val Loss: 0.0787<br>Val Duration: 0.01<br>Estimated Val time left: 0.00s"
      ],
      "text/plain": [
       "<IPython.core.display.HTML object>"
      ]
     },
     "metadata": {},
     "output_type": "display_data"
    },
    {
     "data": {
      "text/html": [
       "<b>Epoch [6/6]</b><br>Average Epoch Loss: 0.0977<br>Estimated time left: 0.00"
      ],
      "text/plain": [
       "<IPython.core.display.HTML object>"
      ]
     },
     "metadata": {},
     "output_type": "display_data"
    },
    {
     "name": "stdout",
     "output_type": "stream",
     "text": [
      "Total time: 00:08:08\n",
      "Loading tensors from file\n",
      "Starting training\n"
     ]
    },
    {
     "data": {
      "text/html": [
       "<b>Batch [2/2]</b><br>Batch Loss: 0.0690<br>Batch Duration: 0.01<br>Estimated Batch time left: 0.00s"
      ],
      "text/plain": [
       "<IPython.core.display.HTML object>"
      ]
     },
     "metadata": {},
     "output_type": "display_data"
    },
    {
     "data": {
      "text/html": [
       "<b>Validation [28/28]</b><br>Val Loss: 0.0943<br>Val Duration: 0.02<br>Estimated Val time left: 0.00s"
      ],
      "text/plain": [
       "<IPython.core.display.HTML object>"
      ]
     },
     "metadata": {},
     "output_type": "display_data"
    },
    {
     "data": {
      "text/html": [
       "<b>Epoch [6/6]</b><br>Average Epoch Loss: 0.0663<br>Estimated time left: 0.00"
      ],
      "text/plain": [
       "<IPython.core.display.HTML object>"
      ]
     },
     "metadata": {},
     "output_type": "display_data"
    },
    {
     "name": "stdout",
     "output_type": "stream",
     "text": [
      "Total time: 00:06:18\n",
      "Loading tensors from file\n",
      "Starting training\n"
     ]
    },
    {
     "data": {
      "text/html": [
       "<b>Batch [2/2]</b><br>Batch Loss: 0.0499<br>Batch Duration: 0.01<br>Estimated Batch time left: 0.00s"
      ],
      "text/plain": [
       "<IPython.core.display.HTML object>"
      ]
     },
     "metadata": {},
     "output_type": "display_data"
    },
    {
     "data": {
      "text/html": [
       "<b>Validation [28/28]</b><br>Val Loss: 0.1088<br>Val Duration: 0.01<br>Estimated Val time left: 0.00s"
      ],
      "text/plain": [
       "<IPython.core.display.HTML object>"
      ]
     },
     "metadata": {},
     "output_type": "display_data"
    },
    {
     "data": {
      "text/html": [
       "<b>Epoch [6/6]</b><br>Average Epoch Loss: 0.0815<br>Estimated time left: 0.00"
      ],
      "text/plain": [
       "<IPython.core.display.HTML object>"
      ]
     },
     "metadata": {},
     "output_type": "display_data"
    },
    {
     "name": "stdout",
     "output_type": "stream",
     "text": [
      "Total time: 00:04:05\n",
      "Loading tensors from file\n",
      "Starting training\n"
     ]
    },
    {
     "data": {
      "text/html": [
       "<b>Batch [2/2]</b><br>Batch Loss: 0.0880<br>Batch Duration: 0.01<br>Estimated Batch time left: 0.00s"
      ],
      "text/plain": [
       "<IPython.core.display.HTML object>"
      ]
     },
     "metadata": {},
     "output_type": "display_data"
    },
    {
     "data": {
      "text/html": [
       "<b>Validation [28/28]</b><br>Val Loss: 0.1285<br>Val Duration: 0.02<br>Estimated Val time left: 0.00s"
      ],
      "text/plain": [
       "<IPython.core.display.HTML object>"
      ]
     },
     "metadata": {},
     "output_type": "display_data"
    },
    {
     "data": {
      "text/html": [
       "<b>Epoch [6/6]</b><br>Average Epoch Loss: 0.0882<br>Estimated time left: 0.00"
      ],
      "text/plain": [
       "<IPython.core.display.HTML object>"
      ]
     },
     "metadata": {},
     "output_type": "display_data"
    },
    {
     "name": "stdout",
     "output_type": "stream",
     "text": [
      "Total time: 00:02:03\n",
      "Loading tensors from file\n",
      "Starting training\n"
     ]
    },
    {
     "data": {
      "text/html": [
       "<b>Batch [2/2]</b><br>Batch Loss: 0.0789<br>Batch Duration: 0.01<br>Estimated Batch time left: 0.00s"
      ],
      "text/plain": [
       "<IPython.core.display.HTML object>"
      ]
     },
     "metadata": {},
     "output_type": "display_data"
    },
    {
     "data": {
      "text/html": [
       "<b>Validation [28/28]</b><br>Val Loss: 0.0868<br>Val Duration: 0.02<br>Estimated Val time left: 0.00s"
      ],
      "text/plain": [
       "<IPython.core.display.HTML object>"
      ]
     },
     "metadata": {},
     "output_type": "display_data"
    },
    {
     "data": {
      "text/html": [
       "<b>Epoch [6/6]</b><br>Average Epoch Loss: 0.0636<br>Estimated time left: 0.00"
      ],
      "text/plain": [
       "<IPython.core.display.HTML object>"
      ]
     },
     "metadata": {},
     "output_type": "display_data"
    },
    {
     "name": "stdout",
     "output_type": "stream",
     "text": [
      "Total time: 00:00:00\n",
      "Loading tensors from file\n",
      "Starting training\n"
     ]
    },
    {
     "data": {
      "text/html": [
       "<b>Batch [2/2]</b><br>Batch Loss: 0.0986<br>Batch Duration: 0.01<br>Estimated Batch time left: 0.00s"
      ],
      "text/plain": [
       "<IPython.core.display.HTML object>"
      ]
     },
     "metadata": {},
     "output_type": "display_data"
    },
    {
     "data": {
      "text/html": [
       "<b>Validation [28/28]</b><br>Val Loss: 0.0860<br>Val Duration: 0.01<br>Estimated Val time left: 0.00s"
      ],
      "text/plain": [
       "<IPython.core.display.HTML object>"
      ]
     },
     "metadata": {},
     "output_type": "display_data"
    },
    {
     "data": {
      "text/html": [
       "<b>Epoch [6/6]</b><br>Average Epoch Loss: 0.1134<br>Estimated time left: 0.00"
      ],
      "text/plain": [
       "<IPython.core.display.HTML object>"
      ]
     },
     "metadata": {},
     "output_type": "display_data"
    },
    {
     "name": "stdout",
     "output_type": "stream",
     "text": [
      "Total time: 00:00:00\n",
      "Loading tensors from file\n",
      "Starting training\n"
     ]
    },
    {
     "data": {
      "text/html": [
       "<b>Batch [2/2]</b><br>Batch Loss: 0.0621<br>Batch Duration: 0.01<br>Estimated Batch time left: 0.00s"
      ],
      "text/plain": [
       "<IPython.core.display.HTML object>"
      ]
     },
     "metadata": {},
     "output_type": "display_data"
    },
    {
     "data": {
      "text/html": [
       "<b>Validation [28/28]</b><br>Val Loss: 0.1204<br>Val Duration: 0.02<br>Estimated Val time left: 0.00s"
      ],
      "text/plain": [
       "<IPython.core.display.HTML object>"
      ]
     },
     "metadata": {},
     "output_type": "display_data"
    },
    {
     "data": {
      "text/html": [
       "<b>Epoch [6/6]</b><br>Average Epoch Loss: 0.0630<br>Estimated time left: 0.00"
      ],
      "text/plain": [
       "<IPython.core.display.HTML object>"
      ]
     },
     "metadata": {},
     "output_type": "display_data"
    },
    {
     "name": "stdout",
     "output_type": "stream",
     "text": [
      "Total time: 00:00:00\n",
      "Loading tensors from file\n",
      "Starting training\n"
     ]
    },
    {
     "data": {
      "text/html": [
       "<b>Batch [2/2]</b><br>Batch Loss: 0.0520<br>Batch Duration: 0.01<br>Estimated Batch time left: 0.00s"
      ],
      "text/plain": [
       "<IPython.core.display.HTML object>"
      ]
     },
     "metadata": {},
     "output_type": "display_data"
    },
    {
     "data": {
      "text/html": [
       "<b>Validation [28/28]</b><br>Val Loss: 0.0625<br>Val Duration: 0.02<br>Estimated Val time left: 0.00s"
      ],
      "text/plain": [
       "<IPython.core.display.HTML object>"
      ]
     },
     "metadata": {},
     "output_type": "display_data"
    },
    {
     "data": {
      "text/html": [
       "<b>Epoch [6/6]</b><br>Average Epoch Loss: 0.0385<br>Estimated time left: 0.00"
      ],
      "text/plain": [
       "<IPython.core.display.HTML object>"
      ]
     },
     "metadata": {},
     "output_type": "display_data"
    },
    {
     "name": "stdout",
     "output_type": "stream",
     "text": [
      "Total time: 00:00:00\n",
      "Loading tensors from file\n",
      "Starting training\n"
     ]
    },
    {
     "data": {
      "text/html": [
       "<b>Batch [2/2]</b><br>Batch Loss: 0.1307<br>Batch Duration: 0.01<br>Estimated Batch time left: 0.00s"
      ],
      "text/plain": [
       "<IPython.core.display.HTML object>"
      ]
     },
     "metadata": {},
     "output_type": "display_data"
    },
    {
     "data": {
      "text/html": [
       "<b>Validation [28/28]</b><br>Val Loss: 0.0947<br>Val Duration: 0.02<br>Estimated Val time left: 0.00s"
      ],
      "text/plain": [
       "<IPython.core.display.HTML object>"
      ]
     },
     "metadata": {},
     "output_type": "display_data"
    },
    {
     "data": {
      "text/html": [
       "<b>Epoch [6/6]</b><br>Average Epoch Loss: 0.1126<br>Estimated time left: 0.00"
      ],
      "text/plain": [
       "<IPython.core.display.HTML object>"
      ]
     },
     "metadata": {},
     "output_type": "display_data"
    },
    {
     "name": "stdout",
     "output_type": "stream",
     "text": [
      "Total time: 00:00:00\n",
      "Loading tensors from file\n",
      "Starting training\n"
     ]
    },
    {
     "data": {
      "text/html": [
       "<b>Batch [2/2]</b><br>Batch Loss: 0.0493<br>Batch Duration: 0.01<br>Estimated Batch time left: 0.00s"
      ],
      "text/plain": [
       "<IPython.core.display.HTML object>"
      ]
     },
     "metadata": {},
     "output_type": "display_data"
    },
    {
     "data": {
      "text/html": [
       "<b>Validation [28/28]</b><br>Val Loss: 0.1063<br>Val Duration: 0.02<br>Estimated Val time left: 0.00s"
      ],
      "text/plain": [
       "<IPython.core.display.HTML object>"
      ]
     },
     "metadata": {},
     "output_type": "display_data"
    },
    {
     "data": {
      "text/html": [
       "<b>Epoch [6/6]</b><br>Average Epoch Loss: 0.0405<br>Estimated time left: 0.00"
      ],
      "text/plain": [
       "<IPython.core.display.HTML object>"
      ]
     },
     "metadata": {},
     "output_type": "display_data"
    },
    {
     "name": "stdout",
     "output_type": "stream",
     "text": [
      "Total time: 00:00:00\n",
      "Loading tensors from file\n",
      "Starting training\n"
     ]
    },
    {
     "data": {
      "text/html": [
       "<b>Batch [2/2]</b><br>Batch Loss: 0.1498<br>Batch Duration: 0.01<br>Estimated Batch time left: 0.00s"
      ],
      "text/plain": [
       "<IPython.core.display.HTML object>"
      ]
     },
     "metadata": {},
     "output_type": "display_data"
    },
    {
     "data": {
      "text/html": [
       "<b>Validation [28/28]</b><br>Val Loss: 0.1660<br>Val Duration: 0.02<br>Estimated Val time left: 0.00s"
      ],
      "text/plain": [
       "<IPython.core.display.HTML object>"
      ]
     },
     "metadata": {},
     "output_type": "display_data"
    },
    {
     "data": {
      "text/html": [
       "<b>Epoch [6/6]</b><br>Average Epoch Loss: 0.1424<br>Estimated time left: 0.00"
      ],
      "text/plain": [
       "<IPython.core.display.HTML object>"
      ]
     },
     "metadata": {},
     "output_type": "display_data"
    },
    {
     "name": "stdout",
     "output_type": "stream",
     "text": [
      "Total time: 00:00:00\n",
      "Loading tensors from file\n",
      "Starting training\n"
     ]
    },
    {
     "data": {
      "text/html": [
       "<b>Batch [2/2]</b><br>Batch Loss: 0.0569<br>Batch Duration: 0.01<br>Estimated Batch time left: 0.00s"
      ],
      "text/plain": [
       "<IPython.core.display.HTML object>"
      ]
     },
     "metadata": {},
     "output_type": "display_data"
    },
    {
     "data": {
      "text/html": [
       "<b>Validation [28/28]</b><br>Val Loss: 0.1000<br>Val Duration: 0.02<br>Estimated Val time left: 0.00s"
      ],
      "text/plain": [
       "<IPython.core.display.HTML object>"
      ]
     },
     "metadata": {},
     "output_type": "display_data"
    },
    {
     "data": {
      "text/html": [
       "<b>Epoch [6/6]</b><br>Average Epoch Loss: 0.0609<br>Estimated time left: 0.00"
      ],
      "text/plain": [
       "<IPython.core.display.HTML object>"
      ]
     },
     "metadata": {},
     "output_type": "display_data"
    },
    {
     "name": "stdout",
     "output_type": "stream",
     "text": [
      "Total time: 00:00:00\n",
      "Loading tensors from file\n",
      "Starting training\n"
     ]
    },
    {
     "data": {
      "text/html": [
       "<b>Batch [2/2]</b><br>Batch Loss: 0.0537<br>Batch Duration: 0.01<br>Estimated Batch time left: 0.00s"
      ],
      "text/plain": [
       "<IPython.core.display.HTML object>"
      ]
     },
     "metadata": {},
     "output_type": "display_data"
    },
    {
     "data": {
      "text/html": [
       "<b>Validation [28/28]</b><br>Val Loss: 0.0769<br>Val Duration: 0.02<br>Estimated Val time left: 0.00s"
      ],
      "text/plain": [
       "<IPython.core.display.HTML object>"
      ]
     },
     "metadata": {},
     "output_type": "display_data"
    },
    {
     "data": {
      "text/html": [
       "<b>Epoch [6/6]</b><br>Average Epoch Loss: 0.0532<br>Estimated time left: 0.00"
      ],
      "text/plain": [
       "<IPython.core.display.HTML object>"
      ]
     },
     "metadata": {},
     "output_type": "display_data"
    },
    {
     "name": "stdout",
     "output_type": "stream",
     "text": [
      "Total time: 00:00:00\n",
      "Loading tensors from file\n",
      "Starting training\n"
     ]
    },
    {
     "data": {
      "text/html": [
       "<b>Batch [2/2]</b><br>Batch Loss: 0.0475<br>Batch Duration: 0.01<br>Estimated Batch time left: 0.00s"
      ],
      "text/plain": [
       "<IPython.core.display.HTML object>"
      ]
     },
     "metadata": {},
     "output_type": "display_data"
    },
    {
     "data": {
      "text/html": [
       "<b>Validation [28/28]</b><br>Val Loss: 0.0899<br>Val Duration: 0.01<br>Estimated Val time left: 0.00s"
      ],
      "text/plain": [
       "<IPython.core.display.HTML object>"
      ]
     },
     "metadata": {},
     "output_type": "display_data"
    },
    {
     "data": {
      "text/html": [
       "<b>Epoch [6/6]</b><br>Average Epoch Loss: 0.0645<br>Estimated time left: 0.00"
      ],
      "text/plain": [
       "<IPython.core.display.HTML object>"
      ]
     },
     "metadata": {},
     "output_type": "display_data"
    },
    {
     "name": "stdout",
     "output_type": "stream",
     "text": [
      "Total time: 00:00:00\n",
      "Loading tensors from file\n",
      "Starting training\n"
     ]
    },
    {
     "data": {
      "text/html": [
       "<b>Batch [2/2]</b><br>Batch Loss: 0.1673<br>Batch Duration: 0.01<br>Estimated Batch time left: 0.00s"
      ],
      "text/plain": [
       "<IPython.core.display.HTML object>"
      ]
     },
     "metadata": {},
     "output_type": "display_data"
    },
    {
     "data": {
      "text/html": [
       "<b>Validation [28/28]</b><br>Val Loss: 0.1618<br>Val Duration: 0.02<br>Estimated Val time left: 0.00s"
      ],
      "text/plain": [
       "<IPython.core.display.HTML object>"
      ]
     },
     "metadata": {},
     "output_type": "display_data"
    },
    {
     "data": {
      "text/html": [
       "<b>Epoch [6/6]</b><br>Average Epoch Loss: 0.1540<br>Estimated time left: 0.00"
      ],
      "text/plain": [
       "<IPython.core.display.HTML object>"
      ]
     },
     "metadata": {},
     "output_type": "display_data"
    },
    {
     "name": "stdout",
     "output_type": "stream",
     "text": [
      "Total time: 00:00:00\n",
      "Loading tensors from file\n",
      "Starting training\n"
     ]
    },
    {
     "data": {
      "text/html": [
       "<b>Batch [2/2]</b><br>Batch Loss: 0.0435<br>Batch Duration: 0.01<br>Estimated Batch time left: 0.00s"
      ],
      "text/plain": [
       "<IPython.core.display.HTML object>"
      ]
     },
     "metadata": {},
     "output_type": "display_data"
    },
    {
     "data": {
      "text/html": [
       "<b>Validation [28/28]</b><br>Val Loss: 0.0651<br>Val Duration: 0.02<br>Estimated Val time left: 0.00s"
      ],
      "text/plain": [
       "<IPython.core.display.HTML object>"
      ]
     },
     "metadata": {},
     "output_type": "display_data"
    },
    {
     "data": {
      "text/html": [
       "<b>Epoch [6/6]</b><br>Average Epoch Loss: 0.0412<br>Estimated time left: 0.00"
      ],
      "text/plain": [
       "<IPython.core.display.HTML object>"
      ]
     },
     "metadata": {},
     "output_type": "display_data"
    },
    {
     "name": "stdout",
     "output_type": "stream",
     "text": [
      "Total time: 00:00:00\n",
      "Loading tensors from file\n",
      "Starting training\n"
     ]
    },
    {
     "data": {
      "text/html": [
       "<b>Batch [2/2]</b><br>Batch Loss: 0.1426<br>Batch Duration: 0.01<br>Estimated Batch time left: 0.00s"
      ],
      "text/plain": [
       "<IPython.core.display.HTML object>"
      ]
     },
     "metadata": {},
     "output_type": "display_data"
    },
    {
     "data": {
      "text/html": [
       "<b>Validation [28/28]</b><br>Val Loss: 0.1266<br>Val Duration: 0.01<br>Estimated Val time left: 0.00s"
      ],
      "text/plain": [
       "<IPython.core.display.HTML object>"
      ]
     },
     "metadata": {},
     "output_type": "display_data"
    },
    {
     "data": {
      "text/html": [
       "<b>Epoch [6/6]</b><br>Average Epoch Loss: 0.1374<br>Estimated time left: 0.00"
      ],
      "text/plain": [
       "<IPython.core.display.HTML object>"
      ]
     },
     "metadata": {},
     "output_type": "display_data"
    },
    {
     "name": "stdout",
     "output_type": "stream",
     "text": [
      "Total time: 00:00:00\n",
      "Loading tensors from file\n",
      "Starting training\n"
     ]
    },
    {
     "data": {
      "text/html": [
       "<b>Batch [2/2]</b><br>Batch Loss: 0.1158<br>Batch Duration: 0.01<br>Estimated Batch time left: 0.00s"
      ],
      "text/plain": [
       "<IPython.core.display.HTML object>"
      ]
     },
     "metadata": {},
     "output_type": "display_data"
    },
    {
     "data": {
      "text/html": [
       "<b>Validation [28/28]</b><br>Val Loss: 0.1255<br>Val Duration: 0.02<br>Estimated Val time left: 0.00s"
      ],
      "text/plain": [
       "<IPython.core.display.HTML object>"
      ]
     },
     "metadata": {},
     "output_type": "display_data"
    },
    {
     "data": {
      "text/html": [
       "<b>Epoch [6/6]</b><br>Average Epoch Loss: 0.1091<br>Estimated time left: 0.00"
      ],
      "text/plain": [
       "<IPython.core.display.HTML object>"
      ]
     },
     "metadata": {},
     "output_type": "display_data"
    },
    {
     "name": "stdout",
     "output_type": "stream",
     "text": [
      "Total time: 00:00:00\n",
      "Loading tensors from file\n",
      "Starting training\n"
     ]
    },
    {
     "data": {
      "text/html": [
       "<b>Batch [2/2]</b><br>Batch Loss: 0.0857<br>Batch Duration: 0.01<br>Estimated Batch time left: 0.00s"
      ],
      "text/plain": [
       "<IPython.core.display.HTML object>"
      ]
     },
     "metadata": {},
     "output_type": "display_data"
    },
    {
     "data": {
      "text/html": [
       "<b>Validation [28/28]</b><br>Val Loss: 0.0794<br>Val Duration: 0.02<br>Estimated Val time left: 0.00s"
      ],
      "text/plain": [
       "<IPython.core.display.HTML object>"
      ]
     },
     "metadata": {},
     "output_type": "display_data"
    },
    {
     "data": {
      "text/html": [
       "<b>Epoch [6/6]</b><br>Average Epoch Loss: 0.0860<br>Estimated time left: 0.00"
      ],
      "text/plain": [
       "<IPython.core.display.HTML object>"
      ]
     },
     "metadata": {},
     "output_type": "display_data"
    },
    {
     "name": "stdout",
     "output_type": "stream",
     "text": [
      "Total time: 00:00:00\n",
      "Loading tensors from file\n",
      "Starting training\n"
     ]
    },
    {
     "data": {
      "text/html": [
       "<b>Batch [2/2]</b><br>Batch Loss: 0.1303<br>Batch Duration: 0.01<br>Estimated Batch time left: 0.00s"
      ],
      "text/plain": [
       "<IPython.core.display.HTML object>"
      ]
     },
     "metadata": {},
     "output_type": "display_data"
    },
    {
     "data": {
      "text/html": [
       "<b>Validation [28/28]</b><br>Val Loss: 0.1553<br>Val Duration: 0.02<br>Estimated Val time left: 0.00s"
      ],
      "text/plain": [
       "<IPython.core.display.HTML object>"
      ]
     },
     "metadata": {},
     "output_type": "display_data"
    },
    {
     "data": {
      "text/html": [
       "<b>Epoch [6/6]</b><br>Average Epoch Loss: 0.1396<br>Estimated time left: 0.00"
      ],
      "text/plain": [
       "<IPython.core.display.HTML object>"
      ]
     },
     "metadata": {},
     "output_type": "display_data"
    },
    {
     "name": "stdout",
     "output_type": "stream",
     "text": [
      "Total time: 00:00:00\n",
      "Loading tensors from file\n",
      "Starting training\n"
     ]
    },
    {
     "data": {
      "text/html": [
       "<b>Batch [2/2]</b><br>Batch Loss: 0.1866<br>Batch Duration: 0.01<br>Estimated Batch time left: 0.00s"
      ],
      "text/plain": [
       "<IPython.core.display.HTML object>"
      ]
     },
     "metadata": {},
     "output_type": "display_data"
    },
    {
     "data": {
      "text/html": [
       "<b>Validation [28/28]</b><br>Val Loss: 0.2090<br>Val Duration: 0.02<br>Estimated Val time left: 0.00s"
      ],
      "text/plain": [
       "<IPython.core.display.HTML object>"
      ]
     },
     "metadata": {},
     "output_type": "display_data"
    },
    {
     "data": {
      "text/html": [
       "<b>Epoch [6/6]</b><br>Average Epoch Loss: 0.1665<br>Estimated time left: 0.00"
      ],
      "text/plain": [
       "<IPython.core.display.HTML object>"
      ]
     },
     "metadata": {},
     "output_type": "display_data"
    },
    {
     "name": "stdout",
     "output_type": "stream",
     "text": [
      "Total time: 00:00:00\n",
      "Loading tensors from file\n",
      "Starting training\n"
     ]
    },
    {
     "data": {
      "text/html": [
       "<b>Batch [2/2]</b><br>Batch Loss: 0.0818<br>Batch Duration: 0.01<br>Estimated Batch time left: 0.00s"
      ],
      "text/plain": [
       "<IPython.core.display.HTML object>"
      ]
     },
     "metadata": {},
     "output_type": "display_data"
    },
    {
     "data": {
      "text/html": [
       "<b>Validation [28/28]</b><br>Val Loss: 0.0838<br>Val Duration: 0.02<br>Estimated Val time left: 0.00s"
      ],
      "text/plain": [
       "<IPython.core.display.HTML object>"
      ]
     },
     "metadata": {},
     "output_type": "display_data"
    },
    {
     "data": {
      "text/html": [
       "<b>Epoch [6/6]</b><br>Average Epoch Loss: 0.0706<br>Estimated time left: 0.00"
      ],
      "text/plain": [
       "<IPython.core.display.HTML object>"
      ]
     },
     "metadata": {},
     "output_type": "display_data"
    },
    {
     "name": "stdout",
     "output_type": "stream",
     "text": [
      "Total time: 00:00:00\n",
      "Loading tensors from file\n",
      "Starting training\n"
     ]
    },
    {
     "data": {
      "text/html": [
       "<b>Batch [2/2]</b><br>Batch Loss: 0.1251<br>Batch Duration: 0.01<br>Estimated Batch time left: 0.00s"
      ],
      "text/plain": [
       "<IPython.core.display.HTML object>"
      ]
     },
     "metadata": {},
     "output_type": "display_data"
    },
    {
     "data": {
      "text/html": [
       "<b>Validation [28/28]</b><br>Val Loss: 0.1794<br>Val Duration: 0.02<br>Estimated Val time left: 0.00s"
      ],
      "text/plain": [
       "<IPython.core.display.HTML object>"
      ]
     },
     "metadata": {},
     "output_type": "display_data"
    },
    {
     "data": {
      "text/html": [
       "<b>Epoch [6/6]</b><br>Average Epoch Loss: 0.1228<br>Estimated time left: 0.00"
      ],
      "text/plain": [
       "<IPython.core.display.HTML object>"
      ]
     },
     "metadata": {},
     "output_type": "display_data"
    },
    {
     "name": "stdout",
     "output_type": "stream",
     "text": [
      "Total time: 00:00:00\n",
      "Loading tensors from file\n",
      "Starting training\n"
     ]
    },
    {
     "data": {
      "text/html": [
       "<b>Batch [2/2]</b><br>Batch Loss: 0.0830<br>Batch Duration: 0.01<br>Estimated Batch time left: 0.00s"
      ],
      "text/plain": [
       "<IPython.core.display.HTML object>"
      ]
     },
     "metadata": {},
     "output_type": "display_data"
    },
    {
     "data": {
      "text/html": [
       "<b>Validation [28/28]</b><br>Val Loss: 0.1126<br>Val Duration: 0.02<br>Estimated Val time left: 0.00s"
      ],
      "text/plain": [
       "<IPython.core.display.HTML object>"
      ]
     },
     "metadata": {},
     "output_type": "display_data"
    },
    {
     "data": {
      "text/html": [
       "<b>Epoch [6/6]</b><br>Average Epoch Loss: 0.0781<br>Estimated time left: 0.00"
      ],
      "text/plain": [
       "<IPython.core.display.HTML object>"
      ]
     },
     "metadata": {},
     "output_type": "display_data"
    },
    {
     "name": "stdout",
     "output_type": "stream",
     "text": [
      "Total time: 00:00:00\n",
      "Loading tensors from file\n",
      "Starting training\n"
     ]
    },
    {
     "data": {
      "text/html": [
       "<b>Batch [2/2]</b><br>Batch Loss: 0.0347<br>Batch Duration: 0.01<br>Estimated Batch time left: 0.00s"
      ],
      "text/plain": [
       "<IPython.core.display.HTML object>"
      ]
     },
     "metadata": {},
     "output_type": "display_data"
    },
    {
     "data": {
      "text/html": [
       "<b>Validation [28/28]</b><br>Val Loss: 0.1000<br>Val Duration: 0.02<br>Estimated Val time left: 0.00s"
      ],
      "text/plain": [
       "<IPython.core.display.HTML object>"
      ]
     },
     "metadata": {},
     "output_type": "display_data"
    },
    {
     "data": {
      "text/html": [
       "<b>Epoch [6/6]</b><br>Average Epoch Loss: 0.0416<br>Estimated time left: 0.00"
      ],
      "text/plain": [
       "<IPython.core.display.HTML object>"
      ]
     },
     "metadata": {},
     "output_type": "display_data"
    },
    {
     "name": "stdout",
     "output_type": "stream",
     "text": [
      "Total time: 00:00:00\n",
      "Loading tensors from file\n",
      "Starting training\n"
     ]
    },
    {
     "data": {
      "text/html": [
       "<b>Batch [2/2]</b><br>Batch Loss: 0.0587<br>Batch Duration: 0.01<br>Estimated Batch time left: 0.00s"
      ],
      "text/plain": [
       "<IPython.core.display.HTML object>"
      ]
     },
     "metadata": {},
     "output_type": "display_data"
    },
    {
     "data": {
      "text/html": [
       "<b>Validation [28/28]</b><br>Val Loss: 0.1293<br>Val Duration: 0.01<br>Estimated Val time left: 0.00s"
      ],
      "text/plain": [
       "<IPython.core.display.HTML object>"
      ]
     },
     "metadata": {},
     "output_type": "display_data"
    },
    {
     "data": {
      "text/html": [
       "<b>Epoch [6/6]</b><br>Average Epoch Loss: 0.0717<br>Estimated time left: 0.00"
      ],
      "text/plain": [
       "<IPython.core.display.HTML object>"
      ]
     },
     "metadata": {},
     "output_type": "display_data"
    },
    {
     "name": "stdout",
     "output_type": "stream",
     "text": [
      "Total time: 00:00:00\n",
      "Loading tensors from file\n",
      "Starting training\n"
     ]
    },
    {
     "data": {
      "text/html": [
       "<b>Batch [2/2]</b><br>Batch Loss: 0.1072<br>Batch Duration: 0.01<br>Estimated Batch time left: 0.00s"
      ],
      "text/plain": [
       "<IPython.core.display.HTML object>"
      ]
     },
     "metadata": {},
     "output_type": "display_data"
    },
    {
     "data": {
      "text/html": [
       "<b>Validation [28/28]</b><br>Val Loss: 0.1406<br>Val Duration: 0.02<br>Estimated Val time left: 0.00s"
      ],
      "text/plain": [
       "<IPython.core.display.HTML object>"
      ]
     },
     "metadata": {},
     "output_type": "display_data"
    },
    {
     "data": {
      "text/html": [
       "<b>Epoch [6/6]</b><br>Average Epoch Loss: 0.1160<br>Estimated time left: 0.00"
      ],
      "text/plain": [
       "<IPython.core.display.HTML object>"
      ]
     },
     "metadata": {},
     "output_type": "display_data"
    },
    {
     "name": "stdout",
     "output_type": "stream",
     "text": [
      "Total time: 00:00:00\n",
      "Loading tensors from file\n",
      "Starting training\n"
     ]
    },
    {
     "data": {
      "text/html": [
       "<b>Batch [2/2]</b><br>Batch Loss: 0.1399<br>Batch Duration: 0.01<br>Estimated Batch time left: 0.00s"
      ],
      "text/plain": [
       "<IPython.core.display.HTML object>"
      ]
     },
     "metadata": {},
     "output_type": "display_data"
    },
    {
     "data": {
      "text/html": [
       "<b>Validation [28/28]</b><br>Val Loss: 0.1423<br>Val Duration: 0.01<br>Estimated Val time left: 0.00s"
      ],
      "text/plain": [
       "<IPython.core.display.HTML object>"
      ]
     },
     "metadata": {},
     "output_type": "display_data"
    },
    {
     "data": {
      "text/html": [
       "<b>Epoch [6/6]</b><br>Average Epoch Loss: 0.1582<br>Estimated time left: 0.00"
      ],
      "text/plain": [
       "<IPython.core.display.HTML object>"
      ]
     },
     "metadata": {},
     "output_type": "display_data"
    },
    {
     "name": "stdout",
     "output_type": "stream",
     "text": [
      "Total time: 00:00:00\n",
      "Loading tensors from file\n",
      "Starting training\n"
     ]
    },
    {
     "data": {
      "text/html": [
       "<b>Batch [2/2]</b><br>Batch Loss: 0.0973<br>Batch Duration: 0.01<br>Estimated Batch time left: 0.00s"
      ],
      "text/plain": [
       "<IPython.core.display.HTML object>"
      ]
     },
     "metadata": {},
     "output_type": "display_data"
    },
    {
     "data": {
      "text/html": [
       "<b>Validation [28/28]</b><br>Val Loss: 0.1591<br>Val Duration: 0.02<br>Estimated Val time left: 0.00s"
      ],
      "text/plain": [
       "<IPython.core.display.HTML object>"
      ]
     },
     "metadata": {},
     "output_type": "display_data"
    },
    {
     "data": {
      "text/html": [
       "<b>Epoch [6/6]</b><br>Average Epoch Loss: 0.1154<br>Estimated time left: 0.00"
      ],
      "text/plain": [
       "<IPython.core.display.HTML object>"
      ]
     },
     "metadata": {},
     "output_type": "display_data"
    },
    {
     "name": "stdout",
     "output_type": "stream",
     "text": [
      "Total time: 00:00:00\n",
      "Loading tensors from file\n",
      "Starting training\n"
     ]
    },
    {
     "data": {
      "text/html": [
       "<b>Batch [2/2]</b><br>Batch Loss: 0.1048<br>Batch Duration: 0.01<br>Estimated Batch time left: 0.00s"
      ],
      "text/plain": [
       "<IPython.core.display.HTML object>"
      ]
     },
     "metadata": {},
     "output_type": "display_data"
    },
    {
     "data": {
      "text/html": [
       "<b>Validation [28/28]</b><br>Val Loss: 0.1524<br>Val Duration: 0.02<br>Estimated Val time left: 0.00s"
      ],
      "text/plain": [
       "<IPython.core.display.HTML object>"
      ]
     },
     "metadata": {},
     "output_type": "display_data"
    },
    {
     "data": {
      "text/html": [
       "<b>Epoch [6/6]</b><br>Average Epoch Loss: 0.1104<br>Estimated time left: 0.00"
      ],
      "text/plain": [
       "<IPython.core.display.HTML object>"
      ]
     },
     "metadata": {},
     "output_type": "display_data"
    },
    {
     "name": "stdout",
     "output_type": "stream",
     "text": [
      "Total time: 00:00:00\n",
      "Loading tensors from file\n",
      "Starting training\n"
     ]
    },
    {
     "data": {
      "text/html": [
       "<b>Batch [2/2]</b><br>Batch Loss: 0.1208<br>Batch Duration: 0.01<br>Estimated Batch time left: 0.00s"
      ],
      "text/plain": [
       "<IPython.core.display.HTML object>"
      ]
     },
     "metadata": {},
     "output_type": "display_data"
    },
    {
     "data": {
      "text/html": [
       "<b>Validation [28/28]</b><br>Val Loss: 0.2497<br>Val Duration: 0.02<br>Estimated Val time left: 0.00s"
      ],
      "text/plain": [
       "<IPython.core.display.HTML object>"
      ]
     },
     "metadata": {},
     "output_type": "display_data"
    },
    {
     "data": {
      "text/html": [
       "<b>Epoch [6/6]</b><br>Average Epoch Loss: 0.1324<br>Estimated time left: 0.00"
      ],
      "text/plain": [
       "<IPython.core.display.HTML object>"
      ]
     },
     "metadata": {},
     "output_type": "display_data"
    },
    {
     "name": "stdout",
     "output_type": "stream",
     "text": [
      "Total time: 00:00:00\n",
      "Loading tensors from file\n",
      "Starting training\n"
     ]
    },
    {
     "data": {
      "text/html": [
       "<b>Batch [2/2]</b><br>Batch Loss: 0.0836<br>Batch Duration: 0.02<br>Estimated Batch time left: 0.00s"
      ],
      "text/plain": [
       "<IPython.core.display.HTML object>"
      ]
     },
     "metadata": {},
     "output_type": "display_data"
    },
    {
     "data": {
      "text/html": [
       "<b>Validation [28/28]</b><br>Val Loss: 0.1352<br>Val Duration: 0.02<br>Estimated Val time left: 0.00s"
      ],
      "text/plain": [
       "<IPython.core.display.HTML object>"
      ]
     },
     "metadata": {},
     "output_type": "display_data"
    },
    {
     "data": {
      "text/html": [
       "<b>Epoch [6/6]</b><br>Average Epoch Loss: 0.0803<br>Estimated time left: 0.00"
      ],
      "text/plain": [
       "<IPython.core.display.HTML object>"
      ]
     },
     "metadata": {},
     "output_type": "display_data"
    },
    {
     "name": "stdout",
     "output_type": "stream",
     "text": [
      "Total time: 00:00:00\n",
      "Loading tensors from file\n",
      "Starting training\n"
     ]
    },
    {
     "data": {
      "text/html": [
       "<b>Batch [2/2]</b><br>Batch Loss: 0.0862<br>Batch Duration: 0.01<br>Estimated Batch time left: 0.00s"
      ],
      "text/plain": [
       "<IPython.core.display.HTML object>"
      ]
     },
     "metadata": {},
     "output_type": "display_data"
    },
    {
     "data": {
      "text/html": [
       "<b>Validation [28/28]</b><br>Val Loss: 0.1170<br>Val Duration: 0.02<br>Estimated Val time left: 0.00s"
      ],
      "text/plain": [
       "<IPython.core.display.HTML object>"
      ]
     },
     "metadata": {},
     "output_type": "display_data"
    },
    {
     "data": {
      "text/html": [
       "<b>Epoch [6/6]</b><br>Average Epoch Loss: 0.0903<br>Estimated time left: 0.00"
      ],
      "text/plain": [
       "<IPython.core.display.HTML object>"
      ]
     },
     "metadata": {},
     "output_type": "display_data"
    },
    {
     "name": "stdout",
     "output_type": "stream",
     "text": [
      "Total time: 00:00:00\n",
      "Loading tensors from file\n",
      "Starting training\n"
     ]
    },
    {
     "data": {
      "text/html": [
       "<b>Batch [2/2]</b><br>Batch Loss: 0.0735<br>Batch Duration: 0.01<br>Estimated Batch time left: 0.00s"
      ],
      "text/plain": [
       "<IPython.core.display.HTML object>"
      ]
     },
     "metadata": {},
     "output_type": "display_data"
    },
    {
     "data": {
      "text/html": [
       "<b>Validation [28/28]</b><br>Val Loss: 0.0799<br>Val Duration: 0.01<br>Estimated Val time left: 0.00s"
      ],
      "text/plain": [
       "<IPython.core.display.HTML object>"
      ]
     },
     "metadata": {},
     "output_type": "display_data"
    },
    {
     "data": {
      "text/html": [
       "<b>Epoch [6/6]</b><br>Average Epoch Loss: 0.0635<br>Estimated time left: 0.00"
      ],
      "text/plain": [
       "<IPython.core.display.HTML object>"
      ]
     },
     "metadata": {},
     "output_type": "display_data"
    },
    {
     "name": "stdout",
     "output_type": "stream",
     "text": [
      "Total time: 00:00:00\n",
      "Loading tensors from file\n",
      "Starting training\n"
     ]
    },
    {
     "data": {
      "text/html": [
       "<b>Batch [2/2]</b><br>Batch Loss: 0.0763<br>Batch Duration: 0.02<br>Estimated Batch time left: 0.00s"
      ],
      "text/plain": [
       "<IPython.core.display.HTML object>"
      ]
     },
     "metadata": {},
     "output_type": "display_data"
    },
    {
     "data": {
      "text/html": [
       "<b>Validation [28/28]</b><br>Val Loss: 0.1058<br>Val Duration: 0.02<br>Estimated Val time left: 0.00s"
      ],
      "text/plain": [
       "<IPython.core.display.HTML object>"
      ]
     },
     "metadata": {},
     "output_type": "display_data"
    },
    {
     "data": {
      "text/html": [
       "<b>Epoch [6/6]</b><br>Average Epoch Loss: 0.0542<br>Estimated time left: 0.00"
      ],
      "text/plain": [
       "<IPython.core.display.HTML object>"
      ]
     },
     "metadata": {},
     "output_type": "display_data"
    },
    {
     "name": "stdout",
     "output_type": "stream",
     "text": [
      "Total time: 00:00:00\n",
      "Loading tensors from file\n",
      "Starting training\n"
     ]
    },
    {
     "data": {
      "text/html": [
       "<b>Batch [2/2]</b><br>Batch Loss: 0.1154<br>Batch Duration: 0.02<br>Estimated Batch time left: 0.00s"
      ],
      "text/plain": [
       "<IPython.core.display.HTML object>"
      ]
     },
     "metadata": {},
     "output_type": "display_data"
    },
    {
     "data": {
      "text/html": [
       "<b>Validation [28/28]</b><br>Val Loss: 0.1317<br>Val Duration: 0.02<br>Estimated Val time left: 0.00s"
      ],
      "text/plain": [
       "<IPython.core.display.HTML object>"
      ]
     },
     "metadata": {},
     "output_type": "display_data"
    },
    {
     "data": {
      "text/html": [
       "<b>Epoch [6/6]</b><br>Average Epoch Loss: 0.1057<br>Estimated time left: 0.00"
      ],
      "text/plain": [
       "<IPython.core.display.HTML object>"
      ]
     },
     "metadata": {},
     "output_type": "display_data"
    },
    {
     "name": "stdout",
     "output_type": "stream",
     "text": [
      "Total time: 00:00:00\n",
      "Loading tensors from file\n",
      "Starting training\n"
     ]
    },
    {
     "data": {
      "text/html": [
       "<b>Batch [2/2]</b><br>Batch Loss: 0.0805<br>Batch Duration: 0.02<br>Estimated Batch time left: 0.00s"
      ],
      "text/plain": [
       "<IPython.core.display.HTML object>"
      ]
     },
     "metadata": {},
     "output_type": "display_data"
    },
    {
     "data": {
      "text/html": [
       "<b>Validation [28/28]</b><br>Val Loss: 0.0740<br>Val Duration: 0.02<br>Estimated Val time left: 0.00s"
      ],
      "text/plain": [
       "<IPython.core.display.HTML object>"
      ]
     },
     "metadata": {},
     "output_type": "display_data"
    },
    {
     "data": {
      "text/html": [
       "<b>Epoch [6/6]</b><br>Average Epoch Loss: 0.1012<br>Estimated time left: 0.00"
      ],
      "text/plain": [
       "<IPython.core.display.HTML object>"
      ]
     },
     "metadata": {},
     "output_type": "display_data"
    },
    {
     "name": "stdout",
     "output_type": "stream",
     "text": [
      "Total time: 00:00:00\n",
      "Loading tensors from file\n",
      "Starting training\n"
     ]
    },
    {
     "data": {
      "text/html": [
       "<b>Batch [2/2]</b><br>Batch Loss: 0.1727<br>Batch Duration: 0.01<br>Estimated Batch time left: 0.00s"
      ],
      "text/plain": [
       "<IPython.core.display.HTML object>"
      ]
     },
     "metadata": {},
     "output_type": "display_data"
    },
    {
     "data": {
      "text/html": [
       "<b>Validation [28/28]</b><br>Val Loss: 0.1294<br>Val Duration: 0.02<br>Estimated Val time left: 0.00s"
      ],
      "text/plain": [
       "<IPython.core.display.HTML object>"
      ]
     },
     "metadata": {},
     "output_type": "display_data"
    },
    {
     "data": {
      "text/html": [
       "<b>Epoch [6/6]</b><br>Average Epoch Loss: 0.1536<br>Estimated time left: 0.00"
      ],
      "text/plain": [
       "<IPython.core.display.HTML object>"
      ]
     },
     "metadata": {},
     "output_type": "display_data"
    },
    {
     "name": "stdout",
     "output_type": "stream",
     "text": [
      "Total time: 00:00:00\n",
      "Loading tensors from file\n",
      "Starting training\n"
     ]
    },
    {
     "data": {
      "text/html": [
       "<b>Batch [2/2]</b><br>Batch Loss: 0.0680<br>Batch Duration: 0.02<br>Estimated Batch time left: 0.00s"
      ],
      "text/plain": [
       "<IPython.core.display.HTML object>"
      ]
     },
     "metadata": {},
     "output_type": "display_data"
    },
    {
     "data": {
      "text/html": [
       "<b>Validation [28/28]</b><br>Val Loss: 0.1110<br>Val Duration: 0.02<br>Estimated Val time left: 0.00s"
      ],
      "text/plain": [
       "<IPython.core.display.HTML object>"
      ]
     },
     "metadata": {},
     "output_type": "display_data"
    },
    {
     "data": {
      "text/html": [
       "<b>Epoch [6/6]</b><br>Average Epoch Loss: 0.0535<br>Estimated time left: 0.00"
      ],
      "text/plain": [
       "<IPython.core.display.HTML object>"
      ]
     },
     "metadata": {},
     "output_type": "display_data"
    },
    {
     "name": "stdout",
     "output_type": "stream",
     "text": [
      "Total time: 00:00:00\n",
      "Loading tensors from file\n",
      "Starting training\n"
     ]
    },
    {
     "data": {
      "text/html": [
       "<b>Batch [2/2]</b><br>Batch Loss: 0.0681<br>Batch Duration: 0.01<br>Estimated Batch time left: 0.00s"
      ],
      "text/plain": [
       "<IPython.core.display.HTML object>"
      ]
     },
     "metadata": {},
     "output_type": "display_data"
    },
    {
     "data": {
      "text/html": [
       "<b>Validation [28/28]</b><br>Val Loss: 0.1298<br>Val Duration: 0.02<br>Estimated Val time left: 0.00s"
      ],
      "text/plain": [
       "<IPython.core.display.HTML object>"
      ]
     },
     "metadata": {},
     "output_type": "display_data"
    },
    {
     "data": {
      "text/html": [
       "<b>Epoch [6/6]</b><br>Average Epoch Loss: 0.0519<br>Estimated time left: 0.00"
      ],
      "text/plain": [
       "<IPython.core.display.HTML object>"
      ]
     },
     "metadata": {},
     "output_type": "display_data"
    },
    {
     "name": "stdout",
     "output_type": "stream",
     "text": [
      "Total time: 00:00:00\n",
      "Loading tensors from file\n",
      "Starting training\n"
     ]
    },
    {
     "data": {
      "text/html": [
       "<b>Batch [2/2]</b><br>Batch Loss: 0.0900<br>Batch Duration: 0.01<br>Estimated Batch time left: 0.00s"
      ],
      "text/plain": [
       "<IPython.core.display.HTML object>"
      ]
     },
     "metadata": {},
     "output_type": "display_data"
    },
    {
     "data": {
      "text/html": [
       "<b>Validation [28/28]</b><br>Val Loss: 0.2101<br>Val Duration: 0.01<br>Estimated Val time left: 0.00s"
      ],
      "text/plain": [
       "<IPython.core.display.HTML object>"
      ]
     },
     "metadata": {},
     "output_type": "display_data"
    },
    {
     "data": {
      "text/html": [
       "<b>Epoch [6/6]</b><br>Average Epoch Loss: 0.1031<br>Estimated time left: 0.00"
      ],
      "text/plain": [
       "<IPython.core.display.HTML object>"
      ]
     },
     "metadata": {},
     "output_type": "display_data"
    },
    {
     "name": "stdout",
     "output_type": "stream",
     "text": [
      "Total time: 00:00:00\n",
      "Loading tensors from file\n",
      "Starting training\n"
     ]
    },
    {
     "data": {
      "text/html": [
       "<b>Batch [2/2]</b><br>Batch Loss: 0.1074<br>Batch Duration: 0.01<br>Estimated Batch time left: 0.00s"
      ],
      "text/plain": [
       "<IPython.core.display.HTML object>"
      ]
     },
     "metadata": {},
     "output_type": "display_data"
    },
    {
     "data": {
      "text/html": [
       "<b>Validation [28/28]</b><br>Val Loss: 0.1440<br>Val Duration: 0.02<br>Estimated Val time left: 0.00s"
      ],
      "text/plain": [
       "<IPython.core.display.HTML object>"
      ]
     },
     "metadata": {},
     "output_type": "display_data"
    },
    {
     "data": {
      "text/html": [
       "<b>Epoch [6/6]</b><br>Average Epoch Loss: 0.1183<br>Estimated time left: 0.00"
      ],
      "text/plain": [
       "<IPython.core.display.HTML object>"
      ]
     },
     "metadata": {},
     "output_type": "display_data"
    },
    {
     "name": "stdout",
     "output_type": "stream",
     "text": [
      "Total time: 00:00:00\n",
      "Loading tensors from file\n",
      "Starting training\n"
     ]
    },
    {
     "data": {
      "text/html": [
       "<b>Batch [2/2]</b><br>Batch Loss: 0.0719<br>Batch Duration: 0.01<br>Estimated Batch time left: 0.00s"
      ],
      "text/plain": [
       "<IPython.core.display.HTML object>"
      ]
     },
     "metadata": {},
     "output_type": "display_data"
    },
    {
     "data": {
      "text/html": [
       "<b>Validation [28/28]</b><br>Val Loss: 0.1246<br>Val Duration: 0.01<br>Estimated Val time left: 0.00s"
      ],
      "text/plain": [
       "<IPython.core.display.HTML object>"
      ]
     },
     "metadata": {},
     "output_type": "display_data"
    },
    {
     "data": {
      "text/html": [
       "<b>Epoch [6/6]</b><br>Average Epoch Loss: 0.0707<br>Estimated time left: 0.00"
      ],
      "text/plain": [
       "<IPython.core.display.HTML object>"
      ]
     },
     "metadata": {},
     "output_type": "display_data"
    },
    {
     "name": "stdout",
     "output_type": "stream",
     "text": [
      "Total time: 00:00:00\n",
      "Loading tensors from file\n",
      "Starting training\n"
     ]
    },
    {
     "data": {
      "text/html": [
       "<b>Batch [2/2]</b><br>Batch Loss: 0.1347<br>Batch Duration: 0.01<br>Estimated Batch time left: 0.00s"
      ],
      "text/plain": [
       "<IPython.core.display.HTML object>"
      ]
     },
     "metadata": {},
     "output_type": "display_data"
    },
    {
     "data": {
      "text/html": [
       "<b>Validation [28/28]</b><br>Val Loss: 0.1965<br>Val Duration: 0.01<br>Estimated Val time left: 0.00s"
      ],
      "text/plain": [
       "<IPython.core.display.HTML object>"
      ]
     },
     "metadata": {},
     "output_type": "display_data"
    },
    {
     "data": {
      "text/html": [
       "<b>Epoch [6/6]</b><br>Average Epoch Loss: 0.1244<br>Estimated time left: 0.00"
      ],
      "text/plain": [
       "<IPython.core.display.HTML object>"
      ]
     },
     "metadata": {},
     "output_type": "display_data"
    },
    {
     "name": "stdout",
     "output_type": "stream",
     "text": [
      "Total time: 00:00:00\n",
      "Loading tensors from file\n",
      "Starting training\n"
     ]
    },
    {
     "data": {
      "text/html": [
       "<b>Batch [2/2]</b><br>Batch Loss: 0.1042<br>Batch Duration: 0.01<br>Estimated Batch time left: 0.00s"
      ],
      "text/plain": [
       "<IPython.core.display.HTML object>"
      ]
     },
     "metadata": {},
     "output_type": "display_data"
    },
    {
     "data": {
      "text/html": [
       "<b>Validation [28/28]</b><br>Val Loss: 0.1125<br>Val Duration: 0.01<br>Estimated Val time left: 0.00s"
      ],
      "text/plain": [
       "<IPython.core.display.HTML object>"
      ]
     },
     "metadata": {},
     "output_type": "display_data"
    },
    {
     "data": {
      "text/html": [
       "<b>Epoch [6/6]</b><br>Average Epoch Loss: 0.1205<br>Estimated time left: 0.00"
      ],
      "text/plain": [
       "<IPython.core.display.HTML object>"
      ]
     },
     "metadata": {},
     "output_type": "display_data"
    },
    {
     "name": "stdout",
     "output_type": "stream",
     "text": [
      "Total time: 00:00:00\n",
      "Loading tensors from file\n",
      "Starting training\n"
     ]
    },
    {
     "data": {
      "text/html": [
       "<b>Batch [2/2]</b><br>Batch Loss: 0.0726<br>Batch Duration: 0.01<br>Estimated Batch time left: 0.00s"
      ],
      "text/plain": [
       "<IPython.core.display.HTML object>"
      ]
     },
     "metadata": {},
     "output_type": "display_data"
    },
    {
     "data": {
      "text/html": [
       "<b>Validation [28/28]</b><br>Val Loss: 0.0771<br>Val Duration: 0.01<br>Estimated Val time left: 0.00s"
      ],
      "text/plain": [
       "<IPython.core.display.HTML object>"
      ]
     },
     "metadata": {},
     "output_type": "display_data"
    },
    {
     "data": {
      "text/html": [
       "<b>Epoch [6/6]</b><br>Average Epoch Loss: 0.0823<br>Estimated time left: 0.00"
      ],
      "text/plain": [
       "<IPython.core.display.HTML object>"
      ]
     },
     "metadata": {},
     "output_type": "display_data"
    },
    {
     "name": "stdout",
     "output_type": "stream",
     "text": [
      "Total time: 00:00:00\n",
      "Loading tensors from file\n",
      "Starting training\n"
     ]
    },
    {
     "data": {
      "text/html": [
       "<b>Batch [2/2]</b><br>Batch Loss: 0.0914<br>Batch Duration: 0.01<br>Estimated Batch time left: 0.00s"
      ],
      "text/plain": [
       "<IPython.core.display.HTML object>"
      ]
     },
     "metadata": {},
     "output_type": "display_data"
    },
    {
     "data": {
      "text/html": [
       "<b>Validation [28/28]</b><br>Val Loss: 0.1549<br>Val Duration: 0.02<br>Estimated Val time left: 0.00s"
      ],
      "text/plain": [
       "<IPython.core.display.HTML object>"
      ]
     },
     "metadata": {},
     "output_type": "display_data"
    },
    {
     "data": {
      "text/html": [
       "<b>Epoch [6/6]</b><br>Average Epoch Loss: 0.0975<br>Estimated time left: 0.00"
      ],
      "text/plain": [
       "<IPython.core.display.HTML object>"
      ]
     },
     "metadata": {},
     "output_type": "display_data"
    },
    {
     "name": "stdout",
     "output_type": "stream",
     "text": [
      "Total time: 00:00:00\n",
      "Loading tensors from file\n",
      "Starting training\n"
     ]
    },
    {
     "data": {
      "text/html": [
       "<b>Batch [2/2]</b><br>Batch Loss: 0.0826<br>Batch Duration: 0.01<br>Estimated Batch time left: 0.00s"
      ],
      "text/plain": [
       "<IPython.core.display.HTML object>"
      ]
     },
     "metadata": {},
     "output_type": "display_data"
    },
    {
     "data": {
      "text/html": [
       "<b>Validation [28/28]</b><br>Val Loss: 0.1378<br>Val Duration: 0.02<br>Estimated Val time left: 0.00s"
      ],
      "text/plain": [
       "<IPython.core.display.HTML object>"
      ]
     },
     "metadata": {},
     "output_type": "display_data"
    },
    {
     "data": {
      "text/html": [
       "<b>Epoch [6/6]</b><br>Average Epoch Loss: 0.0883<br>Estimated time left: 0.00"
      ],
      "text/plain": [
       "<IPython.core.display.HTML object>"
      ]
     },
     "metadata": {},
     "output_type": "display_data"
    },
    {
     "name": "stdout",
     "output_type": "stream",
     "text": [
      "Total time: 00:00:00\n",
      "Loading tensors from file\n",
      "Starting training\n"
     ]
    },
    {
     "data": {
      "text/html": [
       "<b>Batch [2/2]</b><br>Batch Loss: 0.0798<br>Batch Duration: 0.01<br>Estimated Batch time left: 0.00s"
      ],
      "text/plain": [
       "<IPython.core.display.HTML object>"
      ]
     },
     "metadata": {},
     "output_type": "display_data"
    },
    {
     "data": {
      "text/html": [
       "<b>Validation [28/28]</b><br>Val Loss: 0.0850<br>Val Duration: 0.02<br>Estimated Val time left: 0.00s"
      ],
      "text/plain": [
       "<IPython.core.display.HTML object>"
      ]
     },
     "metadata": {},
     "output_type": "display_data"
    },
    {
     "data": {
      "text/html": [
       "<b>Epoch [6/6]</b><br>Average Epoch Loss: 0.0866<br>Estimated time left: 0.00"
      ],
      "text/plain": [
       "<IPython.core.display.HTML object>"
      ]
     },
     "metadata": {},
     "output_type": "display_data"
    },
    {
     "name": "stdout",
     "output_type": "stream",
     "text": [
      "Total time: 00:00:00\n",
      "Loading tensors from file\n",
      "Starting training\n"
     ]
    },
    {
     "data": {
      "text/html": [
       "<b>Batch [2/2]</b><br>Batch Loss: 0.0641<br>Batch Duration: 0.01<br>Estimated Batch time left: 0.00s"
      ],
      "text/plain": [
       "<IPython.core.display.HTML object>"
      ]
     },
     "metadata": {},
     "output_type": "display_data"
    },
    {
     "data": {
      "text/html": [
       "<b>Validation [28/28]</b><br>Val Loss: 0.0633<br>Val Duration: 0.02<br>Estimated Val time left: 0.00s"
      ],
      "text/plain": [
       "<IPython.core.display.HTML object>"
      ]
     },
     "metadata": {},
     "output_type": "display_data"
    },
    {
     "data": {
      "text/html": [
       "<b>Epoch [6/6]</b><br>Average Epoch Loss: 0.0673<br>Estimated time left: 0.00"
      ],
      "text/plain": [
       "<IPython.core.display.HTML object>"
      ]
     },
     "metadata": {},
     "output_type": "display_data"
    },
    {
     "name": "stdout",
     "output_type": "stream",
     "text": [
      "Total time: 00:00:00\n",
      "Loading tensors from file\n",
      "Starting training\n"
     ]
    },
    {
     "data": {
      "text/html": [
       "<b>Batch [2/2]</b><br>Batch Loss: 0.1133<br>Batch Duration: 0.01<br>Estimated Batch time left: 0.00s"
      ],
      "text/plain": [
       "<IPython.core.display.HTML object>"
      ]
     },
     "metadata": {},
     "output_type": "display_data"
    },
    {
     "data": {
      "text/html": [
       "<b>Validation [28/28]</b><br>Val Loss: 0.0750<br>Val Duration: 0.02<br>Estimated Val time left: 0.00s"
      ],
      "text/plain": [
       "<IPython.core.display.HTML object>"
      ]
     },
     "metadata": {},
     "output_type": "display_data"
    },
    {
     "data": {
      "text/html": [
       "<b>Epoch [6/6]</b><br>Average Epoch Loss: 0.0967<br>Estimated time left: 0.00"
      ],
      "text/plain": [
       "<IPython.core.display.HTML object>"
      ]
     },
     "metadata": {},
     "output_type": "display_data"
    },
    {
     "name": "stdout",
     "output_type": "stream",
     "text": [
      "Total time: 00:00:00\n",
      "Loading tensors from file\n",
      "Starting training\n"
     ]
    },
    {
     "data": {
      "text/html": [
       "<b>Batch [2/2]</b><br>Batch Loss: 0.0763<br>Batch Duration: 0.01<br>Estimated Batch time left: 0.00s"
      ],
      "text/plain": [
       "<IPython.core.display.HTML object>"
      ]
     },
     "metadata": {},
     "output_type": "display_data"
    },
    {
     "data": {
      "text/html": [
       "<b>Validation [28/28]</b><br>Val Loss: 0.1553<br>Val Duration: 0.02<br>Estimated Val time left: 0.00s"
      ],
      "text/plain": [
       "<IPython.core.display.HTML object>"
      ]
     },
     "metadata": {},
     "output_type": "display_data"
    },
    {
     "data": {
      "text/html": [
       "<b>Epoch [6/6]</b><br>Average Epoch Loss: 0.1161<br>Estimated time left: 0.00"
      ],
      "text/plain": [
       "<IPython.core.display.HTML object>"
      ]
     },
     "metadata": {},
     "output_type": "display_data"
    },
    {
     "name": "stdout",
     "output_type": "stream",
     "text": [
      "Total time: 00:00:00\n",
      "Loading tensors from file\n",
      "Starting training\n"
     ]
    },
    {
     "data": {
      "text/html": [
       "<b>Batch [2/2]</b><br>Batch Loss: 0.1319<br>Batch Duration: 0.01<br>Estimated Batch time left: 0.00s"
      ],
      "text/plain": [
       "<IPython.core.display.HTML object>"
      ]
     },
     "metadata": {},
     "output_type": "display_data"
    },
    {
     "data": {
      "text/html": [
       "<b>Validation [28/28]</b><br>Val Loss: 0.1384<br>Val Duration: 0.02<br>Estimated Val time left: 0.00s"
      ],
      "text/plain": [
       "<IPython.core.display.HTML object>"
      ]
     },
     "metadata": {},
     "output_type": "display_data"
    },
    {
     "data": {
      "text/html": [
       "<b>Epoch [6/6]</b><br>Average Epoch Loss: 0.1263<br>Estimated time left: 0.00"
      ],
      "text/plain": [
       "<IPython.core.display.HTML object>"
      ]
     },
     "metadata": {},
     "output_type": "display_data"
    },
    {
     "name": "stdout",
     "output_type": "stream",
     "text": [
      "Total time: 00:00:00\n",
      "Loading tensors from file\n",
      "Starting training\n"
     ]
    },
    {
     "data": {
      "text/html": [
       "<b>Batch [2/2]</b><br>Batch Loss: 0.0222<br>Batch Duration: 0.01<br>Estimated Batch time left: 0.00s"
      ],
      "text/plain": [
       "<IPython.core.display.HTML object>"
      ]
     },
     "metadata": {},
     "output_type": "display_data"
    },
    {
     "data": {
      "text/html": [
       "<b>Validation [28/28]</b><br>Val Loss: 0.0783<br>Val Duration: 0.02<br>Estimated Val time left: 0.00s"
      ],
      "text/plain": [
       "<IPython.core.display.HTML object>"
      ]
     },
     "metadata": {},
     "output_type": "display_data"
    },
    {
     "data": {
      "text/html": [
       "<b>Epoch [6/6]</b><br>Average Epoch Loss: 0.0387<br>Estimated time left: 0.00"
      ],
      "text/plain": [
       "<IPython.core.display.HTML object>"
      ]
     },
     "metadata": {},
     "output_type": "display_data"
    },
    {
     "name": "stdout",
     "output_type": "stream",
     "text": [
      "Total time: 00:00:00\n",
      "Loading tensors from file\n",
      "Starting training\n"
     ]
    },
    {
     "data": {
      "text/html": [
       "<b>Batch [2/2]</b><br>Batch Loss: 0.0434<br>Batch Duration: 0.01<br>Estimated Batch time left: 0.00s"
      ],
      "text/plain": [
       "<IPython.core.display.HTML object>"
      ]
     },
     "metadata": {},
     "output_type": "display_data"
    },
    {
     "data": {
      "text/html": [
       "<b>Validation [28/28]</b><br>Val Loss: 0.0567<br>Val Duration: 0.02<br>Estimated Val time left: 0.00s"
      ],
      "text/plain": [
       "<IPython.core.display.HTML object>"
      ]
     },
     "metadata": {},
     "output_type": "display_data"
    },
    {
     "data": {
      "text/html": [
       "<b>Epoch [6/6]</b><br>Average Epoch Loss: 0.0551<br>Estimated time left: 0.00"
      ],
      "text/plain": [
       "<IPython.core.display.HTML object>"
      ]
     },
     "metadata": {},
     "output_type": "display_data"
    },
    {
     "name": "stdout",
     "output_type": "stream",
     "text": [
      "Total time: 00:00:00\n",
      "Loading tensors from file\n",
      "Starting training\n"
     ]
    },
    {
     "data": {
      "text/html": [
       "<b>Batch [2/2]</b><br>Batch Loss: 0.0959<br>Batch Duration: 0.01<br>Estimated Batch time left: 0.00s"
      ],
      "text/plain": [
       "<IPython.core.display.HTML object>"
      ]
     },
     "metadata": {},
     "output_type": "display_data"
    },
    {
     "data": {
      "text/html": [
       "<b>Validation [28/28]</b><br>Val Loss: 0.1180<br>Val Duration: 0.02<br>Estimated Val time left: 0.00s"
      ],
      "text/plain": [
       "<IPython.core.display.HTML object>"
      ]
     },
     "metadata": {},
     "output_type": "display_data"
    },
    {
     "data": {
      "text/html": [
       "<b>Epoch [6/6]</b><br>Average Epoch Loss: 0.0939<br>Estimated time left: 0.00"
      ],
      "text/plain": [
       "<IPython.core.display.HTML object>"
      ]
     },
     "metadata": {},
     "output_type": "display_data"
    },
    {
     "name": "stdout",
     "output_type": "stream",
     "text": [
      "Total time: 00:00:00\n",
      "Loading tensors from file\n",
      "Starting training\n"
     ]
    },
    {
     "data": {
      "text/html": [
       "<b>Batch [2/2]</b><br>Batch Loss: 0.0985<br>Batch Duration: 0.01<br>Estimated Batch time left: 0.00s"
      ],
      "text/plain": [
       "<IPython.core.display.HTML object>"
      ]
     },
     "metadata": {},
     "output_type": "display_data"
    },
    {
     "data": {
      "text/html": [
       "<b>Validation [28/28]</b><br>Val Loss: 0.0836<br>Val Duration: 0.01<br>Estimated Val time left: 0.00s"
      ],
      "text/plain": [
       "<IPython.core.display.HTML object>"
      ]
     },
     "metadata": {},
     "output_type": "display_data"
    },
    {
     "data": {
      "text/html": [
       "<b>Epoch [6/6]</b><br>Average Epoch Loss: 0.1068<br>Estimated time left: 0.00"
      ],
      "text/plain": [
       "<IPython.core.display.HTML object>"
      ]
     },
     "metadata": {},
     "output_type": "display_data"
    },
    {
     "name": "stdout",
     "output_type": "stream",
     "text": [
      "Total time: 00:00:00\n",
      "Loading tensors from file\n",
      "Starting training\n"
     ]
    },
    {
     "data": {
      "text/html": [
       "<b>Batch [2/2]</b><br>Batch Loss: 0.0740<br>Batch Duration: 0.01<br>Estimated Batch time left: 0.00s"
      ],
      "text/plain": [
       "<IPython.core.display.HTML object>"
      ]
     },
     "metadata": {},
     "output_type": "display_data"
    },
    {
     "data": {
      "text/html": [
       "<b>Validation [28/28]</b><br>Val Loss: 0.1201<br>Val Duration: 0.01<br>Estimated Val time left: 0.00s"
      ],
      "text/plain": [
       "<IPython.core.display.HTML object>"
      ]
     },
     "metadata": {},
     "output_type": "display_data"
    },
    {
     "data": {
      "text/html": [
       "<b>Epoch [6/6]</b><br>Average Epoch Loss: 0.0793<br>Estimated time left: 0.00"
      ],
      "text/plain": [
       "<IPython.core.display.HTML object>"
      ]
     },
     "metadata": {},
     "output_type": "display_data"
    },
    {
     "name": "stdout",
     "output_type": "stream",
     "text": [
      "Total time: 00:00:00\n",
      "Loading tensors from file\n",
      "Starting training\n"
     ]
    },
    {
     "data": {
      "text/html": [
       "<b>Batch [2/2]</b><br>Batch Loss: 0.0715<br>Batch Duration: 0.01<br>Estimated Batch time left: 0.00s"
      ],
      "text/plain": [
       "<IPython.core.display.HTML object>"
      ]
     },
     "metadata": {},
     "output_type": "display_data"
    },
    {
     "data": {
      "text/html": [
       "<b>Validation [28/28]</b><br>Val Loss: 0.0652<br>Val Duration: 0.01<br>Estimated Val time left: 0.00s"
      ],
      "text/plain": [
       "<IPython.core.display.HTML object>"
      ]
     },
     "metadata": {},
     "output_type": "display_data"
    },
    {
     "data": {
      "text/html": [
       "<b>Epoch [6/6]</b><br>Average Epoch Loss: 0.0738<br>Estimated time left: 0.00"
      ],
      "text/plain": [
       "<IPython.core.display.HTML object>"
      ]
     },
     "metadata": {},
     "output_type": "display_data"
    },
    {
     "name": "stdout",
     "output_type": "stream",
     "text": [
      "Total time: 00:00:00\n",
      "Loading tensors from file\n",
      "Starting training\n"
     ]
    },
    {
     "data": {
      "text/html": [
       "<b>Batch [2/2]</b><br>Batch Loss: 0.1036<br>Batch Duration: 0.01<br>Estimated Batch time left: 0.00s"
      ],
      "text/plain": [
       "<IPython.core.display.HTML object>"
      ]
     },
     "metadata": {},
     "output_type": "display_data"
    },
    {
     "data": {
      "text/html": [
       "<b>Validation [28/28]</b><br>Val Loss: 0.1200<br>Val Duration: 0.02<br>Estimated Val time left: 0.00s"
      ],
      "text/plain": [
       "<IPython.core.display.HTML object>"
      ]
     },
     "metadata": {},
     "output_type": "display_data"
    },
    {
     "data": {
      "text/html": [
       "<b>Epoch [6/6]</b><br>Average Epoch Loss: 0.0941<br>Estimated time left: 0.00"
      ],
      "text/plain": [
       "<IPython.core.display.HTML object>"
      ]
     },
     "metadata": {},
     "output_type": "display_data"
    },
    {
     "name": "stdout",
     "output_type": "stream",
     "text": [
      "Total time: 00:00:00\n",
      "Loading tensors from file\n",
      "Starting training\n"
     ]
    },
    {
     "data": {
      "text/html": [
       "<b>Batch [2/2]</b><br>Batch Loss: 0.1179<br>Batch Duration: 0.01<br>Estimated Batch time left: 0.00s"
      ],
      "text/plain": [
       "<IPython.core.display.HTML object>"
      ]
     },
     "metadata": {},
     "output_type": "display_data"
    },
    {
     "data": {
      "text/html": [
       "<b>Validation [28/28]</b><br>Val Loss: 0.1303<br>Val Duration: 0.01<br>Estimated Val time left: 0.00s"
      ],
      "text/plain": [
       "<IPython.core.display.HTML object>"
      ]
     },
     "metadata": {},
     "output_type": "display_data"
    },
    {
     "data": {
      "text/html": [
       "<b>Epoch [6/6]</b><br>Average Epoch Loss: 0.0998<br>Estimated time left: 0.00"
      ],
      "text/plain": [
       "<IPython.core.display.HTML object>"
      ]
     },
     "metadata": {},
     "output_type": "display_data"
    },
    {
     "name": "stdout",
     "output_type": "stream",
     "text": [
      "Total time: 00:00:00\n",
      "Loading tensors from file\n",
      "Starting training\n"
     ]
    },
    {
     "data": {
      "text/html": [
       "<b>Batch [2/2]</b><br>Batch Loss: 0.1525<br>Batch Duration: 0.01<br>Estimated Batch time left: 0.00s"
      ],
      "text/plain": [
       "<IPython.core.display.HTML object>"
      ]
     },
     "metadata": {},
     "output_type": "display_data"
    },
    {
     "data": {
      "text/html": [
       "<b>Validation [28/28]</b><br>Val Loss: 0.1742<br>Val Duration: 0.01<br>Estimated Val time left: 0.00s"
      ],
      "text/plain": [
       "<IPython.core.display.HTML object>"
      ]
     },
     "metadata": {},
     "output_type": "display_data"
    },
    {
     "data": {
      "text/html": [
       "<b>Epoch [6/6]</b><br>Average Epoch Loss: 0.1439<br>Estimated time left: 0.00"
      ],
      "text/plain": [
       "<IPython.core.display.HTML object>"
      ]
     },
     "metadata": {},
     "output_type": "display_data"
    },
    {
     "name": "stdout",
     "output_type": "stream",
     "text": [
      "Total time: 00:00:00\n",
      "Loading tensors from file\n",
      "Starting training\n"
     ]
    },
    {
     "data": {
      "text/html": [
       "<b>Batch [2/2]</b><br>Batch Loss: 0.1217<br>Batch Duration: 0.01<br>Estimated Batch time left: 0.00s"
      ],
      "text/plain": [
       "<IPython.core.display.HTML object>"
      ]
     },
     "metadata": {},
     "output_type": "display_data"
    },
    {
     "data": {
      "text/html": [
       "<b>Validation [28/28]</b><br>Val Loss: 0.1354<br>Val Duration: 0.01<br>Estimated Val time left: 0.00s"
      ],
      "text/plain": [
       "<IPython.core.display.HTML object>"
      ]
     },
     "metadata": {},
     "output_type": "display_data"
    },
    {
     "data": {
      "text/html": [
       "<b>Epoch [6/6]</b><br>Average Epoch Loss: 0.1257<br>Estimated time left: 0.00"
      ],
      "text/plain": [
       "<IPython.core.display.HTML object>"
      ]
     },
     "metadata": {},
     "output_type": "display_data"
    },
    {
     "name": "stdout",
     "output_type": "stream",
     "text": [
      "Total time: 00:00:00\n",
      "Loading tensors from file\n",
      "Starting training\n"
     ]
    },
    {
     "data": {
      "text/html": [
       "<b>Batch [2/2]</b><br>Batch Loss: 0.0682<br>Batch Duration: 0.01<br>Estimated Batch time left: 0.00s"
      ],
      "text/plain": [
       "<IPython.core.display.HTML object>"
      ]
     },
     "metadata": {},
     "output_type": "display_data"
    },
    {
     "data": {
      "text/html": [
       "<b>Validation [28/28]</b><br>Val Loss: 0.0794<br>Val Duration: 0.02<br>Estimated Val time left: 0.00s"
      ],
      "text/plain": [
       "<IPython.core.display.HTML object>"
      ]
     },
     "metadata": {},
     "output_type": "display_data"
    },
    {
     "data": {
      "text/html": [
       "<b>Epoch [6/6]</b><br>Average Epoch Loss: 0.0793<br>Estimated time left: 0.00"
      ],
      "text/plain": [
       "<IPython.core.display.HTML object>"
      ]
     },
     "metadata": {},
     "output_type": "display_data"
    },
    {
     "name": "stdout",
     "output_type": "stream",
     "text": [
      "Total time: 00:00:00\n",
      "Loading tensors from file\n",
      "Starting training\n"
     ]
    },
    {
     "data": {
      "text/html": [
       "<b>Batch [2/2]</b><br>Batch Loss: 0.1268<br>Batch Duration: 0.01<br>Estimated Batch time left: 0.00s"
      ],
      "text/plain": [
       "<IPython.core.display.HTML object>"
      ]
     },
     "metadata": {},
     "output_type": "display_data"
    },
    {
     "data": {
      "text/html": [
       "<b>Validation [28/28]</b><br>Val Loss: 0.1546<br>Val Duration: 0.02<br>Estimated Val time left: 0.00s"
      ],
      "text/plain": [
       "<IPython.core.display.HTML object>"
      ]
     },
     "metadata": {},
     "output_type": "display_data"
    },
    {
     "data": {
      "text/html": [
       "<b>Epoch [6/6]</b><br>Average Epoch Loss: 0.1278<br>Estimated time left: 0.00"
      ],
      "text/plain": [
       "<IPython.core.display.HTML object>"
      ]
     },
     "metadata": {},
     "output_type": "display_data"
    },
    {
     "name": "stdout",
     "output_type": "stream",
     "text": [
      "Total time: 00:00:00\n",
      "Loading tensors from file\n",
      "Starting training\n"
     ]
    },
    {
     "data": {
      "text/html": [
       "<b>Batch [2/2]</b><br>Batch Loss: 0.0445<br>Batch Duration: 0.01<br>Estimated Batch time left: 0.00s"
      ],
      "text/plain": [
       "<IPython.core.display.HTML object>"
      ]
     },
     "metadata": {},
     "output_type": "display_data"
    },
    {
     "data": {
      "text/html": [
       "<b>Validation [28/28]</b><br>Val Loss: 0.0899<br>Val Duration: 0.02<br>Estimated Val time left: 0.00s"
      ],
      "text/plain": [
       "<IPython.core.display.HTML object>"
      ]
     },
     "metadata": {},
     "output_type": "display_data"
    },
    {
     "data": {
      "text/html": [
       "<b>Epoch [6/6]</b><br>Average Epoch Loss: 0.0698<br>Estimated time left: 0.00"
      ],
      "text/plain": [
       "<IPython.core.display.HTML object>"
      ]
     },
     "metadata": {},
     "output_type": "display_data"
    },
    {
     "name": "stdout",
     "output_type": "stream",
     "text": [
      "Total time: 00:00:00\n",
      "Loading tensors from file\n",
      "Starting training\n"
     ]
    },
    {
     "data": {
      "text/html": [
       "<b>Batch [2/2]</b><br>Batch Loss: 0.0609<br>Batch Duration: 0.01<br>Estimated Batch time left: 0.00s"
      ],
      "text/plain": [
       "<IPython.core.display.HTML object>"
      ]
     },
     "metadata": {},
     "output_type": "display_data"
    },
    {
     "data": {
      "text/html": [
       "<b>Validation [28/28]</b><br>Val Loss: 0.0905<br>Val Duration: 0.01<br>Estimated Val time left: 0.00s"
      ],
      "text/plain": [
       "<IPython.core.display.HTML object>"
      ]
     },
     "metadata": {},
     "output_type": "display_data"
    },
    {
     "data": {
      "text/html": [
       "<b>Epoch [6/6]</b><br>Average Epoch Loss: 0.0840<br>Estimated time left: 0.00"
      ],
      "text/plain": [
       "<IPython.core.display.HTML object>"
      ]
     },
     "metadata": {},
     "output_type": "display_data"
    },
    {
     "name": "stdout",
     "output_type": "stream",
     "text": [
      "Total time: 00:00:00\n",
      "Loading tensors from file\n",
      "Starting training\n"
     ]
    },
    {
     "data": {
      "text/html": [
       "<b>Batch [2/2]</b><br>Batch Loss: 0.0447<br>Batch Duration: 0.01<br>Estimated Batch time left: 0.00s"
      ],
      "text/plain": [
       "<IPython.core.display.HTML object>"
      ]
     },
     "metadata": {},
     "output_type": "display_data"
    },
    {
     "data": {
      "text/html": [
       "<b>Validation [28/28]</b><br>Val Loss: 0.0831<br>Val Duration: 0.02<br>Estimated Val time left: 0.00s"
      ],
      "text/plain": [
       "<IPython.core.display.HTML object>"
      ]
     },
     "metadata": {},
     "output_type": "display_data"
    },
    {
     "data": {
      "text/html": [
       "<b>Epoch [6/6]</b><br>Average Epoch Loss: 0.0658<br>Estimated time left: 0.00"
      ],
      "text/plain": [
       "<IPython.core.display.HTML object>"
      ]
     },
     "metadata": {},
     "output_type": "display_data"
    },
    {
     "name": "stdout",
     "output_type": "stream",
     "text": [
      "Total time: 00:00:00\n",
      "Loading tensors from file\n",
      "Starting training\n"
     ]
    },
    {
     "data": {
      "text/html": [
       "<b>Batch [2/2]</b><br>Batch Loss: 0.0446<br>Batch Duration: 0.01<br>Estimated Batch time left: 0.00s"
      ],
      "text/plain": [
       "<IPython.core.display.HTML object>"
      ]
     },
     "metadata": {},
     "output_type": "display_data"
    },
    {
     "data": {
      "text/html": [
       "<b>Validation [28/28]</b><br>Val Loss: 0.0918<br>Val Duration: 0.02<br>Estimated Val time left: 0.00s"
      ],
      "text/plain": [
       "<IPython.core.display.HTML object>"
      ]
     },
     "metadata": {},
     "output_type": "display_data"
    },
    {
     "data": {
      "text/html": [
       "<b>Epoch [6/6]</b><br>Average Epoch Loss: 0.0537<br>Estimated time left: 0.00"
      ],
      "text/plain": [
       "<IPython.core.display.HTML object>"
      ]
     },
     "metadata": {},
     "output_type": "display_data"
    },
    {
     "name": "stdout",
     "output_type": "stream",
     "text": [
      "Total time: 00:00:00\n",
      "Loading tensors from file\n",
      "Starting training\n"
     ]
    },
    {
     "data": {
      "text/html": [
       "<b>Batch [2/2]</b><br>Batch Loss: 0.1353<br>Batch Duration: 0.01<br>Estimated Batch time left: 0.00s"
      ],
      "text/plain": [
       "<IPython.core.display.HTML object>"
      ]
     },
     "metadata": {},
     "output_type": "display_data"
    },
    {
     "data": {
      "text/html": [
       "<b>Validation [28/28]</b><br>Val Loss: 0.1224<br>Val Duration: 0.01<br>Estimated Val time left: 0.00s"
      ],
      "text/plain": [
       "<IPython.core.display.HTML object>"
      ]
     },
     "metadata": {},
     "output_type": "display_data"
    },
    {
     "data": {
      "text/html": [
       "<b>Epoch [6/6]</b><br>Average Epoch Loss: 0.1152<br>Estimated time left: 0.00"
      ],
      "text/plain": [
       "<IPython.core.display.HTML object>"
      ]
     },
     "metadata": {},
     "output_type": "display_data"
    },
    {
     "name": "stdout",
     "output_type": "stream",
     "text": [
      "Total time: 00:00:00\n",
      "Loading tensors from file\n",
      "Starting training\n"
     ]
    },
    {
     "data": {
      "text/html": [
       "<b>Batch [2/2]</b><br>Batch Loss: 0.0961<br>Batch Duration: 0.01<br>Estimated Batch time left: 0.00s"
      ],
      "text/plain": [
       "<IPython.core.display.HTML object>"
      ]
     },
     "metadata": {},
     "output_type": "display_data"
    },
    {
     "data": {
      "text/html": [
       "<b>Validation [28/28]</b><br>Val Loss: 0.1171<br>Val Duration: 0.01<br>Estimated Val time left: 0.00s"
      ],
      "text/plain": [
       "<IPython.core.display.HTML object>"
      ]
     },
     "metadata": {},
     "output_type": "display_data"
    },
    {
     "data": {
      "text/html": [
       "<b>Epoch [6/6]</b><br>Average Epoch Loss: 0.0984<br>Estimated time left: 0.00"
      ],
      "text/plain": [
       "<IPython.core.display.HTML object>"
      ]
     },
     "metadata": {},
     "output_type": "display_data"
    },
    {
     "name": "stdout",
     "output_type": "stream",
     "text": [
      "Total time: 00:00:00\n",
      "Loading tensors from file\n",
      "Starting training\n"
     ]
    },
    {
     "data": {
      "text/html": [
       "<b>Batch [2/2]</b><br>Batch Loss: 0.1415<br>Batch Duration: 0.01<br>Estimated Batch time left: 0.00s"
      ],
      "text/plain": [
       "<IPython.core.display.HTML object>"
      ]
     },
     "metadata": {},
     "output_type": "display_data"
    },
    {
     "data": {
      "text/html": [
       "<b>Validation [28/28]</b><br>Val Loss: 0.1767<br>Val Duration: 0.01<br>Estimated Val time left: 0.00s"
      ],
      "text/plain": [
       "<IPython.core.display.HTML object>"
      ]
     },
     "metadata": {},
     "output_type": "display_data"
    },
    {
     "data": {
      "text/html": [
       "<b>Epoch [6/6]</b><br>Average Epoch Loss: 0.1328<br>Estimated time left: 0.00"
      ],
      "text/plain": [
       "<IPython.core.display.HTML object>"
      ]
     },
     "metadata": {},
     "output_type": "display_data"
    },
    {
     "name": "stdout",
     "output_type": "stream",
     "text": [
      "Total time: 00:00:00\n",
      "Loading tensors from file\n",
      "Starting training\n"
     ]
    },
    {
     "data": {
      "text/html": [
       "<b>Batch [2/2]</b><br>Batch Loss: 0.0964<br>Batch Duration: 0.01<br>Estimated Batch time left: 0.00s"
      ],
      "text/plain": [
       "<IPython.core.display.HTML object>"
      ]
     },
     "metadata": {},
     "output_type": "display_data"
    },
    {
     "data": {
      "text/html": [
       "<b>Validation [28/28]</b><br>Val Loss: 0.2139<br>Val Duration: 0.01<br>Estimated Val time left: 0.00s"
      ],
      "text/plain": [
       "<IPython.core.display.HTML object>"
      ]
     },
     "metadata": {},
     "output_type": "display_data"
    },
    {
     "data": {
      "text/html": [
       "<b>Epoch [6/6]</b><br>Average Epoch Loss: 0.0996<br>Estimated time left: 0.00"
      ],
      "text/plain": [
       "<IPython.core.display.HTML object>"
      ]
     },
     "metadata": {},
     "output_type": "display_data"
    },
    {
     "name": "stdout",
     "output_type": "stream",
     "text": [
      "Total time: 00:00:00\n",
      "Loading tensors from file\n",
      "Starting training\n"
     ]
    },
    {
     "data": {
      "text/html": [
       "<b>Batch [2/2]</b><br>Batch Loss: 0.0801<br>Batch Duration: 0.01<br>Estimated Batch time left: 0.00s"
      ],
      "text/plain": [
       "<IPython.core.display.HTML object>"
      ]
     },
     "metadata": {},
     "output_type": "display_data"
    },
    {
     "data": {
      "text/html": [
       "<b>Validation [28/28]</b><br>Val Loss: 0.1268<br>Val Duration: 0.01<br>Estimated Val time left: 0.00s"
      ],
      "text/plain": [
       "<IPython.core.display.HTML object>"
      ]
     },
     "metadata": {},
     "output_type": "display_data"
    },
    {
     "data": {
      "text/html": [
       "<b>Epoch [6/6]</b><br>Average Epoch Loss: 0.0982<br>Estimated time left: 0.00"
      ],
      "text/plain": [
       "<IPython.core.display.HTML object>"
      ]
     },
     "metadata": {},
     "output_type": "display_data"
    },
    {
     "name": "stdout",
     "output_type": "stream",
     "text": [
      "Total time: 00:00:00\n",
      "Loading tensors from file\n",
      "Starting training\n"
     ]
    },
    {
     "data": {
      "text/html": [
       "<b>Batch [2/2]</b><br>Batch Loss: 0.0471<br>Batch Duration: 0.01<br>Estimated Batch time left: 0.00s"
      ],
      "text/plain": [
       "<IPython.core.display.HTML object>"
      ]
     },
     "metadata": {},
     "output_type": "display_data"
    },
    {
     "data": {
      "text/html": [
       "<b>Validation [28/28]</b><br>Val Loss: 0.1089<br>Val Duration: 0.02<br>Estimated Val time left: 0.00s"
      ],
      "text/plain": [
       "<IPython.core.display.HTML object>"
      ]
     },
     "metadata": {},
     "output_type": "display_data"
    },
    {
     "data": {
      "text/html": [
       "<b>Epoch [6/6]</b><br>Average Epoch Loss: 0.0709<br>Estimated time left: 0.00"
      ],
      "text/plain": [
       "<IPython.core.display.HTML object>"
      ]
     },
     "metadata": {},
     "output_type": "display_data"
    },
    {
     "name": "stdout",
     "output_type": "stream",
     "text": [
      "Total time: 00:00:00\n",
      "Loading tensors from file\n",
      "Starting training\n"
     ]
    },
    {
     "data": {
      "text/html": [
       "<b>Batch [2/2]</b><br>Batch Loss: 0.0647<br>Batch Duration: 0.01<br>Estimated Batch time left: 0.00s"
      ],
      "text/plain": [
       "<IPython.core.display.HTML object>"
      ]
     },
     "metadata": {},
     "output_type": "display_data"
    },
    {
     "data": {
      "text/html": [
       "<b>Validation [28/28]</b><br>Val Loss: 0.1438<br>Val Duration: 0.01<br>Estimated Val time left: 0.00s"
      ],
      "text/plain": [
       "<IPython.core.display.HTML object>"
      ]
     },
     "metadata": {},
     "output_type": "display_data"
    },
    {
     "data": {
      "text/html": [
       "<b>Epoch [6/6]</b><br>Average Epoch Loss: 0.0577<br>Estimated time left: 0.00"
      ],
      "text/plain": [
       "<IPython.core.display.HTML object>"
      ]
     },
     "metadata": {},
     "output_type": "display_data"
    },
    {
     "name": "stdout",
     "output_type": "stream",
     "text": [
      "Total time: 00:00:00\n",
      "Loading tensors from file\n",
      "Starting training\n"
     ]
    },
    {
     "data": {
      "text/html": [
       "<b>Batch [2/2]</b><br>Batch Loss: 0.0673<br>Batch Duration: 0.01<br>Estimated Batch time left: 0.00s"
      ],
      "text/plain": [
       "<IPython.core.display.HTML object>"
      ]
     },
     "metadata": {},
     "output_type": "display_data"
    },
    {
     "data": {
      "text/html": [
       "<b>Validation [28/28]</b><br>Val Loss: 0.0922<br>Val Duration: 0.01<br>Estimated Val time left: 0.00s"
      ],
      "text/plain": [
       "<IPython.core.display.HTML object>"
      ]
     },
     "metadata": {},
     "output_type": "display_data"
    },
    {
     "data": {
      "text/html": [
       "<b>Epoch [6/6]</b><br>Average Epoch Loss: 0.0629<br>Estimated time left: 0.00"
      ],
      "text/plain": [
       "<IPython.core.display.HTML object>"
      ]
     },
     "metadata": {},
     "output_type": "display_data"
    },
    {
     "name": "stdout",
     "output_type": "stream",
     "text": [
      "Total time: 00:00:00\n",
      "Loading tensors from file\n",
      "Starting training\n"
     ]
    },
    {
     "data": {
      "text/html": [
       "<b>Batch [2/2]</b><br>Batch Loss: 0.0316<br>Batch Duration: 0.01<br>Estimated Batch time left: 0.00s"
      ],
      "text/plain": [
       "<IPython.core.display.HTML object>"
      ]
     },
     "metadata": {},
     "output_type": "display_data"
    },
    {
     "data": {
      "text/html": [
       "<b>Validation [28/28]</b><br>Val Loss: 0.1220<br>Val Duration: 0.01<br>Estimated Val time left: 0.00s"
      ],
      "text/plain": [
       "<IPython.core.display.HTML object>"
      ]
     },
     "metadata": {},
     "output_type": "display_data"
    },
    {
     "data": {
      "text/html": [
       "<b>Epoch [6/6]</b><br>Average Epoch Loss: 0.0362<br>Estimated time left: 0.00"
      ],
      "text/plain": [
       "<IPython.core.display.HTML object>"
      ]
     },
     "metadata": {},
     "output_type": "display_data"
    },
    {
     "name": "stdout",
     "output_type": "stream",
     "text": [
      "Total time: 00:00:00\n",
      "Loading tensors from file\n",
      "Starting training\n"
     ]
    },
    {
     "data": {
      "text/html": [
       "<b>Batch [2/2]</b><br>Batch Loss: 0.1385<br>Batch Duration: 0.01<br>Estimated Batch time left: 0.00s"
      ],
      "text/plain": [
       "<IPython.core.display.HTML object>"
      ]
     },
     "metadata": {},
     "output_type": "display_data"
    },
    {
     "data": {
      "text/html": [
       "<b>Validation [28/28]</b><br>Val Loss: 0.1408<br>Val Duration: 0.02<br>Estimated Val time left: 0.00s"
      ],
      "text/plain": [
       "<IPython.core.display.HTML object>"
      ]
     },
     "metadata": {},
     "output_type": "display_data"
    },
    {
     "data": {
      "text/html": [
       "<b>Epoch [6/6]</b><br>Average Epoch Loss: 0.1376<br>Estimated time left: 0.00"
      ],
      "text/plain": [
       "<IPython.core.display.HTML object>"
      ]
     },
     "metadata": {},
     "output_type": "display_data"
    },
    {
     "name": "stdout",
     "output_type": "stream",
     "text": [
      "Total time: 00:00:00\n",
      "Loading tensors from file\n",
      "Starting training\n"
     ]
    },
    {
     "data": {
      "text/html": [
       "<b>Batch [2/2]</b><br>Batch Loss: 0.1093<br>Batch Duration: 0.01<br>Estimated Batch time left: 0.00s"
      ],
      "text/plain": [
       "<IPython.core.display.HTML object>"
      ]
     },
     "metadata": {},
     "output_type": "display_data"
    },
    {
     "data": {
      "text/html": [
       "<b>Validation [28/28]</b><br>Val Loss: 0.1514<br>Val Duration: 0.02<br>Estimated Val time left: 0.00s"
      ],
      "text/plain": [
       "<IPython.core.display.HTML object>"
      ]
     },
     "metadata": {},
     "output_type": "display_data"
    },
    {
     "data": {
      "text/html": [
       "<b>Epoch [6/6]</b><br>Average Epoch Loss: 0.1415<br>Estimated time left: 0.00"
      ],
      "text/plain": [
       "<IPython.core.display.HTML object>"
      ]
     },
     "metadata": {},
     "output_type": "display_data"
    },
    {
     "name": "stdout",
     "output_type": "stream",
     "text": [
      "Total time: 00:00:00\n",
      "Loading tensors from file\n",
      "Starting training\n"
     ]
    },
    {
     "data": {
      "text/html": [
       "<b>Batch [2/2]</b><br>Batch Loss: 0.1004<br>Batch Duration: 0.01<br>Estimated Batch time left: 0.00s"
      ],
      "text/plain": [
       "<IPython.core.display.HTML object>"
      ]
     },
     "metadata": {},
     "output_type": "display_data"
    },
    {
     "data": {
      "text/html": [
       "<b>Validation [28/28]</b><br>Val Loss: 0.0969<br>Val Duration: 0.01<br>Estimated Val time left: 0.00s"
      ],
      "text/plain": [
       "<IPython.core.display.HTML object>"
      ]
     },
     "metadata": {},
     "output_type": "display_data"
    },
    {
     "data": {
      "text/html": [
       "<b>Epoch [6/6]</b><br>Average Epoch Loss: 0.0995<br>Estimated time left: 0.00"
      ],
      "text/plain": [
       "<IPython.core.display.HTML object>"
      ]
     },
     "metadata": {},
     "output_type": "display_data"
    },
    {
     "name": "stdout",
     "output_type": "stream",
     "text": [
      "Total time: 00:00:00\n",
      "Loading tensors from file\n",
      "Starting training\n"
     ]
    },
    {
     "data": {
      "text/html": [
       "<b>Batch [2/2]</b><br>Batch Loss: 0.1381<br>Batch Duration: 0.01<br>Estimated Batch time left: 0.00s"
      ],
      "text/plain": [
       "<IPython.core.display.HTML object>"
      ]
     },
     "metadata": {},
     "output_type": "display_data"
    },
    {
     "data": {
      "text/html": [
       "<b>Validation [28/28]</b><br>Val Loss: 0.1847<br>Val Duration: 0.01<br>Estimated Val time left: 0.00s"
      ],
      "text/plain": [
       "<IPython.core.display.HTML object>"
      ]
     },
     "metadata": {},
     "output_type": "display_data"
    },
    {
     "data": {
      "text/html": [
       "<b>Epoch [6/6]</b><br>Average Epoch Loss: 0.1473<br>Estimated time left: 0.00"
      ],
      "text/plain": [
       "<IPython.core.display.HTML object>"
      ]
     },
     "metadata": {},
     "output_type": "display_data"
    },
    {
     "name": "stdout",
     "output_type": "stream",
     "text": [
      "Total time: 00:00:00\n",
      "Loading tensors from file\n",
      "Starting training\n"
     ]
    },
    {
     "data": {
      "text/html": [
       "<b>Batch [2/2]</b><br>Batch Loss: 0.0694<br>Batch Duration: 0.01<br>Estimated Batch time left: 0.00s"
      ],
      "text/plain": [
       "<IPython.core.display.HTML object>"
      ]
     },
     "metadata": {},
     "output_type": "display_data"
    },
    {
     "data": {
      "text/html": [
       "<b>Validation [28/28]</b><br>Val Loss: 0.0776<br>Val Duration: 0.02<br>Estimated Val time left: 0.00s"
      ],
      "text/plain": [
       "<IPython.core.display.HTML object>"
      ]
     },
     "metadata": {},
     "output_type": "display_data"
    },
    {
     "data": {
      "text/html": [
       "<b>Epoch [6/6]</b><br>Average Epoch Loss: 0.0760<br>Estimated time left: 0.00"
      ],
      "text/plain": [
       "<IPython.core.display.HTML object>"
      ]
     },
     "metadata": {},
     "output_type": "display_data"
    },
    {
     "name": "stdout",
     "output_type": "stream",
     "text": [
      "Total time: 00:00:00\n",
      "Loading tensors from file\n",
      "Starting training\n"
     ]
    },
    {
     "data": {
      "text/html": [
       "<b>Batch [2/2]</b><br>Batch Loss: 0.0574<br>Batch Duration: 0.01<br>Estimated Batch time left: 0.00s"
      ],
      "text/plain": [
       "<IPython.core.display.HTML object>"
      ]
     },
     "metadata": {},
     "output_type": "display_data"
    },
    {
     "data": {
      "text/html": [
       "<b>Validation [28/28]</b><br>Val Loss: 0.0922<br>Val Duration: 0.02<br>Estimated Val time left: 0.00s"
      ],
      "text/plain": [
       "<IPython.core.display.HTML object>"
      ]
     },
     "metadata": {},
     "output_type": "display_data"
    },
    {
     "data": {
      "text/html": [
       "<b>Epoch [6/6]</b><br>Average Epoch Loss: 0.0688<br>Estimated time left: 0.00"
      ],
      "text/plain": [
       "<IPython.core.display.HTML object>"
      ]
     },
     "metadata": {},
     "output_type": "display_data"
    },
    {
     "name": "stdout",
     "output_type": "stream",
     "text": [
      "Total time: 00:00:00\n",
      "Loading tensors from file\n",
      "Starting training\n"
     ]
    },
    {
     "data": {
      "text/html": [
       "<b>Batch [2/2]</b><br>Batch Loss: 0.1406<br>Batch Duration: 0.01<br>Estimated Batch time left: 0.00s"
      ],
      "text/plain": [
       "<IPython.core.display.HTML object>"
      ]
     },
     "metadata": {},
     "output_type": "display_data"
    },
    {
     "data": {
      "text/html": [
       "<b>Validation [28/28]</b><br>Val Loss: 0.1449<br>Val Duration: 0.02<br>Estimated Val time left: 0.00s"
      ],
      "text/plain": [
       "<IPython.core.display.HTML object>"
      ]
     },
     "metadata": {},
     "output_type": "display_data"
    },
    {
     "data": {
      "text/html": [
       "<b>Epoch [6/6]</b><br>Average Epoch Loss: 0.1360<br>Estimated time left: 0.00"
      ],
      "text/plain": [
       "<IPython.core.display.HTML object>"
      ]
     },
     "metadata": {},
     "output_type": "display_data"
    },
    {
     "name": "stdout",
     "output_type": "stream",
     "text": [
      "Total time: 00:00:00\n",
      "Loading tensors from file\n",
      "Starting training\n"
     ]
    },
    {
     "data": {
      "text/html": [
       "<b>Batch [2/2]</b><br>Batch Loss: 0.0997<br>Batch Duration: 0.01<br>Estimated Batch time left: 0.00s"
      ],
      "text/plain": [
       "<IPython.core.display.HTML object>"
      ]
     },
     "metadata": {},
     "output_type": "display_data"
    },
    {
     "data": {
      "text/html": [
       "<b>Validation [28/28]</b><br>Val Loss: 0.0914<br>Val Duration: 0.02<br>Estimated Val time left: 0.00s"
      ],
      "text/plain": [
       "<IPython.core.display.HTML object>"
      ]
     },
     "metadata": {},
     "output_type": "display_data"
    },
    {
     "data": {
      "text/html": [
       "<b>Epoch [6/6]</b><br>Average Epoch Loss: 0.1011<br>Estimated time left: 0.00"
      ],
      "text/plain": [
       "<IPython.core.display.HTML object>"
      ]
     },
     "metadata": {},
     "output_type": "display_data"
    },
    {
     "name": "stdout",
     "output_type": "stream",
     "text": [
      "Total time: 00:00:00\n",
      "{0: {'hyperparameters': {'smooth_config': [{'method': None}]}, 'losses': [[[0.327644944190979, 0.3373386561870575], [0.2731896638870239, 0.2522617280483246], [0.20878005027770996, 0.1455416977405548], [0.09759354591369629, 0.1437547504901886], [0.16082313656806946, 0.13236704468727112], [0.05859149247407913, 0.06824999302625656]], [[0.3171808421611786, 0.3222420811653137], [0.2255113422870636, 0.21667151153087616], [0.18174207210540771, 0.1601373553276062], [0.14127659797668457, 0.08404620736837387], [0.07078094780445099, 0.06359435617923737], [0.10530918836593628, 0.078338623046875]], [[0.10161726176738739, 0.4017462134361267], [0.3526389002799988, 0.27180296182632446], [0.22623583674430847, 0.32220470905303955], [0.24296540021896362, 0.18792369961738586], [0.18553245067596436, 0.17833399772644043], [0.15107056498527527, 0.14926737546920776]], [[0.2884160876274109, 0.26749032735824585], [0.28138449788093567, 0.2766629457473755], [0.18211834132671356, 0.17479270696640015], [0.0862668976187706, 0.0537482313811779], [0.09203442186117172, 0.10812660306692123], [0.07609345763921738, 0.04208417981863022]], [[0.20400302112102509, 0.3141009211540222], [0.2734876871109009, 0.2287597954273224], [0.1929866075515747, 0.1957133710384369], [0.1604621857404709, 0.09681233018636703], [0.0953301340341568, 0.08506771922111511], [0.09012196958065033, 0.10529496520757675]], [[0.31679636240005493, 0.29235339164733887], [0.19212543964385986, 0.14408648014068604], [0.10530956834554672, 0.12630632519721985], [0.12252216786146164, 0.08628993481397629], [0.05070369690656662, 0.04622311145067215], [0.06362250447273254, 0.06898587942123413]], [[0.2686879634857178, 0.3516007363796234], [0.20616237819194794, 0.221042662858963], [0.13864128291606903, 0.1503012329339981], [0.06114121899008751, 0.07550029456615448], [0.10275944322347641, 0.12848085165023804], [0.11320032924413681, 0.04988063499331474]], [[0.32191282510757446, 0.24174778163433075], [0.20906278491020203, 0.18906736373901367], [0.25117310881614685, 0.1704200953245163], [0.22103595733642578, 0.12145185470581055], [0.1252560019493103, 0.09199526160955429], [0.08841679990291595, 0.08800244331359863]], [[0.2962367534637451, 0.2970409095287323], [0.19682841002941132, 0.18875187635421753], [0.10958400368690491, 0.1327267587184906], [0.07869361340999603, 0.11751484870910645], [0.07404003292322159, 0.06504219770431519], [0.0482134185731411, 0.07890066504478455]], [[0.23730377852916718, 0.2937190532684326], [0.16761955618858337, 0.1680857390165329], [0.15858116745948792, 0.19196955859661102], [0.14044912159442902, 0.12847468256950378], [0.15104041993618011, 0.14438611268997192], [0.1282375156879425, 0.09860865771770477]], [[0.23471656441688538, 0.3465656638145447], [0.24251151084899902, 0.20113401114940643], [0.15817584097385406, 0.10733270645141602], [0.1227499470114708, 0.10370874404907227], [0.09975975006818771, 0.07913355529308319], [0.06385360658168793, 0.062088705599308014]], [[0.31123220920562744, 0.21960054337978363], [0.19222986698150635, 0.15179108083248138], [0.07943582534790039, 0.08664783090353012], [0.10170068591833115, 0.11094161123037338], [0.07708173990249634, 0.032564617693424225], [0.025010541081428528, 0.05201639235019684]], [[0.27438268065452576, 0.36080679297447205], [0.24425582587718964, 0.16398730874061584], [0.15895184874534607, 0.16977104544639587], [0.1257203221321106, 0.10744017362594604], [0.11689364910125732, 0.10011155903339386], [0.09453247487545013, 0.13066157698631287]], [[0.394336462020874, 0.23656237125396729], [0.27797532081604004, 0.16958503425121307], [0.09411870688199997, 0.06039814278483391], [0.08640214800834656, 0.12661555409431458], [0.08536587655544281, 0.07683109492063522], [0.0315813347697258, 0.04932305961847305]], [[0.24450883269309998, 0.36789199709892273], [0.21348826587200165, 0.12710559368133545], [0.1711297482252121, 0.2241259515285492], [0.15294155478477478, 0.16265501081943512], [0.13387516140937805, 0.12155105918645859], [0.13499461114406586, 0.14984378218650818]], [[0.21491825580596924, 0.33853206038475037], [0.2182144820690155, 0.21464650332927704], [0.10135403275489807, 0.09673334658145905], [0.13994631171226501, 0.1287539303302765], [0.06293600052595139, 0.06630207598209381], [0.06482531875371933, 0.056898679584264755]], [[0.2980267405509949, 0.24861857295036316], [0.21699458360671997, 0.19947046041488647], [0.1343686580657959, 0.08912917226552963], [0.0865149199962616, 0.11423321068286896], [0.09726065397262573, 0.0612872838973999], [0.052734389901161194, 0.05368871986865997]], [[0.34830689430236816, 0.3822263181209564], [0.22349798679351807, 0.21714147925376892], [0.20354020595550537, 0.192138671875], [0.1424894779920578, 0.11227017641067505], [0.1469956636428833, 0.12496034801006317], [0.08160857111215591, 0.047487031668424606]], [[0.27991554141044617, 0.2320544719696045], [0.2140931785106659, 0.17018066346645355], [0.16413256525993347, 0.20087377727031708], [0.17600560188293457, 0.16065968573093414], [0.1420549899339676, 0.12507519125938416], [0.14075998961925507, 0.16726802289485931]], [[0.2987282872200012, 0.2527220547199249], [0.2563645839691162, 0.11882247775793076], [0.07358606904745102, 0.09684215486049652], [0.10199378430843353, 0.08641418069601059], [0.08106936514377594, 0.025350049138069153], [0.03884471207857132, 0.04354982078075409]], [[0.25526589155197144, 0.255967915058136], [0.19209125638008118, 0.19130133092403412], [0.15071862936019897, 0.18498198688030243], [0.1577741950750351, 0.17079374194145203], [0.11261683702468872, 0.11512279510498047], [0.13208705186843872, 0.1426367163658142]], [[0.29712966084480286, 0.1926385760307312], [0.19628679752349854, 0.16076314449310303], [0.13554292917251587, 0.10381485521793365], [0.12002918124198914, 0.1359649896621704], [0.08543391525745392, 0.12236519902944565], [0.10237713903188705, 0.1157693862915039]], [[0.3630360960960388, 0.250058114528656], [0.18339672684669495, 0.22871635854244232], [0.19238755106925964, 0.19229672849178314], [0.12749628722667694, 0.12231241911649704], [0.0957074984908104, 0.0806262418627739], [0.086391381919384, 0.08570633828639984]], [[0.3343854546546936, 0.320503830909729], [0.3201211094856262, 0.23256194591522217], [0.2274601310491562, 0.21812546253204346], [0.1975964605808258, 0.11353238672018051], [0.15549513697624207, 0.1476735770702362], [0.148919939994812, 0.1303182691335678]], [[0.2587638795375824, 0.27397894859313965], [0.23783890902996063, 0.25846248865127563], [0.20382647216320038, 0.19117769598960876], [0.18850639462471008, 0.16247518360614777], [0.10605612397193909, 0.12356894463300705], [0.14650654792785645, 0.18656811118125916]], [[0.2599039673805237, 0.23972949385643005], [0.29663631319999695, 0.15175937116146088], [0.12995100021362305, 0.14233389496803284], [0.16359809041023254, 0.11833276599645615], [0.09281666576862335, 0.05678706616163254], [0.059278398752212524, 0.08183348178863525]], [[0.21038654446601868, 0.3198385536670685], [0.2892697751522064, 0.25445595383644104], [0.23155300319194794, 0.17750144004821777], [0.15326401591300964, 0.2535111904144287], [0.1944110095500946, 0.13007387518882751], [0.12051014602184296, 0.12511704862117767]], [[0.24714945256710052, 0.2625386416912079], [0.30193930864334106, 0.20661400258541107], [0.14582934975624084, 0.09891952574253082], [0.2092476487159729, 0.12995707988739014], [0.09270013868808746, 0.06187432259321213], [0.07313870638608932, 0.08301500976085663]], [[0.36501210927963257, 0.24231159687042236], [0.22544251382350922, 0.20398780703544617], [0.13379241526126862, 0.10094600915908813], [0.10059335082769394, 0.11619123071432114], [0.10762276500463486, 0.07570303231477737], [0.048502083867788315, 0.03473849594593048]], [[0.21002547442913055, 0.2903955578804016], [0.29234281182289124, 0.2112187147140503], [0.18558530509471893, 0.20247238874435425], [0.10779595375061035, 0.11060871928930283], [0.07951637357473373, 0.10485735535621643], [0.08466585725545883, 0.05871601030230522]]], 'mean_loss': [0.1692570446473029, 0.15974267187217872], 'val_loss': [[[0.2594374418258667, 0.2894349992275238, 0.24425463378429413, 0.25333142280578613, 0.23592452704906464, 0.2810015082359314, 0.21186980605125427, 0.28855663537979126, 0.228843554854393, 0.29383528232574463, 0.23904478549957275, 0.2771790027618408, 0.27189502120018005, 0.27155351638793945, 0.2704867720603943, 0.23802582919597626, 0.2724321782588959, 0.24538668990135193, 0.2454722821712494, 0.2640102207660675, 0.24806199967861176, 0.2708125114440918, 0.24576056003570557, 0.28946608304977417, 0.24954816699028015, 0.28557074069976807, 0.2520093619823456, 0.25031614303588867], [0.2146473377943039, 0.22645199298858643, 0.20946964621543884, 0.22954034805297852, 0.18975567817687988, 0.2623547911643982, 0.2583339214324951, 0.21322397887706757, 0.2536783218383789, 0.2534977197647095, 0.18611642718315125, 0.23628482222557068, 0.2325446456670761, 0.22352808713912964, 0.2614239454269409, 0.251489520072937, 0.2193666398525238, 0.20645853877067566, 0.23728084564208984, 0.19516479969024658, 0.24784474074840546, 0.21592366695404053, 0.23881065845489502, 0.1951655149459839, 0.22190934419631958, 0.20524972677230835, 0.21502351760864258, 0.21943698823451996], [0.1507602035999298, 0.0775805413722992, 0.11767393350601196, 0.11587212979793549, 0.2037297487258911, 0.13015565276145935, 0.11279081553220749, 0.1527451127767563, 0.12431155890226364, 0.09820054471492767, 0.13001355528831482, 0.0815415233373642, 0.16899046301841736, 0.13498951494693756, 0.10283827781677246, 0.10273662209510803, 0.10251107066869736, 0.144572451710701, 0.10996787250041962, 0.10474594682455063, 0.13569818437099457, 0.16008031368255615, 0.12765392661094666, 0.09431809186935425, 0.14670336246490479, 0.09633795917034149, 0.14235736429691315, 0.12873025238513947], [0.19413912296295166, 0.19075727462768555, 0.2328641414642334, 0.1619475781917572, 0.21381430327892303, 0.19661925733089447, 0.19916358590126038, 0.1924736201763153, 0.16295993328094482, 0.22808830440044403, 0.17106352746486664, 0.21858245134353638, 0.2029014229774475, 0.17415300011634827, 0.18050748109817505, 0.19322994351387024, 0.16574563086032867, 0.2275475114583969, 0.2571326494216919, 0.225157231092453, 0.1730225384235382, 0.22307926416397095, 0.19346307218074799, 0.19564273953437805, 0.18724212050437927, 0.18462038040161133, 0.17449353635311127, 0.21771244704723358], [0.14406505227088928, 0.06307772547006607, 0.10081734508275986, 0.09774496406316757, 0.08806543797254562, 0.11760669201612473, 0.08566206693649292, 0.10110010951757431, 0.07254453003406525, 0.1403079628944397, 0.09233599901199341, 0.11544527858495712, 0.11228269338607788, 0.11548623442649841, 0.12565657496452332, 0.07933950424194336, 0.10403266549110413, 0.10372112691402435, 0.08543030917644501, 0.08921655267477036, 0.06641067564487457, 0.1294277012348175, 0.08736129105091095, 0.1283801645040512, 0.14026138186454773, 0.0847519040107727, 0.08798106759786606, 0.09509836882352829], [0.12587767839431763, 0.09132462739944458, 0.08866386115550995, 0.07783129811286926, 0.07635223120450974, 0.06937137246131897, 0.05202315375208855, 0.08748109638690948, 0.09602676331996918, 0.058608993887901306, 0.07154174149036407, 0.11503925174474716, 0.09802107512950897, 0.05314468592405319, 0.08719727396965027, 0.08207755535840988, 0.1011877954006195, 0.08147028088569641, 0.08280424773693085, 0.119252048432827, 0.09544651210308075, 0.08722155541181564, 0.09685076773166656, 0.10604438185691833, 0.06424793601036072, 0.09645624458789825, 0.09159713983535767, 0.11809121072292328]], [[0.2612746059894562, 0.3046109676361084, 0.2626717686653137, 0.23794716596603394, 0.2505261301994324, 0.2518136501312256, 0.2749229371547699, 0.24501417577266693, 0.23255297541618347, 0.24871551990509033, 0.33428049087524414, 0.26588961482048035, 0.24229292571544647, 0.24478352069854736, 0.2983502745628357, 0.3085781931877136, 0.2835462987422943, 0.3133299946784973, 0.28078657388687134, 0.2668929994106293, 0.2498590648174286, 0.303234338760376, 0.27167969942092896, 0.24611012637615204, 0.2535455822944641, 0.25366032123565674, 0.27131402492523193, 0.29836493730545044], [0.29051458835601807, 0.17727240920066833, 0.2194579839706421, 0.185302734375, 0.18952155113220215, 0.27079737186431885, 0.20994889736175537, 0.2630108892917633, 0.20994967222213745, 0.18884465098381042, 0.19847635924816132, 0.23345498740673065, 0.2425461709499359, 0.251479834318161, 0.23490779101848602, 0.2520759701728821, 0.20247219502925873, 0.15603791177272797, 0.2462937831878662, 0.2361844778060913, 0.2424052655696869, 0.21674343943595886, 0.23723462224006653, 0.25525927543640137, 0.2083870768547058, 0.22255098819732666, 0.21946239471435547, 0.21685704588890076], [0.1860778033733368, 0.16738727688789368, 0.14880481362342834, 0.18529240787029266, 0.17511579394340515, 0.18989026546478271, 0.18594667315483093, 0.2414700984954834, 0.140360027551651, 0.14698249101638794, 0.20108050107955933, 0.162308931350708, 0.14913803339004517, 0.16026481986045837, 0.16167962551116943, 0.22392845153808594, 0.20017366111278534, 0.16096721589565277, 0.1638685166835785, 0.21421393752098083, 0.19155173003673553, 0.2023613452911377, 0.13541501760482788, 0.15817320346832275, 0.19032055139541626, 0.24672088027000427, 0.16550283133983612, 0.21994197368621826], [0.11277732253074646, 0.1468011736869812, 0.12526194751262665, 0.14443039894104004, 0.08681456744670868, 0.08869259804487228, 0.07557590305805206, 0.07462283968925476, 0.14909964799880981, 0.1039520800113678, 0.1203460544347763, 0.07008855044841766, 0.06267967820167542, 0.0693245381116867, 0.08452850580215454, 0.12350647151470184, 0.07751336693763733, 0.12701654434204102, 0.09594305604696274, 0.11291598528623581, 0.07293570786714554, 0.1205996721982956, 0.08644174784421921, 0.10443108528852463, 0.09809932112693787, 0.08093589544296265, 0.1345914900302887, 0.07795235514640808], [0.15802665054798126, 0.10339166224002838, 0.15664486587047577, 0.11299721896648407, 0.11205878108739853, 0.10528549551963806, 0.15385864675045013, 0.11443494260311127, 0.17929089069366455, 0.11494600772857666, 0.08550947904586792, 0.12110897898674011, 0.10676117241382599, 0.09047278016805649, 0.11023237556219101, 0.11675375699996948, 0.14690400660037994, 0.14009544253349304, 0.12770776450634003, 0.12910650670528412, 0.08788786828517914, 0.15236498415470123, 0.1185627430677414, 0.20338520407676697, 0.12325184047222137, 0.10703399777412415, 0.17195260524749756, 0.1521625816822052], [0.056192636489868164, 0.0675252228975296, 0.13246193528175354, 0.09597422182559967, 0.07516131550073624, 0.055667728185653687, 0.11746280640363693, 0.13647374510765076, 0.06297340989112854, 0.06792548298835754, 0.05572032928466797, 0.09701358526945114, 0.12147963047027588, 0.07660913467407227, 0.07643352448940277, 0.09933136403560638, 0.11511778831481934, 0.16074983775615692, 0.07674351334571838, 0.08666020631790161, 0.09354834258556366, 0.08832301199436188, 0.07606817036867142, 0.11146070063114166, 0.0961371660232544, 0.08378589153289795, 0.09928500652313232, 0.11260231584310532]], [[0.3663875460624695, 0.41909775137901306, 0.3830883502960205, 0.36418864130973816, 0.3606696128845215, 0.3926874101161957, 0.35877594351768494, 0.39507660269737244, 0.3417167663574219, 0.3291860818862915, 0.3838675916194916, 0.3411269187927246, 0.4181523323059082, 0.4122670292854309, 0.3571523427963257, 0.452993243932724, 0.33578526973724365, 0.3264998495578766, 0.3433193862438202, 0.312999427318573, 0.33758077025413513, 0.29909271001815796, 0.3618501126766205, 0.3667409121990204, 0.38134726881980896, 0.3581133782863617, 0.3720918297767639, 0.39349448680877686], [0.29517409205436707, 0.2983587682247162, 0.273034930229187, 0.24948957562446594, 0.3061787486076355, 0.28167933225631714, 0.29461202025413513, 0.3090533912181854, 0.30157583951950073, 0.25629937648773193, 0.2881544530391693, 0.29174119234085083, 0.2798764109611511, 0.2713911235332489, 0.2392071783542633, 0.29428547620773315, 0.2568155527114868, 0.3414630889892578, 0.304962694644928, 0.2842380702495575, 0.26789337396621704, 0.3092425465583801, 0.3018416166305542, 0.3106536865234375, 0.30995091795921326, 0.29509443044662476, 0.27274590730667114, 0.25676852464675903], [0.315937876701355, 0.2866829037666321, 0.2712652087211609, 0.2572903335094452, 0.2693214416503906, 0.2934703528881073, 0.25630438327789307, 0.27183693647384644, 0.23676133155822754, 0.28339576721191406, 0.25288230180740356, 0.22596125304698944, 0.2582703232765198, 0.24696306884288788, 0.2777959704399109, 0.3210330307483673, 0.264586865901947, 0.28527194261550903, 0.3447810113430023, 0.29493433237075806, 0.2927612066268921, 0.26113706827163696, 0.2787996232509613, 0.2801620662212372, 0.3123144507408142, 0.24582591652870178, 0.3107566237449646, 0.28600168228149414], [0.230409175157547, 0.1924058198928833, 0.21491055190563202, 0.21309137344360352, 0.20420801639556885, 0.20391902327537537, 0.216302752494812, 0.22629515826702118, 0.2075180858373642, 0.2277550995349884, 0.21901504695415497, 0.22571127116680145, 0.23490706086158752, 0.22276239097118378, 0.2334688901901245, 0.2654983103275299, 0.19816118478775024, 0.22113296389579773, 0.2154228389263153, 0.213481605052948, 0.23779702186584473, 0.2295616865158081, 0.19257621467113495, 0.25488919019699097, 0.2076157033443451, 0.28443634510040283, 0.22709529101848602, 0.19691666960716248], [0.15173137187957764, 0.17684385180473328, 0.18840983510017395, 0.1961352676153183, 0.17290852963924408, 0.20353662967681885, 0.19441738724708557, 0.17420029640197754, 0.19632801413536072, 0.17640793323516846, 0.16821378469467163, 0.16816362738609314, 0.16111594438552856, 0.19489192962646484, 0.21368692815303802, 0.19129613041877747, 0.20669934153556824, 0.2031184732913971, 0.18267053365707397, 0.19357824325561523, 0.1959160417318344, 0.17555266618728638, 0.1879148781299591, 0.1813502013683319, 0.16773903369903564, 0.2087516486644745, 0.1875903606414795, 0.17523083090782166], [0.18219642341136932, 0.17904365062713623, 0.17480576038360596, 0.1899472177028656, 0.18091532588005066, 0.2195676565170288, 0.2030968964099884, 0.17765288054943085, 0.16811184585094452, 0.18650126457214355, 0.1467203050851822, 0.1442297101020813, 0.1967100352048874, 0.229252427816391, 0.18839791417121887, 0.17289218306541443, 0.19337019324302673, 0.18236848711967468, 0.2180507481098175, 0.16794602572917938, 0.181703120470047, 0.19319932162761688, 0.18949715793132782, 0.17022845149040222, 0.17726998031139374, 0.18828999996185303, 0.15528373420238495, 0.17313948273658752]], [[0.293251633644104, 0.3011472225189209, 0.2800373435020447, 0.31309372186660767, 0.28469356894493103, 0.2485186755657196, 0.28019416332244873, 0.3273538053035736, 0.31039899587631226, 0.2905707359313965, 0.29414623975753784, 0.3012098968029022, 0.2905680239200592, 0.2969334125518799, 0.3081768751144409, 0.2793457508087158, 0.3140770196914673, 0.3009321093559265, 0.30098384618759155, 0.3060106635093689, 0.3024143874645233, 0.29652389883995056, 0.29748138785362244, 0.28778716921806335, 0.30920785665512085, 0.26447606086730957, 0.32316136360168457, 0.28727883100509644], [0.19754326343536377, 0.23669779300689697, 0.22158879041671753, 0.20817899703979492, 0.24506458640098572, 0.2008226364850998, 0.20820045471191406, 0.20650015771389008, 0.2162560671567917, 0.20693698525428772, 0.23424682021141052, 0.2276781052350998, 0.1887708157300949, 0.2273423671722412, 0.2240906059741974, 0.26153430342674255, 0.23572823405265808, 0.20809511840343475, 0.2042078673839569, 0.18590861558914185, 0.21509723365306854, 0.20556792616844177, 0.20821234583854675, 0.2238481491804123, 0.22179436683654785, 0.1874970644712448, 0.20619218051433563, 0.1990048885345459], [0.08512477576732635, 0.14420631527900696, 0.14793090522289276, 0.13706055283546448, 0.10239430516958237, 0.08147294819355011, 0.11300800740718842, 0.13196304440498352, 0.11324526369571686, 0.09959810972213745, 0.09544767439365387, 0.0952414870262146, 0.09809108078479767, 0.09452241659164429, 0.11226624250411987, 0.1272079199552536, 0.11459847539663315, 0.12803417444229126, 0.09357770532369614, 0.11104180663824081, 0.07193364948034286, 0.08245354890823364, 0.0741054117679596, 0.13241738080978394, 0.10795636475086212, 0.07541527599096298, 0.14740906655788422, 0.15739500522613525], [0.12055794894695282, 0.1264863908290863, 0.10568683594465256, 0.10096529126167297, 0.10077773034572601, 0.11312594264745712, 0.1345982551574707, 0.08554571866989136, 0.10622565448284149, 0.1122158095240593, 0.10521336644887924, 0.11693867295980453, 0.10708224773406982, 0.10618965327739716, 0.12621378898620605, 0.10642968863248825, 0.11320462077856064, 0.10023844242095947, 0.09882651269435883, 0.11293669044971466, 0.11309754848480225, 0.14020463824272156, 0.10274704545736313, 0.107999786734581, 0.12523239850997925, 0.11515551060438156, 0.10855785012245178, 0.12287265062332153], [0.07946005463600159, 0.10511702299118042, 0.08646776527166367, 0.10122193396091461, 0.10573866963386536, 0.09782188385725021, 0.10117413848638535, 0.08435218036174774, 0.07164765894412994, 0.12004783004522324, 0.08819645643234253, 0.08230412006378174, 0.0770859643816948, 0.09703713655471802, 0.09662728011608124, 0.08960654586553574, 0.10104799270629883, 0.09385710954666138, 0.09364019334316254, 0.09617608785629272, 0.07850711792707443, 0.0911688432097435, 0.08971651643514633, 0.10630884021520615, 0.0957062691450119, 0.07991790026426315, 0.08167493343353271, 0.09045575559139252], [0.09546028822660446, 0.06253819167613983, 0.06406708061695099, 0.04759233444929123, 0.053743284195661545, 0.09412600845098495, 0.0630326196551323, 0.05522619187831879, 0.06976830214262009, 0.050696343183517456, 0.062076956033706665, 0.06922923773527145, 0.06774292141199112, 0.06025361269712448, 0.0591762512922287, 0.06817992031574249, 0.07112912088632584, 0.07761350274085999, 0.038349129259586334, 0.07580135762691498, 0.044406674802303314, 0.07257357239723206, 0.06515540182590485, 0.09658842533826828, 0.07483156025409698, 0.07437947392463684, 0.04678233712911606, 0.063176229596138]], [[0.2759833037853241, 0.2548861503601074, 0.2738179564476013, 0.28197652101516724, 0.25865066051483154, 0.2720661163330078, 0.26135146617889404, 0.23466062545776367, 0.21942244470119476, 0.23147332668304443, 0.31954681873321533, 0.2858958840370178, 0.28120648860931396, 0.3029307723045349, 0.30843907594680786, 0.24760553240776062, 0.272958368062973, 0.2826422452926636, 0.22611501812934875, 0.34475958347320557, 0.29570165276527405, 0.32508382201194763, 0.27928388118743896, 0.24613577127456665, 0.3075947165489197, 0.29481443762779236, 0.316772997379303, 0.2918040454387665], [0.17568674683570862, 0.21326521039009094, 0.25978076457977295, 0.2168368101119995, 0.1935749500989914, 0.2279854267835617, 0.21697698533535004, 0.24938087165355682, 0.17863371968269348, 0.21698921918869019, 0.23788809776306152, 0.18662862479686737, 0.22189807891845703, 0.24003607034683228, 0.1956750601530075, 0.2005646526813507, 0.22457122802734375, 0.19467668235301971, 0.2165335863828659, 0.19808577001094818, 0.20976006984710693, 0.23934321105480194, 0.23366644978523254, 0.2159312218427658, 0.22173961997032166, 0.2066534161567688, 0.21414248645305634, 0.22046828269958496], [0.18840400874614716, 0.22039620578289032, 0.19255024194717407, 0.1779109239578247, 0.18764889240264893, 0.15739789605140686, 0.19912737607955933, 0.157618910074234, 0.20949172973632812, 0.17590247094631195, 0.16954080760478973, 0.16982746124267578, 0.1742672324180603, 0.20462368428707123, 0.21028175950050354, 0.16038057208061218, 0.1604267954826355, 0.21154406666755676, 0.2252337634563446, 0.199753999710083, 0.20094338059425354, 0.16768866777420044, 0.18544769287109375, 0.19372545182704926, 0.16244088113307953, 0.19179175794124603, 0.1566283255815506, 0.15312166512012482], [0.10904522240161896, 0.1070004552602768, 0.12163843959569931, 0.1245715469121933, 0.10384501516819, 0.1501234918832779, 0.08412401378154755, 0.09870504587888718, 0.12367208302021027, 0.11151480674743652, 0.11069589108228683, 0.11062576621770859, 0.10327418893575668, 0.10509320348501205, 0.13332195580005646, 0.09980537742376328, 0.12691810727119446, 0.13654866814613342, 0.101244255900383, 0.10047595202922821, 0.09156529605388641, 0.11919315904378891, 0.13946039974689484, 0.10283792018890381, 0.12181432545185089, 0.1384856402873993, 0.12460628151893616, 0.1228223666548729], [0.10649120807647705, 0.09242739528417587, 0.11070685088634491, 0.11153282225131989, 0.12179873883724213, 0.14521850645542145, 0.09566416591405869, 0.1593184918165207, 0.11718088388442993, 0.10452195256948471, 0.11674859374761581, 0.11991065740585327, 0.10459478944540024, 0.10155272483825684, 0.1028473824262619, 0.10721921920776367, 0.15629339218139648, 0.08142126351594925, 0.14905400574207306, 0.09488523006439209, 0.0961417555809021, 0.10110573470592499, 0.11132514476776123, 0.12916600704193115, 0.1471773236989975, 0.10336722433567047, 0.0983765721321106, 0.09573447704315186], [0.050838690251111984, 0.06758179515600204, 0.07996337860822678, 0.06605216860771179, 0.08407814800739288, 0.1102757677435875, 0.0726340040564537, 0.06986774504184723, 0.07991109788417816, 0.10109864175319672, 0.09138669818639755, 0.0767357274889946, 0.08904480934143066, 0.060765426605939865, 0.06476455926895142, 0.08843513578176498, 0.06779737770557404, 0.059728410094976425, 0.059855204075574875, 0.0934663861989975, 0.07061245292425156, 0.05959252268075943, 0.0789208635687828, 0.05991477519273758, 0.08999519050121307, 0.05787116289138794, 0.06534348428249359, 0.07873545587062836]], [[0.24880075454711914, 0.2679077684879303, 0.2713139057159424, 0.16443654894828796, 0.25462231040000916, 0.23557989299297333, 0.21648524701595306, 0.24999484419822693, 0.2497742474079132, 0.22776620090007782, 0.2206992357969284, 0.22508832812309265, 0.22816643118858337, 0.22501716017723083, 0.22412586212158203, 0.2658909559249878, 0.25678712129592896, 0.20537380874156952, 0.24262595176696777, 0.22761979699134827, 0.20470218360424042, 0.24220851063728333, 0.22216176986694336, 0.27029314637184143, 0.29586029052734375, 0.22960728406906128, 0.22838497161865234, 0.21799586713314056], [0.15309172868728638, 0.170291468501091, 0.1064213365316391, 0.18006238341331482, 0.17129433155059814, 0.1186094582080841, 0.10341831296682358, 0.15768355131149292, 0.18873433768749237, 0.14665287733078003, 0.17164263129234314, 0.11577725410461426, 0.12123161554336548, 0.16750404238700867, 0.16757872700691223, 0.14306741952896118, 0.1513645350933075, 0.11389347165822983, 0.17062827944755554, 0.12913338840007782, 0.09125415980815887, 0.15955013036727905, 0.15272033214569092, 0.1559789478778839, 0.1624758541584015, 0.1122923344373703, 0.09546858072280884, 0.14000451564788818], [0.14459675550460815, 0.17737983167171478, 0.14501158893108368, 0.2300891876220703, 0.14875032007694244, 0.16551169753074646, 0.14969471096992493, 0.19548830389976501, 0.1635534018278122, 0.1511458158493042, 0.1630711555480957, 0.1441998928785324, 0.13144034147262573, 0.1627865433692932, 0.1630929857492447, 0.13998520374298096, 0.13475173711776733, 0.1655120849609375, 0.16057655215263367, 0.12979349493980408, 0.12022759020328522, 0.22883868217468262, 0.2194664180278778, 0.15738801658153534, 0.18598942458629608, 0.14658182859420776, 0.1536336988210678, 0.18456506729125977], [0.09246388077735901, 0.13997986912727356, 0.11579062789678574, 0.07818828523159027, 0.0512075237929821, 0.08203572779893875, 0.08562503755092621, 0.1329699605703354, 0.14120732247829437, 0.12435021996498108, 0.09430055320262909, 0.10305468738079071, 0.07480506598949432, 0.0784778818488121, 0.08976181596517563, 0.07915039360523224, 0.0439191572368145, 0.07900014519691467, 0.08735611289739609, 0.07637032866477966, 0.07841627299785614, 0.11181813478469849, 0.12614044547080994, 0.11520513892173767, 0.13021396100521088, 0.1365785151720047, 0.05398952215909958, 0.06990322470664978], [0.10596935451030731, 0.11658000946044922, 0.12627756595611572, 0.13919059932231903, 0.08616185188293457, 0.14684271812438965, 0.10120933502912521, 0.12198871374130249, 0.08048921823501587, 0.1541600227355957, 0.07335605472326279, 0.14486639201641083, 0.15275999903678894, 0.10955759137868881, 0.11388798803091049, 0.1357842981815338, 0.09715249389410019, 0.06896509230136871, 0.12527821958065033, 0.13535672426223755, 0.11159002780914307, 0.07625201344490051, 0.06874227523803711, 0.10363909602165222, 0.0918201431632042, 0.08043035864830017, 0.10462960600852966, 0.0823727399110794], [0.1259910762310028, 0.12052027881145477, 0.09073277562856674, 0.14766119420528412, 0.12925635278224945, 0.10778176784515381, 0.1026572585105896, 0.11777958273887634, 0.11459531635046005, 0.06945453584194183, 0.15699517726898193, 0.08775924146175385, 0.08462312072515488, 0.1465672105550766, 0.11744864284992218, 0.1038651093840599, 0.17303085327148438, 0.10421436280012131, 0.133521169424057, 0.09839322417974472, 0.12036063522100449, 0.09368896484375, 0.09758120030164719, 0.18700674176216125, 0.11805369704961777, 0.07921698689460754, 0.13426798582077026, 0.09426915645599365]], [[0.2154211699962616, 0.2554818391799927, 0.25492382049560547, 0.26805204153060913, 0.25785934925079346, 0.2865387499332428, 0.26688119769096375, 0.29351091384887695, 0.251150518655777, 0.27014997601509094, 0.2858423888683319, 0.26780933141708374, 0.2961626648902893, 0.3046576976776123, 0.2512374520301819, 0.2815547585487366, 0.2999553084373474, 0.27597707509994507, 0.21847550570964813, 0.23093728721141815, 0.23156361281871796, 0.24839197099208832, 0.26714950799942017, 0.2838961184024811, 0.25894322991371155, 0.2663004994392395, 0.23177561163902283, 0.2569675147533417], [0.19421827793121338, 0.1922319531440735, 0.19715949892997742, 0.18784932792186737, 0.15855571627616882, 0.18606197834014893, 0.22452440857887268, 0.24196892976760864, 0.23783104121685028, 0.19512632489204407, 0.22809097170829773, 0.17898115515708923, 0.19171619415283203, 0.183175727725029, 0.22170816361904144, 0.22067278623580933, 0.22250846028327942, 0.1987929344177246, 0.19517776370048523, 0.15916088223457336, 0.14185723662376404, 0.1828799694776535, 0.1806633174419403, 0.20070455968379974, 0.18045926094055176, 0.22626221179962158, 0.19863200187683105, 0.2528409957885742], [0.09267592430114746, 0.09150242805480957, 0.09353753179311752, 0.10988688468933105, 0.16249969601631165, 0.0955905169248581, 0.0791928693652153, 0.08125918358564377, 0.12076932191848755, 0.07743598520755768, 0.10608711838722229, 0.09269958734512329, 0.10657797753810883, 0.11353369802236557, 0.16465513408184052, 0.10513295978307724, 0.0945923775434494, 0.08157621324062347, 0.08891814947128296, 0.11466839909553528, 0.11403699964284897, 0.0991106778383255, 0.10112573951482773, 0.1336502730846405, 0.08180239051580429, 0.12945671379566193, 0.08460445702075958, 0.16567668318748474], [0.10410885512828827, 0.12673041224479675, 0.09759633243083954, 0.1092163473367691, 0.13361689448356628, 0.09846197068691254, 0.12039397656917572, 0.09291230142116547, 0.16067633032798767, 0.13305073976516724, 0.10574787855148315, 0.09444855153560638, 0.10641767829656601, 0.06457959115505219, 0.12057678401470184, 0.12135501950979233, 0.10585100948810577, 0.1239725649356842, 0.10858827829360962, 0.1118268296122551, 0.11464553326368332, 0.07412958145141602, 0.11871257424354553, 0.09937386214733124, 0.08849403262138367, 0.10519375652074814, 0.09641646593809128, 0.062319815158843994], [0.12954111397266388, 0.12510472536087036, 0.09675554931163788, 0.10294103622436523, 0.10530354827642441, 0.08604712784290314, 0.13271528482437134, 0.10269208997488022, 0.11058181524276733, 0.09447698295116425, 0.19176536798477173, 0.11689328402280807, 0.09150812029838562, 0.1135859489440918, 0.09184106439352036, 0.1155630350112915, 0.13525965809822083, 0.11394815146923065, 0.10510019958019257, 0.10774966329336166, 0.11595240235328674, 0.14639201760292053, 0.09369450807571411, 0.10906698554754257, 0.0963895320892334, 0.09308674931526184, 0.0912562906742096, 0.12432628870010376], [0.0867924615740776, 0.07365259528160095, 0.05462385341525078, 0.05749322101473808, 0.11099456995725632, 0.07327575981616974, 0.0517132543027401, 0.06625710427761078, 0.06493579596281052, 0.05419696494936943, 0.05023550987243652, 0.0381675660610199, 0.06867584586143494, 0.06609271466732025, 0.04754837602376938, 0.09914626181125641, 0.05473838746547699, 0.07293196767568588, 0.08561649918556213, 0.07796426117420197, 0.0607941597700119, 0.07949034869670868, 0.13006073236465454, 0.0842086598277092, 0.0693451538681984, 0.06324673444032669, 0.06763353943824768, 0.10880343616008759]], [[0.21404272317886353, 0.23738491535186768, 0.23792922496795654, 0.23071658611297607, 0.2831883430480957, 0.2643272578716278, 0.2613147497177124, 0.28601396083831787, 0.2376575469970703, 0.23703840374946594, 0.24037271738052368, 0.2767466902732849, 0.28828030824661255, 0.22722050547599792, 0.24698862433433533, 0.21931993961334229, 0.22160854935646057, 0.23774199187755585, 0.27602240443229675, 0.2727366089820862, 0.2897258698940277, 0.25006982684135437, 0.2961384952068329, 0.2821773886680603, 0.251909464597702, 0.2643381953239441, 0.22387628257274628, 0.19435834884643555], [0.2983144223690033, 0.2550671696662903, 0.2640105187892914, 0.2863999903202057, 0.24799267947673798, 0.2632668912410736, 0.27378880977630615, 0.27634820342063904, 0.21030983328819275, 0.28419095277786255, 0.25147759914398193, 0.2504679560661316, 0.2508789896965027, 0.2670203447341919, 0.2705024480819702, 0.22048906981945038, 0.24979448318481445, 0.25124114751815796, 0.2514735162258148, 0.272227942943573, 0.3018532693386078, 0.2286200225353241, 0.28481757640838623, 0.2725526690483093, 0.2880191206932068, 0.24701464176177979, 0.22412115335464478, 0.28974449634552], [0.20047244429588318, 0.2223576307296753, 0.28164738416671753, 0.21003107726573944, 0.21164870262145996, 0.273445188999176, 0.22258540987968445, 0.23960450291633606, 0.29190593957901, 0.20612172782421112, 0.2194242775440216, 0.21405217051506042, 0.20770642161369324, 0.21544604003429413, 0.2225290834903717, 0.22646623849868774, 0.22079747915267944, 0.2206469476222992, 0.24904078245162964, 0.2209567427635193, 0.252224326133728, 0.24810802936553955, 0.2475058138370514, 0.2155536711215973, 0.23305480182170868, 0.24072366952896118, 0.2153349369764328, 0.19430747628211975], [0.13136076927185059, 0.12720367312431335, 0.14357325434684753, 0.17522656917572021, 0.19725553691387177, 0.1646251082420349, 0.1916748285293579, 0.17081955075263977, 0.17852048575878143, 0.159820556640625, 0.18975219130516052, 0.13134784996509552, 0.16705171763896942, 0.19209125638008118, 0.17916804552078247, 0.14814314246177673, 0.1420489102602005, 0.14050498604774475, 0.16360285878181458, 0.16690628230571747, 0.23294131457805634, 0.18693271279335022, 0.1528693437576294, 0.1633138507604599, 0.19865334033966064, 0.20879022777080536, 0.1881210207939148, 0.13159960508346558], [0.13590788841247559, 0.13013963401317596, 0.13209006190299988, 0.11564230918884277, 0.10446228086948395, 0.15741592645645142, 0.12251049280166626, 0.11123044788837433, 0.15287330746650696, 0.14198383688926697, 0.14101183414459229, 0.10786986351013184, 0.10010119527578354, 0.1315290629863739, 0.07735394686460495, 0.14952349662780762, 0.11296451091766357, 0.14192360639572144, 0.09041955322027206, 0.11040344089269638, 0.14266616106033325, 0.11643148958683014, 0.14079348742961884, 0.14858418703079224, 0.10313770174980164, 0.13226018846035004, 0.13255995512008667, 0.16002532839775085], [0.14888732135295868, 0.16888050734996796, 0.16603776812553406, 0.1898615062236786, 0.14797449111938477, 0.14861494302749634, 0.13338445127010345, 0.13901957869529724, 0.12850555777549744, 0.14922629296779633, 0.1900026500225067, 0.1405864655971527, 0.13420984148979187, 0.10470399260520935, 0.15811775624752045, 0.14713796973228455, 0.15638741850852966, 0.1250346302986145, 0.15234479308128357, 0.16807584464550018, 0.11430661380290985, 0.1829754114151001, 0.14869925379753113, 0.17399775981903076, 0.16574987769126892, 0.16286282241344452, 0.10626408457756042, 0.12847740948200226]], [[0.17646580934524536, 0.20278549194335938, 0.1814972162246704, 0.19788703322410583, 0.18959514796733856, 0.21478977799415588, 0.1962154507637024, 0.20311707258224487, 0.1928446888923645, 0.23814837634563446, 0.20961511135101318, 0.22460174560546875, 0.1904146522283554, 0.21186816692352295, 0.20656387507915497, 0.2007073163986206, 0.21615386009216309, 0.20867441594600677, 0.22505784034729004, 0.18390630185604095, 0.2205178439617157, 0.20646719634532928, 0.203660786151886, 0.20357821881771088, 0.18704411387443542, 0.2146572768688202, 0.19110342860221863, 0.2339235246181488], [0.1549229770898819, 0.15446962416172028, 0.13407395780086517, 0.1727033108472824, 0.15321339666843414, 0.14951378107070923, 0.1598898470401764, 0.12463939189910889, 0.17164646089076996, 0.13595017790794373, 0.15824517607688904, 0.13049691915512085, 0.13259296119213104, 0.14852023124694824, 0.1465269923210144, 0.14486828446388245, 0.15922251343727112, 0.16698166728019714, 0.170697420835495, 0.13597559928894043, 0.16864076256752014, 0.15298226475715637, 0.1120624989271164, 0.142877459526062, 0.12375839799642563, 0.17078149318695068, 0.15320447087287903, 0.12205877155065536], [0.15536680817604065, 0.0921252891421318, 0.09139305353164673, 0.21560850739479065, 0.10394211113452911, 0.1309075951576233, 0.08515150845050812, 0.10609488934278488, 0.13909144699573517, 0.1162690743803978, 0.09662600606679916, 0.08067910373210907, 0.11804798245429993, 0.13230736553668976, 0.11830869317054749, 0.16397841274738312, 0.11835755407810211, 0.13939817249774933, 0.08306276798248291, 0.11229044198989868, 0.08368931710720062, 0.1291692852973938, 0.11068867146968842, 0.11291730403900146, 0.07349443435668945, 0.10720513761043549, 0.18933039903640747, 0.1185065358877182], [0.1021461933851242, 0.12039878964424133, 0.15530119836330414, 0.07951243221759796, 0.12510813772678375, 0.10505520552396774, 0.12302243709564209, 0.1381150484085083, 0.14930079877376556, 0.1446293443441391, 0.15352274477481842, 0.09576970338821411, 0.1329616755247116, 0.13676194846630096, 0.09054684638977051, 0.15534304082393646, 0.13559973239898682, 0.1620704084634781, 0.1368519365787506, 0.10752083361148834, 0.0960015058517456, 0.10881241410970688, 0.12917213141918182, 0.13646142184734344, 0.10596974194049835, 0.1406274139881134, 0.08988268673419952, 0.08952532708644867], [0.07008969038724899, 0.09443672746419907, 0.04615077003836632, 0.06916515529155731, 0.0566793754696846, 0.0833716094493866, 0.059272319078445435, 0.07520529627799988, 0.08647412061691284, 0.09724865853786469, 0.08793827891349792, 0.05379261076450348, 0.0586390420794487, 0.08762979507446289, 0.10974105447530746, 0.04745529219508171, 0.10236295312643051, 0.082872673869133, 0.04732682555913925, 0.06512908637523651, 0.08283807337284088, 0.1174452006816864, 0.07823739945888519, 0.0671602115035057, 0.06692534685134888, 0.08133715391159058, 0.08595889061689377, 0.08572524785995483], [0.10245262831449509, 0.09559895098209381, 0.09239767491817474, 0.0830506831407547, 0.09867441654205322, 0.0842289850115776, 0.0779530256986618, 0.12690642476081848, 0.08400321006774902, 0.09682687371969223, 0.08410374820232391, 0.11426888406276703, 0.08323869109153748, 0.10199024528265, 0.09021436423063278, 0.10180747509002686, 0.07138700038194656, 0.11350828409194946, 0.13426002860069275, 0.123960480093956, 0.09396974742412567, 0.18196235597133636, 0.08399347960948944, 0.09716251492500305, 0.09901529550552368, 0.09795495122671127, 0.12506920099258423, 0.08677881956100464]], [[0.19094334542751312, 0.1535722315311432, 0.17151674628257751, 0.14970169961452484, 0.1681748628616333, 0.15389946103096008, 0.17833927273750305, 0.16099607944488525, 0.1527099907398224, 0.14577560126781464, 0.1639525294303894, 0.175561785697937, 0.17160581052303314, 0.20054785907268524, 0.1851937621831894, 0.17757737636566162, 0.19751232862472534, 0.20760266482830048, 0.16877520084381104, 0.17347967624664307, 0.1391380876302719, 0.1834755390882492, 0.21804891526699066, 0.2216995358467102, 0.17177161574363708, 0.17184969782829285, 0.2073279321193695, 0.19628912210464478], [0.18659953773021698, 0.19025561213493347, 0.13845562934875488, 0.19105669856071472, 0.2474040687084198, 0.19405633211135864, 0.20588767528533936, 0.18929672241210938, 0.19593167304992676, 0.1315060555934906, 0.17361149191856384, 0.1856846809387207, 0.2006598711013794, 0.15991094708442688, 0.18560054898262024, 0.19898605346679688, 0.18878750503063202, 0.1663690060377121, 0.2134595513343811, 0.15383771061897278, 0.20130012929439545, 0.15015456080436707, 0.1617967188358307, 0.18565158545970917, 0.14385174214839935, 0.16548916697502136, 0.21455487608909607, 0.21994845569133759], [0.12812232971191406, 0.13238118588924408, 0.1452271044254303, 0.13018456101417542, 0.12766554951667786, 0.14223305881023407, 0.14630386233329773, 0.14471468329429626, 0.13449615240097046, 0.14723487198352814, 0.190160870552063, 0.17081400752067566, 0.1475645899772644, 0.1275506615638733, 0.14307796955108643, 0.16342179477214813, 0.13897176086902618, 0.14161072671413422, 0.1597418636083603, 0.13410930335521698, 0.15735554695129395, 0.15772755444049835, 0.2188774049282074, 0.1435692012310028, 0.16566526889801025, 0.11694767326116562, 0.1930680274963379, 0.15004178881645203], [0.18327116966247559, 0.16392782330513, 0.16037315130233765, 0.1276838481426239, 0.15055617690086365, 0.17964880168437958, 0.17727360129356384, 0.18069085478782654, 0.16679108142852783, 0.1345050036907196, 0.15687114000320435, 0.1592148244380951, 0.19768080115318298, 0.1546817421913147, 0.14101633429527283, 0.17687031626701355, 0.1748693287372589, 0.18629679083824158, 0.18126074969768524, 0.16715310513973236, 0.15960438549518585, 0.17528024315834045, 0.16965138912200928, 0.15435457229614258, 0.1645016223192215, 0.17445093393325806, 0.18564796447753906, 0.13143642246723175], [0.1461247354745865, 0.14686816930770874, 0.11292637884616852, 0.15092678368091583, 0.12630292773246765, 0.11074355244636536, 0.10067300498485565, 0.16801825165748596, 0.13627545535564423, 0.13460469245910645, 0.1555631458759308, 0.12750914692878723, 0.17814910411834717, 0.15169230103492737, 0.13800227642059326, 0.16312532126903534, 0.14331886172294617, 0.1480374038219452, 0.1455475091934204, 0.12731212377548218, 0.1435137838125229, 0.11385689675807953, 0.12871617078781128, 0.1376982182264328, 0.14334073662757874, 0.12859641015529633, 0.13784056901931763, 0.1450951099395752], [0.11713306605815887, 0.1492859572172165, 0.13193601369857788, 0.13390794396400452, 0.12178769707679749, 0.12255626916885376, 0.13307985663414001, 0.12232773751020432, 0.14081618189811707, 0.12717396020889282, 0.08593209832906723, 0.1457042098045349, 0.0961257815361023, 0.17480146884918213, 0.15284061431884766, 0.12072569131851196, 0.12995517253875732, 0.13924555480480194, 0.14556169509887695, 0.17031091451644897, 0.1467716097831726, 0.17226263880729675, 0.10882735252380371, 0.13033126294612885, 0.12503431737422943, 0.15077561140060425, 0.12383364886045456, 0.0860343798995018]], [[0.3362545967102051, 0.3038133978843689, 0.3207418918609619, 0.2705785930156708, 0.34036725759506226, 0.2588832378387451, 0.2676098346710205, 0.33189135789871216, 0.29422152042388916, 0.3511742055416107, 0.2620721757411957, 0.2636745572090149, 0.30452537536621094, 0.28046470880508423, 0.31278830766677856, 0.2832675874233246, 0.3214738368988037, 0.301297128200531, 0.29156380891799927, 0.3012353777885437, 0.32580119371414185, 0.2640698552131653, 0.27494415640830994, 0.2743993401527405, 0.29627054929733276, 0.303184449672699, 0.27758216857910156, 0.28839337825775146], [0.23732416331768036, 0.16895215213298798, 0.18174825608730316, 0.1765100657939911, 0.14474402368068695, 0.14437544345855713, 0.17260625958442688, 0.19510428607463837, 0.17424628138542175, 0.14408227801322937, 0.1688859909772873, 0.20578347146511078, 0.1574578583240509, 0.20764252543449402, 0.21547779440879822, 0.15239816904067993, 0.18803095817565918, 0.22912047803401947, 0.2095903754234314, 0.23357193171977997, 0.18324324488639832, 0.18980978429317474, 0.24078941345214844, 0.23300406336784363, 0.21889850497245789, 0.1690882444381714, 0.15164721012115479, 0.1921926736831665], [0.14676150679588318, 0.12174315750598907, 0.17825546860694885, 0.10702898353338242, 0.11988794058561325, 0.11977775394916534, 0.11537164449691772, 0.15959064662456512, 0.140603706240654, 0.15617568790912628, 0.13742193579673767, 0.15798541903495789, 0.11052867025136948, 0.129384845495224, 0.14239849150180817, 0.11721306294202805, 0.08933593332767487, 0.1616288423538208, 0.11881645768880844, 0.10763919353485107, 0.1284821331501007, 0.1552037000656128, 0.1422557234764099, 0.14492949843406677, 0.13606491684913635, 0.12126410007476807, 0.1578027904033661, 0.17278289794921875], [0.11356403678655624, 0.12436970323324203, 0.11383374035358429, 0.09902632236480713, 0.13447903096675873, 0.1251143217086792, 0.11130087077617645, 0.13048982620239258, 0.11611070483922958, 0.1638830453157425, 0.0917820930480957, 0.10809807479381561, 0.12274067103862762, 0.21867439150810242, 0.10547929257154465, 0.08805303275585175, 0.12271705269813538, 0.17601510882377625, 0.1530655324459076, 0.1113513857126236, 0.12220409512519836, 0.1542409509420395, 0.15891140699386597, 0.14248982071876526, 0.1210433840751648, 0.11626937240362167, 0.11697348207235336, 0.11777001619338989], [0.08509340137243271, 0.049266211688518524, 0.09828295558691025, 0.11769899725914001, 0.08608900010585785, 0.1315629929304123, 0.08115509897470474, 0.16126854717731476, 0.106539785861969, 0.1140298992395401, 0.07520230859518051, 0.09004121273756027, 0.09221404045820236, 0.12377099692821503, 0.09976121783256531, 0.10959693044424057, 0.1482064574956894, 0.11892475932836533, 0.0815819650888443, 0.09108000248670578, 0.11683712899684906, 0.08000373840332031, 0.09645022451877594, 0.08948850631713867, 0.10469582676887512, 0.07931993901729584, 0.11861956119537354, 0.08059531450271606], [0.08680972456932068, 0.11989441514015198, 0.0738920196890831, 0.0866452306509018, 0.08812108635902405, 0.08083726465702057, 0.15059885382652283, 0.12851355969905853, 0.07332265377044678, 0.11650767177343369, 0.09900369495153427, 0.08598987758159637, 0.1406475156545639, 0.1258554458618164, 0.11382186412811279, 0.12308025360107422, 0.07620121538639069, 0.08518069982528687, 0.07890792191028595, 0.09035810083150864, 0.09227000921964645, 0.0830993801355362, 0.1541098654270172, 0.08162108063697815, 0.09750638902187347, 0.13408662378787994, 0.06875953078269958, 0.1204342469573021]], [[0.20261362195014954, 0.2117510885000229, 0.2141048163175583, 0.22172129154205322, 0.237790048122406, 0.2251608818769455, 0.2075561285018921, 0.28641653060913086, 0.24467718601226807, 0.23605844378471375, 0.2114618718624115, 0.1938396692276001, 0.21058011054992676, 0.2259739339351654, 0.22625264525413513, 0.2854834496974945, 0.20401543378829956, 0.17555974423885345, 0.2201535701751709, 0.19257113337516785, 0.19900408387184143, 0.19658879935741425, 0.2717231512069702, 0.2405332773923874, 0.197154700756073, 0.25297993421554565, 0.22681240737438202, 0.2508656978607178], [0.0994306206703186, 0.13427434861660004, 0.09835880994796753, 0.12509846687316895, 0.12518540024757385, 0.11545290052890778, 0.1239975243806839, 0.13727618753910065, 0.1514807939529419, 0.11842042207717896, 0.1561565101146698, 0.12060603499412537, 0.15146100521087646, 0.14660793542861938, 0.1187867522239685, 0.09216983616352081, 0.11348070949316025, 0.1174989566206932, 0.14068014919757843, 0.11731217801570892, 0.11303146928548813, 0.1158304214477539, 0.0847216472029686, 0.1521362066268921, 0.11693503707647324, 0.11314480006694794, 0.12107954919338226, 0.12508544325828552], [0.15801599621772766, 0.1376066505908966, 0.1447441279888153, 0.1273074448108673, 0.13458222150802612, 0.16933517158031464, 0.1249208152294159, 0.14784547686576843, 0.19163069128990173, 0.1592046320438385, 0.1370006799697876, 0.12859764695167542, 0.13348577916622162, 0.174724742770195, 0.16418161988258362, 0.1189715713262558, 0.12313058227300644, 0.14858576655387878, 0.15321795642375946, 0.13206160068511963, 0.14857466518878937, 0.1359437257051468, 0.12811383605003357, 0.10110526531934738, 0.156721830368042, 0.1411929428577423, 0.1470184624195099, 0.14271767437458038], [0.1018151044845581, 0.10489688813686371, 0.10738001763820648, 0.11914105713367462, 0.12971943616867065, 0.11546095460653305, 0.09725762903690338, 0.11766651272773743, 0.10678271949291229, 0.11987407505512238, 0.1213311180472374, 0.14279071986675262, 0.1497628539800644, 0.11994197219610214, 0.1071007251739502, 0.09517455101013184, 0.1266792118549347, 0.14960017800331116, 0.11192139238119125, 0.11625920236110687, 0.10208027064800262, 0.14185413718223572, 0.08784180879592896, 0.13190467655658722, 0.13051001727581024, 0.1204574704170227, 0.14336295425891876, 0.16411852836608887], [0.05302288383245468, 0.0718684047460556, 0.09409310668706894, 0.06527485698461533, 0.10315835475921631, 0.09857513755559921, 0.05311158299446106, 0.14218243956565857, 0.0731184333562851, 0.05659216642379761, 0.06903847306966782, 0.074394591152668, 0.06929506361484528, 0.08722685277462006, 0.0972302258014679, 0.05798052251338959, 0.0849432498216629, 0.1309301108121872, 0.06528741121292114, 0.056022971868515015, 0.09339766949415207, 0.039592988789081573, 0.058254092931747437, 0.06183511018753052, 0.12367372214794159, 0.05837349221110344, 0.08245953172445297, 0.0856606587767601], [0.09422147274017334, 0.10760211944580078, 0.13749632239341736, 0.08347676694393158, 0.07577123492956161, 0.14790624380111694, 0.14603577554225922, 0.08142179995775223, 0.09681737422943115, 0.10089902579784393, 0.08157672733068466, 0.09464609622955322, 0.10655540227890015, 0.07880880683660507, 0.10773470997810364, 0.08691459894180298, 0.0863894522190094, 0.054306309670209885, 0.10332272946834564, 0.09412618726491928, 0.07426679879426956, 0.10724180936813354, 0.13785681128501892, 0.09206996858119965, 0.13474808633327484, 0.06650865077972412, 0.10164176672697067, 0.06254935264587402]], [[0.26292791962623596, 0.2181020975112915, 0.21257512271404266, 0.23213104903697968, 0.21984073519706726, 0.22432462871074677, 0.2364904135465622, 0.2316732406616211, 0.2267286777496338, 0.2607526183128357, 0.19488739967346191, 0.2768549919128418, 0.24911415576934814, 0.2682747542858124, 0.2410871684551239, 0.21130427718162537, 0.21972396969795227, 0.22509436309337616, 0.2439185082912445, 0.22845834493637085, 0.2508104741573334, 0.2059362381696701, 0.27331456542015076, 0.26693686842918396, 0.28163227438926697, 0.24042277038097382, 0.23433515429496765, 0.2335638701915741], [0.19317738711833954, 0.1808377206325531, 0.18825465440750122, 0.18537293374538422, 0.1737569272518158, 0.24533115327358246, 0.1692802608013153, 0.18142247200012207, 0.16340228915214539, 0.17041778564453125, 0.21670418977737427, 0.19697104394435883, 0.1936773657798767, 0.17710256576538086, 0.186813622713089, 0.12447862327098846, 0.17027108371257782, 0.2416064441204071, 0.15514826774597168, 0.19826535880565643, 0.163285493850708, 0.17451447248458862, 0.18751195073127747, 0.14805588126182556, 0.2087085247039795, 0.2169545590877533, 0.2002168595790863, 0.18439625203609467], [0.13502296805381775, 0.17901504039764404, 0.18262574076652527, 0.18746314942836761, 0.14816147089004517, 0.205285906791687, 0.1535019874572754, 0.1889893114566803, 0.17291080951690674, 0.19175051152706146, 0.2104736566543579, 0.1574726104736328, 0.15647850930690765, 0.19047591090202332, 0.16330134868621826, 0.1290278285741806, 0.2145431935787201, 0.15604612231254578, 0.1939728856086731, 0.20000982284545898, 0.18480293452739716, 0.15753380954265594, 0.20872646570205688, 0.1590966135263443, 0.16648229956626892, 0.14373838901519775, 0.15731850266456604, 0.18025463819503784], [0.16683676838874817, 0.16307803988456726, 0.1802663505077362, 0.16643880307674408, 0.14326807856559753, 0.15028685331344604, 0.17471924424171448, 0.14900076389312744, 0.1387789100408554, 0.14535991847515106, 0.156489297747612, 0.11306613683700562, 0.15021535754203796, 0.13109835982322693, 0.13968122005462646, 0.12252204865217209, 0.14584678411483765, 0.1551748812198639, 0.13785257935523987, 0.12492071092128754, 0.13104234635829926, 0.167364701628685, 0.16443321108818054, 0.17230552434921265, 0.1366986632347107, 0.14377951622009277, 0.1451738327741623, 0.14010968804359436], [0.17828623950481415, 0.15722575783729553, 0.15226316452026367, 0.1526089310646057, 0.14347845315933228, 0.17429105937480927, 0.11592354625463486, 0.1593942493200302, 0.1482817530632019, 0.11588871479034424, 0.18763893842697144, 0.12407805770635605, 0.1848548948764801, 0.15891653299331665, 0.1476118564605713, 0.16005006432533264, 0.15684205293655396, 0.155825674533844, 0.18510690331459045, 0.15577983856201172, 0.15261584520339966, 0.1656939536333084, 0.15033969283103943, 0.13551530241966248, 0.1611289232969284, 0.14382904767990112, 0.15147212147712708, 0.16659137606620789], [0.1266649067401886, 0.11370475590229034, 0.1168099045753479, 0.13656392693519592, 0.11034047603607178, 0.1664988100528717, 0.14889107644557953, 0.120338074862957, 0.11898209154605865, 0.12542012333869934, 0.13070523738861084, 0.11283572018146515, 0.13674083352088928, 0.10963337868452072, 0.17713873088359833, 0.1308712661266327, 0.11705797165632248, 0.15922829508781433, 0.11264753341674805, 0.14117184281349182, 0.12389715760946274, 0.13513478636741638, 0.10443231463432312, 0.1314162313938141, 0.12304651737213135, 0.1242058128118515, 0.11819897592067719, 0.09469540417194366]], [[0.2947685122489929, 0.3109474182128906, 0.3029845356941223, 0.311800092458725, 0.29109883308410645, 0.3304610252380371, 0.2918356955051422, 0.32748156785964966, 0.2922998070716858, 0.3188728392124176, 0.3611404299736023, 0.3450509309768677, 0.3146688938140869, 0.3131181299686432, 0.2969166934490204, 0.3331865966320038, 0.3833319842815399, 0.3049311637878418, 0.3386308550834656, 0.31272074580192566, 0.318098247051239, 0.27887505292892456, 0.32355648279190063, 0.2917505204677582, 0.2909986972808838, 0.3308618664741516, 0.3091939091682434, 0.3212124705314636], [0.1519298106431961, 0.13530921936035156, 0.15622098743915558, 0.1588960886001587, 0.18406987190246582, 0.12316557765007019, 0.1374470293521881, 0.13774588704109192, 0.13501903414726257, 0.15315896272659302, 0.13740412890911102, 0.1632973849773407, 0.1892930120229721, 0.15822230279445648, 0.11570664495229721, 0.13685792684555054, 0.16053131222724915, 0.14986270666122437, 0.11314310878515244, 0.11919795721769333, 0.15298420190811157, 0.14430347084999084, 0.15783190727233887, 0.16137400269508362, 0.13081322610378265, 0.12806478142738342, 0.18609587848186493, 0.15617313981056213], [0.104617640376091, 0.10903080552816391, 0.07931242138147354, 0.0638251006603241, 0.06664736568927765, 0.08511073887348175, 0.1113145500421524, 0.11499416083097458, 0.11366656422615051, 0.12646053731441498, 0.09628330171108246, 0.11546355485916138, 0.13605360686779022, 0.1074528694152832, 0.09527301043272018, 0.07077565044164658, 0.07918055355548859, 0.13178256154060364, 0.08718650788068771, 0.07254200428724289, 0.10656464099884033, 0.07744172215461731, 0.09833116829395294, 0.10244423151016235, 0.15680044889450073, 0.08033107221126556, 0.08469434082508087, 0.10514979064464569], [0.09137193858623505, 0.09833680093288422, 0.10759882628917694, 0.08513931930065155, 0.09787716716527939, 0.07688520103693008, 0.11033757776021957, 0.08626413345336914, 0.10354679077863693, 0.13643881678581238, 0.12314160913228989, 0.09673021733760834, 0.12173265218734741, 0.12458646297454834, 0.09665360301733017, 0.09026122093200684, 0.0968102216720581, 0.12936663627624512, 0.10064105689525604, 0.12119778245687485, 0.12011759728193283, 0.09118618816137314, 0.1327768713235855, 0.1018567904829979, 0.08656363934278488, 0.09665647149085999, 0.15574465692043304, 0.09893679618835449], [0.04964696615934372, 0.05254552885890007, 0.10364460945129395, 0.057181037962436676, 0.07085275650024414, 0.10153617709875107, 0.085972361266613, 0.05002691596746445, 0.08582281321287155, 0.07942728698253632, 0.12765848636627197, 0.047930099070072174, 0.07785756886005402, 0.054138779640197754, 0.07365510612726212, 0.07175263017416, 0.10437273979187012, 0.12036284059286118, 0.03668124973773956, 0.0668163001537323, 0.06744655221700668, 0.13959673047065735, 0.05356823652982712, 0.0491645485162735, 0.04461216926574707, 0.05452144891023636, 0.027168696746230125, 0.1548997014760971], [0.07567864656448364, 0.10729449987411499, 0.12600931525230408, 0.10174842923879623, 0.08641976118087769, 0.10402022302150726, 0.08260564506053925, 0.09795224666595459, 0.12288856506347656, 0.10710851848125458, 0.10436218231916428, 0.09934550523757935, 0.1439586579799652, 0.10584799945354462, 0.12269437313079834, 0.10898836702108383, 0.10259982943534851, 0.0912078246474266, 0.10293080657720566, 0.10494822263717651, 0.10121798515319824, 0.08834463357925415, 0.09868600219488144, 0.07501332461833954, 0.11512767523527145, 0.11872413009405136, 0.12717905640602112, 0.106271892786026]], [[0.19682393968105316, 0.18445611000061035, 0.24825116991996765, 0.20839741826057434, 0.28923559188842773, 0.16153255105018616, 0.16176913678646088, 0.1796414852142334, 0.18989571928977966, 0.19993937015533447, 0.19551870226860046, 0.1718774139881134, 0.17705130577087402, 0.23303183913230896, 0.17997340857982635, 0.18020430207252502, 0.1688658446073532, 0.17735382914543152, 0.16077956557273865, 0.2088319957256317, 0.2399492859840393, 0.19568607211112976, 0.15034270286560059, 0.16663330793380737, 0.21428686380386353, 0.15992999076843262, 0.17819081246852875, 0.2241966724395752], [0.23400166630744934, 0.2147229164838791, 0.21634161472320557, 0.2166958749294281, 0.19937068223953247, 0.22545544803142548, 0.21973715722560883, 0.19921323657035828, 0.22290587425231934, 0.22002753615379333, 0.18717071413993835, 0.18362347781658173, 0.27403777837753296, 0.19888553023338318, 0.2232331931591034, 0.19116716086864471, 0.18932507932186127, 0.1852124035358429, 0.22269682586193085, 0.2156655490398407, 0.2512093782424927, 0.19828030467033386, 0.1866718828678131, 0.23616302013397217, 0.24444232881069183, 0.2048623263835907, 0.20481908321380615, 0.223220556974411], [0.1829313337802887, 0.20003841817378998, 0.19043850898742676, 0.15915125608444214, 0.1697990596294403, 0.20096413791179657, 0.2063298225402832, 0.21255533397197723, 0.18316100537776947, 0.20725756883621216, 0.1867085099220276, 0.16647380590438843, 0.22548052668571472, 0.20684444904327393, 0.1724948287010193, 0.21086958050727844, 0.1817551851272583, 0.17580926418304443, 0.15452873706817627, 0.18409781157970428, 0.2038642168045044, 0.22867801785469055, 0.20644301176071167, 0.18534120917320251, 0.15668267011642456, 0.15812376141548157, 0.16775724291801453, 0.17873500287532806], [0.1730237603187561, 0.15462781488895416, 0.13489370048046112, 0.1577785313129425, 0.15485243499279022, 0.17775456607341766, 0.1690424531698227, 0.11820604652166367, 0.15954169631004333, 0.15392062067985535, 0.15839791297912598, 0.15902185440063477, 0.19214443862438202, 0.17986145615577698, 0.19010810554027557, 0.1171126589179039, 0.1510246992111206, 0.14597538113594055, 0.16666726768016815, 0.137782022356987, 0.15459288656711578, 0.19170522689819336, 0.14753209054470062, 0.15429359674453735, 0.15857639908790588, 0.15232640504837036, 0.14715737104415894, 0.15526771545410156], [0.1271979808807373, 0.16180799901485443, 0.15765489637851715, 0.18184387683868408, 0.12835559248924255, 0.15969529747962952, 0.17147842049598694, 0.1564532220363617, 0.16384485363960266, 0.17476549744606018, 0.1939660906791687, 0.15243783593177795, 0.1350272297859192, 0.1581127792596817, 0.16517606377601624, 0.14963364601135254, 0.13621142506599426, 0.14643113315105438, 0.12253838777542114, 0.19700311124324799, 0.17393533885478973, 0.1872294396162033, 0.15642106533050537, 0.142401784658432, 0.11508502811193466, 0.21727880835533142, 0.1877257078886032, 0.19725088775157928], [0.15601205825805664, 0.14614956080913544, 0.1644963026046753, 0.10119950771331787, 0.19273173809051514, 0.14166754484176636, 0.13875728845596313, 0.1340041607618332, 0.12358132004737854, 0.14952611923217773, 0.09791483730077744, 0.11572499573230743, 0.12350010871887207, 0.15556177496910095, 0.12300799787044525, 0.126492440700531, 0.11376708000898361, 0.14377179741859436, 0.12742553651332855, 0.16612164676189423, 0.10833501070737839, 0.1369054615497589, 0.13493838906288147, 0.16155335307121277, 0.09707728028297424, 0.13485191762447357, 0.15210078656673431, 0.16597966849803925]], [[0.2840460538864136, 0.2605206370353699, 0.26240769028663635, 0.2529152035713196, 0.24262529611587524, 0.26700538396835327, 0.267726868391037, 0.2672750651836395, 0.25308728218078613, 0.2346571981906891, 0.23654934763908386, 0.2523196339607239, 0.26172637939453125, 0.2845105528831482, 0.265580952167511, 0.2656048536300659, 0.21586690843105316, 0.2750713527202606, 0.28603824973106384, 0.22600585222244263, 0.25906962156295776, 0.288135290145874, 0.2615988850593567, 0.25990235805511475, 0.24519507586956024, 0.2548539340496063, 0.26347219944000244, 0.29227423667907715], [0.11041627824306488, 0.12098690122365952, 0.1165156364440918, 0.13739457726478577, 0.11849331855773926, 0.12366734445095062, 0.19118192791938782, 0.14977553486824036, 0.13063602149486542, 0.1394684910774231, 0.12787848711013794, 0.1194080039858818, 0.10857844352722168, 0.12942010164260864, 0.12791071832180023, 0.11075415462255478, 0.1236184686422348, 0.10280025005340576, 0.13635864853858948, 0.10526475310325623, 0.1433917135000229, 0.09436830133199692, 0.13503271341323853, 0.1349143236875534, 0.10676351189613342, 0.1356361359357834, 0.13908728957176208, 0.1214909479022026], [0.14942769706249237, 0.19379562139511108, 0.20177006721496582, 0.12392191588878632, 0.16400977969169617, 0.18607619404792786, 0.13156291842460632, 0.11880167573690414, 0.14613288640975952, 0.17248189449310303, 0.13962507247924805, 0.13405296206474304, 0.15132544934749603, 0.16722653806209564, 0.12573933601379395, 0.13267011940479279, 0.19459787011146545, 0.12338630855083466, 0.197307750582695, 0.14250367879867554, 0.10712766647338867, 0.16160598397254944, 0.1461063027381897, 0.10625847429037094, 0.14706936478614807, 0.14954806864261627, 0.1711438149213791, 0.16273996233940125], [0.07569970190525055, 0.06211930140852928, 0.06326223909854889, 0.08126666396856308, 0.09115748107433319, 0.1488587111234665, 0.08461596071720123, 0.12847332656383514, 0.06820585578680038, 0.07922504842281342, 0.09470510482788086, 0.13051563501358032, 0.1484811007976532, 0.11761689186096191, 0.05935161933302879, 0.07092614471912384, 0.07078003138303757, 0.10057245194911957, 0.08814620971679688, 0.05456646531820297, 0.06906849145889282, 0.08515231311321259, 0.07421556115150452, 0.08887698501348495, 0.10108696669340134, 0.07377348095178604, 0.06362952291965485, 0.09457309544086456], [0.12061932682991028, 0.12374293804168701, 0.0967937558889389, 0.10288362205028534, 0.10375790297985077, 0.06735149770975113, 0.08124636113643646, 0.05626193806529045, 0.0660991370677948, 0.13171611726284027, 0.129527285695076, 0.11167621612548828, 0.08018755912780762, 0.09217240661382675, 0.09477122873067856, 0.07916591316461563, 0.08982261270284653, 0.07060249149799347, 0.07164247334003448, 0.0730794221162796, 0.08058719336986542, 0.09952220320701599, 0.11533787101507187, 0.09590606391429901, 0.09102808684110641, 0.07818398624658585, 0.068778857588768, 0.0967571884393692], [0.09121327102184296, 0.08998479694128036, 0.14111366868019104, 0.09957443922758102, 0.09929266571998596, 0.11526613682508469, 0.05912279337644577, 0.1234232634305954, 0.07154195010662079, 0.06360594928264618, 0.12021997570991516, 0.0699591338634491, 0.07994136959314346, 0.10776001214981079, 0.09717744588851929, 0.09409435838460922, 0.0756416767835617, 0.09703551232814789, 0.10176220536231995, 0.11810474097728729, 0.16493982076644897, 0.06898217648267746, 0.08718691766262054, 0.07752426713705063, 0.12158925831317902, 0.1218039020895958, 0.08576461672782898, 0.10002546012401581]], [[0.24108514189720154, 0.21725773811340332, 0.2054058313369751, 0.2378518283367157, 0.23525719344615936, 0.24020478129386902, 0.24588492512702942, 0.23542194068431854, 0.23201236128807068, 0.2346038669347763, 0.28197747468948364, 0.21820491552352905, 0.21857230365276337, 0.23119747638702393, 0.23026208579540253, 0.254519522190094, 0.24376606941223145, 0.2340918630361557, 0.20832130312919617, 0.23275604844093323, 0.25032442808151245, 0.2806937098503113, 0.20896515250205994, 0.19968771934509277, 0.24201172590255737, 0.23602113127708435, 0.23280459642410278, 0.22317855060100555], [0.1159435510635376, 0.12838499248027802, 0.20360998809337616, 0.15715822577476501, 0.11372410506010056, 0.16728858649730682, 0.15259955823421478, 0.12829993665218353, 0.13309410214424133, 0.1209258884191513, 0.14530985057353973, 0.16570018231868744, 0.15541952848434448, 0.10873906314373016, 0.18780413269996643, 0.1315259486436844, 0.14735932648181915, 0.12243398278951645, 0.18149128556251526, 0.10036987066268921, 0.13006672263145447, 0.14227625727653503, 0.16066452860832214, 0.14632605016231537, 0.13368424773216248, 0.11880479753017426, 0.1203262209892273, 0.1323913335800171], [0.08809757232666016, 0.12523797154426575, 0.1308031678199768, 0.11437224596738815, 0.11924293637275696, 0.07537247240543365, 0.08800166845321655, 0.11124640703201294, 0.0948696956038475, 0.08666013181209564, 0.08772068470716476, 0.09185773134231567, 0.09615187346935272, 0.12333142757415771, 0.118702732026577, 0.1461215764284134, 0.09052461385726929, 0.1059841439127922, 0.09538577497005463, 0.09879918396472931, 0.09091296792030334, 0.09281951189041138, 0.12365847826004028, 0.10817824304103851, 0.11304716765880585, 0.0816374272108078, 0.11792932450771332, 0.09944091737270355], [0.11856101453304291, 0.09597261995077133, 0.10572954267263412, 0.0991957038640976, 0.12876629829406738, 0.11698558181524277, 0.10798315703868866, 0.10826842486858368, 0.12577161192893982, 0.11752721667289734, 0.10383903980255127, 0.13235819339752197, 0.10590308159589767, 0.09446301311254501, 0.0962020754814148, 0.10021984577178955, 0.11923794448375702, 0.10416185855865479, 0.08151966333389282, 0.13547348976135254, 0.0916062444448471, 0.09110741317272186, 0.10705211758613586, 0.08203895390033722, 0.12118971347808838, 0.11580778658390045, 0.14242839813232422, 0.11684584617614746], [0.09888317435979843, 0.04623255133628845, 0.042676687240600586, 0.07232402265071869, 0.06329655647277832, 0.06086527556180954, 0.06664423644542694, 0.06611204892396927, 0.08445067703723907, 0.0638687014579773, 0.10156798362731934, 0.07216449081897736, 0.05165303871035576, 0.06255637109279633, 0.051417939364910126, 0.06998242437839508, 0.06751056760549545, 0.07357572764158249, 0.09600961208343506, 0.10018627345561981, 0.05461081117391586, 0.09296862781047821, 0.09498715400695801, 0.08469490706920624, 0.104190394282341, 0.05572754889726639, 0.059036366641521454, 0.03257171809673309], [0.10425540059804916, 0.09354662895202637, 0.07262012362480164, 0.08221004158258438, 0.10769056528806686, 0.10246105492115021, 0.08829530328512192, 0.0759272575378418, 0.10256996005773544, 0.08176257461309433, 0.0883236676454544, 0.08121886849403381, 0.07804915308952332, 0.04991285502910614, 0.11875896155834198, 0.08542098104953766, 0.09305477142333984, 0.0707281306385994, 0.0536445789039135, 0.08038531988859177, 0.12162978947162628, 0.10304239392280579, 0.09071110188961029, 0.07198873162269592, 0.1059306263923645, 0.07879068702459335, 0.1146160215139389, 0.07686430215835571]], [[0.24710242450237274, 0.2410527467727661, 0.2486322820186615, 0.25166890025138855, 0.267192542552948, 0.2697054445743561, 0.21917662024497986, 0.23605948686599731, 0.2249567210674286, 0.26806971430778503, 0.24172012507915497, 0.2380247712135315, 0.21321110427379608, 0.2744707465171814, 0.29140251874923706, 0.24781130254268646, 0.27103206515312195, 0.23128454387187958, 0.22369730472564697, 0.22239506244659424, 0.2456894814968109, 0.1975642889738083, 0.23804323375225067, 0.2535687983036041, 0.25675439834594727, 0.21647891402244568, 0.24882113933563232, 0.25957369804382324], [0.23316848278045654, 0.28832414746284485, 0.21290378272533417, 0.26208263635635376, 0.2146894931793213, 0.2613067626953125, 0.2470373809337616, 0.23239517211914062, 0.24250011146068573, 0.2507058382034302, 0.25427937507629395, 0.24187827110290527, 0.22756707668304443, 0.2766340374946594, 0.24041208624839783, 0.28673672676086426, 0.21923016011714935, 0.23042163252830505, 0.22906355559825897, 0.2117832899093628, 0.2592709958553314, 0.23230674862861633, 0.2486814260482788, 0.27289456129074097, 0.25945037603378296, 0.21795260906219482, 0.2598351240158081, 0.27926909923553467], [0.18299055099487305, 0.1471080183982849, 0.14150671660900116, 0.1824660301208496, 0.19343554973602295, 0.17424067854881287, 0.16468845307826996, 0.19550016522407532, 0.20333103835582733, 0.16043241322040558, 0.20017586648464203, 0.16782979667186737, 0.17354629933834076, 0.17321138083934784, 0.15130865573883057, 0.17697623372077942, 0.13794022798538208, 0.19350461661815643, 0.17171382904052734, 0.16559557616710663, 0.13744279742240906, 0.15229573845863342, 0.14839264750480652, 0.17458131909370422, 0.17898444831371307, 0.18699371814727783, 0.1695646494626999, 0.15092581510543823], [0.1813560128211975, 0.1699962466955185, 0.19422851502895355, 0.19319847226142883, 0.17425012588500977, 0.21212342381477356, 0.1852819174528122, 0.19231733679771423, 0.2296922653913498, 0.18260757625102997, 0.1986549198627472, 0.18171045184135437, 0.21572664380073547, 0.173512801527977, 0.18777064979076385, 0.23095431923866272, 0.17726288735866547, 0.18250644207000732, 0.19761008024215698, 0.16716402769088745, 0.14524227380752563, 0.22942237555980682, 0.17742475867271423, 0.18925583362579346, 0.21554569900035858, 0.19692842662334442, 0.19151592254638672, 0.17200016975402832], [0.10637815296649933, 0.13522960245609283, 0.11038456857204437, 0.12513689696788788, 0.14125695824623108, 0.12909114360809326, 0.10140106081962585, 0.17327283322811127, 0.11368479579687119, 0.1825922429561615, 0.1694496124982834, 0.1402859389781952, 0.10630704462528229, 0.12061792612075806, 0.11229594796895981, 0.16647851467132568, 0.14630559086799622, 0.12214695662260056, 0.10047408193349838, 0.11987252533435822, 0.13398459553718567, 0.1275651752948761, 0.10460218042135239, 0.09280510991811752, 0.11530908942222595, 0.14441244304180145, 0.15783974528312683, 0.09047701209783554], [0.12601979076862335, 0.060035865753889084, 0.10048415511846542, 0.10786287486553192, 0.13173314929008484, 0.08472935855388641, 0.06636732816696167, 0.09010770171880722, 0.09880441427230835, 0.08967679738998413, 0.09744441509246826, 0.11878150701522827, 0.10361675918102264, 0.12128808349370956, 0.10592576116323471, 0.12126942723989487, 0.10872787237167358, 0.08515258878469467, 0.08894800394773483, 0.08765552937984467, 0.0689300149679184, 0.08959782123565674, 0.08201419562101364, 0.07017942517995834, 0.08230235427618027, 0.09207022190093994, 0.1132168173789978, 0.08993261307477951]], [[0.23304443061351776, 0.2693566679954529, 0.294942706823349, 0.3224358558654785, 0.23420095443725586, 0.24060913920402527, 0.2547938823699951, 0.2862813174724579, 0.2534632086753845, 0.27476149797439575, 0.28313955664634705, 0.3217816650867462, 0.2280675172805786, 0.27217113971710205, 0.2232888638973236, 0.28999266028404236, 0.2600475251674652, 0.2499222457408905, 0.2592257261276245, 0.22887274622917175, 0.24345648288726807, 0.294345498085022, 0.2620183229446411, 0.2518469989299774, 0.2234346866607666, 0.2790529131889343, 0.28803130984306335, 0.2482711672782898], [0.2100202441215515, 0.16713345050811768, 0.1575254648923874, 0.17212402820587158, 0.13780280947685242, 0.20318388938903809, 0.15996894240379333, 0.1955508589744568, 0.16345131397247314, 0.18180465698242188, 0.1931305229663849, 0.2187355011701584, 0.1955791562795639, 0.1617199331521988, 0.1687890589237213, 0.16551955044269562, 0.17005357146263123, 0.18625739216804504, 0.1681734323501587, 0.18455784022808075, 0.1787005513906479, 0.24373415112495422, 0.15730756521224976, 0.20127233862876892, 0.17995040118694305, 0.17039267718791962, 0.18615511059761047, 0.16800706088542938], [0.20513074100017548, 0.16286920011043549, 0.20517849922180176, 0.18218021094799042, 0.1881118267774582, 0.18794509768486023, 0.20266763865947723, 0.24051055312156677, 0.18700502812862396, 0.19798919558525085, 0.18166840076446533, 0.19327956438064575, 0.19559983909130096, 0.20468994975090027, 0.19353751838207245, 0.17913536727428436, 0.1950802505016327, 0.17929935455322266, 0.19349436461925507, 0.20671086013317108, 0.22070173919200897, 0.20374050736427307, 0.19533143937587738, 0.21157221496105194, 0.2189987599849701, 0.23729121685028076, 0.22129198908805847, 0.169668048620224], [0.19650989770889282, 0.13159678876399994, 0.17384570837020874, 0.1359345018863678, 0.1466900259256363, 0.1703297197818756, 0.18222999572753906, 0.16352543234825134, 0.18658994138240814, 0.15805964171886444, 0.15742945671081543, 0.18130645155906677, 0.17351126670837402, 0.18613684177398682, 0.18013368546962738, 0.15912635624408722, 0.15602633357048035, 0.1775384396314621, 0.19267141819000244, 0.15173137187957764, 0.16696909070014954, 0.1841857135295868, 0.1844477653503418, 0.16782841086387634, 0.15172770619392395, 0.16767212748527527, 0.1688777655363083, 0.1674378514289856], [0.22168144583702087, 0.1644708812236786, 0.199128195643425, 0.18925003707408905, 0.16114765405654907, 0.2249310463666916, 0.18962445855140686, 0.17663684487342834, 0.20565474033355713, 0.17820154130458832, 0.18917688727378845, 0.18174290657043457, 0.20214208960533142, 0.16887812316417694, 0.19355878233909607, 0.18716499209403992, 0.2069227695465088, 0.20436088740825653, 0.19553188979625702, 0.16656255722045898, 0.18096566200256348, 0.1926403045654297, 0.20822738111019135, 0.15768717229366302, 0.20503747463226318, 0.21214747428894043, 0.21461628377437592, 0.1628786325454712], [0.18758773803710938, 0.174447700381279, 0.1897793859243393, 0.18537557125091553, 0.20843061804771423, 0.1693934202194214, 0.17126981914043427, 0.17833492159843445, 0.1717635989189148, 0.1884196400642395, 0.2032429575920105, 0.1732546091079712, 0.19279932975769043, 0.16485300660133362, 0.21545062959194183, 0.15800580382347107, 0.18276745080947876, 0.15853078663349152, 0.16389261186122894, 0.1720975637435913, 0.1514471471309662, 0.15300212800502777, 0.20030036568641663, 0.16886954009532928, 0.17078709602355957, 0.20287178456783295, 0.16243082284927368, 0.16179683804512024]], [[0.2707258462905884, 0.28235259652137756, 0.2600100636482239, 0.21817541122436523, 0.2941039204597473, 0.2508366107940674, 0.2850967347621918, 0.22571955621242523, 0.2863287925720215, 0.22912603616714478, 0.28876274824142456, 0.2475965917110443, 0.24314773082733154, 0.24156515300273895, 0.24974378943443298, 0.2674218416213989, 0.2711591422557831, 0.23930111527442932, 0.24098116159439087, 0.2629702091217041, 0.26506757736206055, 0.23714014887809753, 0.24396702647209167, 0.2603176534175873, 0.24601998925209045, 0.23653560876846313, 0.25675809383392334, 0.2711946964263916], [0.12877508997917175, 0.16536982357501984, 0.09224258363246918, 0.09566688537597656, 0.10036814212799072, 0.07022743672132492, 0.16450107097625732, 0.10266000032424927, 0.13566075265407562, 0.1054002046585083, 0.12950126826763153, 0.09191864728927612, 0.12378910183906555, 0.108517125248909, 0.09542298316955566, 0.06500813364982605, 0.13320018351078033, 0.1363811045885086, 0.08224141597747803, 0.11770030856132507, 0.16099965572357178, 0.11692345142364502, 0.10380242764949799, 0.08535443246364594, 0.11587705463171005, 0.11131471395492554, 0.167934387922287, 0.13510799407958984], [0.1610850691795349, 0.14244216680526733, 0.12938660383224487, 0.1565437614917755, 0.1365998536348343, 0.14799025654792786, 0.1132575124502182, 0.1587575227022171, 0.13546068966388702, 0.1388644427061081, 0.1436251699924469, 0.15622775256633759, 0.15719181299209595, 0.11937069892883301, 0.13258521258831024, 0.1563364863395691, 0.11093571037054062, 0.17142966389656067, 0.12038767337799072, 0.137906014919281, 0.15403318405151367, 0.19032880663871765, 0.1662178635597229, 0.14113828539848328, 0.1527562439441681, 0.133858323097229, 0.15828478336334229, 0.14963912963867188], [0.09089703857898712, 0.1276012510061264, 0.1646876335144043, 0.11124974489212036, 0.13623154163360596, 0.07824762910604477, 0.10282143950462341, 0.15125055611133575, 0.11350061744451523, 0.13902920484542847, 0.13204193115234375, 0.1033792719244957, 0.10712029784917831, 0.0915956050157547, 0.10297437012195587, 0.10182534903287888, 0.10794460773468018, 0.13961106538772583, 0.09058986604213715, 0.10652603954076767, 0.1276341676712036, 0.11406081914901733, 0.09742127358913422, 0.10370495915412903, 0.11984303593635559, 0.1366448998451233, 0.15532100200653076, 0.095417320728302], [0.08347433805465698, 0.05170001834630966, 0.0511234849691391, 0.1002211794257164, 0.09978827089071274, 0.05408237501978874, 0.0708872526884079, 0.08166421949863434, 0.04537815973162651, 0.08197737485170364, 0.0494861900806427, 0.06837361305952072, 0.07652584463357925, 0.10882916301488876, 0.04878580570220947, 0.08849018812179565, 0.061896272003650665, 0.10469955205917358, 0.1634056568145752, 0.06530804932117462, 0.06705021113157272, 0.11166135966777802, 0.13259604573249817, 0.07329870760440826, 0.08394639194011688, 0.044551264494657516, 0.07972273975610733, 0.07104691863059998], [0.07565280050039291, 0.10232239961624146, 0.12219876050949097, 0.12352575361728668, 0.09742705523967743, 0.09838783740997314, 0.09054064750671387, 0.1300162822008133, 0.12776651978492737, 0.11127962917089462, 0.11453816294670105, 0.1019858568906784, 0.1213965117931366, 0.10981523245573044, 0.11120786517858505, 0.10525055229663849, 0.07276811450719833, 0.07491342723369598, 0.11352609097957611, 0.11367117613554001, 0.11876188963651657, 0.08633866161108017, 0.10920603573322296, 0.11241047084331512, 0.11983518302440643, 0.10740705579519272, 0.0775497630238533, 0.06506793946027756]], [[0.20783841609954834, 0.20574137568473816, 0.2932957112789154, 0.20315390825271606, 0.2744552493095398, 0.23121893405914307, 0.23657117784023285, 0.24136435985565186, 0.23884408175945282, 0.2841792404651642, 0.24756984412670135, 0.2461824119091034, 0.24043147265911102, 0.20030340552330017, 0.15885648131370544, 0.24898473918437958, 0.2226564586162567, 0.17273679375648499, 0.259473592042923, 0.2032138556241989, 0.23241117596626282, 0.2539554238319397, 0.20826923847198486, 0.2583446502685547, 0.17359957098960876, 0.2429089993238449, 0.2654915750026703, 0.28115302324295044], [0.1779194325208664, 0.19181153178215027, 0.1872362494468689, 0.14818903803825378, 0.18280170857906342, 0.16508033871650696, 0.23296105861663818, 0.15609388053417206, 0.14423565566539764, 0.15642049908638, 0.16092780232429504, 0.17765700817108154, 0.1533387005329132, 0.1903822273015976, 0.14805077016353607, 0.19727961719036102, 0.14951446652412415, 0.17736868560314178, 0.16974279284477234, 0.13386458158493042, 0.18508264422416687, 0.1794777810573578, 0.14178049564361572, 0.16922855377197266, 0.213065505027771, 0.16341324150562286, 0.1643706113100052, 0.18200695514678955], [0.16726553440093994, 0.17261908948421478, 0.19085966050624847, 0.19059881567955017, 0.1502366065979004, 0.20969951152801514, 0.16511677205562592, 0.18863599002361298, 0.1811143159866333, 0.169175922870636, 0.1895461082458496, 0.16805104911327362, 0.1866571605205536, 0.2381262481212616, 0.15290842950344086, 0.2111680507659912, 0.19425813853740692, 0.17901986837387085, 0.20349574089050293, 0.16837160289287567, 0.20956191420555115, 0.18611332774162292, 0.19569961726665497, 0.21085773408412933, 0.22987328469753265, 0.20022547245025635, 0.21236160397529602, 0.18721191585063934], [0.15392184257507324, 0.15983620285987854, 0.1350608915090561, 0.15086373686790466, 0.14911985397338867, 0.16419397294521332, 0.14709779620170593, 0.1377381682395935, 0.13983505964279175, 0.16381384432315826, 0.13286569714546204, 0.11888699233531952, 0.1600036323070526, 0.15005463361740112, 0.1391535997390747, 0.08261047303676605, 0.17015008628368378, 0.11992855370044708, 0.19142572581768036, 0.1828802525997162, 0.11137676239013672, 0.1547289341688156, 0.12897813320159912, 0.1376567780971527, 0.13599775731563568, 0.16238455474376678, 0.16198882460594177, 0.09122979640960693], [0.15311379730701447, 0.1908397376537323, 0.19395723938941956, 0.2307886779308319, 0.12199556082487106, 0.20414718985557556, 0.15887564420700073, 0.20269297063350677, 0.154328852891922, 0.18322956562042236, 0.17235027253627777, 0.18630123138427734, 0.16885781288146973, 0.16037464141845703, 0.16756412386894226, 0.18138806521892548, 0.1627713292837143, 0.1542292684316635, 0.16389138996601105, 0.23231977224349976, 0.18154561519622803, 0.17369596660137177, 0.21680055558681488, 0.1420557200908661, 0.18334262073040009, 0.1815466582775116, 0.15336763858795166, 0.19417023658752441], [0.13738887012004852, 0.16419020295143127, 0.1650179773569107, 0.16548393666744232, 0.20002546906471252, 0.12588189542293549, 0.13207170367240906, 0.13016268610954285, 0.12699095904827118, 0.11864306777715683, 0.15275132656097412, 0.10870729386806488, 0.16344194114208221, 0.19999802112579346, 0.1742437779903412, 0.18228766322135925, 0.18734344840049744, 0.12443208694458008, 0.14966025948524475, 0.14156726002693176, 0.12843972444534302, 0.1621420532464981, 0.1741841733455658, 0.13034743070602417, 0.14066985249519348, 0.13177183270454407, 0.14986076951026917, 0.12659487128257751]], [[0.21155273914337158, 0.20778003334999084, 0.20417296886444092, 0.1838216483592987, 0.21275541186332703, 0.22456292808055878, 0.18734852969646454, 0.2030222862958908, 0.19406235218048096, 0.21776877343654633, 0.21277448534965515, 0.1936129778623581, 0.16022810339927673, 0.18181028962135315, 0.23500780761241913, 0.1891300082206726, 0.1894964873790741, 0.20026175677776337, 0.21948044002056122, 0.21722781658172607, 0.1968487799167633, 0.20429885387420654, 0.19058619439601898, 0.21760180592536926, 0.20053736865520477, 0.15649400651454926, 0.21283535659313202, 0.21294379234313965], [0.17463460564613342, 0.16468383371829987, 0.13567030429840088, 0.15483532845973969, 0.16211503744125366, 0.17157676815986633, 0.1448366641998291, 0.15289220213890076, 0.19499509036540985, 0.1571587324142456, 0.17287664115428925, 0.14595472812652588, 0.1597825288772583, 0.1832992285490036, 0.16078951954841614, 0.14026468992233276, 0.20455998182296753, 0.13980410993099213, 0.19074401259422302, 0.15853457152843475, 0.18390846252441406, 0.178414985537529, 0.1909838765859604, 0.1420523226261139, 0.15049436688423157, 0.16024768352508545, 0.16037438809871674, 0.18063175678253174], [0.1280541867017746, 0.16438119113445282, 0.16299700736999512, 0.1591232717037201, 0.15492679178714752, 0.12487712502479553, 0.17894718050956726, 0.17323607206344604, 0.19634196162223816, 0.13728034496307373, 0.14681598544120789, 0.18763667345046997, 0.19437873363494873, 0.1342071294784546, 0.18630580604076385, 0.1530543863773346, 0.12564989924430847, 0.14554990828037262, 0.14418822526931763, 0.1883254051208496, 0.15138030052185059, 0.17685413360595703, 0.17941443622112274, 0.14370934665203094, 0.14406701922416687, 0.1525423675775528, 0.152604877948761, 0.19747936725616455], [0.10921540856361389, 0.11429872363805771, 0.1274232268333435, 0.09611676633358002, 0.13767163455486298, 0.16095279157161713, 0.11604775488376617, 0.10860611498355865, 0.11580602824687958, 0.1123499870300293, 0.11471593379974365, 0.12559394538402557, 0.11054109036922455, 0.13539308309555054, 0.1354476511478424, 0.13817894458770752, 0.1599884331226349, 0.13707783818244934, 0.10197683423757553, 0.14611667394638062, 0.08766975998878479, 0.12985089421272278, 0.1332239955663681, 0.1401844471693039, 0.11763127893209457, 0.1009887307882309, 0.1368042677640915, 0.10587334632873535], [0.13534331321716309, 0.12105604261159897, 0.15117257833480835, 0.14262746274471283, 0.16052769124507904, 0.11800392717123032, 0.1360207498073578, 0.1188233345746994, 0.13351546227931976, 0.1363750547170639, 0.15135569870471954, 0.1310727894306183, 0.13854891061782837, 0.14839968085289001, 0.13171115517616272, 0.12240864336490631, 0.10411463677883148, 0.15228891372680664, 0.10168874263763428, 0.12265461683273315, 0.12931504845619202, 0.11219656467437744, 0.13533936440944672, 0.11207763850688934, 0.11901450157165527, 0.1270681917667389, 0.1474970281124115, 0.12104254961013794], [0.12440955638885498, 0.11997275054454803, 0.11419528722763062, 0.13164614140987396, 0.1482410728931427, 0.10613016784191132, 0.1401917189359665, 0.09939339011907578, 0.1343737244606018, 0.15804117918014526, 0.12316080182790756, 0.11524058878421783, 0.15200388431549072, 0.10889925062656403, 0.12086451053619385, 0.161848247051239, 0.14406320452690125, 0.12656810879707336, 0.15238583087921143, 0.12502239644527435, 0.11888256669044495, 0.11560066789388657, 0.11976863443851471, 0.1216861754655838, 0.11117586493492126, 0.10603858530521393, 0.13481417298316956, 0.12550508975982666]], [[0.17183443903923035, 0.21400360763072968, 0.18352913856506348, 0.20562386512756348, 0.17794303596019745, 0.1899903118610382, 0.1917695254087448, 0.1879928559064865, 0.2072443813085556, 0.19509124755859375, 0.17412549257278442, 0.16753306984901428, 0.18884634971618652, 0.17040026187896729, 0.2043239325284958, 0.20005103945732117, 0.18502461910247803, 0.1978614330291748, 0.2089318037033081, 0.1696089506149292, 0.19687873125076294, 0.17697104811668396, 0.16588139533996582, 0.19146806001663208, 0.19505469501018524, 0.2031656950712204, 0.21491700410842896, 0.19130337238311768], [0.217782661318779, 0.21916505694389343, 0.20543478429317474, 0.22273123264312744, 0.23820197582244873, 0.18963083624839783, 0.19860777258872986, 0.20896586775779724, 0.19320520758628845, 0.22784051299095154, 0.2032746970653534, 0.19148799777030945, 0.21441404521465302, 0.22393164038658142, 0.22338704764842987, 0.21910390257835388, 0.2137632966041565, 0.20569252967834473, 0.22754153609275818, 0.19488391280174255, 0.19695580005645752, 0.20067690312862396, 0.21541249752044678, 0.20169028639793396, 0.18984436988830566, 0.2257011979818344, 0.22535942494869232, 0.23175263404846191], [0.13980141282081604, 0.1453915387392044, 0.10460425913333893, 0.1279905140399933, 0.11897361278533936, 0.13331034779548645, 0.12227928638458252, 0.13268347084522247, 0.13503162562847137, 0.13188974559307098, 0.11720404028892517, 0.13773517310619354, 0.17530326545238495, 0.12398815155029297, 0.14813706278800964, 0.12961509823799133, 0.13272826373577118, 0.14877450466156006, 0.11875376105308533, 0.1492336243391037, 0.14051172137260437, 0.12601448595523834, 0.1610986739397049, 0.13641630113124847, 0.15034767985343933, 0.12322159856557846, 0.11466085910797119, 0.12934550642967224], [0.12600970268249512, 0.08842736482620239, 0.08403372764587402, 0.07866712659597397, 0.1144394725561142, 0.11989545077085495, 0.08947233855724335, 0.09915260970592499, 0.11632802337408066, 0.091963991522789, 0.07691557705402374, 0.077155701816082, 0.09190582484006882, 0.10738329589366913, 0.09315382689237595, 0.09694018959999084, 0.11084572970867157, 0.09207820892333984, 0.11143745481967926, 0.08289016783237457, 0.0787370502948761, 0.0976763591170311, 0.1022554337978363, 0.0904039591550827, 0.09255163371562958, 0.10743831098079681, 0.0789671391248703, 0.08331821113824844], [0.10853946208953857, 0.13563071191310883, 0.11014264822006226, 0.09223296493291855, 0.12924298644065857, 0.09216093271970749, 0.0817202478647232, 0.09108467400074005, 0.09762334078550339, 0.07614133507013321, 0.09672959893941879, 0.08688458055257797, 0.14315864443778992, 0.0857696682214737, 0.12092141807079315, 0.13071049749851227, 0.1007152646780014, 0.09311679005622864, 0.09480571001768112, 0.10498329252004623, 0.0988309234380722, 0.08771835267543793, 0.11610691249370575, 0.08154664933681488, 0.11643138527870178, 0.10386630892753601, 0.11738445609807968, 0.10740679502487183], [0.07873845100402832, 0.06646470725536346, 0.06688760221004486, 0.05237819254398346, 0.0650450736284256, 0.059222590178251266, 0.06936174631118774, 0.059385549277067184, 0.0857902392745018, 0.07812600582838058, 0.060959409922361374, 0.05664725601673126, 0.05253177136182785, 0.05906239151954651, 0.06216859444975853, 0.09238892048597336, 0.10528682172298431, 0.09553465247154236, 0.10309287160634995, 0.08130224794149399, 0.04986948519945145, 0.06356285512447357, 0.08029361069202423, 0.06385278701782227, 0.08243028819561005, 0.08174209296703339, 0.06875813752412796, 0.07935605943202972]], [[0.32873085141181946, 0.34778809547424316, 0.3643384873867035, 0.380370557308197, 0.34562307596206665, 0.3113817572593689, 0.3114446997642517, 0.3305879235267639, 0.35763201117515564, 0.3291587829589844, 0.34959420561790466, 0.32151269912719727, 0.3335716128349304, 0.3511882722377777, 0.36516568064689636, 0.3253557085990906, 0.3841513991355896, 0.3290102481842041, 0.35634052753448486, 0.3413867652416229, 0.37132203578948975, 0.2953525483608246, 0.32269221544265747, 0.36000001430511475, 0.32385626435279846, 0.33968544006347656, 0.3504633903503418, 0.3021581768989563], [0.23569545149803162, 0.23935693502426147, 0.2640763521194458, 0.24475263059139252, 0.23648199439048767, 0.2523380219936371, 0.2586682140827179, 0.25325101613998413, 0.28545939922332764, 0.267073392868042, 0.2474769949913025, 0.25811174511909485, 0.25475001335144043, 0.21935848891735077, 0.25898173451423645, 0.21405041217803955, 0.24763306975364685, 0.2831735610961914, 0.2627292275428772, 0.2717474102973938, 0.24914667010307312, 0.25001341104507446, 0.23438355326652527, 0.2603057026863098, 0.22600838541984558, 0.2433038353919983, 0.24105271697044373, 0.2449912428855896], [0.18377242982387543, 0.15597054362297058, 0.21828490495681763, 0.18380534648895264, 0.2019393891096115, 0.2250019758939743, 0.24627351760864258, 0.20411202311515808, 0.19114699959754944, 0.19450747966766357, 0.22736363112926483, 0.19041329622268677, 0.1861206740140915, 0.20981335639953613, 0.15243153274059296, 0.17685702443122864, 0.1623024344444275, 0.2060568630695343, 0.16798929870128632, 0.2063048779964447, 0.22393184900283813, 0.21904918551445007, 0.16798776388168335, 0.16905272006988525, 0.150483176112175, 0.2142990082502365, 0.16301685571670532, 0.2427951991558075], [0.20814061164855957, 0.1346045583486557, 0.17673739790916443, 0.1813325136899948, 0.15453806519508362, 0.19465243816375732, 0.15158113837242126, 0.17777547240257263, 0.18924008309841156, 0.1824052780866623, 0.11287631839513779, 0.19058947265148163, 0.15565508604049683, 0.18521921336650848, 0.17870712280273438, 0.20403723418712616, 0.20157501101493835, 0.15178029239177704, 0.2310160994529724, 0.1880567967891693, 0.1442851722240448, 0.1520521342754364, 0.16057994961738586, 0.1706247329711914, 0.18224895000457764, 0.1762189120054245, 0.15492214262485504, 0.16531714797019958], [0.15500009059906006, 0.1620267629623413, 0.1740371584892273, 0.17309904098510742, 0.20385661721229553, 0.2344091385602951, 0.16515684127807617, 0.18509447574615479, 0.1922418177127838, 0.19581548869609833, 0.1688554733991623, 0.16042084991931915, 0.1503298282623291, 0.19375377893447876, 0.20828275382518768, 0.27427682280540466, 0.16064028441905975, 0.1829613298177719, 0.16963428258895874, 0.20165322721004486, 0.2210739552974701, 0.19813355803489685, 0.22037307918071747, 0.16546876728534698, 0.16901980340480804, 0.17356710135936737, 0.23492968082427979, 0.1469411849975586], [0.14517369866371155, 0.17110666632652283, 0.14512309432029724, 0.1318320482969284, 0.17866802215576172, 0.16224150359630585, 0.1731998175382614, 0.15085551142692566, 0.2024139165878296, 0.17309629917144775, 0.17874786257743835, 0.15048331022262573, 0.15556663274765015, 0.15040749311447144, 0.15040186047554016, 0.180160254240036, 0.1709142029285431, 0.20028191804885864, 0.1483471393585205, 0.15036070346832275, 0.13217657804489136, 0.1083993911743164, 0.14086920022964478, 0.16196566820144653, 0.14922478795051575, 0.1386745572090149, 0.1700148582458496, 0.15531621873378754]], [[0.3274420201778412, 0.23069196939468384, 0.3171156644821167, 0.3094330132007599, 0.289584219455719, 0.31915271282196045, 0.2978954017162323, 0.27837851643562317, 0.28063756227493286, 0.30463936924934387, 0.33389100432395935, 0.32501354813575745, 0.26864859461784363, 0.2555425763130188, 0.2990627586841583, 0.2915271818637848, 0.27199456095695496, 0.26234540343284607, 0.26985883712768555, 0.2715175747871399, 0.2701767683029175, 0.3005734086036682, 0.26275578141212463, 0.25219735503196716, 0.26248446106910706, 0.2974894642829895, 0.26785799860954285, 0.25760418176651], [0.22085116803646088, 0.22598986327648163, 0.2553991675376892, 0.23709551990032196, 0.23008644580841064, 0.25870436429977417, 0.2558261752128601, 0.1980089396238327, 0.22516459226608276, 0.26086199283599854, 0.2731649577617645, 0.2189285010099411, 0.2711157500743866, 0.23078703880310059, 0.2575780153274536, 0.24949178099632263, 0.28088879585266113, 0.20978181064128876, 0.22893768548965454, 0.23543469607830048, 0.22879527509212494, 0.214495450258255, 0.24673759937286377, 0.22824780642986298, 0.19145850837230682, 0.21790188550949097, 0.2222958505153656, 0.2633456587791443], [0.22881203889846802, 0.1906585693359375, 0.24483667314052582, 0.2398149073123932, 0.2374545782804489, 0.2580263316631317, 0.2301344871520996, 0.22507613897323608, 0.20160667598247528, 0.2808650732040405, 0.2178657501935959, 0.25966542959213257, 0.23512643575668335, 0.2314969301223755, 0.2634972035884857, 0.22294199466705322, 0.2712143361568451, 0.22880272567272186, 0.23678109049797058, 0.2800343930721283, 0.24123165011405945, 0.22071537375450134, 0.20355622470378876, 0.19759635627269745, 0.19863516092300415, 0.2549118101596832, 0.21923093497753143, 0.23703134059906006], [0.17266063392162323, 0.15105363726615906, 0.17375001311302185, 0.18953919410705566, 0.17450688779354095, 0.16089129447937012, 0.18667981028556824, 0.19505104422569275, 0.13737347722053528, 0.19416892528533936, 0.16319313645362854, 0.16145330667495728, 0.12825624644756317, 0.158724844455719, 0.1732541173696518, 0.16141657531261444, 0.19092540442943573, 0.15807963907718658, 0.16866517066955566, 0.19028322398662567, 0.17714336514472961, 0.1489715427160263, 0.2163739651441574, 0.14678926765918732, 0.15190015733242035, 0.1572926938533783, 0.17101828753948212, 0.16970257461071014], [0.20521807670593262, 0.1936812847852707, 0.16478347778320312, 0.17978370189666748, 0.2504439353942871, 0.18677924573421478, 0.22450599074363708, 0.2073209285736084, 0.18652436137199402, 0.1886543482542038, 0.2555568814277649, 0.20274877548217773, 0.17286616563796997, 0.17661571502685547, 0.18589255213737488, 0.18660007417201996, 0.21548432111740112, 0.22308656573295593, 0.24760179221630096, 0.1708909273147583, 0.16074435412883759, 0.21746408939361572, 0.182958722114563, 0.17360317707061768, 0.2069861888885498, 0.2156054973602295, 0.24171069264411926, 0.2203577607870102], [0.23869109153747559, 0.15028202533721924, 0.20483288168907166, 0.13918697834014893, 0.1729975938796997, 0.17420624196529388, 0.16959206759929657, 0.1924939751625061, 0.18808232247829437, 0.15119528770446777, 0.19024518132209778, 0.1808249056339264, 0.15244516730308533, 0.19504234194755554, 0.1854451596736908, 0.1501152217388153, 0.14970402419567108, 0.19956225156784058, 0.15514805912971497, 0.16074423491954803, 0.13915102183818817, 0.17020484805107117, 0.1535245031118393, 0.1507347822189331, 0.13978537917137146, 0.17617982625961304, 0.14965102076530457, 0.20901551842689514]], [[0.22206729650497437, 0.28275561332702637, 0.24168026447296143, 0.2546752393245697, 0.2666785418987274, 0.23636272549629211, 0.26727592945098877, 0.28516465425491333, 0.30240437388420105, 0.24145005643367767, 0.28205108642578125, 0.29470252990722656, 0.2829546630382538, 0.2857944965362549, 0.2681846618652344, 0.22040462493896484, 0.2574915885925293, 0.28590473532676697, 0.23817507922649384, 0.2895697355270386, 0.3289799392223358, 0.26659977436065674, 0.2463916540145874, 0.30414295196533203, 0.23065465688705444, 0.2640972137451172, 0.28764480352401733, 0.2829378545284271], [0.15222486853599548, 0.0761653482913971, 0.15158693492412567, 0.17532210052013397, 0.1536046862602234, 0.14933834969997406, 0.15664106607437134, 0.10003162920475006, 0.1361721307039261, 0.1266690492630005, 0.06833332031965256, 0.155149906873703, 0.12551629543304443, 0.09523522108793259, 0.07972889393568039, 0.14734618365764618, 0.11321106553077698, 0.1420861780643463, 0.13682237267494202, 0.09508216381072998, 0.10891146957874298, 0.15976586937904358, 0.13690757751464844, 0.1035727709531784, 0.13147209584712982, 0.15142379701137543, 0.13305100798606873, 0.16167184710502625], [0.14521607756614685, 0.13949310779571533, 0.16121144592761993, 0.1503177285194397, 0.203799769282341, 0.17206808924674988, 0.16963917016983032, 0.15142139792442322, 0.15810823440551758, 0.14720726013183594, 0.2002945840358734, 0.18265919387340546, 0.18077272176742554, 0.17464010417461395, 0.1753118336200714, 0.15920089185237885, 0.16427966952323914, 0.14201313257217407, 0.17726513743400574, 0.18940941989421844, 0.18965062499046326, 0.19902926683425903, 0.18081092834472656, 0.20355641841888428, 0.1974964588880539, 0.14995816349983215, 0.18473026156425476, 0.1567308008670807], [0.0920344814658165, 0.1244795173406601, 0.08848436921834946, 0.07767647504806519, 0.11070241779088974, 0.09361569583415985, 0.09275805950164795, 0.11462762951850891, 0.10282118618488312, 0.165957972407341, 0.10973125696182251, 0.11453936994075775, 0.13995784521102905, 0.08992855995893478, 0.09981343150138855, 0.11669605225324631, 0.11048895120620728, 0.1129811555147171, 0.1034262627363205, 0.12911926209926605, 0.09331822395324707, 0.1179991215467453, 0.11147534102201462, 0.1175181195139885, 0.10708962380886078, 0.11949919164180756, 0.1049298495054245, 0.11353659629821777], [0.06122809648513794, 0.055037423968315125, 0.10489334166049957, 0.033049244433641434, 0.05854649469256401, 0.09259656071662903, 0.04931036755442619, 0.07276179641485214, 0.09704934060573578, 0.08524900674819946, 0.06885268539190292, 0.10756339132785797, 0.0659809410572052, 0.08028417080640793, 0.07473014295101166, 0.07647429406642914, 0.0830978974699974, 0.05715665966272354, 0.05789683386683464, 0.04114390164613724, 0.05361203849315643, 0.049982693046331406, 0.10623320937156677, 0.05548439174890518, 0.0880158469080925, 0.06936769187450409, 0.10848092287778854, 0.09407343715429306], [0.09216974675655365, 0.09867121279239655, 0.10902172327041626, 0.08912235498428345, 0.0786254033446312, 0.07707427442073822, 0.10234837234020233, 0.135981023311615, 0.0838581770658493, 0.08837419003248215, 0.07493127882480621, 0.09363393485546112, 0.1272009015083313, 0.11745607852935791, 0.08634728193283081, 0.15564218163490295, 0.09563072770833969, 0.09365539252758026, 0.060380689799785614, 0.09770290553569794, 0.07155079394578934, 0.10127910226583481, 0.09304391592741013, 0.10148011147975922, 0.09423056244850159, 0.09661136567592621, 0.08134164661169052, 0.0838480293750763]], [[0.27583807706832886, 0.3184073269367218, 0.31803104281425476, 0.30473875999450684, 0.3374391198158264, 0.3410716950893402, 0.31357425451278687, 0.331047922372818, 0.3548011779785156, 0.29937005043029785, 0.33820661902427673, 0.2856869697570801, 0.3027719557285309, 0.30335375666618347, 0.28757244348526, 0.32737648487091064, 0.30093955993652344, 0.342542827129364, 0.3964780569076538, 0.2824779450893402, 0.3050372302532196, 0.319394588470459, 0.30738896131515503, 0.31453511118888855, 0.32032912969589233, 0.32678544521331787, 0.33711951971054077, 0.3211477994918823], [0.27303794026374817, 0.25740063190460205, 0.2647736668586731, 0.2722793519496918, 0.24198994040489197, 0.2655996084213257, 0.2665101885795593, 0.24210476875305176, 0.26247453689575195, 0.2582380175590515, 0.27283427119255066, 0.2608318030834198, 0.2332121729850769, 0.2575818598270416, 0.23796537518501282, 0.2564716041088104, 0.2620348632335663, 0.2703542411327362, 0.25561702251434326, 0.2455555647611618, 0.27287518978118896, 0.26053446531295776, 0.2612318694591522, 0.26202142238616943, 0.26742491126060486, 0.29801294207572937, 0.23870331048965454, 0.2826352119445801], [0.18971161544322968, 0.1789889633655548, 0.20400844514369965, 0.17201101779937744, 0.18468135595321655, 0.177340567111969, 0.20655909180641174, 0.19400203227996826, 0.1760922074317932, 0.1608942151069641, 0.19008800387382507, 0.18619662523269653, 0.2079591006040573, 0.19344326853752136, 0.21338634192943573, 0.17127445340156555, 0.19487819075584412, 0.18417887389659882, 0.18445062637329102, 0.19720840454101562, 0.19367575645446777, 0.1863592565059662, 0.1711968183517456, 0.21510633826255798, 0.17966943979263306, 0.19766990840435028, 0.2025589942932129, 0.20937077701091766], [0.22118473052978516, 0.19836466014385223, 0.20917141437530518, 0.21730826795101166, 0.22279572486877441, 0.25016605854034424, 0.23050495982170105, 0.2243160456418991, 0.21438419818878174, 0.23162023723125458, 0.21933966875076294, 0.19565200805664062, 0.23834142088890076, 0.19846174120903015, 0.20432856678962708, 0.2147393524646759, 0.1901055872440338, 0.22047683596611023, 0.1983083188533783, 0.24012362957000732, 0.21453595161437988, 0.2136503905057907, 0.22279274463653564, 0.20991751551628113, 0.23048830032348633, 0.21292126178741455, 0.1996346414089203, 0.2106541097164154], [0.15227898955345154, 0.19636604189872742, 0.1453707367181778, 0.14357945322990417, 0.15307730436325073, 0.1661316156387329, 0.14847621321678162, 0.18118783831596375, 0.17251810431480408, 0.19044771790504456, 0.14571315050125122, 0.18115371465682983, 0.16479167342185974, 0.1679784655570984, 0.1623711884021759, 0.17135171592235565, 0.1816684454679489, 0.18892109394073486, 0.15103620290756226, 0.17036136984825134, 0.1825663298368454, 0.16026616096496582, 0.17754143476486206, 0.11988254636526108, 0.20707091689109802, 0.1690864861011505, 0.16794566810131073, 0.1857222318649292], [0.12925708293914795, 0.2113523930311203, 0.15795183181762695, 0.14800181984901428, 0.1837528645992279, 0.16518141329288483, 0.15153490006923676, 0.13859175145626068, 0.12505269050598145, 0.1444656103849411, 0.1508699655532837, 0.1848185658454895, 0.1748003214597702, 0.18498656153678894, 0.1346876621246338, 0.17062555253505707, 0.14463624358177185, 0.19590651988983154, 0.18710510432720184, 0.11969481408596039, 0.14719988405704498, 0.209739089012146, 0.19277134537696838, 0.1560182273387909, 0.19759802520275116, 0.1644366979598999, 0.1957697868347168, 0.17936401069164276]], [[0.29137322306632996, 0.30412954092025757, 0.3333681523799896, 0.2916608452796936, 0.32683098316192627, 0.2930462956428528, 0.3775146007537842, 0.2974890470504761, 0.3168109357357025, 0.3437795042991638, 0.32482701539993286, 0.3022204041481018, 0.3043166995048523, 0.2857356667518616, 0.2918565273284912, 0.2962270677089691, 0.30184227228164673, 0.36656877398490906, 0.2956598103046417, 0.3008067011833191, 0.34561437368392944, 0.29965880513191223, 0.28894346952438354, 0.2992241084575653, 0.29710739850997925, 0.33407098054885864, 0.30176371335983276, 0.29770320653915405], [0.1286955177783966, 0.1208861768245697, 0.16493092477321625, 0.13410580158233643, 0.14852245151996613, 0.128265842795372, 0.1272217333316803, 0.15642885863780975, 0.1343890130519867, 0.1270579695701599, 0.13001316785812378, 0.16374820470809937, 0.13168329000473022, 0.12363709509372711, 0.17636606097221375, 0.1278529167175293, 0.14274951815605164, 0.15897205471992493, 0.11027979850769043, 0.11872158944606781, 0.13469389081001282, 0.16651101410388947, 0.14469507336616516, 0.18466806411743164, 0.12477414309978485, 0.1477617621421814, 0.1468803435564041, 0.12724943459033966], [0.2181302160024643, 0.2775842845439911, 0.19227313995361328, 0.21949850022792816, 0.23050889372825623, 0.19641569256782532, 0.22136366367340088, 0.24027562141418457, 0.25790679454803467, 0.2155861258506775, 0.24575750529766083, 0.21499773859977722, 0.21208474040031433, 0.21046170592308044, 0.23793017864227295, 0.29294028878211975, 0.23696844279766083, 0.2024596631526947, 0.23994481563568115, 0.21893231570720673, 0.19392715394496918, 0.20822861790657043, 0.2258181869983673, 0.22502359747886658, 0.20785510540008545, 0.21488772332668304, 0.21113595366477966, 0.18891334533691406], [0.09685720503330231, 0.12049691379070282, 0.16046682000160217, 0.12670224905014038, 0.1677897870540619, 0.12471431493759155, 0.09143158048391342, 0.14365491271018982, 0.09642913192510605, 0.13660460710525513, 0.12298201024532318, 0.14246609807014465, 0.1365995854139328, 0.16768883168697357, 0.10948236286640167, 0.09955279529094696, 0.16705244779586792, 0.12667827308177948, 0.14032746851444244, 0.1378040909767151, 0.08606221526861191, 0.08550871908664703, 0.1381044089794159, 0.14330679178237915, 0.1282471865415573, 0.14647513628005981, 0.14442230761051178, 0.1007867306470871], [0.1599377989768982, 0.11644808948040009, 0.11975282430648804, 0.09989362210035324, 0.10262634605169296, 0.0680515393614769, 0.07995714247226715, 0.09599147737026215, 0.13439235091209412, 0.10553383827209473, 0.0804799348115921, 0.13466419279575348, 0.10770583152770996, 0.09024767577648163, 0.1044485792517662, 0.10245418548583984, 0.12887726724147797, 0.12098487466573715, 0.0901503711938858, 0.11597602814435959, 0.09603192657232285, 0.11628258228302002, 0.15754930675029755, 0.09519865363836288, 0.17088398337364197, 0.11044802516698837, 0.10276123881340027, 0.09720949828624725], [0.16602323949337006, 0.16463959217071533, 0.17466986179351807, 0.10919605195522308, 0.1336580216884613, 0.1167590469121933, 0.09550543129444122, 0.09616506099700928, 0.1315518617630005, 0.12711375951766968, 0.11738839000463486, 0.10244624316692352, 0.09930556267499924, 0.16700652241706848, 0.11209346354007721, 0.09897784888744354, 0.16378888487815857, 0.1020718663930893, 0.17178219556808472, 0.12484291195869446, 0.10568815469741821, 0.16083469986915588, 0.1287115514278412, 0.14036089181900024, 0.1266719251871109, 0.12917070090770721, 0.12364524602890015, 0.1125551164150238]], [[0.2163521945476532, 0.21560952067375183, 0.21489696204662323, 0.18980610370635986, 0.22348952293395996, 0.22387054562568665, 0.1755838692188263, 0.2513830065727234, 0.24180564284324646, 0.21517209708690643, 0.24490371346473694, 0.23150281608104706, 0.18092650175094604, 0.2532004117965698, 0.21880489587783813, 0.20266959071159363, 0.2221653163433075, 0.22308921813964844, 0.18294642865657806, 0.22977659106254578, 0.1862209439277649, 0.17706021666526794, 0.24539944529533386, 0.2437489926815033, 0.18995150923728943, 0.23351995646953583, 0.19888661801815033, 0.22034919261932373], [0.14014452695846558, 0.16371695697307587, 0.12658344209194183, 0.1498967707157135, 0.17592251300811768, 0.18312828242778778, 0.1826269030570984, 0.1513737440109253, 0.1419847011566162, 0.20957601070404053, 0.1417134702205658, 0.13607266545295715, 0.17393521964550018, 0.1453225016593933, 0.17450998723506927, 0.17351675033569336, 0.1290925145149231, 0.12145906686782837, 0.16229385137557983, 0.16057173907756805, 0.15091656148433685, 0.154568612575531, 0.17347656190395355, 0.12421457469463348, 0.15069325268268585, 0.16827283799648285, 0.11599424481391907, 0.1741846799850464], [0.14681054651737213, 0.09680287539958954, 0.13505315780639648, 0.14390090107917786, 0.11505328118801117, 0.10199397802352905, 0.10095574706792831, 0.16188067197799683, 0.11966028809547424, 0.12147395312786102, 0.13245026767253876, 0.1661909520626068, 0.087937131524086, 0.09371331334114075, 0.10953354835510254, 0.12684273719787598, 0.11350873112678528, 0.1605350226163864, 0.10682853311300278, 0.10690575838088989, 0.11065517365932465, 0.11400149762630463, 0.13564622402191162, 0.10103923082351685, 0.18212327361106873, 0.09660033881664276, 0.14371347427368164, 0.1251698136329651], [0.16661149263381958, 0.1256968230009079, 0.1736888885498047, 0.13804766535758972, 0.1729055941104889, 0.12667584419250488, 0.14033940434455872, 0.11824046075344086, 0.13249146938323975, 0.09248143434524536, 0.1775563806295395, 0.15775921940803528, 0.134621262550354, 0.1230948269367218, 0.1669853776693344, 0.08239327371120453, 0.11545062065124512, 0.1894015669822693, 0.11388514935970306, 0.12926940619945526, 0.13653215765953064, 0.10820923745632172, 0.13775703310966492, 0.1472436636686325, 0.12610042095184326, 0.12418022006750107, 0.13275682926177979, 0.15771625936031342], [0.0788300558924675, 0.061758510768413544, 0.06029073894023895, 0.09109342098236084, 0.1450367420911789, 0.08136875927448273, 0.062128812074661255, 0.10283824801445007, 0.038602571934461594, 0.08581961691379547, 0.05384790152311325, 0.059764884412288666, 0.06853276491165161, 0.11178267002105713, 0.04740702360868454, 0.049754928797483444, 0.05045244097709656, 0.07481638342142105, 0.05512256920337677, 0.03633349761366844, 0.05699703097343445, 0.04638371989130974, 0.12494570016860962, 0.045517366379499435, 0.050463609397411346, 0.08876361697912216, 0.042647119611501694, 0.043662041425704956], [0.0900554209947586, 0.1159328743815422, 0.10042046755552292, 0.08021120727062225, 0.0853128433227539, 0.09804236143827438, 0.08586911857128143, 0.07019515335559845, 0.14276748895645142, 0.08904026448726654, 0.07819463312625885, 0.06761516630649567, 0.101896271109581, 0.09366476535797119, 0.09956765174865723, 0.05890931934118271, 0.07568544149398804, 0.08483509719371796, 0.094632089138031, 0.06621766835451126, 0.12211015075445175, 0.11022907495498657, 0.07271447777748108, 0.09622689336538315, 0.06499418616294861, 0.09831476211547852, 0.11321809142827988, 0.10003781318664551]], [[0.37210673093795776, 0.4319080710411072, 0.30611011385917664, 0.27374809980392456, 0.4162362515926361, 0.32708021998405457, 0.29566919803619385, 0.3786059617996216, 0.30649513006210327, 0.3743736743927002, 0.3395502269268036, 0.3316100835800171, 0.3937918543815613, 0.37317129969596863, 0.4219440817832947, 0.41631004214286804, 0.4079502820968628, 0.34794649481773376, 0.36290186643600464, 0.3766103982925415, 0.41872066259384155, 0.3217850625514984, 0.3660995364189148, 0.33292898535728455, 0.32164523005485535, 0.37146806716918945, 0.3323307931423187, 0.37366431951522827], [0.2602674961090088, 0.22763042151927948, 0.20815245807170868, 0.24003563821315765, 0.23456989228725433, 0.25792261958122253, 0.21695958077907562, 0.2246004343032837, 0.2511211633682251, 0.27162885665893555, 0.18091177940368652, 0.24357500672340393, 0.22969643771648407, 0.255817174911499, 0.22052836418151855, 0.32589900493621826, 0.211859330534935, 0.2676970958709717, 0.2464035451412201, 0.27574604749679565, 0.24230532348155975, 0.2718151807785034, 0.2461753487586975, 0.28216037154197693, 0.2246479094028473, 0.25542089343070984, 0.2748207151889801, 0.3026488721370697], [0.16879361867904663, 0.16015437245368958, 0.2052265703678131, 0.1553533375263214, 0.1810172200202942, 0.19619271159172058, 0.1807096004486084, 0.16845135390758514, 0.1346377730369568, 0.12973156571388245, 0.18764612078666687, 0.14434538781642914, 0.16722552478313446, 0.1419818252325058, 0.16696391999721527, 0.15184371173381805, 0.14931140840053558, 0.14275506138801575, 0.13859951496124268, 0.19772574305534363, 0.1423582285642624, 0.12933167815208435, 0.1482718288898468, 0.17686176300048828, 0.19088219106197357, 0.17852279543876648, 0.15299271047115326, 0.1419590264558792], [0.12739408016204834, 0.1267658770084381, 0.15976592898368835, 0.109829843044281, 0.14402681589126587, 0.13716521859169006, 0.19085738062858582, 0.1422041952610016, 0.13633212447166443, 0.13427256047725677, 0.13646948337554932, 0.15883754193782806, 0.12904517352581024, 0.14619919657707214, 0.14670366048812866, 0.12772786617279053, 0.16693668067455292, 0.16544418036937714, 0.13342870771884918, 0.07865900546312332, 0.14572305977344513, 0.1841282844543457, 0.13781368732452393, 0.11628943681716919, 0.1129717230796814, 0.1335928589105606, 0.14500366151332855, 0.14311465620994568], [0.1584305614233017, 0.14240704476833344, 0.12410660833120346, 0.1436873972415924, 0.11527039855718613, 0.13454295694828033, 0.1088855117559433, 0.1442829966545105, 0.13090966641902924, 0.12051466107368469, 0.11864524334669113, 0.12706071138381958, 0.1368187963962555, 0.11434029042720795, 0.10333554446697235, 0.12545818090438843, 0.11845138669013977, 0.10033469647169113, 0.10466466844081879, 0.12302970141172409, 0.12403523176908493, 0.15456274151802063, 0.1838206946849823, 0.169631689786911, 0.14059731364250183, 0.12376701086759567, 0.1724395751953125, 0.1299477070569992], [0.15345679223537445, 0.07795573770999908, 0.17517893016338348, 0.10371512174606323, 0.08973577618598938, 0.09911226481199265, 0.13997335731983185, 0.07435309141874313, 0.07294255495071411, 0.10482107102870941, 0.10894078016281128, 0.05195240303874016, 0.08881935477256775, 0.08084571361541748, 0.14246688783168793, 0.13675931096076965, 0.1295630931854248, 0.07996557652950287, 0.10405486822128296, 0.1717352271080017, 0.13297276198863983, 0.07697872072458267, 0.11219324916601181, 0.08679147809743881, 0.09022744745016098, 0.11896207183599472, 0.13840770721435547, 0.12931860983371735]]], 'model_path': PosixPath('models/base_0.pth')}, 1: {'hyperparameters': {'smooth_config': [{'method': 'moving_average', 'window_size': 2, 'sigma': 1}]}, 'losses': [[[0.27627384662628174, 0.28026288747787476], [0.34621697664260864, 0.302761971950531], [0.21166372299194336, 0.17223352193832397], [0.16385194659233093, 0.18572485446929932], [0.1664312779903412, 0.13422393798828125], [0.1247149109840393, 0.10718713700771332]], [[0.2959555983543396, 0.36010587215423584], [0.3193351626396179, 0.30000096559524536], [0.27277541160583496, 0.2527101933956146], [0.21657732129096985, 0.20787754654884338], [0.20307978987693787, 0.18679217994213104], [0.17645570635795593, 0.13992589712142944]], [[0.1375093311071396, 0.22664502263069153], [0.22998610138893127, 0.16172461211681366], [0.15688392519950867, 0.1672048568725586], [0.17158256471157074, 0.14989496767520905], [0.10681401193141937, 0.13101142644882202], [0.13351337611675262, 0.09730257093906403]], [[0.11841475963592529, 0.44106924533843994], [0.28714099526405334, 0.2752930819988251], [0.21151280403137207, 0.22144977748394012], [0.1573888212442398, 0.15762200951576233], [0.16720589995384216, 0.1344805657863617], [0.11592968553304672, 0.10480833053588867]], [[0.27216431498527527, 0.28355711698532104], [0.3327380418777466, 0.24121174216270447], [0.20624291896820068, 0.24734973907470703], [0.2249881476163864, 0.21140305697917938], [0.16204524040222168, 0.16988110542297363], [0.14390110969543457, 0.1208147257566452]], [[0.30155813694000244, 0.22949743270874023], [0.15888476371765137, 0.1382138431072235], [0.13848976790905, 0.08751749992370605], [0.08952238410711288, 0.07498899102210999], [0.08761531114578247, 0.09539663046598434], [0.0769282802939415, 0.08362346142530441]], [[0.14672763645648956, 0.3877539038658142], [0.25901561975479126, 0.2232571542263031], [0.2101907730102539, 0.18904724717140198], [0.17987863719463348, 0.11875468492507935], [0.07239848375320435, 0.07807107269763947], [0.09433724731206894, 0.0861956998705864]], [[0.22732791304588318, 0.2310892939567566], [0.268724262714386, 0.14851561188697815], [0.0638134628534317, 0.09088842570781708], [0.10781103372573853, 0.0738622173666954], [0.02832343429327011, 0.04965323209762573], [0.053503602743148804, 0.07352714240550995]], [[0.2763383984565735, 0.20976021885871887], [0.2833290100097656, 0.1901012361049652], [0.10668908804655075, 0.13949671387672424], [0.12700267136096954, 0.13324445486068726], [0.07828155905008316, 0.05190792307257652], [0.03214430809020996, 0.0762743204832077]], [[0.2111607789993286, 0.2373022735118866], [0.22143611311912537, 0.15244291722774506], [0.13991016149520874, 0.11099039018154144], [0.15207324922084808, 0.10554039478302002], [0.10208272188901901, 0.08385609835386276], [0.09600156545639038, 0.11539912223815918]], [[0.20294106006622314, 0.3709089756011963], [0.29585710167884827, 0.2784062623977661], [0.22550755739212036, 0.24203984439373016], [0.14254330098628998, 0.09476995468139648], [0.09479905664920807, 0.09944218397140503], [0.12187348306179047, 0.08049939572811127]], [[0.2395106852054596, 0.2875348925590515], [0.2725207507610321, 0.2392638772726059], [0.17829546332359314, 0.22757411003112793], [0.19497895240783691, 0.14538447558879852], [0.12648406624794006, 0.10473988950252533], [0.1344979703426361, 0.17265300452709198]], [[0.4828849732875824, 0.21705332398414612], [0.3250240087509155, 0.1689700484275818], [0.15307115018367767, 0.14450427889823914], [0.12541568279266357, 0.09395237267017365], [0.08931945264339447, 0.058350808918476105], [0.039076533168554306, 0.06800679862499237]], [[0.23958814144134521, 0.2860761880874634], [0.316228449344635, 0.248731791973114], [0.19243335723876953, 0.15562786161899567], [0.15375903248786926, 0.16254964470863342], [0.13303357362747192, 0.048946887254714966], [0.03577549010515213, 0.06807989627122879]], [[0.2886447608470917, 0.21148788928985596], [0.23272745311260223, 0.20480582118034363], [0.17433421313762665, 0.18698672950267792], [0.13517211377620697, 0.12071659415960312], [0.12071643769741058, 0.1597723364830017], [0.11608632653951645, 0.09004213660955429]], [[0.24208895862102509, 0.2920968234539032], [0.33222976326942444, 0.1675933301448822], [0.15605971217155457, 0.1564766764640808], [0.16183477640151978, 0.12641438841819763], [0.099193274974823, 0.09277255833148956], [0.12918566167354584, 0.10736548900604248]], [[0.2653302848339081, 0.2197304666042328], [0.22499625384807587, 0.18653570115566254], [0.13427959382534027, 0.1960243284702301], [0.18260586261749268, 0.12799003720283508], [0.09047859907150269, 0.055696822702884674], [0.06949308514595032, 0.07192745059728622]], [[0.3178296685218811, 0.34232521057128906], [0.2992088496685028, 0.25980252027511597], [0.1886482685804367, 0.1635655164718628], [0.17759296298027039, 0.2118602693080902], [0.14887294173240662, 0.12778298556804657], [0.11407066881656647, 0.13469424843788147]], [[0.23377010226249695, 0.21251893043518066], [0.26347100734710693, 0.19680997729301453], [0.15447857975959778, 0.19481925666332245], [0.16264306008815765, 0.1338845193386078], [0.11772611737251282, 0.1311836689710617], [0.13690651953220367, 0.10418038070201874]], [[0.09788046777248383, 0.3875318467617035], [0.2844693064689636, 0.27209874987602234], [0.22672538459300995, 0.169462651014328], [0.15140680968761444, 0.08572119474411011], [0.08300240337848663, 0.08477123826742172], [0.0919758677482605, 0.07259529829025269]], [[0.2923581600189209, 0.30721521377563477], [0.28714436292648315, 0.2607714533805847], [0.21103426814079285, 0.16084179282188416], [0.14305351674556732, 0.15963515639305115], [0.1628873646259308, 0.1140851229429245], [0.10369157791137695, 0.09135523438453674]], [[0.19876301288604736, 0.3533608317375183], [0.2696583867073059, 0.20729903876781464], [0.12409244477748871, 0.13948777318000793], [0.1491919606924057, 0.10200077295303345], [0.06697222590446472, 0.07185623794794083], [0.0940512865781784, 0.08258132636547089]], [[0.3244510293006897, 0.13848620653152466], [0.24542948603630066, 0.1795380562543869], [0.14838188886642456, 0.12622299790382385], [0.13552799820899963, 0.1360151320695877], [0.10928764939308167, 0.0740789920091629], [0.09341149032115936, 0.07983296364545822]], [[0.26677224040031433, 0.22470280528068542], [0.20600783824920654, 0.1703764796257019], [0.10728919506072998, 0.1322130560874939], [0.10901865363121033, 0.08423028886318207], [0.03247416764497757, 0.08228783309459686], [0.07044914364814758, 0.0640629455447197]], [[0.26143258810043335, 0.2732011675834656], [0.34900569915771484, 0.27009084820747375], [0.26370882987976074, 0.22695010900497437], [0.18900327384471893, 0.160960853099823], [0.09730266779661179, 0.08813967555761337], [0.0800410732626915, 0.11327116191387177]], [[0.09801425039768219, 0.43129366636276245], [0.3195748031139374, 0.2696608603000641], [0.2637287676334381, 0.23282459378242493], [0.1781548708677292, 0.16958986222743988], [0.17795047163963318, 0.2037661075592041], [0.15585115551948547, 0.07633078098297119]], [[0.20434069633483887, 0.24261979758739471], [0.24720585346221924, 0.1842312067747116], [0.15464992821216583, 0.15262937545776367], [0.17346613109111786, 0.12481244653463364], [0.10842424631118774, 0.14092998206615448], [0.12070707976818085, 0.13190530240535736]], [[0.37057527899742126, 0.26007312536239624], [0.15649260580539703, 0.13486020267009735], [0.10820793360471725, 0.08860116451978683], [0.06281913816928864, 0.0626494288444519], [0.0624568872153759, 0.046247612684965134], [0.05514455959200859, 0.02217090129852295]], [[0.21716897189617157, 0.3240881562232971], [0.21352654695510864, 0.21514248847961426], [0.12426674365997314, 0.16400757431983948], [0.12011843919754028, 0.06345554441213608], [0.07951128482818604, 0.07735625654459], [0.06692104041576385, 0.04337828606367111]], [[0.22560501098632812, 0.18583332002162933], [0.190421462059021, 0.23950675129890442], [0.20386503636837006, 0.14643394947052002], [0.140864297747612, 0.15110747516155243], [0.13630127906799316, 0.13074935972690582], [0.09188315272331238, 0.09591762721538544]]], 'mean_loss': [0.17468033840672836, 0.16583408928579754], 'val_loss': [[[0.4441707134246826, 0.4201163053512573, 0.35462307929992676, 0.44257843494415283, 0.3981735110282898, 0.3579590916633606, 0.41525816917419434, 0.35532960295677185, 0.3907397985458374, 0.3414183259010315, 0.34595203399658203, 0.3446105420589447, 0.3724539875984192, 0.40715813636779785, 0.3584688901901245, 0.34379228949546814, 0.37146076560020447, 0.36889633536338806, 0.3724045157432556, 0.34188079833984375, 0.3863612413406372, 0.3867003917694092, 0.3702738285064697, 0.40403103828430176, 0.4627816677093506, 0.39631718397140503, 0.3908705711364746, 0.39999282360076904], [0.28176793456077576, 0.22581270337104797, 0.23799113929271698, 0.279884934425354, 0.257404625415802, 0.2181614637374878, 0.2310478389263153, 0.2567448616027832, 0.22152462601661682, 0.22914151847362518, 0.2368439882993698, 0.2121202051639557, 0.2765129804611206, 0.25572681427001953, 0.24809524416923523, 0.24252216517925262, 0.2704550623893738, 0.2766285836696625, 0.20469072461128235, 0.22898375988006592, 0.21298083662986755, 0.2622353136539459, 0.25355708599090576, 0.22225195169448853, 0.292466938495636, 0.24655012786388397, 0.22369615733623505, 0.25792360305786133], [0.1732117235660553, 0.17427214980125427, 0.3057256042957306, 0.22965750098228455, 0.22478780150413513, 0.1618902087211609, 0.19839441776275635, 0.18038982152938843, 0.19342634081840515, 0.14475539326667786, 0.28151780366897583, 0.17551136016845703, 0.21358320116996765, 0.23592478036880493, 0.2717517912387848, 0.17946287989616394, 0.19344407320022583, 0.24463067948818207, 0.20089662075042725, 0.18816439807415009, 0.18857787549495697, 0.2191106081008911, 0.22102725505828857, 0.2045721858739853, 0.1865222454071045, 0.24150553345680237, 0.27162712812423706, 0.25818488001823425], [0.19345228374004364, 0.17349043488502502, 0.18924006819725037, 0.16264134645462036, 0.17510080337524414, 0.2391834259033203, 0.3239660859107971, 0.23595736920833588, 0.1966124027967453, 0.17539696395397186, 0.24391964077949524, 0.20546239614486694, 0.2268989384174347, 0.18307995796203613, 0.24430766701698303, 0.1566660851240158, 0.18461154401302338, 0.21440890431404114, 0.17096495628356934, 0.20896053314208984, 0.19416485726833344, 0.18739823997020721, 0.19272038340568542, 0.19833552837371826, 0.19479608535766602, 0.28738972544670105, 0.2196551412343979, 0.1692899465560913], [0.1443352997303009, 0.15718083083629608, 0.16652987897396088, 0.1539551317691803, 0.16188332438468933, 0.16974890232086182, 0.18497982621192932, 0.1777164787054062, 0.14133286476135254, 0.1503927856683731, 0.1469634771347046, 0.14709816873073578, 0.2684040069580078, 0.15038667619228363, 0.14795443415641785, 0.1507279872894287, 0.20154595375061035, 0.24040643870830536, 0.13095557689666748, 0.1544303148984909, 0.16856448352336884, 0.18276435136795044, 0.11421453952789307, 0.1800980418920517, 0.16271451115608215, 0.15719646215438843, 0.1284010410308838, 0.1707378476858139], [0.17436203360557556, 0.23002168536186218, 0.1191428154706955, 0.14551639556884766, 0.13870581984519958, 0.12664052844047546, 0.17321372032165527, 0.23340168595314026, 0.15394078195095062, 0.1631234884262085, 0.22183947265148163, 0.1514292061328888, 0.1593524068593979, 0.13974401354789734, 0.10854049772024155, 0.1625288724899292, 0.22007787227630615, 0.11187174916267395, 0.1266060322523117, 0.14784793555736542, 0.18848858773708344, 0.16403771936893463, 0.1352967917919159, 0.12211199849843979, 0.1575011909008026, 0.20224642753601074, 0.18951211869716644, 0.1406257152557373]], [[0.3119273781776428, 0.34779566526412964, 0.3662050664424896, 0.36453354358673096, 0.3235778212547302, 0.33513253927230835, 0.3484390377998352, 0.33757686614990234, 0.35226020216941833, 0.35510358214378357, 0.32233303785324097, 0.26303112506866455, 0.3337215185165405, 0.33434924483299255, 0.317152202129364, 0.3065015375614166, 0.35263848304748535, 0.3190288245677948, 0.3451785445213318, 0.3823331296443939, 0.3399345576763153, 0.3822384774684906, 0.35478994250297546, 0.3322265148162842, 0.3418312966823578, 0.33308058977127075, 0.3463585078716278, 0.34605783224105835], [0.3454732894897461, 0.3003630042076111, 0.30868756771087646, 0.28815513849258423, 0.3157939910888672, 0.3303714394569397, 0.33666741847991943, 0.264064759016037, 0.3301188051700592, 0.32187512516975403, 0.28218376636505127, 0.2752974033355713, 0.35659223794937134, 0.260887086391449, 0.3128756880760193, 0.26656293869018555, 0.27638304233551025, 0.3308317959308624, 0.2813016176223755, 0.31515437364578247, 0.2775624990463257, 0.2841073274612427, 0.27730613946914673, 0.30881747603416443, 0.2982020080089569, 0.2968564033508301, 0.29767122864723206, 0.31167352199554443], [0.24341124296188354, 0.22716477513313293, 0.3022345006465912, 0.24536530673503876, 0.2701773941516876, 0.2208181917667389, 0.25767725706100464, 0.28731751441955566, 0.27318674325942993, 0.24763095378875732, 0.2723967730998993, 0.2495335042476654, 0.23940293490886688, 0.2569617033004761, 0.2285224199295044, 0.27182716131210327, 0.2644982933998108, 0.29193979501724243, 0.23858366906642914, 0.24330918490886688, 0.2457628697156906, 0.2318914830684662, 0.21866506338119507, 0.29737794399261475, 0.22221927344799042, 0.24059638381004333, 0.29282742738723755, 0.21892796456813812], [0.24024981260299683, 0.2625417411327362, 0.2624763548374176, 0.2553424835205078, 0.33314627408981323, 0.216774582862854, 0.247658371925354, 0.23468512296676636, 0.22944802045822144, 0.29131028056144714, 0.21345990896224976, 0.28963249921798706, 0.23091988265514374, 0.25617489218711853, 0.29152482748031616, 0.20689575374126434, 0.2372627705335617, 0.21024541556835175, 0.259552538394928, 0.2487173080444336, 0.3046133816242218, 0.2704434096813202, 0.2608757019042969, 0.27677685022354126, 0.22939328849315643, 0.23226074874401093, 0.25898870825767517, 0.21828322112560272], [0.20975403487682343, 0.2626674473285675, 0.24194902181625366, 0.21663200855255127, 0.23054012656211853, 0.22745293378829956, 0.22124025225639343, 0.2023926079273224, 0.2156282365322113, 0.18036982417106628, 0.21953551471233368, 0.27725955843925476, 0.1525992900133133, 0.1931581199169159, 0.20416931807994843, 0.15842488408088684, 0.2295302450656891, 0.1644321084022522, 0.1986285150051117, 0.23997077345848083, 0.212660014629364, 0.2045747935771942, 0.18801423907279968, 0.2325323522090912, 0.1928638219833374, 0.19028639793395996, 0.19998177886009216, 0.21339713037014008], [0.16355298459529877, 0.1709924191236496, 0.12060582637786865, 0.2048349231481552, 0.17990648746490479, 0.1811329424381256, 0.15186470746994019, 0.15162000060081482, 0.21177050471305847, 0.13976332545280457, 0.16087143123149872, 0.18495407700538635, 0.1686486005783081, 0.1821383237838745, 0.15550538897514343, 0.14911189675331116, 0.17596130073070526, 0.16545337438583374, 0.14620856940746307, 0.17817902565002441, 0.16945895552635193, 0.15247982740402222, 0.15706685185432434, 0.11941870301961899, 0.21079745888710022, 0.15153618156909943, 0.15157769620418549, 0.142271488904953]], [[0.29912951588630676, 0.2318248450756073, 0.2252267301082611, 0.22800099849700928, 0.28078341484069824, 0.27466174960136414, 0.2171294391155243, 0.2698121666908264, 0.2649497389793396, 0.2123536467552185, 0.23619568347930908, 0.23904137313365936, 0.2664678990840912, 0.24615886807441711, 0.2076038122177124, 0.28332430124282837, 0.2853533923625946, 0.22882479429244995, 0.21904388070106506, 0.2506001889705658, 0.28064972162246704, 0.26763075590133667, 0.26780378818511963, 0.21632498502731323, 0.2407556027173996, 0.32860857248306274, 0.265665739774704, 0.2369396686553955], [0.19110456109046936, 0.1929529756307602, 0.21665947139263153, 0.19959239661693573, 0.20844683051109314, 0.19140569865703583, 0.20815721154212952, 0.1840977519750595, 0.1719333827495575, 0.19774888455867767, 0.1941947191953659, 0.20202353596687317, 0.21182751655578613, 0.17741107940673828, 0.22504113614559174, 0.20455913245677948, 0.24557523429393768, 0.19969026744365692, 0.2033464014530182, 0.21982423961162567, 0.20731687545776367, 0.16506850719451904, 0.18754266202449799, 0.1970624178647995, 0.19026252627372742, 0.2097667157649994, 0.2102581262588501, 0.20271967351436615], [0.26083919405937195, 0.17569217085838318, 0.20951871573925018, 0.212500661611557, 0.2037646472454071, 0.21582137048244476, 0.22626987099647522, 0.204755038022995, 0.15837115049362183, 0.2288132905960083, 0.2154557704925537, 0.20616011321544647, 0.2186802327632904, 0.22839657962322235, 0.2030981034040451, 0.20841674506664276, 0.18855313956737518, 0.2755298316478729, 0.1951681673526764, 0.2373727560043335, 0.21550855040550232, 0.179619699716568, 0.26366397738456726, 0.18367497622966766, 0.1877717226743698, 0.18210332095623016, 0.2500225305557251, 0.20176264643669128], [0.19773511588573456, 0.1233903095126152, 0.16770903766155243, 0.1892026960849762, 0.1525394767522812, 0.1599254459142685, 0.1288653314113617, 0.14856167137622833, 0.16585175693035126, 0.15640947222709656, 0.15538115799427032, 0.20993122458457947, 0.17634496092796326, 0.16745202243328094, 0.15885095298290253, 0.15725679695606232, 0.17622560262680054, 0.16426873207092285, 0.15378615260124207, 0.15437543392181396, 0.161386638879776, 0.15565143525600433, 0.16163861751556396, 0.1690409779548645, 0.23795917630195618, 0.1472945660352707, 0.18849484622478485, 0.1747746467590332], [0.18004783987998962, 0.1708678901195526, 0.18545746803283691, 0.11253803968429565, 0.13665419816970825, 0.17712269723415375, 0.15564163029193878, 0.14896872639656067, 0.14507396519184113, 0.20284020900726318, 0.1767924278974533, 0.1580377072095871, 0.16871564090251923, 0.13087812066078186, 0.16242475807666779, 0.15248790383338928, 0.17115548253059387, 0.13949507474899292, 0.18155978620052338, 0.20447567105293274, 0.13997936248779297, 0.16038557887077332, 0.14907288551330566, 0.1659265011548996, 0.15862828493118286, 0.19872872531414032, 0.17116855084896088, 0.14582902193069458], [0.1492868959903717, 0.19563284516334534, 0.14588981866836548, 0.13883976638317108, 0.12778735160827637, 0.17011892795562744, 0.14146076142787933, 0.15658167004585266, 0.19458524882793427, 0.20231851935386658, 0.1217690110206604, 0.1709052324295044, 0.14546553790569305, 0.1526397466659546, 0.1547730714082718, 0.14044712483882904, 0.18665191531181335, 0.13767275214195251, 0.12922072410583496, 0.12690791487693787, 0.15448154509067535, 0.13397452235221863, 0.1353055089712143, 0.16245108842849731, 0.12273883074522018, 0.15311375260353088, 0.17718647420406342, 0.1591433584690094]], [[0.29357361793518066, 0.30605700612068176, 0.2829086184501648, 0.3002075254917145, 0.31500646471977234, 0.2912461459636688, 0.2834661602973938, 0.33581745624542236, 0.3110731840133667, 0.26159411668777466, 0.2609215974807739, 0.2517889738082886, 0.2544115483760834, 0.30014774203300476, 0.33426433801651, 0.3227747678756714, 0.2834317684173584, 0.2886805534362793, 0.2926087975502014, 0.29218360781669617, 0.29390573501586914, 0.30636709928512573, 0.30001598596572876, 0.2687137722969055, 0.28944623470306396, 0.31827878952026367, 0.32459306716918945, 0.2700619399547577], [0.3178148865699768, 0.22746607661247253, 0.24126911163330078, 0.29831433296203613, 0.271513432264328, 0.24119248986244202, 0.3074553906917572, 0.27330419421195984, 0.2804187834262848, 0.27097398042678833, 0.3053860366344452, 0.3177025020122528, 0.2707021236419678, 0.30313825607299805, 0.24897748231887817, 0.26484107971191406, 0.25825682282447815, 0.29600220918655396, 0.23051446676254272, 0.290017306804657, 0.2874559164047241, 0.3104783296585083, 0.2574997842311859, 0.25947126746177673, 0.2777845561504364, 0.2608508765697479, 0.28113505244255066, 0.28199660778045654], [0.17823299765586853, 0.19750037789344788, 0.16805464029312134, 0.18893834948539734, 0.15068474411964417, 0.19706134498119354, 0.19672010838985443, 0.16938023269176483, 0.17212802171707153, 0.1624995470046997, 0.19713686406612396, 0.19787506759166718, 0.15171955525875092, 0.1943368911743164, 0.1659664660692215, 0.15018117427825928, 0.1752977967262268, 0.1582173854112625, 0.16715553402900696, 0.1856168806552887, 0.21094051003456116, 0.19274583458900452, 0.19891119003295898, 0.1618569940328598, 0.16011777520179749, 0.1431223303079605, 0.1780245304107666, 0.19800522923469543], [0.17432990670204163, 0.19205383956432343, 0.1752731204032898, 0.18327920138835907, 0.17313224077224731, 0.22689959406852722, 0.15745988488197327, 0.17394976317882538, 0.18946897983551025, 0.18114349246025085, 0.19465163350105286, 0.1826516091823578, 0.1741674244403839, 0.1753436028957367, 0.15675920248031616, 0.17180216312408447, 0.17758837342262268, 0.1560882180929184, 0.1679740846157074, 0.1697251796722412, 0.16820208728313446, 0.18170759081840515, 0.16669875383377075, 0.1751742660999298, 0.16949248313903809, 0.17767077684402466, 0.15508399903774261, 0.17401015758514404], [0.13382095098495483, 0.18882745504379272, 0.17219355702400208, 0.14718128740787506, 0.10745827853679657, 0.1441131979227066, 0.12790614366531372, 0.1256273239850998, 0.13559618592262268, 0.12949132919311523, 0.12167849391698837, 0.13558703660964966, 0.12906669080257416, 0.15700215101242065, 0.11744427680969238, 0.16499876976013184, 0.1283746063709259, 0.11981817334890366, 0.12522360682487488, 0.10186044871807098, 0.10507690906524658, 0.17637786269187927, 0.14124643802642822, 0.12112217396497726, 0.15472209453582764, 0.1396271288394928, 0.13524757325649261, 0.19923681020736694], [0.15632247924804688, 0.14558036625385284, 0.14193680882453918, 0.12442784011363983, 0.1559474617242813, 0.16718503832817078, 0.16125014424324036, 0.14668428897857666, 0.14082171022891998, 0.14329098165035248, 0.1445867121219635, 0.11532189697027206, 0.13881585001945496, 0.1680823415517807, 0.15856719017028809, 0.157504603266716, 0.1285197138786316, 0.1621922105550766, 0.11229896545410156, 0.18334315717220306, 0.15630821883678436, 0.14650356769561768, 0.14660818874835968, 0.1471196860074997, 0.15566711127758026, 0.1295543611049652, 0.13974593579769135, 0.15244385600090027]], [[0.38518497347831726, 0.39469218254089355, 0.40417441725730896, 0.36060523986816406, 0.3959587514400482, 0.3669084310531616, 0.39023590087890625, 0.2865392863750458, 0.3705434799194336, 0.44263261556625366, 0.3594968318939209, 0.3724339008331299, 0.3339479863643646, 0.38229021430015564, 0.3500088155269623, 0.35413849353790283, 0.35124409198760986, 0.3553043007850647, 0.3521654009819031, 0.4624559283256531, 0.38335058093070984, 0.3748003840446472, 0.35388052463531494, 0.3460422456264496, 0.36649882793426514, 0.35039615631103516, 0.4124208390712738, 0.3832399845123291], [0.23576192557811737, 0.24816188216209412, 0.2621316611766815, 0.2557949125766754, 0.2546718716621399, 0.24958643317222595, 0.19693225622177124, 0.2782234251499176, 0.27338707447052, 0.26110947132110596, 0.26267510652542114, 0.19729292392730713, 0.21403086185455322, 0.2560548484325409, 0.27632272243499756, 0.21698634326457977, 0.22881677746772766, 0.2457391917705536, 0.21250301599502563, 0.23215624690055847, 0.23204976320266724, 0.20209863781929016, 0.23294197022914886, 0.22316861152648926, 0.19961681962013245, 0.21156811714172363, 0.22524580359458923, 0.24323415756225586], [0.24678342044353485, 0.2771227955818176, 0.25941047072410583, 0.30266350507736206, 0.26360592246055603, 0.326220840215683, 0.30437180399894714, 0.28039422631263733, 0.23456645011901855, 0.25388818979263306, 0.2573974132537842, 0.2358255386352539, 0.2440817803144455, 0.2598700523376465, 0.2661823630332947, 0.2656598687171936, 0.2994520366191864, 0.27369675040245056, 0.2550688683986664, 0.2940620183944702, 0.2553785741329193, 0.25601881742477417, 0.2792482376098633, 0.2501668930053711, 0.25645744800567627, 0.29774951934814453, 0.26103001832962036, 0.2988327145576477], [0.1707451194524765, 0.21280983090400696, 0.20182427763938904, 0.20631611347198486, 0.20937538146972656, 0.20607781410217285, 0.2187264859676361, 0.23613858222961426, 0.20085573196411133, 0.21406476199626923, 0.22365424036979675, 0.24548660218715668, 0.2249220460653305, 0.2367754876613617, 0.24142907559871674, 0.21262919902801514, 0.2009979486465454, 0.19414305686950684, 0.2411660999059677, 0.25315776467323303, 0.24469852447509766, 0.23812612891197205, 0.18166053295135498, 0.2622460722923279, 0.2049860954284668, 0.28075355291366577, 0.22920259833335876, 0.21639876067638397], [0.17360246181488037, 0.20161402225494385, 0.21248368918895721, 0.2274235486984253, 0.1861356794834137, 0.17293331027030945, 0.20268318057060242, 0.2050076127052307, 0.16796261072158813, 0.16298571228981018, 0.1582353711128235, 0.20274458825588226, 0.20309118926525116, 0.1905727982521057, 0.19536423683166504, 0.2129085659980774, 0.214430570602417, 0.18240371346473694, 0.17892059683799744, 0.17390303313732147, 0.19846151769161224, 0.17253515124320984, 0.16880199313163757, 0.18800143897533417, 0.12484554946422577, 0.1670701801776886, 0.1717599630355835, 0.18350236117839813], [0.18869075179100037, 0.21319139003753662, 0.21870794892311096, 0.16666515171527863, 0.20773786306381226, 0.25246864557266235, 0.2610088586807251, 0.15561988949775696, 0.23062054812908173, 0.21224252879619598, 0.1727285385131836, 0.21210110187530518, 0.24050495028495789, 0.21702788770198822, 0.20733731985092163, 0.17908921837806702, 0.20012907683849335, 0.20569217205047607, 0.19722339510917664, 0.2029356211423874, 0.20800340175628662, 0.17309020459651947, 0.22652968764305115, 0.2101224958896637, 0.20443317294120789, 0.20724540948867798, 0.23375444114208221, 0.24967631697654724]], [[0.2026412934064865, 0.22533228993415833, 0.2043578326702118, 0.19632892310619354, 0.16149628162384033, 0.23144644498825073, 0.21817629039287567, 0.2133629024028778, 0.2020655870437622, 0.1949390470981598, 0.17268109321594238, 0.20159927010536194, 0.21033817529678345, 0.20214907824993134, 0.20636019110679626, 0.18650555610656738, 0.2224205732345581, 0.17503249645233154, 0.1942686289548874, 0.2314291000366211, 0.20984768867492676, 0.19530217349529266, 0.19524389505386353, 0.18114349246025085, 0.18536238372325897, 0.20917987823486328, 0.2036445587873459, 0.15355753898620605], [0.17932550609111786, 0.15270382165908813, 0.16922138631343842, 0.15218989551067352, 0.1745700240135193, 0.15649496018886566, 0.19204840064048767, 0.16326895356178284, 0.16040989756584167, 0.15251757204532623, 0.19251668453216553, 0.18941985070705414, 0.22576865553855896, 0.19294290244579315, 0.15913324058055878, 0.17333285510540009, 0.17373494803905487, 0.17679837346076965, 0.16398406028747559, 0.16334685683250427, 0.23866400122642517, 0.1617891788482666, 0.19807788729667664, 0.17668890953063965, 0.18199694156646729, 0.1591700166463852, 0.17719325423240662, 0.16133235394954681], [0.1406342089176178, 0.12129417061805725, 0.11211861670017242, 0.14294634759426117, 0.13010041415691376, 0.15921221673488617, 0.11224554479122162, 0.13086000084877014, 0.15474924445152283, 0.13228446245193481, 0.10948552191257477, 0.10746264457702637, 0.1467793881893158, 0.13298635184764862, 0.09595386683940887, 0.1551533043384552, 0.12451712787151337, 0.13233397901058197, 0.13072329759597778, 0.12067931890487671, 0.13786639273166656, 0.12374725192785263, 0.1297166347503662, 0.13136377930641174, 0.14889302849769592, 0.1408190131187439, 0.16514141857624054, 0.17170093953609467], [0.1343911737203598, 0.15081176161766052, 0.16991108655929565, 0.13611780107021332, 0.16289739310741425, 0.1532098948955536, 0.14865438640117645, 0.15131202340126038, 0.12163829803466797, 0.1585153043270111, 0.12318629026412964, 0.16521130502223969, 0.16348959505558014, 0.1524117887020111, 0.15906581282615662, 0.09942718595266342, 0.19284707307815552, 0.1706198751926422, 0.14476469159126282, 0.1632688045501709, 0.14220920205116272, 0.13660567998886108, 0.1392451822757721, 0.14501318335533142, 0.13194403052330017, 0.13394948840141296, 0.12869085371494293, 0.15470746159553528], [0.11644881963729858, 0.10997480154037476, 0.10853509604930878, 0.1349703073501587, 0.11104266345500946, 0.13882678747177124, 0.1246054396033287, 0.13655401766300201, 0.1592129021883011, 0.13070771098136902, 0.13120678067207336, 0.12252399325370789, 0.13437137007713318, 0.1136913150548935, 0.1200910210609436, 0.09954651445150375, 0.11287864297628403, 0.11629727482795715, 0.13452249765396118, 0.16213920712471008, 0.10940109193325043, 0.12560398876667023, 0.15813308954238892, 0.14875955879688263, 0.20327763259410858, 0.13758814334869385, 0.14708150923252106, 0.11204342544078827], [0.12775704264640808, 0.1413508504629135, 0.18490587174892426, 0.11218999326229095, 0.14143386483192444, 0.15211717784404755, 0.14866171777248383, 0.12194417417049408, 0.1524827927350998, 0.12771210074424744, 0.13567598164081573, 0.15769000351428986, 0.1565522849559784, 0.1124967485666275, 0.120148204267025, 0.1660740077495575, 0.12056329101324081, 0.12258227914571762, 0.1718776673078537, 0.1602512001991272, 0.16445127129554749, 0.12319320440292358, 0.11535089462995529, 0.15918844938278198, 0.13969311118125916, 0.1373218446969986, 0.12891367077827454, 0.13518403470516205]], [[0.29291173815727234, 0.3058076500892639, 0.25330275297164917, 0.2596277594566345, 0.2643131613731384, 0.29619285464286804, 0.3076455295085907, 0.29545146226882935, 0.31373268365859985, 0.3119174838066101, 0.29208996891975403, 0.319912850856781, 0.2599940299987793, 0.3070220947265625, 0.2868402898311615, 0.2875908315181732, 0.3032657504081726, 0.2925393879413605, 0.29128652811050415, 0.24993644654750824, 0.2423853874206543, 0.26646241545677185, 0.3176876902580261, 0.294830858707428, 0.2963571548461914, 0.2899300754070282, 0.28626057505607605, 0.27691614627838135], [0.21269750595092773, 0.22222894430160522, 0.2620582580566406, 0.22151164710521698, 0.2545110583305359, 0.24078571796417236, 0.2508884370326996, 0.24364835023880005, 0.2506563663482666, 0.2499983012676239, 0.2045935094356537, 0.2412523329257965, 0.23250612616539001, 0.21183407306671143, 0.2320617288351059, 0.21648091077804565, 0.21108350157737732, 0.2507327198982239, 0.2498934268951416, 0.26435062289237976, 0.22073131799697876, 0.2102051079273224, 0.23321488499641418, 0.24383066594600677, 0.25319766998291016, 0.24732384085655212, 0.25488585233688354, 0.2448791265487671], [0.18435947597026825, 0.18451569974422455, 0.20349685847759247, 0.18010759353637695, 0.22211633622646332, 0.21979010105133057, 0.19408529996871948, 0.22965238988399506, 0.17138028144836426, 0.1767483651638031, 0.1714317500591278, 0.20532676577568054, 0.15988589823246002, 0.19022533297538757, 0.19857721030712128, 0.15635524690151215, 0.18963102996349335, 0.21770626306533813, 0.20428335666656494, 0.254574179649353, 0.2224939912557602, 0.20942285656929016, 0.20062458515167236, 0.16776657104492188, 0.18503454327583313, 0.2254151701927185, 0.221331387758255, 0.16573014855384827], [0.09806537628173828, 0.1235419511795044, 0.10731835663318634, 0.10866327583789825, 0.08576498925685883, 0.08797499537467957, 0.11553893983364105, 0.11700506508350372, 0.07065045833587646, 0.14010944962501526, 0.11146750301122665, 0.09457182139158249, 0.11516605317592621, 0.11220505088567734, 0.11400656402111053, 0.1174871027469635, 0.12696939706802368, 0.12933507561683655, 0.13121086359024048, 0.11252474039793015, 0.1477416604757309, 0.08856777846813202, 0.10944870114326477, 0.08602559566497803, 0.09199617803096771, 0.11875896900892258, 0.07777342200279236, 0.13132184743881226], [0.1052074059844017, 0.1512129157781601, 0.15701079368591309, 0.1483606994152069, 0.11259928345680237, 0.10892068594694138, 0.15008097887039185, 0.12615129351615906, 0.1019991859793663, 0.0986144170165062, 0.11791789531707764, 0.12138557434082031, 0.12247161567211151, 0.11458931863307953, 0.1367085576057434, 0.11755572259426117, 0.15484711527824402, 0.09571002423763275, 0.1402767151594162, 0.09163866937160492, 0.15417125821113586, 0.12947046756744385, 0.13061964511871338, 0.10333120822906494, 0.11707127094268799, 0.14224794507026672, 0.09000241756439209, 0.11203982681035995], [0.12800858914852142, 0.10210465639829636, 0.1076938733458519, 0.07723299413919449, 0.08095336705446243, 0.09885089099407196, 0.08705279231071472, 0.11466772854328156, 0.10111135244369507, 0.072662852704525, 0.09865449368953705, 0.11975044012069702, 0.09387008845806122, 0.1472572684288025, 0.07802652567625046, 0.14500217139720917, 0.09956937283277512, 0.1267346441745758, 0.08297955244779587, 0.1315462440252304, 0.08188524097204208, 0.12953267991542816, 0.1003417819738388, 0.06799937784671783, 0.07915621995925903, 0.07665182650089264, 0.09111213684082031, 0.11703728139400482]], [[0.28853654861450195, 0.2889402508735657, 0.24515637755393982, 0.2797349691390991, 0.29688581824302673, 0.30652719736099243, 0.2748839557170868, 0.25699201226234436, 0.32399508357048035, 0.2765349745750427, 0.277599036693573, 0.3424634337425232, 0.31490832567214966, 0.2945568561553955, 0.3029656410217285, 0.24692294001579285, 0.28299951553344727, 0.2619931697845459, 0.27782997488975525, 0.22365212440490723, 0.26652634143829346, 0.27994105219841003, 0.28296130895614624, 0.2591807246208191, 0.29474541544914246, 0.35534584522247314, 0.2838340997695923, 0.29810070991516113], [0.0857500284910202, 0.04150485247373581, 0.11170719563961029, 0.08079849183559418, 0.10578174889087677, 0.06850331276655197, 0.07073347270488739, 0.07776855677366257, 0.12877392768859863, 0.09487401694059372, 0.08106760680675507, 0.06681032478809357, 0.12489137053489685, 0.0975111648440361, 0.13495215773582458, 0.06642621010541916, 0.07365559041500092, 0.1040283665060997, 0.051424458622932434, 0.08622249215841293, 0.04949874430894852, 0.0785408467054367, 0.08013810217380524, 0.10437732189893723, 0.10230829566717148, 0.08894916623830795, 0.08157555758953094, 0.08393558114767075], [0.207931250333786, 0.16657869517803192, 0.16039498150348663, 0.13020220398902893, 0.11262332648038864, 0.15232551097869873, 0.16645638644695282, 0.12858429551124573, 0.16440264880657196, 0.16664671897888184, 0.17523306608200073, 0.12533998489379883, 0.16635693609714508, 0.15278975665569305, 0.127911776304245, 0.12727321684360504, 0.2063867300748825, 0.14196576178073883, 0.14415353536605835, 0.1589878350496292, 0.16973641514778137, 0.15468266606330872, 0.16304753720760345, 0.13091959059238434, 0.20083187520503998, 0.1796455830335617, 0.1293994039297104, 0.1518269181251526], [0.0645093023777008, 0.06965139508247375, 0.0723595842719078, 0.03737456724047661, 0.04447520896792412, 0.09386372566223145, 0.05597538873553276, 0.08045116066932678, 0.07281142473220825, 0.11242316663265228, 0.09851904958486557, 0.0860653668642044, 0.06719982624053955, 0.06740041077136993, 0.087933748960495, 0.0658784806728363, 0.08219592273235321, 0.08250080049037933, 0.07344697415828705, 0.08716873824596405, 0.05900250002741814, 0.07444550096988678, 0.06472063809633255, 0.06723098456859589, 0.07715608924627304, 0.060172419995069504, 0.0823105201125145, 0.09757678210735321], [0.11172719299793243, 0.10993992537260056, 0.07282255589962006, 0.0727841854095459, 0.09516215324401855, 0.06795535236597061, 0.10996101796627045, 0.0733787938952446, 0.10459528863430023, 0.11114494502544403, 0.07174701988697052, 0.08218135684728622, 0.10363207757472992, 0.09981094300746918, 0.10099464654922485, 0.09508936107158661, 0.10142391920089722, 0.09320257604122162, 0.10969547927379608, 0.06726374477148056, 0.06259969621896744, 0.09903895854949951, 0.08481000363826752, 0.08862652629613876, 0.07370360195636749, 0.07330301403999329, 0.07345154881477356, 0.12178191542625427], [0.08922219276428223, 0.08977732062339783, 0.09073606133460999, 0.1028006374835968, 0.08372166007757187, 0.09783361852169037, 0.07653068006038666, 0.0967656821012497, 0.1004694327712059, 0.07559582591056824, 0.10989004373550415, 0.07991772890090942, 0.09192061424255371, 0.09972085803747177, 0.11248322576284409, 0.1060175895690918, 0.12699350714683533, 0.051636628806591034, 0.11312549561262131, 0.08370890468358994, 0.05100412294268608, 0.09163983911275864, 0.14233185350894928, 0.09756230562925339, 0.07198122143745422, 0.09684725850820541, 0.0802740752696991, 0.07994534820318222]], [[0.3535424470901489, 0.325932115316391, 0.28666770458221436, 0.3454119563102722, 0.37002086639404297, 0.3114655613899231, 0.350297212600708, 0.3003900647163391, 0.27019673585891724, 0.3198098838329315, 0.31661421060562134, 0.25518012046813965, 0.27596718072891235, 0.3464568853378296, 0.36550426483154297, 0.35894227027893066, 0.3793987035751343, 0.3294890522956848, 0.3252227008342743, 0.30761706829071045, 0.38374897837638855, 0.33379870653152466, 0.3014649748802185, 0.3740166127681732, 0.3100837171077728, 0.27445587515830994, 0.2841752767562866, 0.3347240388393402], [0.11176817864179611, 0.1491302251815796, 0.10425800085067749, 0.12046169489622116, 0.17282366752624512, 0.13962385058403015, 0.1711895763874054, 0.21376201510429382, 0.13724707067012787, 0.15532559156417847, 0.16117238998413086, 0.12923887372016907, 0.16952919960021973, 0.1386348009109497, 0.10963928699493408, 0.1311289221048355, 0.14397716522216797, 0.11312654614448547, 0.1602897047996521, 0.11595573276281357, 0.20047172904014587, 0.15328660607337952, 0.11523529142141342, 0.10758527368307114, 0.1485755890607834, 0.13558638095855713, 0.1688074767589569, 0.16121385991573334], [0.14705690741539001, 0.15412192046642303, 0.18114429712295532, 0.1575016975402832, 0.15742845833301544, 0.15739041566848755, 0.18541936576366425, 0.1737230122089386, 0.17465919256210327, 0.1818600296974182, 0.18652427196502686, 0.19910910725593567, 0.17243365943431854, 0.19717872142791748, 0.17751538753509521, 0.1739310920238495, 0.16440349817276, 0.19530479609966278, 0.1622881144285202, 0.1556147038936615, 0.18219640851020813, 0.17104637622833252, 0.203093022108078, 0.18431761860847473, 0.1874801367521286, 0.1774272322654724, 0.17544564604759216, 0.15529432892799377], [0.12214744091033936, 0.1308896839618683, 0.20221897959709167, 0.13001510500907898, 0.1196853518486023, 0.1373821347951889, 0.12878111004829407, 0.1720794290304184, 0.14040344953536987, 0.12286396324634552, 0.10453194379806519, 0.12384932488203049, 0.1677505224943161, 0.13211223483085632, 0.14275109767913818, 0.11934912204742432, 0.11992891132831573, 0.15569840371608734, 0.101521335542202, 0.11323939263820648, 0.14185023307800293, 0.1117660254240036, 0.13794773817062378, 0.1289849430322647, 0.1311587542295456, 0.11709588766098022, 0.12127825617790222, 0.11554443091154099], [0.09448255598545074, 0.07197095453739166, 0.08709206432104111, 0.07690029591321945, 0.06439309567213058, 0.09186029434204102, 0.050950389355421066, 0.06101299822330475, 0.07480734586715698, 0.07973244786262512, 0.07852624356746674, 0.13377495110034943, 0.07084771990776062, 0.09560679644346237, 0.06916774809360504, 0.05985599756240845, 0.09111233055591583, 0.09423990547657013, 0.06978528201580048, 0.0367337167263031, 0.09123478829860687, 0.08960428833961487, 0.10231181234121323, 0.060538195073604584, 0.07910960167646408, 0.1307414025068283, 0.05171635001897812, 0.10683584213256836], [0.13424943387508392, 0.13785818219184875, 0.14827513694763184, 0.13088572025299072, 0.11780478805303574, 0.10651898384094238, 0.1349867433309555, 0.08922186493873596, 0.08123832941055298, 0.14930039644241333, 0.11684773862361908, 0.13172847032546997, 0.10546489804983139, 0.10403551906347275, 0.15585091710090637, 0.12757396697998047, 0.10362094640731812, 0.10434097051620483, 0.11432748287916183, 0.11316047608852386, 0.07693807780742645, 0.12400584667921066, 0.13407793641090393, 0.1091604232788086, 0.1323828399181366, 0.1615946888923645, 0.10735847800970078, 0.10576915740966797]], [[0.23180703818798065, 0.2656896710395813, 0.23546123504638672, 0.23491822183132172, 0.2735825777053833, 0.25311607122421265, 0.2695922255516052, 0.26842352747917175, 0.25137990713119507, 0.27826207876205444, 0.2474302351474762, 0.26107510924339294, 0.2630642056465149, 0.25806742906570435, 0.24942082166671753, 0.25219982862472534, 0.23514942824840546, 0.2642485499382019, 0.2401760071516037, 0.23847363889217377, 0.22047321498394012, 0.24081149697303772, 0.27701258659362793, 0.249782532453537, 0.23982524871826172, 0.2724924087524414, 0.2500598728656769, 0.2457246035337448], [0.1358659565448761, 0.17831723392009735, 0.14701387286186218, 0.1363573968410492, 0.1415247768163681, 0.16080701351165771, 0.15143589675426483, 0.17056775093078613, 0.13335877656936646, 0.1646290123462677, 0.1404798924922943, 0.18226319551467896, 0.16463151574134827, 0.1540200412273407, 0.1427742838859558, 0.16164840757846832, 0.15756624937057495, 0.14160262048244476, 0.18810312449932098, 0.15936768054962158, 0.13231228291988373, 0.1457999348640442, 0.17835251986980438, 0.14714214205741882, 0.17818713188171387, 0.16247975826263428, 0.15547475218772888, 0.1548427790403366], [0.1490599513053894, 0.17194800078868866, 0.1431649625301361, 0.1539674699306488, 0.15341734886169434, 0.17910316586494446, 0.1892266720533371, 0.20026461780071259, 0.1714303195476532, 0.1572929322719574, 0.1613367795944214, 0.19441843032836914, 0.15293662250041962, 0.16204458475112915, 0.15285329520702362, 0.16776864230632782, 0.15876345336437225, 0.17961719632148743, 0.17316699028015137, 0.16273538768291473, 0.17362889647483826, 0.18106314539909363, 0.1431107521057129, 0.14349345862865448, 0.141524538397789, 0.1557130068540573, 0.17361721396446228, 0.16727039217948914], [0.13789403438568115, 0.1641078144311905, 0.1542040854692459, 0.10950332880020142, 0.12887895107269287, 0.11684023588895798, 0.11427028477191925, 0.1428196132183075, 0.1453419029712677, 0.12254893779754639, 0.13084526360034943, 0.12103082984685898, 0.1401723474264145, 0.1396215856075287, 0.14047856628894806, 0.13830235600471497, 0.14737379550933838, 0.1302374005317688, 0.12085922807455063, 0.1276426911354065, 0.14480893313884735, 0.18187838792800903, 0.12252555787563324, 0.12155872583389282, 0.12522365152835846, 0.12352433055639267, 0.1398366391658783, 0.11668902635574341], [0.1138719916343689, 0.1604272574186325, 0.11975915729999542, 0.1389271318912506, 0.1532992571592331, 0.13396407663822174, 0.14994584023952484, 0.11737531423568726, 0.11356499046087265, 0.127873495221138, 0.1403692364692688, 0.11867225170135498, 0.16546475887298584, 0.1589459478855133, 0.12113859504461288, 0.14470791816711426, 0.13603247702121735, 0.1326419562101364, 0.1760173738002777, 0.10669207572937012, 0.10689419507980347, 0.1145399659872055, 0.16413284838199615, 0.1294315904378891, 0.14657221734523773, 0.14364531636238098, 0.14017769694328308, 0.15655755996704102], [0.1638251543045044, 0.21316246688365936, 0.13326948881149292, 0.1471657156944275, 0.1226642057299614, 0.13145232200622559, 0.11839085817337036, 0.1195850595831871, 0.16730928421020508, 0.14946667850017548, 0.1714617908000946, 0.12337063252925873, 0.16052845120429993, 0.1426670253276825, 0.1408788412809372, 0.15457573533058167, 0.15674541890621185, 0.11548083275556564, 0.15988460183143616, 0.16874608397483826, 0.15680889785289764, 0.12565410137176514, 0.16459564864635468, 0.11703061312437057, 0.11696694791316986, 0.1299750804901123, 0.12485185265541077, 0.1317356824874878]], [[0.3348223865032196, 0.33957743644714355, 0.3494899272918701, 0.40938660502433777, 0.30749642848968506, 0.3307255208492279, 0.3761328160762787, 0.3522835373878479, 0.3481639623641968, 0.338350772857666, 0.3598439693450928, 0.30554625391960144, 0.2921940088272095, 0.3516232669353485, 0.3335459232330322, 0.3271264433860779, 0.3840135931968689, 0.35113686323165894, 0.34514284133911133, 0.3665963113307953, 0.3891768157482147, 0.33390626311302185, 0.3915832042694092, 0.33173686265945435, 0.3638916015625, 0.3479310870170593, 0.36836403608322144, 0.36987388134002686], [0.31737396121025085, 0.286592036485672, 0.2973993420600891, 0.3261404037475586, 0.28649041056632996, 0.27612921595573425, 0.2656988501548767, 0.32063788175582886, 0.27825459837913513, 0.2765199542045593, 0.26983627676963806, 0.2599513530731201, 0.257961630821228, 0.27938321232795715, 0.3049647808074951, 0.23773376643657684, 0.32134759426116943, 0.28241461515426636, 0.3334586024284363, 0.29151540994644165, 0.29821324348449707, 0.3127428889274597, 0.27083343267440796, 0.2583758533000946, 0.2908109426498413, 0.24709004163742065, 0.2902279794216156, 0.30229634046554565], [0.17846804857254028, 0.1786344051361084, 0.25338029861450195, 0.20337069034576416, 0.2113756239414215, 0.231470987200737, 0.19436320662498474, 0.20264405012130737, 0.17795376479625702, 0.22741293907165527, 0.19693613052368164, 0.19196107983589172, 0.20117084681987762, 0.1901288479566574, 0.23362001776695251, 0.15749964118003845, 0.18975546956062317, 0.19481591880321503, 0.19300882518291473, 0.2161855697631836, 0.20923027396202087, 0.20811596512794495, 0.17928211390972137, 0.22642426192760468, 0.21282438933849335, 0.1768067330121994, 0.18104442954063416, 0.21280977129936218], [0.15763042867183685, 0.1305401772260666, 0.17352142930030823, 0.10831184685230255, 0.15788546204566956, 0.12549087405204773, 0.14180290699005127, 0.1321740746498108, 0.11027320474386215, 0.13784894347190857, 0.14364460110664368, 0.11332568526268005, 0.10439455509185791, 0.1751209795475006, 0.13777315616607666, 0.12871041893959045, 0.17592880129814148, 0.12046154588460922, 0.1508171558380127, 0.15927009284496307, 0.12920282781124115, 0.13336440920829773, 0.15034736692905426, 0.1509932279586792, 0.14057669043540955, 0.1650867462158203, 0.10655742138624191, 0.11613313853740692], [0.1440461277961731, 0.15475067496299744, 0.14102283120155334, 0.23739640414714813, 0.16153131425380707, 0.11412078142166138, 0.13757114112377167, 0.11264501512050629, 0.11593209207057953, 0.11330833286046982, 0.14179882407188416, 0.13967958092689514, 0.15282630920410156, 0.1425250619649887, 0.11090286821126938, 0.13117027282714844, 0.14105066657066345, 0.16150659322738647, 0.14291776716709137, 0.14597247540950775, 0.16733619570732117, 0.12565544247627258, 0.14666590094566345, 0.1504410058259964, 0.14048781991004944, 0.14634689688682556, 0.17208334803581238, 0.16559071838855743], [0.07840456068515778, 0.07488463073968887, 0.079933300614357, 0.11349787563085556, 0.07377371191978455, 0.11928553879261017, 0.11953213065862656, 0.08432100713253021, 0.08328968286514282, 0.14287053048610687, 0.13609568774700165, 0.05627788230776787, 0.12650004029273987, 0.11100061237812042, 0.13541916012763977, 0.1095789223909378, 0.0667366236448288, 0.09145107120275497, 0.15013806521892548, 0.09343785047531128, 0.06297838687896729, 0.13510119915008545, 0.1113574355840683, 0.10292549431324005, 0.06087019294500351, 0.09229825437068939, 0.1302110105752945, 0.0740271806716919]], [[0.35260090231895447, 0.3575534224510193, 0.3164883255958557, 0.28514814376831055, 0.25816860795021057, 0.2841881513595581, 0.30771392583847046, 0.31136050820350647, 0.31220221519470215, 0.2824305295944214, 0.3171224594116211, 0.3118109703063965, 0.28205108642578125, 0.3164248764514923, 0.30262166261672974, 0.27998703718185425, 0.2994966506958008, 0.31554925441741943, 0.28569209575653076, 0.28888851404190063, 0.3264982998371124, 0.31660032272338867, 0.25338155031204224, 0.2709791362285614, 0.30853110551834106, 0.2870582938194275, 0.25340062379837036, 0.2770066261291504], [0.2501757740974426, 0.21638302505016327, 0.17899465560913086, 0.2139788269996643, 0.20976978540420532, 0.2786555588245392, 0.24074146151542664, 0.22252202033996582, 0.2569650113582611, 0.20882847905158997, 0.2001955211162567, 0.20800012350082397, 0.20306643843650818, 0.2718798518180847, 0.22851631045341492, 0.24021737277507782, 0.26785969734191895, 0.214061439037323, 0.23768484592437744, 0.2667320966720581, 0.22044157981872559, 0.1697361320257187, 0.26846957206726074, 0.21057960391044617, 0.2582457661628723, 0.1962457150220871, 0.20408755540847778, 0.19307178258895874], [0.20854616165161133, 0.23144203424453735, 0.21749812364578247, 0.2430858463048935, 0.2427394837141037, 0.2195248305797577, 0.2061363160610199, 0.22241143882274628, 0.2652650475502014, 0.21939122676849365, 0.22013545036315918, 0.21633633971214294, 0.272866427898407, 0.23087617754936218, 0.2472953051328659, 0.2156301587820053, 0.23347187042236328, 0.18691031634807587, 0.2143518179655075, 0.19417469203472137, 0.21467575430870056, 0.21780097484588623, 0.19315820932388306, 0.23748502135276794, 0.19427411258220673, 0.20545104146003723, 0.23525169491767883, 0.18913595378398895], [0.13909941911697388, 0.10869142413139343, 0.1737305372953415, 0.15114706754684448, 0.16145183145999908, 0.15045969188213348, 0.13083311915397644, 0.13001298904418945, 0.14633911848068237, 0.20620112121105194, 0.15069794654846191, 0.16749748587608337, 0.13736167550086975, 0.17663374543190002, 0.1722612828016281, 0.1902412623167038, 0.14711058139801025, 0.15651951730251312, 0.13232500851154327, 0.18036741018295288, 0.11220882833003998, 0.1518028974533081, 0.14473450183868408, 0.14376705884933472, 0.15750983357429504, 0.10619072616100311, 0.1829042136669159, 0.12330059707164764], [0.1467224359512329, 0.21282367408275604, 0.18676631152629852, 0.1534157246351242, 0.16773515939712524, 0.18681953847408295, 0.19286273419857025, 0.176561638712883, 0.19737081229686737, 0.18355441093444824, 0.19184784591197968, 0.15215909481048584, 0.15552932024002075, 0.13628046214580536, 0.1405295580625534, 0.17714588344097137, 0.1730717271566391, 0.18210694193840027, 0.18671223521232605, 0.14370287954807281, 0.21521393954753876, 0.1619264781475067, 0.1657809317111969, 0.2049141377210617, 0.13142985105514526, 0.16967415809631348, 0.17618851363658905, 0.1538791060447693], [0.11889263987541199, 0.14380204677581787, 0.1608150452375412, 0.14662666618824005, 0.13130703568458557, 0.1359618902206421, 0.1678694188594818, 0.17869499325752258, 0.13207381963729858, 0.12359169125556946, 0.1383199393749237, 0.14529940485954285, 0.11512875556945801, 0.1563558280467987, 0.1577562838792801, 0.13973791897296906, 0.12675081193447113, 0.17654341459274292, 0.13279816508293152, 0.1541658192873001, 0.1573645919561386, 0.1622006595134735, 0.1496184915304184, 0.13204321265220642, 0.1626676619052887, 0.18644550442695618, 0.14917698502540588, 0.12938903272151947]], [[0.3444727659225464, 0.3140733540058136, 0.35006195306777954, 0.39488983154296875, 0.3876790404319763, 0.32429543137550354, 0.3617357611656189, 0.3374975323677063, 0.3511044383049011, 0.32437586784362793, 0.3183916211128235, 0.28811681270599365, 0.3371712565422058, 0.37475889921188354, 0.3706021010875702, 0.3206157684326172, 0.379067987203598, 0.31510305404663086, 0.3658214807510376, 0.30267298221588135, 0.31783246994018555, 0.3271532356739044, 0.3756044805049896, 0.3273312449455261, 0.38087210059165955, 0.35733795166015625, 0.3693091571331024, 0.3886723518371582], [0.21903209388256073, 0.21836118400096893, 0.2497158944606781, 0.21180520951747894, 0.21166789531707764, 0.19683757424354553, 0.18598946928977966, 0.1922067403793335, 0.18884745240211487, 0.23025083541870117, 0.19430206716060638, 0.18683545291423798, 0.21509906649589539, 0.21707487106323242, 0.1652693897485733, 0.18001174926757812, 0.1595812886953354, 0.20302186906337738, 0.1848362535238266, 0.21292617917060852, 0.1892012655735016, 0.19131338596343994, 0.21850638091564178, 0.18870531022548676, 0.2002795934677124, 0.16433346271514893, 0.18613223731517792, 0.1910562813282013], [0.13353341817855835, 0.13593976199626923, 0.17467986047267914, 0.1865898072719574, 0.16124464571475983, 0.11617939174175262, 0.14807695150375366, 0.15501892566680908, 0.10824774205684662, 0.14293774962425232, 0.16694894433021545, 0.1522657573223114, 0.1512671709060669, 0.1667730212211609, 0.1216772198677063, 0.15208986401557922, 0.17387323081493378, 0.11211743205785751, 0.14989791810512543, 0.1613692343235016, 0.14438562095165253, 0.15380243957042694, 0.14119072258472443, 0.1391841173171997, 0.13288277387619019, 0.1335659623146057, 0.1763945072889328, 0.1352280080318451], [0.1626889705657959, 0.14814423024654388, 0.1435992270708084, 0.13247232139110565, 0.12896274030208588, 0.1251082718372345, 0.15227344632148743, 0.13255786895751953, 0.14431864023208618, 0.13830626010894775, 0.1472499519586563, 0.1481509506702423, 0.13586853444576263, 0.13739100098609924, 0.12492277473211288, 0.13535474240779877, 0.1460258960723877, 0.10271398723125458, 0.1729949414730072, 0.1186603233218193, 0.15308605134487152, 0.13477951288223267, 0.13786804676055908, 0.1637343168258667, 0.11780959367752075, 0.12290644645690918, 0.13050585985183716, 0.14841440320014954], [0.10709287971258163, 0.06674540042877197, 0.05127508565783501, 0.11435443162918091, 0.05510465055704117, 0.06579415500164032, 0.0922393649816513, 0.12214603275060654, 0.06095653027296066, 0.09810170531272888, 0.06663185358047485, 0.08007348328828812, 0.08242310583591461, 0.08548622578382492, 0.1277816742658615, 0.06270302832126617, 0.16773223876953125, 0.06612130254507065, 0.11292025446891785, 0.0944279283285141, 0.10573780536651611, 0.1047191247344017, 0.07414630055427551, 0.08647213876247406, 0.08303482830524445, 0.09878537058830261, 0.1000940203666687, 0.09460892528295517], [0.1263311505317688, 0.11389592289924622, 0.11451888084411621, 0.08934581279754639, 0.12205986678600311, 0.14000087976455688, 0.12144982814788818, 0.07489296048879623, 0.1188516840338707, 0.1002582311630249, 0.09119918197393417, 0.13276104629039764, 0.11712610721588135, 0.13959266245365143, 0.12094797939062119, 0.10223027318716049, 0.11795653402805328, 0.13244405388832092, 0.10394734144210815, 0.111519955098629, 0.09489117562770844, 0.12557809054851532, 0.09057551622390747, 0.08622688055038452, 0.12920443713665009, 0.1086689829826355, 0.1325262486934662, 0.11102297902107239]], [[0.3282303214073181, 0.37215298414230347, 0.37189435958862305, 0.32362109422683716, 0.31704896688461304, 0.35280776023864746, 0.3042311668395996, 0.35614022612571716, 0.308318555355072, 0.31003648042678833, 0.32499271631240845, 0.4000225067138672, 0.32909393310546875, 0.3475416302680969, 0.32476115226745605, 0.3203281760215759, 0.38344037532806396, 0.31484928727149963, 0.3429315984249115, 0.3488594889640808, 0.3448842763900757, 0.3494834303855896, 0.3071703314781189, 0.33892378211021423, 0.33724063634872437, 0.34520167112350464, 0.41137251257896423, 0.3106728196144104], [0.19265779852867126, 0.2231389731168747, 0.25205808877944946, 0.24281439185142517, 0.20643332600593567, 0.2940356731414795, 0.2422500103712082, 0.21526241302490234, 0.22375229001045227, 0.20524004101753235, 0.21994248032569885, 0.20925912261009216, 0.20857636630535126, 0.26138797402381897, 0.27015992999076843, 0.19549964368343353, 0.21082386374473572, 0.22587017714977264, 0.2704808712005615, 0.20831751823425293, 0.28192082047462463, 0.19837802648544312, 0.2487621307373047, 0.269541472196579, 0.2224597930908203, 0.23541200160980225, 0.24112193286418915, 0.21480506658554077], [0.19452284276485443, 0.20151649415493011, 0.20496150851249695, 0.18068425357341766, 0.19822542369365692, 0.20463356375694275, 0.18034669756889343, 0.16727501153945923, 0.17407837510108948, 0.16898950934410095, 0.20318639278411865, 0.21689198911190033, 0.18308892846107483, 0.24469798803329468, 0.20030580461025238, 0.20048046112060547, 0.1847318410873413, 0.22434018552303314, 0.19426563382148743, 0.22162207961082458, 0.1824617236852646, 0.19754913449287415, 0.19356948137283325, 0.1564822494983673, 0.1992877721786499, 0.2059667408466339, 0.28290611505508423, 0.20067653059959412], [0.1655203104019165, 0.17608581483364105, 0.18061846494674683, 0.17081741988658905, 0.16297867894172668, 0.17827081680297852, 0.1596512496471405, 0.20299242436885834, 0.2033594846725464, 0.15794013440608978, 0.14563804864883423, 0.17622670531272888, 0.18009909987449646, 0.21356523036956787, 0.16333040595054626, 0.15513841807842255, 0.16774126887321472, 0.15755189955234528, 0.18732969462871552, 0.23187515139579773, 0.202591210603714, 0.1832292526960373, 0.15189912915229797, 0.15795962512493134, 0.13734108209609985, 0.15928831696510315, 0.15368854999542236, 0.16435061395168304], [0.059627749025821686, 0.07786530256271362, 0.0771695077419281, 0.08813798427581787, 0.1489829123020172, 0.12119891494512558, 0.08546799421310425, 0.0755036324262619, 0.07999789714813232, 0.07784068584442139, 0.0829276591539383, 0.05311816185712814, 0.06743356585502625, 0.10754866898059845, 0.13673357665538788, 0.05621907114982605, 0.0701446384191513, 0.10317494720220566, 0.09006617963314056, 0.0908832773566246, 0.11701985448598862, 0.12329571694135666, 0.046633731573820114, 0.05956028029322624, 0.050295449793338776, 0.046031467616558075, 0.08318004012107849, 0.11967411637306213], [0.09694122523069382, 0.13743644952774048, 0.13859981298446655, 0.1069662868976593, 0.21851620078086853, 0.12390860170125961, 0.11379528045654297, 0.09307052940130234, 0.12504327297210693, 0.11726224422454834, 0.11871948838233948, 0.10232144594192505, 0.13231369853019714, 0.10709505528211594, 0.1042947992682457, 0.1686442792415619, 0.12165333330631256, 0.11390404403209686, 0.10432392358779907, 0.15284842252731323, 0.0936833918094635, 0.10346707701683044, 0.11762280762195587, 0.13900327682495117, 0.12495402991771698, 0.1243409514427185, 0.13308915495872498, 0.12976929545402527]], [[0.27846401929855347, 0.2701985836029053, 0.2872665524482727, 0.25443774461746216, 0.24841845035552979, 0.27185386419296265, 0.265658438205719, 0.29161548614501953, 0.2552204728126526, 0.2964450716972351, 0.27310606837272644, 0.2587859332561493, 0.2656310498714447, 0.2883034944534302, 0.22139498591423035, 0.27993500232696533, 0.2856307029724121, 0.2956086993217468, 0.2424934357404709, 0.2667807936668396, 0.3182985782623291, 0.24100908637046814, 0.2756831645965576, 0.28294214606285095, 0.2750188708305359, 0.26939690113067627, 0.2653995454311371, 0.245764821767807], [0.17994140088558197, 0.189387246966362, 0.21045291423797607, 0.2255745381116867, 0.22042140364646912, 0.2377229630947113, 0.23262760043144226, 0.22266744077205658, 0.21320652961730957, 0.2577449679374695, 0.19304880499839783, 0.19683824479579926, 0.22247307002544403, 0.2026778906583786, 0.19517521560192108, 0.19482044875621796, 0.1756211519241333, 0.20766016840934753, 0.20157490670681, 0.16983425617218018, 0.24407945573329926, 0.21922260522842407, 0.21282517910003662, 0.22689931094646454, 0.2013564556837082, 0.23809652030467987, 0.19758042693138123, 0.24813681840896606], [0.1510554850101471, 0.19032546877861023, 0.17105796933174133, 0.16655272245407104, 0.16831618547439575, 0.1477137953042984, 0.1944781243801117, 0.18339598178863525, 0.19502699375152588, 0.18566656112670898, 0.17045938968658447, 0.17529068887233734, 0.1545153558254242, 0.12949608266353607, 0.1337621808052063, 0.16157260537147522, 0.160549134016037, 0.15221339464187622, 0.16452085971832275, 0.17309868335723877, 0.2034933865070343, 0.16830885410308838, 0.1801234781742096, 0.12431015819311142, 0.18781118094921112, 0.17699921131134033, 0.17423796653747559, 0.1598055064678192], [0.16119670867919922, 0.1906455010175705, 0.16127648949623108, 0.20303672552108765, 0.15011845529079437, 0.14813384413719177, 0.16791781783103943, 0.20418094098567963, 0.1858111321926117, 0.1613478660583496, 0.1414901465177536, 0.16012780368328094, 0.17221876978874207, 0.17665359377861023, 0.15576127171516418, 0.16719971597194672, 0.16513988375663757, 0.16701334714889526, 0.17468148469924927, 0.13078144192695618, 0.1822306364774704, 0.15393781661987305, 0.1593107432126999, 0.25326037406921387, 0.1930539458990097, 0.15564489364624023, 0.16366586089134216, 0.21475040912628174], [0.14466439187526703, 0.1550508290529251, 0.14829805493354797, 0.15571075677871704, 0.1534625142812729, 0.13730746507644653, 0.13736361265182495, 0.13856372237205505, 0.12393512576818466, 0.1701856106519699, 0.20897838473320007, 0.15611736476421356, 0.14424000680446625, 0.12474140524864197, 0.14869177341461182, 0.20261774957180023, 0.09647750854492188, 0.17045411467552185, 0.10966797918081284, 0.12012434005737305, 0.17308253049850464, 0.1390920877456665, 0.160919189453125, 0.22176599502563477, 0.10400401800870895, 0.1320187747478485, 0.11281754821538925, 0.14553233981132507], [0.14809027314186096, 0.13120721280574799, 0.14547598361968994, 0.18191199004650116, 0.12237995862960815, 0.15340077877044678, 0.15871261060237885, 0.1315055936574936, 0.20581631362438202, 0.13197378814220428, 0.15019339323043823, 0.15384265780448914, 0.15303081274032593, 0.16449736058712006, 0.1425972878932953, 0.1391039788722992, 0.12229996174573898, 0.17618867754936218, 0.13044600188732147, 0.16198958456516266, 0.11276654899120331, 0.16006523370742798, 0.14086493849754333, 0.1834285855293274, 0.15679536759853363, 0.12154877185821533, 0.12951958179473877, 0.21009373664855957]], [[0.40421995520591736, 0.3390023708343506, 0.32943058013916016, 0.36272746324539185, 0.32971253991127014, 0.32949674129486084, 0.3259298801422119, 0.3887885510921478, 0.3176513910293579, 0.3397691249847412, 0.3897850513458252, 0.32585254311561584, 0.3577582836151123, 0.40719109773635864, 0.38993120193481445, 0.3575093746185303, 0.3618910312652588, 0.37382686138153076, 0.33283156156539917, 0.4191052317619324, 0.33133989572525024, 0.3167809844017029, 0.376101553440094, 0.3427762985229492, 0.3103106915950775, 0.3465193212032318, 0.42664045095443726, 0.3139849305152893], [0.16468679904937744, 0.17973598837852478, 0.17526161670684814, 0.1667632758617401, 0.19718700647354126, 0.21724888682365417, 0.13510659337043762, 0.17808572947978973, 0.13731658458709717, 0.17193543910980225, 0.14297662675380707, 0.18568097054958344, 0.18049703538417816, 0.21097993850708008, 0.18198317289352417, 0.18595574796199799, 0.1639876663684845, 0.16035643219947815, 0.17047034204006195, 0.13585881888866425, 0.1866302192211151, 0.23972217738628387, 0.23468279838562012, 0.16356873512268066, 0.18285182118415833, 0.23289665579795837, 0.20178499817848206, 0.17672646045684814], [0.1796618103981018, 0.15999698638916016, 0.17676840722560883, 0.23010270297527313, 0.18391382694244385, 0.19472889602184296, 0.21080850064754486, 0.1523178219795227, 0.18360093235969543, 0.2052665799856186, 0.19476738572120667, 0.15262512862682343, 0.17220112681388855, 0.20729777216911316, 0.19203363358974457, 0.15231148898601532, 0.19847577810287476, 0.1640111207962036, 0.1813962757587433, 0.17093805968761444, 0.22367864847183228, 0.18060314655303955, 0.18643514811992645, 0.16254940629005432, 0.18894436955451965, 0.19929300248622894, 0.23818032443523407, 0.1993480622768402], [0.10536184161901474, 0.13285914063453674, 0.11487416923046112, 0.12942223250865936, 0.18219324946403503, 0.1363641321659088, 0.1076798066496849, 0.1358243077993393, 0.10753285139799118, 0.09399105608463287, 0.15835057199001312, 0.13417713344097137, 0.12646527588367462, 0.11787156760692596, 0.1116064041852951, 0.14488404989242554, 0.14122870564460754, 0.0912017673254013, 0.1312912553548813, 0.13934586942195892, 0.16950629651546478, 0.10230481624603271, 0.13879790902137756, 0.11510811746120453, 0.10774838924407959, 0.12759657204151154, 0.1386728286743164, 0.11175825446844101], [0.1691325157880783, 0.20202547311782837, 0.13616803288459778, 0.17569278180599213, 0.18211060762405396, 0.16489404439926147, 0.14531180262565613, 0.1527872383594513, 0.16510002315044403, 0.1875876486301422, 0.1587672084569931, 0.18252241611480713, 0.14008939266204834, 0.1438370943069458, 0.14310774207115173, 0.212205171585083, 0.17168977856636047, 0.1934221237897873, 0.16257137060165405, 0.15161322057247162, 0.15234039723873138, 0.15860974788665771, 0.15122376382350922, 0.18197742104530334, 0.14678770303726196, 0.1683291643857956, 0.16421975195407867, 0.14847958087921143], [0.10953562706708908, 0.15402387082576752, 0.11752937734127045, 0.13045170903205872, 0.16674530506134033, 0.15526334941387177, 0.11466982215642929, 0.15773804485797882, 0.182765930891037, 0.12313027679920197, 0.15582235157489777, 0.15680870413780212, 0.10929610580205917, 0.1795530915260315, 0.14769920706748962, 0.13789057731628418, 0.15897803008556366, 0.13942216336727142, 0.13122648000717163, 0.15203672647476196, 0.10395850986242294, 0.17343580722808838, 0.15665365755558014, 0.12911933660507202, 0.12936852872371674, 0.16372215747833252, 0.14783865213394165, 0.14396218955516815]], [[0.27847689390182495, 0.2532767653465271, 0.2627868056297302, 0.2511638402938843, 0.22659866511821747, 0.22156822681427002, 0.26673424243927, 0.24936245381832123, 0.27555036544799805, 0.2790432870388031, 0.23283344507217407, 0.21915936470031738, 0.28595298528671265, 0.2492031753063202, 0.23710638284683228, 0.26769590377807617, 0.24035155773162842, 0.23759090900421143, 0.27735090255737305, 0.2770572900772095, 0.28281229734420776, 0.26113361120224, 0.28432589769363403, 0.24907809495925903, 0.27158400416374207, 0.259829044342041, 0.2635647654533386, 0.24413475394248962], [0.15371528267860413, 0.16407696902751923, 0.151912122964859, 0.13624334335327148, 0.17388348281383514, 0.21433112025260925, 0.13013188540935516, 0.1998792290687561, 0.1963719129562378, 0.1481623649597168, 0.14894559979438782, 0.18091712892055511, 0.14071926474571228, 0.17537140846252441, 0.14859697222709656, 0.12904676795005798, 0.13736075162887573, 0.17280010879039764, 0.16176418960094452, 0.15776443481445312, 0.13459891080856323, 0.2118053138256073, 0.20486466586589813, 0.17485396564006805, 0.16929732263088226, 0.18899133801460266, 0.2023918330669403, 0.13855420053005219], [0.20041339099407196, 0.21959488093852997, 0.21213984489440918, 0.213016077876091, 0.17909888923168182, 0.20505452156066895, 0.24782449007034302, 0.18804751336574554, 0.25015127658843994, 0.21362334489822388, 0.22211498022079468, 0.2464507520198822, 0.216316819190979, 0.19536751508712769, 0.22349850833415985, 0.1864195168018341, 0.2021423578262329, 0.2336709350347519, 0.16138684749603271, 0.20334944128990173, 0.2795427739620209, 0.19981877505779266, 0.18399569392204285, 0.23572683334350586, 0.23049437999725342, 0.19729888439178467, 0.20301562547683716, 0.17544713616371155], [0.11772369593381882, 0.09730345010757446, 0.1846252977848053, 0.1823832243680954, 0.11429975926876068, 0.1515962928533554, 0.12404386699199677, 0.1082208901643753, 0.12734092772006989, 0.13093793392181396, 0.13726651668548584, 0.11788742244243622, 0.142043799161911, 0.10799460858106613, 0.14414790272712708, 0.13300177454948425, 0.09342091530561447, 0.12224080413579941, 0.1373707354068756, 0.10036148875951767, 0.09751670062541962, 0.10140286386013031, 0.10170930624008179, 0.11529182642698288, 0.14046558737754822, 0.11748509109020233, 0.16079014539718628, 0.11925111711025238], [0.09523697942495346, 0.12449425458908081, 0.15706682205200195, 0.06454485654830933, 0.05800698325037956, 0.06386065483093262, 0.0933493822813034, 0.0907013937830925, 0.12291133403778076, 0.10863767564296722, 0.15024444460868835, 0.08223552256822586, 0.07924901694059372, 0.09614171087741852, 0.08792530000209808, 0.1268155872821808, 0.09332795441150665, 0.10151984542608261, 0.06760364770889282, 0.09586715698242188, 0.07703331857919693, 0.11151707172393799, 0.08867663145065308, 0.11734770983457565, 0.05592431128025055, 0.09201537072658539, 0.06228870898485184, 0.08048084378242493], [0.10349567979574203, 0.12600085139274597, 0.1197652667760849, 0.08448827266693115, 0.15952670574188232, 0.10680210590362549, 0.12947745621204376, 0.08831775188446045, 0.14349569380283356, 0.09144331514835358, 0.07395727187395096, 0.16329815983772278, 0.11623462289571762, 0.0992187112569809, 0.11134539544582367, 0.09740076959133148, 0.10080014169216156, 0.1002814993262291, 0.06244379281997681, 0.1390095353126526, 0.11381419748067856, 0.10152159631252289, 0.12653081119060516, 0.07172517478466034, 0.1223202794790268, 0.09369190782308578, 0.10748404264450073, 0.12456323951482773]], [[0.4087216556072235, 0.36391139030456543, 0.32507485151290894, 0.3780044913291931, 0.32571542263031006, 0.422799676656723, 0.37016570568084717, 0.4514993131160736, 0.3551647663116455, 0.4336821436882019, 0.36754700541496277, 0.4013795256614685, 0.3615818917751312, 0.38877594470977783, 0.4186861515045166, 0.424893319606781, 0.3265073895454407, 0.4090356230735779, 0.40599000453948975, 0.3506930470466614, 0.4308384358882904, 0.3587181568145752, 0.4019249379634857, 0.356634259223938, 0.38987791538238525, 0.38134312629699707, 0.4323265552520752, 0.3490848243236542], [0.22466051578521729, 0.22026024758815765, 0.23460343480110168, 0.2337498962879181, 0.25013259053230286, 0.21797195076942444, 0.20937180519104004, 0.22029635310173035, 0.22473609447479248, 0.24071496725082397, 0.2439344823360443, 0.2519839406013489, 0.22144600749015808, 0.20896416902542114, 0.2854079008102417, 0.22879037261009216, 0.26328784227371216, 0.23518340289592743, 0.25487077236175537, 0.22242164611816406, 0.2289455384016037, 0.2536866068840027, 0.2515909671783447, 0.2547433376312256, 0.21143683791160583, 0.2307041883468628, 0.2326442301273346, 0.22921887040138245], [0.2007933109998703, 0.2494470477104187, 0.2002537101507187, 0.20211879909038544, 0.2035062313079834, 0.1832684725522995, 0.20266923308372498, 0.22186410427093506, 0.21957974135875702, 0.18238422274589539, 0.19342170655727386, 0.23101863265037537, 0.16863760352134705, 0.2075076550245285, 0.20154699683189392, 0.20387661457061768, 0.18792036175727844, 0.2546502947807312, 0.22606949508190155, 0.24639686942100525, 0.19102536141872406, 0.19111976027488708, 0.22873950004577637, 0.16145215928554535, 0.1824520081281662, 0.16771714389324188, 0.19511717557907104, 0.2157793492078781], [0.17239990830421448, 0.17809806764125824, 0.2282421588897705, 0.17511360347270966, 0.15243561565876007, 0.18504178524017334, 0.2074587196111679, 0.18897950649261475, 0.14946292340755463, 0.19178615510463715, 0.19869880378246307, 0.1862008273601532, 0.2043285071849823, 0.15505051612854004, 0.14668425917625427, 0.1613498032093048, 0.1813109815120697, 0.1570606678724289, 0.15366610884666443, 0.17082159221172333, 0.1456754207611084, 0.20218686759471893, 0.1547553539276123, 0.20850543677806854, 0.19672314822673798, 0.1811024248600006, 0.17286229133605957, 0.1597595065832138], [0.15614858269691467, 0.1780955195426941, 0.13375434279441833, 0.167339488863945, 0.17366370558738708, 0.16962575912475586, 0.2031766176223755, 0.1800125688314438, 0.2396979033946991, 0.14273542165756226, 0.14982560276985168, 0.17321233451366425, 0.1708618402481079, 0.1545131355524063, 0.13703566789627075, 0.16906839609146118, 0.18638543784618378, 0.18478751182556152, 0.17200922966003418, 0.16286198794841766, 0.1666429042816162, 0.15856850147247314, 0.15443754196166992, 0.15001021325588226, 0.19774822890758514, 0.13229314982891083, 0.1906486600637436, 0.1927139014005661], [0.2020692527294159, 0.2067105770111084, 0.24147632718086243, 0.2516566514968872, 0.2024608850479126, 0.20127761363983154, 0.18035636842250824, 0.21324372291564941, 0.2049233317375183, 0.19164636731147766, 0.20640325546264648, 0.23881208896636963, 0.17225170135498047, 0.18014979362487793, 0.2293228805065155, 0.19027072191238403, 0.20752212405204773, 0.2124224305152893, 0.17350775003433228, 0.18352028727531433, 0.1662708818912506, 0.21694986522197723, 0.2007840871810913, 0.19024865329265594, 0.20017246901988983, 0.1794707477092743, 0.208457350730896, 0.19645778834819794]], [[0.24077555537223816, 0.24881033599376678, 0.2667655944824219, 0.2786664664745331, 0.26874861121177673, 0.2785312831401825, 0.32187432050704956, 0.24646782875061035, 0.30157873034477234, 0.2565937042236328, 0.2669472098350525, 0.3145851492881775, 0.2594892680644989, 0.28638020157814026, 0.2734232544898987, 0.24981126189231873, 0.284926176071167, 0.24740099906921387, 0.26569685339927673, 0.23847302794456482, 0.22863321006298065, 0.24903777241706848, 0.2609047293663025, 0.2670512795448303, 0.2465611696243286, 0.22178946435451508, 0.29197388887405396, 0.26914116740226746], [0.18618552386760712, 0.16509827971458435, 0.1992015838623047, 0.1898472011089325, 0.21923726797103882, 0.16888193786144257, 0.18323735892772675, 0.18872088193893433, 0.19368338584899902, 0.16820639371871948, 0.19779011607170105, 0.1644406020641327, 0.18360666930675507, 0.16634076833724976, 0.18328401446342468, 0.1631031185388565, 0.21949005126953125, 0.1513555496931076, 0.17354165017604828, 0.15950509905815125, 0.15430518984794617, 0.17130760848522186, 0.16171056032180786, 0.16288764774799347, 0.1682652235031128, 0.1935395449399948, 0.1909787505865097, 0.1781124770641327], [0.16989409923553467, 0.19381484389305115, 0.19095033407211304, 0.21307513117790222, 0.17500051856040955, 0.19431571662425995, 0.18410062789916992, 0.20628929138183594, 0.1880287379026413, 0.20032672584056854, 0.21108588576316833, 0.199273020029068, 0.22005200386047363, 0.19424311816692352, 0.21356743574142456, 0.20272986590862274, 0.2090160846710205, 0.20159682631492615, 0.18778663873672485, 0.21136590838432312, 0.1938771903514862, 0.18024075031280518, 0.19398260116577148, 0.2083013504743576, 0.19072386622428894, 0.18713180720806122, 0.20222532749176025, 0.19402825832366943], [0.14093075692653656, 0.13299435377120972, 0.1384037584066391, 0.14162902534008026, 0.12518469989299774, 0.1154141053557396, 0.12880659103393555, 0.13534221053123474, 0.13757911324501038, 0.12562020123004913, 0.13377700746059418, 0.12244506925344467, 0.14381036162376404, 0.14669162034988403, 0.15346752107143402, 0.1482694447040558, 0.13445022702217102, 0.12210890650749207, 0.13444572687149048, 0.1253151297569275, 0.15807029604911804, 0.13592879474163055, 0.14213283360004425, 0.13526944816112518, 0.11260204762220383, 0.134342759847641, 0.143794983625412, 0.15129758417606354], [0.14605191349983215, 0.16442805528640747, 0.14608699083328247, 0.1359272599220276, 0.14108198881149292, 0.1472492218017578, 0.15972654521465302, 0.15533721446990967, 0.15082111954689026, 0.1430002748966217, 0.17021577060222626, 0.1339499056339264, 0.15952713787555695, 0.14160874485969543, 0.15617577731609344, 0.15748661756515503, 0.1704530566930771, 0.12505367398262024, 0.15921863913536072, 0.1531316339969635, 0.1768026351928711, 0.13456211984157562, 0.17372314631938934, 0.16527976095676422, 0.1648566573858261, 0.14834913611412048, 0.139068603515625, 0.17031922936439514], [0.1157907098531723, 0.12622201442718506, 0.13690589368343353, 0.11108820140361786, 0.1440248340368271, 0.13377350568771362, 0.12543421983718872, 0.10884128510951996, 0.13825258612632751, 0.1272491216659546, 0.145173117518425, 0.13222871720790863, 0.11264052987098694, 0.12522999942302704, 0.11455914378166199, 0.13372871279716492, 0.11244704574346542, 0.14050333201885223, 0.10104741901159286, 0.11973710358142853, 0.13549891114234924, 0.15526476502418518, 0.13265182077884674, 0.12056758254766464, 0.12925885617733002, 0.1272679567337036, 0.1449735015630722, 0.11247723549604416]], [[0.3042188584804535, 0.2957010567188263, 0.2866106629371643, 0.2940428853034973, 0.2834937870502472, 0.29787346720695496, 0.32594627141952515, 0.342810720205307, 0.27749529480934143, 0.2956830859184265, 0.32209646701812744, 0.2907615900039673, 0.32342058420181274, 0.29443877935409546, 0.28074467182159424, 0.30117225646972656, 0.3046269118785858, 0.33182215690612793, 0.28130093216896057, 0.29697537422180176, 0.28237345814704895, 0.25840112566947937, 0.30697914958000183, 0.2978013753890991, 0.2772345542907715, 0.3146093785762787, 0.2769641876220703, 0.28071174025535583], [0.24306820333003998, 0.24200445413589478, 0.23426108062267303, 0.24503332376480103, 0.25959843397140503, 0.2518475651741028, 0.26323264837265015, 0.2377680391073227, 0.23799240589141846, 0.23165291547775269, 0.26149001717567444, 0.2534302771091461, 0.2627631425857544, 0.21566852927207947, 0.2379600703716278, 0.26291054487228394, 0.2400614470243454, 0.28325241804122925, 0.2640875577926636, 0.2417202889919281, 0.25653040409088135, 0.2535834312438965, 0.24503111839294434, 0.24680328369140625, 0.2550426125526428, 0.20867596566677094, 0.25930431485176086, 0.2708096504211426], [0.16414088010787964, 0.18879984319210052, 0.1686067432165146, 0.17405438423156738, 0.16384682059288025, 0.17270702123641968, 0.1508857011795044, 0.18269282579421997, 0.17526088654994965, 0.17620012164115906, 0.18792830407619476, 0.2010563313961029, 0.18907074630260468, 0.15648552775382996, 0.1993747055530548, 0.20101897418498993, 0.16031192243099213, 0.17800705134868622, 0.20555607974529266, 0.16666482388973236, 0.18660449981689453, 0.1821458637714386, 0.17784516513347626, 0.1895550787448883, 0.16005097329616547, 0.19634322822093964, 0.16700458526611328, 0.1439392864704132], [0.11436188220977783, 0.09721536934375763, 0.11900478601455688, 0.13089299201965332, 0.09623095393180847, 0.10192961990833282, 0.11401977390050888, 0.12395676225423813, 0.1146298199892044, 0.14430536329746246, 0.1131802499294281, 0.13077442348003387, 0.11531585454940796, 0.11772628873586655, 0.12239612638950348, 0.13885004818439484, 0.13702234625816345, 0.11911779642105103, 0.09088151156902313, 0.13233168423175812, 0.10536440461874008, 0.11626752465963364, 0.0996738076210022, 0.12930569052696228, 0.09823503345251083, 0.09787224978208542, 0.1526990532875061, 0.09966711699962616], [0.1389121264219284, 0.13154712319374084, 0.10711956024169922, 0.13336163759231567, 0.12933531403541565, 0.10864357650279999, 0.1344641149044037, 0.12859082221984863, 0.14540013670921326, 0.12882556021213531, 0.13147050142288208, 0.12367871403694153, 0.11060076206922531, 0.11667104810476303, 0.09786077588796616, 0.12033893913030624, 0.11416536569595337, 0.11466340720653534, 0.12721800804138184, 0.11619554460048676, 0.12625247240066528, 0.13454791903495789, 0.10437806695699692, 0.11469542980194092, 0.14285752177238464, 0.12759745121002197, 0.11433979123830795, 0.11595603078603745], [0.08421008288860321, 0.0780944675207138, 0.08090915530920029, 0.07599451392889023, 0.08883541822433472, 0.07203539460897446, 0.10577039420604706, 0.09161480516195297, 0.10626139491796494, 0.10124130547046661, 0.0946483239531517, 0.10437842458486557, 0.0719422698020935, 0.07343440502882004, 0.08083640038967133, 0.08061698079109192, 0.08144350349903107, 0.08553661406040192, 0.06510867178440094, 0.07553941011428833, 0.08882313966751099, 0.08107714354991913, 0.10085710138082504, 0.11651931703090668, 0.07673212140798569, 0.08409847319126129, 0.08609043061733246, 0.07705291360616684]], [[0.2936844229698181, 0.33724379539489746, 0.34186017513275146, 0.2772393226623535, 0.29984116554260254, 0.2849498689174652, 0.3279268741607666, 0.3078644275665283, 0.3453015983104706, 0.3286687135696411, 0.3234919309616089, 0.2909969985485077, 0.35405898094177246, 0.31447944045066833, 0.2763028144836426, 0.33483636379241943, 0.2649593651294708, 0.30397462844848633, 0.2718982696533203, 0.32575640082359314, 0.2839125990867615, 0.35870593786239624, 0.38009214401245117, 0.32130739092826843, 0.2932155132293701, 0.3143481910228729, 0.3206462562084198, 0.3431337773799896], [0.20636865496635437, 0.2091471403837204, 0.2152821123600006, 0.22467342019081116, 0.21496593952178955, 0.20184984803199768, 0.22873732447624207, 0.2453099489212036, 0.21525362133979797, 0.24002717435359955, 0.25010889768600464, 0.23177796602249146, 0.21195998787879944, 0.2462148517370224, 0.2727234363555908, 0.26140129566192627, 0.24095796048641205, 0.24164196848869324, 0.19603322446346283, 0.20007285475730896, 0.26697781682014465, 0.20791858434677124, 0.23071792721748352, 0.19702649116516113, 0.2154955118894577, 0.2194914072751999, 0.20434316992759705, 0.2506844997406006], [0.18674390017986298, 0.17721626162528992, 0.16409365832805634, 0.13639992475509644, 0.20743855834007263, 0.14692115783691406, 0.15693920850753784, 0.19011548161506653, 0.195577010512352, 0.1824464499950409, 0.17034173011779785, 0.1563625931739807, 0.1587066352367401, 0.15629690885543823, 0.15784820914268494, 0.21332232654094696, 0.17138688266277313, 0.14428028464317322, 0.1616147756576538, 0.15741442143917084, 0.21918904781341553, 0.16252189874649048, 0.14343951642513275, 0.16127794981002808, 0.16872760653495789, 0.17885498702526093, 0.16501986980438232, 0.17552298307418823], [0.2066057026386261, 0.1925249546766281, 0.21964728832244873, 0.20689702033996582, 0.21162277460098267, 0.19938795268535614, 0.18102073669433594, 0.23424625396728516, 0.19644781947135925, 0.17849478125572205, 0.17880789935588837, 0.20546451210975647, 0.2111824005842209, 0.203413724899292, 0.1892484724521637, 0.21662354469299316, 0.15522073209285736, 0.19099263846874237, 0.1824718713760376, 0.164138063788414, 0.22388796508312225, 0.19810733199119568, 0.17565667629241943, 0.1764712631702423, 0.22935442626476288, 0.20205050706863403, 0.19831138849258423, 0.2002091109752655], [0.15801246464252472, 0.14335015416145325, 0.18534982204437256, 0.14423376321792603, 0.17305448651313782, 0.14759141206741333, 0.14239518344402313, 0.1807636022567749, 0.1786191463470459, 0.15438804030418396, 0.16636823117733002, 0.12677446007728577, 0.12949088215827942, 0.12230827659368515, 0.13877443969249725, 0.14161580801010132, 0.12771745026111603, 0.1456097513437271, 0.15660832822322845, 0.17377683520317078, 0.12992016971111298, 0.1482820212841034, 0.14513909816741943, 0.1135360524058342, 0.15326279401779175, 0.1287280172109604, 0.1349269598722458, 0.12006743252277374], [0.14008155465126038, 0.15252184867858887, 0.13513191044330597, 0.14272603392601013, 0.16664505004882812, 0.1590571105480194, 0.1445402354001999, 0.14625957608222961, 0.14721305668354034, 0.13094361126422882, 0.146119624376297, 0.13721129298210144, 0.1528870314359665, 0.1832275390625, 0.14692658185958862, 0.15645155310630798, 0.14388379454612732, 0.14589956402778625, 0.13318464159965515, 0.18834325671195984, 0.15024589002132416, 0.15462474524974823, 0.14114420115947723, 0.14130499958992004, 0.1433226466178894, 0.09386470168828964, 0.18021446466445923, 0.15489286184310913]], [[0.29814085364341736, 0.24939188361167908, 0.2797672152519226, 0.34830066561698914, 0.3237498998641968, 0.2778262197971344, 0.28700482845306396, 0.3050193190574646, 0.3570677638053894, 0.30429840087890625, 0.28859850764274597, 0.33001402020454407, 0.2904510498046875, 0.30230462551116943, 0.3220226466655731, 0.3385051488876343, 0.30768564343452454, 0.3085678517818451, 0.3105102479457855, 0.3220885097980499, 0.2972763180732727, 0.3716275691986084, 0.3053123354911804, 0.34361502528190613, 0.24890248477458954, 0.29211971163749695, 0.35809701681137085, 0.24537083506584167], [0.17452296614646912, 0.16459837555885315, 0.1399928629398346, 0.19302836060523987, 0.1587435007095337, 0.16712085902690887, 0.202356219291687, 0.14179816842079163, 0.14082664251327515, 0.1635276824235916, 0.17117232084274292, 0.20402449369430542, 0.1318739950656891, 0.1935485452413559, 0.14760008454322815, 0.143419548869133, 0.167689710855484, 0.1514001339673996, 0.1666107475757599, 0.15310582518577576, 0.18592248857021332, 0.14569514989852905, 0.20206329226493835, 0.17033927142620087, 0.14930160343647003, 0.1705365777015686, 0.17291414737701416, 0.14282354712486267], [0.2392096221446991, 0.22112557291984558, 0.1996268630027771, 0.15902066230773926, 0.17305073142051697, 0.16454541683197021, 0.21471628546714783, 0.1839390993118286, 0.17045915126800537, 0.2128918617963791, 0.16826312243938446, 0.1560278832912445, 0.19488820433616638, 0.18591496348381042, 0.15530961751937866, 0.2024906575679779, 0.16459894180297852, 0.1710486114025116, 0.1885795295238495, 0.18655109405517578, 0.17791764438152313, 0.17650461196899414, 0.1836632341146469, 0.22036859393119812, 0.13721930980682373, 0.2015073001384735, 0.19229444861412048, 0.17246273159980774], [0.12799057364463806, 0.11088502407073975, 0.1389281451702118, 0.12318899482488632, 0.1039554625749588, 0.07370553910732269, 0.12098117917776108, 0.06543411314487457, 0.12583646178245544, 0.10059738159179688, 0.07858840376138687, 0.14507228136062622, 0.10111898183822632, 0.08743515610694885, 0.07463707029819489, 0.06219344586133957, 0.07780521363019943, 0.11319403350353241, 0.08124978840351105, 0.07423518598079681, 0.09109800308942795, 0.09960749745368958, 0.09877165406942368, 0.08604632318019867, 0.06659403443336487, 0.14422325789928436, 0.08716055005788803, 0.106424480676651], [0.13366633653640747, 0.10518603026866913, 0.1562124639749527, 0.11779998242855072, 0.12822306156158447, 0.09906913340091705, 0.15298542380332947, 0.11791595071554184, 0.09667627513408661, 0.14256072044372559, 0.10693760961294174, 0.13194431364536285, 0.12493376433849335, 0.19064943492412567, 0.11942579597234726, 0.16883650422096252, 0.11996956914663315, 0.12909764051437378, 0.1500990092754364, 0.09777301549911499, 0.12680310010910034, 0.13382795453071594, 0.14117467403411865, 0.0971304401755333, 0.11182542145252228, 0.0886443704366684, 0.1225748211145401, 0.11584816873073578], [0.09468116611242294, 0.10748054087162018, 0.09008923172950745, 0.07883334904909134, 0.12494783103466034, 0.0646975189447403, 0.11847241967916489, 0.10576462745666504, 0.1177450641989708, 0.06703554838895798, 0.07445725053548813, 0.16084496676921844, 0.08346199244260788, 0.12088160961866379, 0.08086352050304413, 0.0921863242983818, 0.11321698129177094, 0.14528456330299377, 0.11278977245092392, 0.11980429291725159, 0.08742322027683258, 0.10350404679775238, 0.0748734250664711, 0.11488984525203705, 0.06584733724594116, 0.06661428511142731, 0.07361357659101486, 0.13779664039611816]], [[0.3226494789123535, 0.25927385687828064, 0.3240194618701935, 0.32823091745376587, 0.24582144618034363, 0.2643316388130188, 0.247961163520813, 0.2701731026172638, 0.35890325903892517, 0.2937487065792084, 0.2629396617412567, 0.23141908645629883, 0.29368239641189575, 0.26500746607780457, 0.30260688066482544, 0.3254022002220154, 0.29223284125328064, 0.20613913238048553, 0.24290266633033752, 0.3311619460582733, 0.20906519889831543, 0.2664772868156433, 0.24180340766906738, 0.2589738070964813, 0.28805792331695557, 0.2993954122066498, 0.28674501180648804, 0.31647995114326477], [0.14962714910507202, 0.1728302538394928, 0.1587286740541458, 0.18863967061042786, 0.1841139793395996, 0.2594752013683319, 0.16976937651634216, 0.19803816080093384, 0.1719179004430771, 0.1489633321762085, 0.2204248607158661, 0.1949603259563446, 0.1696287840604782, 0.16306954622268677, 0.1852835714817047, 0.16730853915214539, 0.16978666186332703, 0.15562179684638977, 0.2718724012374878, 0.19454316794872284, 0.2221239060163498, 0.15257762372493744, 0.17563919723033905, 0.1521679311990738, 0.19181013107299805, 0.17072778940200806, 0.1525060087442398, 0.16961318254470825], [0.17877404391765594, 0.1672305315732956, 0.1952364295721054, 0.22775541245937347, 0.2369016855955124, 0.23958787322044373, 0.19563060998916626, 0.1816442906856537, 0.21804462373256683, 0.18378156423568726, 0.18598972260951996, 0.1926085352897644, 0.17381709814071655, 0.1785605400800705, 0.17417743802070618, 0.17474792897701263, 0.19492673873901367, 0.17454098165035248, 0.22311453521251678, 0.2052236646413803, 0.19263598322868347, 0.21480028331279755, 0.1889539659023285, 0.22049185633659363, 0.19351163506507874, 0.21300408244132996, 0.20970305800437927, 0.20078343152999878], [0.1263115108013153, 0.14186523854732513, 0.1269592046737671, 0.13364526629447937, 0.16642341017723083, 0.13860806822776794, 0.15541890263557434, 0.12216033786535263, 0.13113752007484436, 0.15182355046272278, 0.1220690906047821, 0.156443253159523, 0.12790530920028687, 0.13219422101974487, 0.15371446311473846, 0.1510055512189865, 0.15734776854515076, 0.14183111488819122, 0.13173268735408783, 0.1590806245803833, 0.1495669186115265, 0.12594279646873474, 0.1310322880744934, 0.1300095170736313, 0.1333397924900055, 0.14696331322193146, 0.12090630829334259, 0.1286759227514267], [0.14882753789424896, 0.10977970063686371, 0.14291709661483765, 0.1152540072798729, 0.14939069747924805, 0.11250418424606323, 0.14090752601623535, 0.11892516911029816, 0.15499258041381836, 0.11927004158496857, 0.10852724313735962, 0.11723953485488892, 0.12532636523246765, 0.12023769319057465, 0.13281488418579102, 0.1038847491145134, 0.16078919172286987, 0.14840397238731384, 0.13737700879573822, 0.1492011845111847, 0.10094797611236572, 0.1453617811203003, 0.11031653732061386, 0.14873006939888, 0.1264767050743103, 0.14723634719848633, 0.12214209139347076, 0.11355960369110107], [0.0762634426355362, 0.08646504580974579, 0.11603446304798126, 0.10194778442382812, 0.08435694873332977, 0.1014501079916954, 0.09782248735427856, 0.08046024292707443, 0.10470058768987656, 0.10081861913204193, 0.11410369724035263, 0.10365185141563416, 0.11948810517787933, 0.08943568170070648, 0.1284116506576538, 0.10323246568441391, 0.10465343296527863, 0.11273442953824997, 0.1064712256193161, 0.07128366827964783, 0.09726008772850037, 0.08341749757528305, 0.08004013448953629, 0.09043654054403305, 0.11132864654064178, 0.08474741876125336, 0.11322464793920517, 0.08502814173698425]], [[0.2407391369342804, 0.3053135573863983, 0.25120699405670166, 0.23050278425216675, 0.28875356912612915, 0.21338006854057312, 0.2424934357404709, 0.2612937092781067, 0.266804963350296, 0.23041722178459167, 0.2986738681793213, 0.27393975853919983, 0.2587127387523651, 0.29004085063934326, 0.20610623061656952, 0.20567159354686737, 0.24102245271205902, 0.228721022605896, 0.28286880254745483, 0.301213800907135, 0.24927203357219696, 0.240403950214386, 0.2548885643482208, 0.2665467858314514, 0.26062044501304626, 0.2525097727775574, 0.2602750062942505, 0.24639956653118134], [0.1271054893732071, 0.1330244392156601, 0.16374316811561584, 0.13832400739192963, 0.14881174266338348, 0.1382155418395996, 0.11752315610647202, 0.1319868564605713, 0.12553070485591888, 0.12430396676063538, 0.15726420283317566, 0.11216157674789429, 0.13161879777908325, 0.13364356756210327, 0.13383042812347412, 0.10929432511329651, 0.15686173737049103, 0.12819430232048035, 0.1092267856001854, 0.1611323058605194, 0.11252479255199432, 0.13285599648952484, 0.14102153480052948, 0.15378189086914062, 0.12157613039016724, 0.11500109732151031, 0.13635531067848206, 0.14370450377464294], [0.1528821438550949, 0.1782292127609253, 0.14727100729942322, 0.16082483530044556, 0.1823214292526245, 0.13458633422851562, 0.14640796184539795, 0.1682455837726593, 0.19658204913139343, 0.1415298879146576, 0.14893652498722076, 0.14333409070968628, 0.13633129000663757, 0.13456712663173676, 0.14751875400543213, 0.1391032189130783, 0.1536497175693512, 0.15883222222328186, 0.14589537680149078, 0.15416760742664337, 0.14639589190483093, 0.14130094647407532, 0.16603103280067444, 0.143396258354187, 0.15131306648254395, 0.13561567664146423, 0.15559571981430054, 0.1383161097764969], [0.07720097154378891, 0.07799413055181503, 0.061179619282484055, 0.09319667518138885, 0.07183095812797546, 0.06445032358169556, 0.058450888842344284, 0.0752893015742302, 0.05241747945547104, 0.06377939134836197, 0.09454386681318283, 0.06610038131475449, 0.05816631019115448, 0.06120998412370682, 0.07486976683139801, 0.055306971073150635, 0.08353587985038757, 0.10704223811626434, 0.09430454671382904, 0.08378180861473083, 0.07035768777132034, 0.06095355376601219, 0.1139446496963501, 0.06802181899547577, 0.06011371314525604, 0.08008458465337753, 0.06646601855754852, 0.0600428581237793], [0.12543898820877075, 0.1233004778623581, 0.09655817598104477, 0.10663186013698578, 0.1451164036989212, 0.13231810927391052, 0.11229002475738525, 0.10787834972143173, 0.10101655125617981, 0.1197347342967987, 0.11183878034353256, 0.11168422549962997, 0.1337510347366333, 0.13138675689697266, 0.1051277443766594, 0.1067909300327301, 0.10586673021316528, 0.14118514955043793, 0.10976304113864899, 0.09804408252239227, 0.08392120897769928, 0.12563034892082214, 0.10197821259498596, 0.16223621368408203, 0.10775314271450043, 0.0959467887878418, 0.13796763122081757, 0.11324548721313477], [0.04588089883327484, 0.06953950226306915, 0.0697912722826004, 0.0993599146604538, 0.058030448853969574, 0.08751815557479858, 0.05400622636079788, 0.09502692520618439, 0.06919052451848984, 0.06947185844182968, 0.07001900672912598, 0.06045673415064812, 0.06894466280937195, 0.06366753578186035, 0.09839227050542831, 0.05794156715273857, 0.07330642640590668, 0.06560584902763367, 0.07284008711576462, 0.06744027882814407, 0.07059875130653381, 0.07978054881095886, 0.05155409500002861, 0.07013620436191559, 0.056994907557964325, 0.06703835725784302, 0.06055103987455368, 0.06331278383731842]], [[0.3439738154411316, 0.40492236614227295, 0.38905948400497437, 0.378528356552124, 0.33874472975730896, 0.3946159780025482, 0.36731696128845215, 0.3641985356807709, 0.31901368498802185, 0.37880703806877136, 0.38204044103622437, 0.35994061827659607, 0.3337565064430237, 0.3148045539855957, 0.3763575553894043, 0.4031837582588196, 0.3498600125312805, 0.35291093587875366, 0.32974493503570557, 0.32124704122543335, 0.39396005868911743, 0.36727190017700195, 0.36447960138320923, 0.3702779710292816, 0.364433228969574, 0.3834012746810913, 0.34123727679252625, 0.39665937423706055], [0.32324516773223877, 0.2909602224826813, 0.2741652727127075, 0.2870720326900482, 0.31629738211631775, 0.29755374789237976, 0.24505409598350525, 0.29219627380371094, 0.2606668472290039, 0.27460426092147827, 0.30344870686531067, 0.307119220495224, 0.303661584854126, 0.2738299071788788, 0.36370688676834106, 0.30602896213531494, 0.2729180157184601, 0.27782100439071655, 0.3360956311225891, 0.3087226152420044, 0.2726336419582367, 0.32419830560684204, 0.3066610097885132, 0.31508949398994446, 0.27176162600517273, 0.26770612597465515, 0.28768765926361084, 0.2921055257320404], [0.25814589858055115, 0.2432643622159958, 0.23830167949199677, 0.2513825297355652, 0.24114152789115906, 0.2374155968427658, 0.22905954718589783, 0.23561498522758484, 0.2282358855009079, 0.22409558296203613, 0.255750834941864, 0.27133041620254517, 0.27564018964767456, 0.2294420450925827, 0.2597249746322632, 0.23759791254997253, 0.24334129691123962, 0.24604147672653198, 0.24172526597976685, 0.25374990701675415, 0.2574901282787323, 0.23108899593353271, 0.19235369563102722, 0.25497323274612427, 0.20465245842933655, 0.26405373215675354, 0.2169674038887024, 0.24247120320796967], [0.1733940839767456, 0.11025270074605942, 0.10841047018766403, 0.1540481448173523, 0.16478434205055237, 0.13797786831855774, 0.12793533504009247, 0.1330934762954712, 0.0927848368883133, 0.13271979987621307, 0.11735761165618896, 0.10671854019165039, 0.13465726375579834, 0.10370539128780365, 0.1531849056482315, 0.14137978851795197, 0.09099310636520386, 0.11922048032283783, 0.10217893123626709, 0.1330808401107788, 0.11528222262859344, 0.1412111520767212, 0.11943890899419785, 0.14415623247623444, 0.1403827965259552, 0.1635732352733612, 0.1165686845779419, 0.10161187499761581], [0.12820467352867126, 0.11028649657964706, 0.13608530163764954, 0.10254981368780136, 0.13833515346050262, 0.1468084752559662, 0.14209555089473724, 0.12959957122802734, 0.09369223564863205, 0.13274867832660675, 0.13926170766353607, 0.0991453155875206, 0.126711905002594, 0.12924490869045258, 0.07851068675518036, 0.13615205883979797, 0.09925603121519089, 0.1006900817155838, 0.1276676058769226, 0.13890361785888672, 0.15592817962169647, 0.13357895612716675, 0.16250939667224884, 0.16021792590618134, 0.10109289735555649, 0.12763825058937073, 0.13628101348876953, 0.1339154690504074], [0.08115167915821075, 0.07516749203205109, 0.05178561061620712, 0.1133568286895752, 0.07979279011487961, 0.07504339516162872, 0.155239537358284, 0.0937749370932579, 0.09086605161428452, 0.09296868741512299, 0.07243990153074265, 0.14905011653900146, 0.08665325492620468, 0.06854675710201263, 0.10121455788612366, 0.09107480943202972, 0.13063819706439972, 0.07639384269714355, 0.1188705563545227, 0.0862860307097435, 0.08208301663398743, 0.10650940984487534, 0.10355070233345032, 0.11041905730962753, 0.06006807088851929, 0.08163604885339737, 0.09254567325115204, 0.07502108067274094]], [[0.3646736145019531, 0.376579612493515, 0.34767934679985046, 0.37133702635765076, 0.38190072774887085, 0.36585092544555664, 0.37056905031204224, 0.3103637099266052, 0.31686434149742126, 0.33674392104148865, 0.35968178510665894, 0.3570760488510132, 0.31615862250328064, 0.35801729559898376, 0.3553865849971771, 0.3527089059352875, 0.3681603670120239, 0.30739516019821167, 0.3412669599056244, 0.3047041893005371, 0.3585849702358246, 0.3308263421058655, 0.3571556508541107, 0.3420493006706238, 0.36551791429519653, 0.3915499150753021, 0.3687877357006073, 0.3255051076412201], [0.28689104318618774, 0.30553847551345825, 0.2985234260559082, 0.2630578577518463, 0.2538917064666748, 0.32675254344940186, 0.2770441770553589, 0.29919275641441345, 0.31136927008628845, 0.305909126996994, 0.30103030800819397, 0.2905869781970978, 0.3365316390991211, 0.2944575250148773, 0.3064042031764984, 0.3149335980415344, 0.2985198497772217, 0.3070617914199829, 0.2972521483898163, 0.3207992911338806, 0.2856675684452057, 0.3075357973575592, 0.26110517978668213, 0.27726978063583374, 0.31525468826293945, 0.3022887110710144, 0.2870742976665497, 0.3178160786628723], [0.22325924038887024, 0.19229285418987274, 0.23816010355949402, 0.23148950934410095, 0.24241511523723602, 0.28957653045654297, 0.24384966492652893, 0.2367539256811142, 0.20430666208267212, 0.19152876734733582, 0.2043956220149994, 0.2705066204071045, 0.26527148485183716, 0.22972428798675537, 0.21620182693004608, 0.20830535888671875, 0.3059406280517578, 0.21782398223876953, 0.2057354897260666, 0.24388323724269867, 0.2221197783946991, 0.22511649131774902, 0.18656519055366516, 0.2427762746810913, 0.23284634947776794, 0.2481086254119873, 0.21872028708457947, 0.23375439643859863], [0.2698349952697754, 0.24131575226783752, 0.21351616084575653, 0.21206200122833252, 0.2204350233078003, 0.24445053935050964, 0.25517815351486206, 0.24118182063102722, 0.2314044088125229, 0.19561588764190674, 0.23091666400432587, 0.22529160976409912, 0.2515328824520111, 0.23310324549674988, 0.22171175479888916, 0.27800440788269043, 0.19744925200939178, 0.27532339096069336, 0.2006174921989441, 0.2519579827785492, 0.23307126760482788, 0.2503689229488373, 0.2309686839580536, 0.2451346218585968, 0.28014642000198364, 0.22940312325954437, 0.23635098338127136, 0.2229900062084198], [0.22768716514110565, 0.18952018022537231, 0.1627727746963501, 0.1836119294166565, 0.16765150427818298, 0.19643722474575043, 0.18616211414337158, 0.18182919919490814, 0.20767569541931152, 0.19979076087474823, 0.21560905873775482, 0.16498923301696777, 0.1989285796880722, 0.17575916647911072, 0.22990021109580994, 0.22615113854408264, 0.21194861829280853, 0.21182990074157715, 0.19382718205451965, 0.21856258809566498, 0.2288297861814499, 0.21356205642223358, 0.19282901287078857, 0.24988989531993866, 0.2153463214635849, 0.20465746521949768, 0.21175360679626465, 0.17422842979431152], [0.08176618069410324, 0.11664202809333801, 0.08302678167819977, 0.14043278992176056, 0.12550443410873413, 0.1200791448354721, 0.06620971858501434, 0.09649661183357239, 0.10320232808589935, 0.10713334381580353, 0.18382494151592255, 0.10567580163478851, 0.09981665015220642, 0.11439767479896545, 0.08283941447734833, 0.14268288016319275, 0.07149079442024231, 0.113560751080513, 0.12496447563171387, 0.08715932816267014, 0.09014642238616943, 0.1264611780643463, 0.1071610078215599, 0.10923965275287628, 0.10571406781673431, 0.09659948199987411, 0.09211049973964691, 0.1552874892950058]], [[0.23681490123271942, 0.2338256537914276, 0.23584026098251343, 0.25695574283599854, 0.22002992033958435, 0.3270803987979889, 0.2748926281929016, 0.279529869556427, 0.24165934324264526, 0.3171341121196747, 0.26299723982810974, 0.3101027011871338, 0.2494872808456421, 0.2762308120727539, 0.256660521030426, 0.2658770978450775, 0.26626020669937134, 0.23629093170166016, 0.26047033071517944, 0.2997204065322876, 0.26897138357162476, 0.3085942268371582, 0.3044000267982483, 0.34877023100852966, 0.2546748220920563, 0.26992759108543396, 0.2838406562805176, 0.2915933132171631], [0.1498638242483139, 0.16044993698596954, 0.2140544354915619, 0.19599251449108124, 0.13142797350883484, 0.1637551188468933, 0.1617307811975479, 0.1544569730758667, 0.2049669623374939, 0.17825397849082947, 0.24046199023723602, 0.19319066405296326, 0.1912984848022461, 0.19727447628974915, 0.19374243915081024, 0.16129004955291748, 0.17278775572776794, 0.19209961593151093, 0.1842443197965622, 0.1947486251592636, 0.17401275038719177, 0.14956927299499512, 0.17726805806159973, 0.1890672743320465, 0.1972290724515915, 0.19872385263442993, 0.20889097452163696, 0.15873709321022034], [0.2130214422941208, 0.18197986483573914, 0.20337389409542084, 0.22439996898174286, 0.18684270977973938, 0.18070420622825623, 0.17602038383483887, 0.23681840300559998, 0.21768277883529663, 0.2063659280538559, 0.17223303020000458, 0.20230376720428467, 0.20086197555065155, 0.20213860273361206, 0.19366773962974548, 0.25369709730148315, 0.21553246676921844, 0.2102796882390976, 0.19233998656272888, 0.16233614087104797, 0.202439546585083, 0.18586795032024384, 0.18819615244865417, 0.22166383266448975, 0.2017563283443451, 0.22174713015556335, 0.1792946308851242, 0.19421951472759247], [0.17448583245277405, 0.1562729775905609, 0.17573189735412598, 0.14050734043121338, 0.1502508521080017, 0.13158801198005676, 0.13149747252464294, 0.15330016613006592, 0.17655299603939056, 0.19693952798843384, 0.13996319472789764, 0.13684380054473877, 0.14360320568084717, 0.1598970741033554, 0.1566857099533081, 0.18033981323242188, 0.142986461520195, 0.1624632328748703, 0.1500667780637741, 0.1306469738483429, 0.12777504324913025, 0.14623400568962097, 0.15384721755981445, 0.1373833268880844, 0.1465471386909485, 0.17073945701122284, 0.14963117241859436, 0.1379556506872177], [0.1717858761548996, 0.13661161065101624, 0.12931032478809357, 0.15332895517349243, 0.16275843977928162, 0.1581009328365326, 0.14686048030853271, 0.1532561182975769, 0.1551845669746399, 0.1390814483165741, 0.1984092891216278, 0.12036743015050888, 0.1458578109741211, 0.13341158628463745, 0.1557871550321579, 0.1783379763364792, 0.13918088376522064, 0.17468619346618652, 0.17873349785804749, 0.16817089915275574, 0.18112996220588684, 0.15924887359142303, 0.15578719973564148, 0.16965562105178833, 0.1201314926147461, 0.1555943787097931, 0.12961271405220032, 0.14491403102874756], [0.16908109188079834, 0.1885446012020111, 0.12457428872585297, 0.1126481294631958, 0.13358813524246216, 0.1203668862581253, 0.1213962584733963, 0.19237399101257324, 0.1267826408147812, 0.1190221756696701, 0.1282619833946228, 0.13651572167873383, 0.12345501780509949, 0.13062046468257904, 0.1716192662715912, 0.11603798717260361, 0.1324353814125061, 0.11136893928050995, 0.12174050509929657, 0.13750533759593964, 0.12049107998609543, 0.1313847452402115, 0.12214343249797821, 0.1354561746120453, 0.14227107167243958, 0.11546877026557922, 0.13566246628761292, 0.13842454552650452]], [[0.20764228701591492, 0.1839856505393982, 0.1659391224384308, 0.204030841588974, 0.19813422858715057, 0.21100878715515137, 0.19732552766799927, 0.17901138961315155, 0.2034723460674286, 0.21791456639766693, 0.20374923944473267, 0.203250452876091, 0.18169252574443817, 0.20312993228435516, 0.20907235145568848, 0.20143911242485046, 0.19256243109703064, 0.18979132175445557, 0.18975858390331268, 0.18367819488048553, 0.16889575123786926, 0.19868695735931396, 0.19672517478466034, 0.2211872935295105, 0.18785914778709412, 0.22742199897766113, 0.1939460039138794, 0.1990489363670349], [0.11602514982223511, 0.12056988477706909, 0.17328695952892303, 0.1312849521636963, 0.135521799325943, 0.0908387303352356, 0.11023673415184021, 0.1132621169090271, 0.12649911642074585, 0.1220613569021225, 0.12859106063842773, 0.1254510134458542, 0.12199424207210541, 0.10536979883909225, 0.1800609529018402, 0.1447434425354004, 0.16161775588989258, 0.1763840913772583, 0.1401946246623993, 0.15158036351203918, 0.10966908931732178, 0.12098341435194016, 0.12338247150182724, 0.15918129682540894, 0.11246836185455322, 0.14204588532447815, 0.1302877515554428, 0.12757942080497742], [0.09562580287456512, 0.08806730806827545, 0.08139491826295853, 0.07666493207216263, 0.09070336818695068, 0.08606453984975815, 0.08705254644155502, 0.07691160589456558, 0.0851391851902008, 0.07653219997882843, 0.13390152156352997, 0.10101653635501862, 0.14078372716903687, 0.10876061767339706, 0.11412714421749115, 0.10773676633834839, 0.08817906677722931, 0.10710501670837402, 0.1128765195608139, 0.10289688408374786, 0.09208492934703827, 0.09783737361431122, 0.10013263672590256, 0.10206449031829834, 0.10942649096250534, 0.09359794855117798, 0.12693321704864502, 0.0797724649310112], [0.12181627005338669, 0.08102278411388397, 0.07164643704891205, 0.08591483533382416, 0.08666237443685532, 0.08625748008489609, 0.06740245223045349, 0.0802738219499588, 0.1340036690235138, 0.0761440098285675, 0.088828906416893, 0.09103866666555405, 0.13263794779777527, 0.09746375679969788, 0.11340652406215668, 0.07564900070428848, 0.11294189095497131, 0.1347724050283432, 0.05960855633020401, 0.0670776516199112, 0.11298936605453491, 0.09797625243663788, 0.12368704378604889, 0.07220671325922012, 0.08994557708501816, 0.14298242330551147, 0.09277074038982391, 0.09827753901481628], [0.06144706532359123, 0.07245098799467087, 0.07847894728183746, 0.07970453798770905, 0.06606952100992203, 0.07427379488945007, 0.08213826268911362, 0.10579387843608856, 0.09572550654411316, 0.05724319443106651, 0.06908790022134781, 0.06365533918142319, 0.10172828286886215, 0.13145765662193298, 0.08666704595088959, 0.07362408936023712, 0.045162223279476166, 0.09897486865520477, 0.09475678205490112, 0.10088077187538147, 0.08302720636129379, 0.0682680681347847, 0.07680962979793549, 0.06666503846645355, 0.07620342075824738, 0.09730225801467896, 0.09634818881750107, 0.0768452137708664], [0.06637139618396759, 0.06713086366653442, 0.05331873893737793, 0.07237377017736435, 0.03834432363510132, 0.060842614620923996, 0.04794653505086899, 0.05128207430243492, 0.051141396164894104, 0.04391379654407501, 0.04773326963186264, 0.049271248281002045, 0.045488350093364716, 0.07518800348043442, 0.052791204303503036, 0.05628637596964836, 0.04113166779279709, 0.05489534139633179, 0.054885830730199814, 0.05562972277402878, 0.07983427494764328, 0.05418548732995987, 0.045416466891765594, 0.05157295987010002, 0.036165397614240646, 0.06421922892332077, 0.05706089362502098, 0.07833695411682129]], [[0.24322247505187988, 0.2509762942790985, 0.2571246027946472, 0.2517884075641632, 0.24189142882823944, 0.27607208490371704, 0.23652294278144836, 0.24374151229858398, 0.27476614713668823, 0.2485201358795166, 0.2446797788143158, 0.27151161432266235, 0.2825244665145874, 0.23347102105617523, 0.2803163230419159, 0.2888807952404022, 0.2578480839729309, 0.24839353561401367, 0.25242310762405396, 0.2648565173149109, 0.23393337428569794, 0.30309951305389404, 0.25537797808647156, 0.2855163514614105, 0.2424767017364502, 0.25887078046798706, 0.27497628331184387, 0.26574772596359253], [0.14870241284370422, 0.16330251097679138, 0.1470291018486023, 0.16645070910453796, 0.2001727670431137, 0.1888415664434433, 0.13870933651924133, 0.17558956146240234, 0.13408222794532776, 0.16194719076156616, 0.17816083133220673, 0.15360641479492188, 0.1639614701271057, 0.16034749150276184, 0.1465444415807724, 0.179091215133667, 0.20198474824428558, 0.2335764467716217, 0.17199914157390594, 0.14602307975292206, 0.1638430804014206, 0.16971096396446228, 0.14434531331062317, 0.1501149833202362, 0.21695926785469055, 0.1817731112241745, 0.15207527577877045, 0.19447150826454163], [0.11054607480764389, 0.1697186529636383, 0.12872527539730072, 0.1498950868844986, 0.09590822458267212, 0.10923658311367035, 0.16474376618862152, 0.14810651540756226, 0.12111368775367737, 0.12294083833694458, 0.11352317035198212, 0.13493280112743378, 0.1713269054889679, 0.11524330079555511, 0.13846968114376068, 0.1678151786327362, 0.13574925065040588, 0.15460041165351868, 0.14582937955856323, 0.19200754165649414, 0.18652018904685974, 0.1220613345503807, 0.12106102705001831, 0.12498702853918076, 0.11806038022041321, 0.1269129514694214, 0.12531475722789764, 0.13847443461418152], [0.12140427529811859, 0.08733409643173218, 0.16016548871994019, 0.10234170407056808, 0.08844839781522751, 0.13891351222991943, 0.11752963066101074, 0.14891663193702698, 0.11330746114253998, 0.1171981692314148, 0.07738538831472397, 0.09271851181983948, 0.1209760308265686, 0.08114311099052429, 0.08983612060546875, 0.1300046741962433, 0.097590371966362, 0.09768834710121155, 0.1616843044757843, 0.10418331623077393, 0.10281042754650116, 0.09707170724868774, 0.13418397307395935, 0.11155174672603607, 0.13625577092170715, 0.14432770013809204, 0.12480737268924713, 0.11586588621139526], [0.0825643539428711, 0.12719105184078217, 0.08192116022109985, 0.10718570649623871, 0.1341584324836731, 0.11161918938159943, 0.08669420331716537, 0.11258598417043686, 0.12431155890226364, 0.13954931497573853, 0.10454891622066498, 0.11746902763843536, 0.0945681482553482, 0.09604105353355408, 0.12042701244354248, 0.10136118531227112, 0.12262092530727386, 0.12496697902679443, 0.08402638882398605, 0.1238929033279419, 0.09243656694889069, 0.08823781460523605, 0.15548959374427795, 0.06688956916332245, 0.10009762644767761, 0.13911394774913788, 0.0979943722486496, 0.10003884881734848], [0.08469735831022263, 0.08076515793800354, 0.11869826912879944, 0.1001431792974472, 0.07049722969532013, 0.08383723348379135, 0.0664730966091156, 0.123354971408844, 0.05955535173416138, 0.11510835587978363, 0.06964898109436035, 0.09473522752523422, 0.08240450918674469, 0.07675307989120483, 0.11246158182621002, 0.1270318329334259, 0.04947071522474289, 0.08343555778265, 0.058329105377197266, 0.12614580988883972, 0.0793113112449646, 0.11349433660507202, 0.1019534319639206, 0.1278490275144577, 0.11355005204677582, 0.07025261223316193, 0.08765815943479538, 0.056736648082733154]], [[0.23219117522239685, 0.2129584550857544, 0.18737444281578064, 0.2085224837064743, 0.24666063487529755, 0.21933549642562866, 0.1941693276166916, 0.1937829852104187, 0.1880873441696167, 0.24600473046302795, 0.1964428722858429, 0.16474643349647522, 0.15359117090702057, 0.20561063289642334, 0.23624031245708466, 0.22423434257507324, 0.19383537769317627, 0.18397240340709686, 0.20318029820919037, 0.20288166403770447, 0.1812487691640854, 0.2107783555984497, 0.19803103804588318, 0.1974506825208664, 0.21266905963420868, 0.22168609499931335, 0.1904943883419037, 0.20689010620117188], [0.2401985377073288, 0.17732076346874237, 0.23021307587623596, 0.21199117600917816, 0.20062974095344543, 0.22092461585998535, 0.20760855078697205, 0.2070750594139099, 0.22951750457286835, 0.2430116832256317, 0.2128365933895111, 0.2556997537612915, 0.21021708846092224, 0.22719550132751465, 0.21084266901016235, 0.2235923707485199, 0.20721033215522766, 0.23570376634597778, 0.21725675463676453, 0.21238800883293152, 0.24004673957824707, 0.25833791494369507, 0.2060464322566986, 0.21135711669921875, 0.22472839057445526, 0.23049649596214294, 0.23774300515651703, 0.21430230140686035], [0.13872770965099335, 0.16799484193325043, 0.1745116412639618, 0.15768998861312866, 0.1564573496580124, 0.13792487978935242, 0.14549283683300018, 0.1542413979768753, 0.1497979313135147, 0.17211495339870453, 0.17743371427059174, 0.15105585753917694, 0.17387345433235168, 0.1490432620048523, 0.17491409182548523, 0.18140113353729248, 0.14034335315227509, 0.15890207886695862, 0.14140920341014862, 0.17604684829711914, 0.16693425178527832, 0.14316055178642273, 0.1542823314666748, 0.16312849521636963, 0.13582444190979004, 0.15553492307662964, 0.1409020721912384, 0.1576651930809021], [0.15818211436271667, 0.18029186129570007, 0.15429972112178802, 0.14531365036964417, 0.1574096381664276, 0.16650280356407166, 0.1945704221725464, 0.14928977191448212, 0.18142352998256683, 0.14370179176330566, 0.15926283597946167, 0.13100531697273254, 0.14716258645057678, 0.1615840196609497, 0.1505250632762909, 0.15251895785331726, 0.18784968554973602, 0.1630413830280304, 0.14368024468421936, 0.16492918133735657, 0.1855914294719696, 0.14689627289772034, 0.15897095203399658, 0.1781761348247528, 0.16969120502471924, 0.1417444795370102, 0.159930020570755, 0.17087048292160034], [0.13750681281089783, 0.11460737884044647, 0.14877121150493622, 0.0984254702925682, 0.11957085132598877, 0.10655669867992401, 0.13001368939876556, 0.1382758617401123, 0.11600052565336227, 0.109286829829216, 0.10581522434949875, 0.09468831866979599, 0.11177723109722137, 0.1408177614212036, 0.1158437579870224, 0.11038603633642197, 0.11249091476202011, 0.13535931706428528, 0.10104049742221832, 0.11862735450267792, 0.11576291173696518, 0.1293206661939621, 0.11511092633008957, 0.13421624898910522, 0.11698758602142334, 0.12901794910430908, 0.1383606493473053, 0.1371719241142273], [0.121456578373909, 0.09426366537809372, 0.12806712090969086, 0.15525713562965393, 0.12563776969909668, 0.13988563418388367, 0.1117815375328064, 0.10052348673343658, 0.07887282967567444, 0.1461230367422104, 0.14793162047863007, 0.08116931468248367, 0.0931384414434433, 0.11349765956401825, 0.1306481659412384, 0.12611904740333557, 0.10711342096328735, 0.11442556977272034, 0.11443521827459335, 0.10917963832616806, 0.10799944400787354, 0.10759624093770981, 0.13552629947662354, 0.11478638648986816, 0.11518879979848862, 0.11139141023159027, 0.09711182117462158, 0.11798030138015747]]], 'model_path': PosixPath('models/base_1.pth')}, 2: {'hyperparameters': {'smooth_config': [{'method': 'gaussian', 'sigma': 0.5, 'window_size': 3}]}, 'losses': [[[0.23306968808174133, 0.3258853554725647], [0.22425079345703125, 0.2072966992855072], [0.22242164611816406, 0.245054230093956], [0.11427353322505951, 0.08612734079360962], [0.07831630110740662, 0.1223115548491478], [0.11503861844539642, 0.09849848598241806]], [[0.19315096735954285, 0.23672080039978027], [0.20782968401908875, 0.23073270916938782], [0.19131967425346375, 0.1680285930633545], [0.1881670206785202, 0.15605604648590088], [0.10466556251049042, 0.07390199601650238], [0.08457519859075546, 0.07403616607189178]], [[0.18239235877990723, 0.24842147529125214], [0.22420856356620789, 0.14874860644340515], [0.09450118243694305, 0.12883642315864563], [0.15368878841400146, 0.041092291474342346], [0.06434670090675354, 0.043650444597005844], [0.07608059793710709, 0.07153946906328201]], [[0.24976615607738495, 0.3477255702018738], [0.29789823293685913, 0.2487984150648117], [0.2556094527244568, 0.18541209399700165], [0.17480424046516418, 0.18952535092830658], [0.11105065047740936, 0.044739753007888794], [0.08453655242919922, 0.10359048843383789]], [[0.15120410919189453, 0.4344554543495178], [0.31429168581962585, 0.22510676085948944], [0.15549087524414062, 0.18340550363063812], [0.1941036432981491, 0.18307213485240936], [0.08438684791326523, 0.043551623821258545], [0.08160164207220078, 0.11794479191303253]], [[0.1877908557653427, 0.3350181579589844], [0.2490677535533905, 0.3010859489440918], [0.29127761721611023, 0.18822459876537323], [0.14993730187416077, 0.12142644822597504], [0.1590804010629654, 0.15709561109542847], [0.13524523377418518, 0.15254923701286316]], [[0.1955382525920868, 0.2694980502128601], [0.3157497048377991, 0.2161104530096054], [0.22229361534118652, 0.19544917345046997], [0.1585378348827362, 0.1554643213748932], [0.13746514916419983, 0.12201932072639465], [0.12974269688129425, 0.121662937104702]], [[0.24276471138000488, 0.37122154235839844], [0.28105923533439636, 0.21307604014873505], [0.1642720252275467, 0.17940101027488708], [0.12069256603717804, 0.12137022614479065], [0.10094580054283142, 0.0975056141614914], [0.09037744998931885, 0.06823055446147919]], [[0.18852251768112183, 0.27898216247558594], [0.20489132404327393, 0.19884666800498962], [0.15694603323936462, 0.19734486937522888], [0.1802597939968109, 0.18962633609771729], [0.15208220481872559, 0.11458134651184082], [0.12869644165039062, 0.12684491276741028]], [[0.382815957069397, 0.22706131637096405], [0.21730706095695496, 0.2956010103225708], [0.21797725558280945, 0.14331454038619995], [0.09662292897701263, 0.11831289529800415], [0.11236971616744995, 0.10230406373739243], [0.09511454403400421, 0.04450143501162529]], [[0.243583083152771, 0.26371753215789795], [0.24048370122909546, 0.20699235796928406], [0.19453047215938568, 0.19677340984344482], [0.11665888875722885, 0.11936005204916], [0.1549791395664215, 0.12092748284339905], [0.10721024125814438, 0.0608726441860199]], [[0.22266343235969543, 0.2238592505455017], [0.18114981055259705, 0.12092629075050354], [0.14740526676177979, 0.15918350219726562], [0.09926104545593262, 0.059936296194791794], [0.03531578928232193, 0.09595368802547455], [0.08680561184883118, 0.04473200440406799]], [[0.29914143681526184, 0.24280548095703125], [0.25232088565826416, 0.17742523550987244], [0.14163070917129517, 0.1009751707315445], [0.10116712749004364, 0.05795084685087204], [0.05781065672636032, 0.06109478324651718], [0.06284099817276001, 0.044634729623794556]], [[0.3107241988182068, 0.22981426119804382], [0.2851186692714691, 0.2052626609802246], [0.20014169812202454, 0.19599811732769012], [0.14425653219223022, 0.12250299751758575], [0.14387759566307068, 0.15214470028877258], [0.0951797217130661, 0.13526830077171326]], [[0.2937905788421631, 0.17782196402549744], [0.15639463067054749, 0.12501966953277588], [0.1132100522518158, 0.12228640913963318], [0.12255486100912094, 0.08400897681713104], [0.09346218407154083, 0.10967131704092026], [0.10081391036510468, 0.09606020152568817]], [[0.20603863894939423, 0.2900620996952057], [0.18077979981899261, 0.21082358062267303], [0.2206888645887375, 0.1360331028699875], [0.17426156997680664, 0.14059707522392273], [0.13913065195083618, 0.11433988064527512], [0.12409542500972748, 0.14145773649215698]], [[0.37975120544433594, 0.3158892095088959], [0.25652727484703064, 0.22871285676956177], [0.1885620653629303, 0.16221129894256592], [0.09686215966939926, 0.10832487791776657], [0.16124725341796875, 0.1812824010848999], [0.10284753143787384, 0.09637902677059174]], [[0.30223512649536133, 0.17051737010478973], [0.2929016947746277, 0.19125744700431824], [0.16840434074401855, 0.1765609085559845], [0.12255859375, 0.1361544281244278], [0.1241488978266716, 0.12776055932044983], [0.11631724238395691, 0.08012910932302475]], [[0.19770167768001556, 0.33377015590667725], [0.24769501388072968, 0.21485792100429535], [0.17007341980934143, 0.16326579451560974], [0.12394015491008759, 0.1491357684135437], [0.11265502870082855, 0.08842625468969345], [0.09465897083282471, 0.04708340764045715]], [[0.32502371072769165, 0.1641739308834076], [0.30888283252716064, 0.2061707079410553], [0.18862318992614746, 0.09874540567398071], [0.07387182116508484, 0.173044353723526], [0.13088136911392212, 0.09767822921276093], [0.05059302598237991, 0.06473079323768616]], [[0.28585174679756165, 0.35530218482017517], [0.1552334874868393, 0.11707001179456711], [0.1053309366106987, 0.128515362739563], [0.11790119111537933, 0.05067136883735657], [0.044083427637815475, 0.05152282863855362], [0.058499209582805634, 0.06729841232299805]], [[0.21303912997245789, 0.2948063910007477], [0.21240006387233734, 0.19083504378795624], [0.16258689761161804, 0.08579762279987335], [0.06779509037733078, 0.09734870493412018], [0.10849453508853912, 0.05775509029626846], [0.040820203721523285, 0.03160732239484787]], [[0.30543702840805054, 0.19062116742134094], [0.2054261416196823, 0.25315892696380615], [0.20819592475891113, 0.215467631816864], [0.1558740735054016, 0.17056238651275635], [0.11986958980560303, 0.13262411952018738], [0.13666456937789917, 0.1384660303592682]], [[0.1527230441570282, 0.4654127359390259], [0.3569506108760834, 0.25972864031791687], [0.249598428606987, 0.2805165946483612], [0.27304404973983765, 0.1873950958251953], [0.1561802476644516, 0.14891229569911957], [0.17373256385326385, 0.10934555530548096]], [[0.2853724956512451, 0.2522982656955719], [0.20583133399486542, 0.2012978494167328], [0.16042432188987732, 0.13848623633384705], [0.15049253404140472, 0.12327375262975693], [0.08169563114643097, 0.13851363956928253], [0.09870597720146179, 0.10037887096405029]], [[0.15147069096565247, 0.27786463499069214], [0.24625039100646973, 0.1516219973564148], [0.201008602976799, 0.21905085444450378], [0.18327049911022186, 0.16946618258953094], [0.14790058135986328, 0.14896443486213684], [0.15649732947349548, 0.13810519874095917]], [[0.20471027493476868, 0.23856279253959656], [0.33308058977127075, 0.24081024527549744], [0.19394448399543762, 0.16362157464027405], [0.10263445973396301, 0.09175872802734375], [0.10621236264705658, 0.0908159613609314], [0.08270229399204254, 0.0693761557340622]], [[0.2765316367149353, 0.3140804171562195], [0.2602955996990204, 0.1925942748785019], [0.13716694712638855, 0.11565088480710983], [0.14640146493911743, 0.13281355798244476], [0.09289194643497467, 0.06861399114131927], [0.08013283461332321, 0.05741901695728302]], [[0.2496129721403122, 0.2763422131538391], [0.2672246992588043, 0.2696191072463989], [0.18766117095947266, 0.17881248891353607], [0.17275749146938324, 0.18006214499473572], [0.16733944416046143, 0.1414760947227478], [0.13127261400222778, 0.14063066244125366]], [[0.3139013648033142, 0.1488306224346161], [0.29022127389907837, 0.20149318873882294], [0.15236061811447144, 0.14565129578113556], [0.13666073977947235, 0.15383189916610718], [0.08182462304830551, 0.11097394675016403], [0.10250668227672577, 0.09971677511930466]]], 'mean_loss': [0.1720201533494724, 0.16291763854937422], 'val_loss': [[[0.28644245862960815, 0.2753060460090637, 0.24399107694625854, 0.22729647159576416, 0.25780659914016724, 0.27274060249328613, 0.2514064311981201, 0.23279738426208496, 0.23916029930114746, 0.2550254464149475, 0.27925461530685425, 0.27011388540267944, 0.25032198429107666, 0.2734936475753784, 0.25318965315818787, 0.2978782653808594, 0.25515925884246826, 0.27117955684661865, 0.26703953742980957, 0.23446278274059296, 0.25161057710647583, 0.23838967084884644, 0.28527596592903137, 0.21520686149597168, 0.22464731335639954, 0.2572169005870819, 0.3005855083465576, 0.22219276428222656], [0.27795931696891785, 0.25439217686653137, 0.27984505891799927, 0.24861948192119598, 0.26293298602104187, 0.31664490699768066, 0.28618723154067993, 0.3013741970062256, 0.25847697257995605, 0.2596205472946167, 0.2481040060520172, 0.2420976161956787, 0.29326605796813965, 0.3316546678543091, 0.25669318437576294, 0.2643887400627136, 0.2832270860671997, 0.2201140820980072, 0.27369996905326843, 0.30054664611816406, 0.2577037215232849, 0.2762380540370941, 0.252110093832016, 0.2921201288700104, 0.2381526529788971, 0.22453635931015015, 0.23408304154872894, 0.26166829466819763], [0.16295817494392395, 0.21074825525283813, 0.15376071631908417, 0.1517331302165985, 0.1818176507949829, 0.1460787057876587, 0.1651780903339386, 0.16874705255031586, 0.15287525951862335, 0.1793723702430725, 0.16881263256072998, 0.12920191884040833, 0.13262806832790375, 0.15786096453666687, 0.15951737761497498, 0.13362303376197815, 0.17389699816703796, 0.18378041684627533, 0.1796649694442749, 0.1782349795103073, 0.1404539793729782, 0.17173749208450317, 0.18403784930706024, 0.17842136323451996, 0.17366841435432434, 0.15209515392780304, 0.18501213192939758, 0.1796247363090515], [0.11287711560726166, 0.09589796513319016, 0.1046363040804863, 0.09195132553577423, 0.10690955817699432, 0.11845922470092773, 0.13138258457183838, 0.134396493434906, 0.13364264369010925, 0.13896793127059937, 0.10077600181102753, 0.08695515245199203, 0.14532700181007385, 0.09230771660804749, 0.096402108669281, 0.08791540563106537, 0.11602085828781128, 0.08388855308294296, 0.08232937753200531, 0.13190779089927673, 0.13884800672531128, 0.14848293364048004, 0.09197696298360825, 0.1289229691028595, 0.12567687034606934, 0.14913728833198547, 0.12696996331214905, 0.0853208526968956], [0.14341604709625244, 0.1719125211238861, 0.15085890889167786, 0.1393740028142929, 0.14532123506069183, 0.14259406924247742, 0.14944805204868317, 0.1703696846961975, 0.1916787326335907, 0.1496943086385727, 0.15355592966079712, 0.16164670884609222, 0.14300820231437683, 0.19001488387584686, 0.17181430757045746, 0.1647001951932907, 0.14750869572162628, 0.15033945441246033, 0.16442559659481049, 0.21216349303722382, 0.14710691571235657, 0.1340707540512085, 0.20415520668029785, 0.14972727000713348, 0.16602379083633423, 0.1777963638305664, 0.17050552368164062, 0.1901523470878601], [0.11789333820343018, 0.060722824186086655, 0.07849808037281036, 0.06801021099090576, 0.08377927541732788, 0.09117438644170761, 0.11941991746425629, 0.06358352303504944, 0.08711280673742294, 0.078371062874794, 0.07593417912721634, 0.05628379434347153, 0.07246001064777374, 0.09910957515239716, 0.04776297137141228, 0.07235327363014221, 0.11921070516109467, 0.10045932978391647, 0.08068393170833588, 0.05970562621951103, 0.12233845889568329, 0.07429887354373932, 0.08139051496982574, 0.06683321297168732, 0.09620583057403564, 0.05586332082748413, 0.07450541853904724, 0.08358855545520782]], [[0.27533358335494995, 0.24878942966461182, 0.30551427602767944, 0.2305353581905365, 0.2509627938270569, 0.2535940408706665, 0.27958473563194275, 0.2589362561702728, 0.26130223274230957, 0.24989774823188782, 0.2837125062942505, 0.27540475130081177, 0.2727636992931366, 0.2630431056022644, 0.27413409948349, 0.26966533064842224, 0.2728762626647949, 0.27955228090286255, 0.24302059412002563, 0.22313916683197021, 0.2360948771238327, 0.26614299416542053, 0.244868665933609, 0.2372901886701584, 0.2699001729488373, 0.24888822436332703, 0.24597719311714172, 0.24646979570388794], [0.23367658257484436, 0.22447864711284637, 0.17571386694908142, 0.22563743591308594, 0.19476519525051117, 0.19695135951042175, 0.18557509779930115, 0.22976303100585938, 0.2068457007408142, 0.20202426612377167, 0.1992414891719818, 0.18668429553508759, 0.1899051070213318, 0.2037719488143921, 0.19057248532772064, 0.22059659659862518, 0.21829275786876678, 0.21731922030448914, 0.20188269019126892, 0.1900942623615265, 0.1966153085231781, 0.19374947249889374, 0.16936556994915009, 0.19932281970977783, 0.215313121676445, 0.182826966047287, 0.1861085295677185, 0.22093383967876434], [0.21321433782577515, 0.18789343535900116, 0.17619413137435913, 0.20812825858592987, 0.1816496104001999, 0.19554051756858826, 0.18169276416301727, 0.24161235988140106, 0.21580545604228973, 0.2072564661502838, 0.20058688521385193, 0.23984023928642273, 0.19262394309043884, 0.20281347632408142, 0.19076427817344666, 0.1989905834197998, 0.21860343217849731, 0.24201509356498718, 0.2404085248708725, 0.25680118799209595, 0.18156740069389343, 0.2198096513748169, 0.20505361258983612, 0.18415600061416626, 0.18235450983047485, 0.2096744030714035, 0.19549232721328735, 0.2005462944507599], [0.14727827906608582, 0.16874687373638153, 0.13622868061065674, 0.13755908608436584, 0.15331962704658508, 0.1399347484111786, 0.14008106291294098, 0.12438618391752243, 0.10510759055614471, 0.12014557421207428, 0.12373217940330505, 0.11097502708435059, 0.11626758426427841, 0.14422421157360077, 0.09794799983501434, 0.12042485177516937, 0.11746939271688461, 0.1656736135482788, 0.14570443332195282, 0.143500417470932, 0.14449025690555573, 0.13906198740005493, 0.14705446362495422, 0.15395230054855347, 0.155997633934021, 0.1420968770980835, 0.1434400975704193, 0.13302040100097656], [0.18052780628204346, 0.11839032173156738, 0.09012576937675476, 0.09857963770627975, 0.0961790531873703, 0.09513437747955322, 0.11394010484218597, 0.086953304708004, 0.1209639310836792, 0.1361055225133896, 0.07830259203910828, 0.11168652772903442, 0.10729961842298508, 0.12111565470695496, 0.11522343009710312, 0.07085201144218445, 0.10254957526922226, 0.08789508044719696, 0.08121763914823532, 0.0702890157699585, 0.10544449090957642, 0.1520627737045288, 0.11855858564376831, 0.12077411264181137, 0.10115940868854523, 0.08952498435974121, 0.09406357258558273, 0.08606713265180588], [0.09882257878780365, 0.11500866711139679, 0.09717759490013123, 0.11145049333572388, 0.11900492757558823, 0.07363221794366837, 0.10915470123291016, 0.16290214657783508, 0.1436082422733307, 0.12823054194450378, 0.15181320905685425, 0.06080716848373413, 0.09961147606372833, 0.10632296651601791, 0.11079049110412598, 0.1386420875787735, 0.09188620746135712, 0.13425672054290771, 0.11146299540996552, 0.1089729517698288, 0.07326975464820862, 0.10563548654317856, 0.10567110776901245, 0.08164020627737045, 0.11761903762817383, 0.09470932185649872, 0.07876844704151154, 0.12006368488073349]], [[0.19968342781066895, 0.22655197978019714, 0.26107776165008545, 0.22142867743968964, 0.23066765069961548, 0.23811285197734833, 0.21324245631694794, 0.23004776239395142, 0.19433367252349854, 0.21985843777656555, 0.2497694492340088, 0.25426173210144043, 0.22002862393856049, 0.2134120911359787, 0.22841773927211761, 0.25868335366249084, 0.24741336703300476, 0.2453145980834961, 0.22987395524978638, 0.2422669231891632, 0.22099432349205017, 0.2620411515235901, 0.269074022769928, 0.20845215022563934, 0.26581716537475586, 0.241244837641716, 0.2056957483291626, 0.2406677007675171], [0.11573314666748047, 0.10312007367610931, 0.12875042855739594, 0.09014485776424408, 0.12793849408626556, 0.08447613567113876, 0.11855754256248474, 0.10930120199918747, 0.06984048336744308, 0.13299560546875, 0.06425730884075165, 0.10153567790985107, 0.0807877779006958, 0.11972048133611679, 0.12771561741828918, 0.13065612316131592, 0.10121085494756699, 0.06581392139196396, 0.10535693168640137, 0.12341155111789703, 0.12921714782714844, 0.133637934923172, 0.10907028615474701, 0.08239097893238068, 0.16449519991874695, 0.0744093656539917, 0.09753409028053284, 0.05758614465594292], [0.11587616056203842, 0.1741432249546051, 0.1414674073457718, 0.1131148487329483, 0.1856170892715454, 0.21761402487754822, 0.1731606423854828, 0.18771573901176453, 0.15150290727615356, 0.16315677762031555, 0.15998974442481995, 0.16687314212322235, 0.15467119216918945, 0.15148936212062836, 0.12579721212387085, 0.15149885416030884, 0.15715765953063965, 0.12746551632881165, 0.1281810998916626, 0.16244952380657196, 0.15470120310783386, 0.1366780400276184, 0.15414339303970337, 0.16360269486904144, 0.16801945865154266, 0.14711129665374756, 0.127739816904068, 0.12004959583282471], [0.112874835729599, 0.13461898267269135, 0.0750756561756134, 0.08608090877532959, 0.07539297640323639, 0.05003343150019646, 0.04263698309659958, 0.08062966912984848, 0.06151237711310387, 0.06320753693580627, 0.0884668380022049, 0.12508627772331238, 0.06611437350511551, 0.09378285706043243, 0.04553751274943352, 0.052262645214796066, 0.08605578541755676, 0.07254884392023087, 0.07338272035121918, 0.0972604751586914, 0.07767130434513092, 0.04113677144050598, 0.07509922981262207, 0.06979571282863617, 0.10605709254741669, 0.055568795651197433, 0.07037939876317978, 0.06913666427135468], [0.10950691998004913, 0.09390812367200851, 0.08950269222259521, 0.10484107583761215, 0.08414888381958008, 0.138736754655838, 0.10436712205410004, 0.10904109477996826, 0.09890255331993103, 0.09533987939357758, 0.08652936667203903, 0.06469923257827759, 0.09032858908176422, 0.08543210476636887, 0.07181187719106674, 0.10054060071706772, 0.16684214770793915, 0.09140058606863022, 0.09550628066062927, 0.10224833339452744, 0.10041366517543793, 0.11509986221790314, 0.09987639635801315, 0.09435467422008514, 0.08646337687969208, 0.09383734315633774, 0.11289326846599579, 0.10089556872844696], [0.07477603107690811, 0.07702211290597916, 0.08161383867263794, 0.06120526045560837, 0.09124511480331421, 0.07517243921756744, 0.09423482418060303, 0.0751505047082901, 0.060721393674612045, 0.08828292787075043, 0.0839141234755516, 0.061926618218421936, 0.08531825244426727, 0.0947917103767395, 0.05465232580900192, 0.05439053103327751, 0.1116085946559906, 0.08517944812774658, 0.045836687088012695, 0.061242442578077316, 0.08264681696891785, 0.07527776062488556, 0.07273812592029572, 0.10837900638580322, 0.05967937409877777, 0.10840051621198654, 0.050904273986816406, 0.06522960960865021]], [[0.26835882663726807, 0.2878069579601288, 0.3321431875228882, 0.3114069402217865, 0.33173882961273193, 0.2848796248435974, 0.27786362171173096, 0.27809441089630127, 0.2827262878417969, 0.29962706565856934, 0.3101692199707031, 0.3248629570007324, 0.29906976222991943, 0.2590847909450531, 0.282426118850708, 0.29243195056915283, 0.2988823652267456, 0.2803347706794739, 0.29218921065330505, 0.3558543920516968, 0.2963007688522339, 0.3108725845813751, 0.2878468632698059, 0.29390043020248413, 0.25796064734458923, 0.2938498556613922, 0.299984872341156, 0.3146793842315674], [0.2939637303352356, 0.2439659833908081, 0.2704766094684601, 0.2917843759059906, 0.28960487246513367, 0.2786308526992798, 0.2860996425151825, 0.2645878791809082, 0.27438241243362427, 0.2954927086830139, 0.2516626715660095, 0.27016323804855347, 0.2791418433189392, 0.2989414930343628, 0.3134869933128357, 0.3209012746810913, 0.25508543848991394, 0.2706814408302307, 0.29011720418930054, 0.27004489302635193, 0.26977571845054626, 0.2836964428424835, 0.30032724142074585, 0.2782645523548126, 0.2682610750198364, 0.27182942628860474, 0.3252507150173187, 0.2695850133895874], [0.1790170520544052, 0.1730312556028366, 0.18626950681209564, 0.19948451220989227, 0.20302395522594452, 0.20944640040397644, 0.2174578607082367, 0.1830943077802658, 0.185228630900383, 0.2122427076101303, 0.23488152027130127, 0.24090182781219482, 0.21660447120666504, 0.20478826761245728, 0.19086706638336182, 0.16526801884174347, 0.19939438998699188, 0.21404263377189636, 0.2249770611524582, 0.24162888526916504, 0.2104373425245285, 0.19854828715324402, 0.2133285254240036, 0.18861627578735352, 0.21518287062644958, 0.19115912914276123, 0.23980014026165009, 0.1886228770017624], [0.13261300325393677, 0.11837643384933472, 0.17980512976646423, 0.1278333067893982, 0.1314125806093216, 0.1376669853925705, 0.14685016870498657, 0.15608574450016022, 0.09130899608135223, 0.11067688465118408, 0.12265654653310776, 0.16364768147468567, 0.12324418872594833, 0.13537026941776276, 0.14956516027450562, 0.16176006197929382, 0.10636043548583984, 0.11033914983272552, 0.14799480140209198, 0.13427740335464478, 0.13956837356090546, 0.14008785784244537, 0.12591199576854706, 0.13288921117782593, 0.16260792315006256, 0.12733039259910583, 0.13468773663043976, 0.16249151527881622], [0.154275044798851, 0.10822056233882904, 0.11639025062322617, 0.11038905382156372, 0.07863275706768036, 0.08097070455551147, 0.10679268091917038, 0.11290496587753296, 0.14706188440322876, 0.09223266690969467, 0.12926211953163147, 0.11998651921749115, 0.10390892624855042, 0.09998609870672226, 0.13516445457935333, 0.1404876410961151, 0.11158131808042526, 0.10959168523550034, 0.07416146993637085, 0.13680750131607056, 0.09740333259105682, 0.10270600765943527, 0.11177000403404236, 0.1036342978477478, 0.13544467091560364, 0.14669910073280334, 0.0969666987657547, 0.09467701613903046], [0.12088662385940552, 0.11678867042064667, 0.11585217714309692, 0.08235037326812744, 0.13591933250427246, 0.11953876912593842, 0.11381842941045761, 0.15104657411575317, 0.15041254460811615, 0.11223699897527695, 0.1486024111509323, 0.09923003613948822, 0.12600384652614594, 0.13076308369636536, 0.09380549192428589, 0.11594974994659424, 0.12669342756271362, 0.14459210634231567, 0.14767369627952576, 0.12636828422546387, 0.1761007159948349, 0.11504866927862167, 0.16161558032035828, 0.09572748839855194, 0.12326078116893768, 0.11118394136428833, 0.0909309983253479, 0.12003521621227264]], [[0.2995013892650604, 0.2995385527610779, 0.30082106590270996, 0.2971278429031372, 0.32906848192214966, 0.33007293939590454, 0.3531359136104584, 0.3197437822818756, 0.3064742684364319, 0.39890629053115845, 0.3375062644481659, 0.34550994634628296, 0.3388150632381439, 0.3028329610824585, 0.3327564001083374, 0.30823609232902527, 0.30484503507614136, 0.3309647738933563, 0.29543671011924744, 0.3189471364021301, 0.3422708511352539, 0.3558923006057739, 0.3104059100151062, 0.2635534405708313, 0.3093782067298889, 0.2888418138027191, 0.3550766110420227, 0.2716977000236511], [0.15439322590827942, 0.18881486356258392, 0.205652117729187, 0.17068491876125336, 0.19533810019493103, 0.17337040603160858, 0.18539729714393616, 0.20343320071697235, 0.18481215834617615, 0.18845698237419128, 0.15104947984218597, 0.14296868443489075, 0.1784529983997345, 0.17268607020378113, 0.19808539748191833, 0.20829007029533386, 0.16908502578735352, 0.17907850444316864, 0.17282108962535858, 0.2048959732055664, 0.1800926923751831, 0.20143970847129822, 0.17550933361053467, 0.17241761088371277, 0.15814480185508728, 0.22318550944328308, 0.1784696877002716, 0.2005264014005661], [0.2012627124786377, 0.20929130911827087, 0.21097686886787415, 0.24490265548229218, 0.20342785120010376, 0.22969788312911987, 0.2149008959531784, 0.25135883688926697, 0.20067879557609558, 0.188272163271904, 0.23940269649028778, 0.20768308639526367, 0.21339689195156097, 0.22315764427185059, 0.20278838276863098, 0.200334832072258, 0.22413316369056702, 0.2004595398902893, 0.17087505757808685, 0.22697781026363373, 0.24069687724113464, 0.22701945900917053, 0.22162407636642456, 0.22579126060009003, 0.242867574095726, 0.22981467843055725, 0.17532412707805634, 0.2283540666103363], [0.1309363842010498, 0.08517782390117645, 0.11131366342306137, 0.08707274496555328, 0.11856250464916229, 0.12696567177772522, 0.05434110388159752, 0.17286840081214905, 0.12197957932949066, 0.09311187267303467, 0.13112862408161163, 0.13720598816871643, 0.12401686608791351, 0.0970519408583641, 0.11398967355489731, 0.09939172863960266, 0.07918646931648254, 0.09721855819225311, 0.14459365606307983, 0.0783228874206543, 0.09765283763408661, 0.11252647638320923, 0.12435100972652435, 0.09518932551145554, 0.13554736971855164, 0.12208758294582367, 0.1329781413078308, 0.13405857980251312], [0.14873258769512177, 0.12207277864217758, 0.10097607970237732, 0.11100894212722778, 0.13616572320461273, 0.16007369756698608, 0.11706198751926422, 0.12979121506214142, 0.17401203513145447, 0.10346674174070358, 0.11567571014165878, 0.14632247388362885, 0.12597261369228363, 0.15136051177978516, 0.17520228028297424, 0.11826031655073166, 0.12219417095184326, 0.15862298011779785, 0.12396256625652313, 0.11074652522802353, 0.1242327094078064, 0.13993331789970398, 0.15708470344543457, 0.1788819283246994, 0.1258249282836914, 0.11597739160060883, 0.16955643892288208, 0.10828974097967148], [0.12329056113958359, 0.14781929552555084, 0.15977276861667633, 0.12007281184196472, 0.15758016705513, 0.11036046594381332, 0.1342429220676422, 0.12834440171718597, 0.09076468646526337, 0.13740099966526031, 0.08546952903270721, 0.14347627758979797, 0.13733436167240143, 0.16053378582000732, 0.14692024886608124, 0.16928493976593018, 0.18637928366661072, 0.11643660068511963, 0.13244973123073578, 0.13431552052497864, 0.12585115432739258, 0.10294835269451141, 0.14197924733161926, 0.1285693645477295, 0.13182589411735535, 0.14483743906021118, 0.14765053987503052, 0.13033640384674072]], [[0.3039472699165344, 0.254756897687912, 0.2844007909297943, 0.26260054111480713, 0.27142438292503357, 0.28379660844802856, 0.314281702041626, 0.2626073956489563, 0.33083298802375793, 0.31022772192955017, 0.3220326900482178, 0.2918891906738281, 0.2887929081916809, 0.33860236406326294, 0.28664565086364746, 0.3043176233768463, 0.33433544635772705, 0.2986644506454468, 0.3006097674369812, 0.29759055376052856, 0.2889136075973511, 0.2846432626247406, 0.29437917470932007, 0.33075201511383057, 0.34168967604637146, 0.3338032364845276, 0.30984771251678467, 0.2686685025691986], [0.3264356851577759, 0.33423328399658203, 0.36167678236961365, 0.3692428469657898, 0.3419482409954071, 0.43185025453567505, 0.3397601544857025, 0.3306604027748108, 0.3866417407989502, 0.3040851950645447, 0.33937737345695496, 0.3345736265182495, 0.32343411445617676, 0.33554622530937195, 0.3661171793937683, 0.3203545808792114, 0.28964418172836304, 0.31918537616729736, 0.33284634351730347, 0.35313066840171814, 0.29844850301742554, 0.30820292234420776, 0.3921065032482147, 0.3130882680416107, 0.34192556142807007, 0.37862157821655273, 0.3383796215057373, 0.2648118734359741], [0.17397698760032654, 0.21890807151794434, 0.24492204189300537, 0.21052102744579315, 0.19965867698192596, 0.15780243277549744, 0.22226130962371826, 0.25149351358413696, 0.18701815605163574, 0.18094223737716675, 0.21514582633972168, 0.22560906410217285, 0.23308396339416504, 0.21074232459068298, 0.24126258492469788, 0.23435235023498535, 0.22085796296596527, 0.21773934364318848, 0.19732466340065002, 0.2455918788909912, 0.23429903388023376, 0.264599084854126, 0.22749213874340057, 0.2288902997970581, 0.21704792976379395, 0.24114355444908142, 0.2074868381023407, 0.2004455178976059], [0.1837829053401947, 0.2145085632801056, 0.2334975004196167, 0.2306501716375351, 0.2108030766248703, 0.1923748105764389, 0.18967735767364502, 0.22566252946853638, 0.22799262404441833, 0.2302599549293518, 0.2309587448835373, 0.17338743805885315, 0.1820840835571289, 0.2138247936964035, 0.20300588011741638, 0.1858239769935608, 0.21564678847789764, 0.16363048553466797, 0.21645419299602509, 0.1602751612663269, 0.2090003937482834, 0.20893236994743347, 0.22754117846488953, 0.20528188347816467, 0.2273465394973755, 0.1870000958442688, 0.2319866120815277, 0.20866382122039795], [0.2068856954574585, 0.26078298687934875, 0.2262592315673828, 0.2013798952102661, 0.21013009548187256, 0.23807787895202637, 0.20627085864543915, 0.22678260505199432, 0.16138893365859985, 0.23887735605239868, 0.2405736744403839, 0.20033583045005798, 0.23493628203868866, 0.1720711886882782, 0.24522487819194794, 0.21180419623851776, 0.18591752648353577, 0.18159690499305725, 0.19122987985610962, 0.18424396216869354, 0.18012629449367523, 0.25065046548843384, 0.22780416905879974, 0.21907305717468262, 0.25482454895973206, 0.18808512389659882, 0.2247105836868286, 0.21332943439483643], [0.13089174032211304, 0.19602981209754944, 0.18940770626068115, 0.17644761502742767, 0.20308542251586914, 0.19163230061531067, 0.12831537425518036, 0.14308923482894897, 0.15030546486377716, 0.22596308588981628, 0.17953579127788544, 0.18971042335033417, 0.2241310179233551, 0.21291661262512207, 0.17550480365753174, 0.2136542797088623, 0.1652822345495224, 0.19938117265701294, 0.19727644324302673, 0.19515560567378998, 0.2204984724521637, 0.19139090180397034, 0.1405167281627655, 0.16255038976669312, 0.12174373865127563, 0.2028166502714157, 0.1880342662334442, 0.17419414222240448]], [[0.3766675889492035, 0.3277170658111572, 0.3775206208229065, 0.35982745885849, 0.380746454000473, 0.3914645314216614, 0.3663342595100403, 0.35506483912467957, 0.3505665957927704, 0.3359606862068176, 0.36310678720474243, 0.4217678904533386, 0.38150930404663086, 0.3670809268951416, 0.41496604681015015, 0.36731860041618347, 0.35054895281791687, 0.3718130588531494, 0.3821921944618225, 0.4214593768119812, 0.34848475456237793, 0.37269920110702515, 0.32079017162323, 0.3986315131187439, 0.31649288535118103, 0.35913214087486267, 0.390578955411911, 0.3919837474822998], [0.2464383840560913, 0.26467570662498474, 0.28496068716049194, 0.26334816217422485, 0.24700245261192322, 0.24403807520866394, 0.28040072321891785, 0.26097071170806885, 0.23792044818401337, 0.27990469336509705, 0.23534570634365082, 0.26344555616378784, 0.22416524589061737, 0.2854169011116028, 0.2507276237010956, 0.2769697308540344, 0.25387075543403625, 0.29804718494415283, 0.307020902633667, 0.2722151279449463, 0.29228466749191284, 0.2539463937282562, 0.2547970712184906, 0.2902120053768158, 0.28661972284317017, 0.26776304841041565, 0.23556455969810486, 0.27854201197624207], [0.18329867720603943, 0.19156460464000702, 0.17233967781066895, 0.17660021781921387, 0.18639469146728516, 0.1792750060558319, 0.19516465067863464, 0.16526968777179718, 0.20101630687713623, 0.2084953486919403, 0.18531659245491028, 0.17587266862392426, 0.17904722690582275, 0.17872363328933716, 0.2278587520122528, 0.1921674907207489, 0.18367700278759003, 0.24089960753917694, 0.20848476886749268, 0.20726561546325684, 0.18940632045269012, 0.19039306044578552, 0.15324193239212036, 0.17106285691261292, 0.25268682837486267, 0.1830901801586151, 0.1918850988149643, 0.19377493858337402], [0.15136143565177917, 0.15423689782619476, 0.16961681842803955, 0.170585036277771, 0.21263456344604492, 0.1717957854270935, 0.1614740490913391, 0.1514594852924347, 0.1554795205593109, 0.16489547491073608, 0.17318636178970337, 0.1502453237771988, 0.17587660253047943, 0.16321900486946106, 0.14120826125144958, 0.1437779664993286, 0.17565345764160156, 0.14428381621837616, 0.18044814467430115, 0.15406349301338196, 0.16191044449806213, 0.13739648461341858, 0.15353301167488098, 0.16296091675758362, 0.14959454536437988, 0.16532936692237854, 0.133675679564476, 0.1644570529460907], [0.15041083097457886, 0.16209429502487183, 0.17298460006713867, 0.1451958864927292, 0.1484922170639038, 0.15210528671741486, 0.1576530933380127, 0.18982243537902832, 0.165586456656456, 0.16508159041404724, 0.158957839012146, 0.18285588920116425, 0.14482979476451874, 0.14954940974712372, 0.16086262464523315, 0.19265681505203247, 0.14753127098083496, 0.15591323375701904, 0.13611893355846405, 0.1402732878923416, 0.16041362285614014, 0.13763427734375, 0.15167950093746185, 0.14948129653930664, 0.171415776014328, 0.19316017627716064, 0.16619722545146942, 0.1691167801618576], [0.16173610091209412, 0.14844778180122375, 0.15071004629135132, 0.15136465430259705, 0.12526172399520874, 0.13060282170772552, 0.17788760364055634, 0.13388775289058685, 0.128294438123703, 0.1594444364309311, 0.12663164734840393, 0.1448921412229538, 0.1409386545419693, 0.1308216005563736, 0.12873123586177826, 0.13155175745487213, 0.13735796511173248, 0.1555001437664032, 0.14570169150829315, 0.12871131300926208, 0.147068589925766, 0.12793080508708954, 0.14241230487823486, 0.12851929664611816, 0.14564934372901917, 0.130069300532341, 0.126572847366333, 0.1353982388973236]], [[0.40444526076316833, 0.32963189482688904, 0.37549230456352234, 0.34862011671066284, 0.3345676362514496, 0.3013969659805298, 0.39385491609573364, 0.3483073115348816, 0.3495393693447113, 0.35160431265830994, 0.31905826926231384, 0.3269854784011841, 0.3582611083984375, 0.3254857659339905, 0.36226269602775574, 0.4235040843486786, 0.3325900435447693, 0.3052671551704407, 0.3418121933937073, 0.3034515678882599, 0.3271518647670746, 0.3791682720184326, 0.31417155265808105, 0.3529559075832367, 0.3222368359565735, 0.3518635630607605, 0.40003976225852966, 0.33268964290618896], [0.19034633040428162, 0.19766978919506073, 0.20623287558555603, 0.19224253296852112, 0.2149689644575119, 0.20636193454265594, 0.2019340693950653, 0.20141510665416718, 0.19087398052215576, 0.20071808993816376, 0.19846169650554657, 0.20331977307796478, 0.1686524748802185, 0.18606357276439667, 0.18594229221343994, 0.22955439984798431, 0.2059054970741272, 0.19969475269317627, 0.21740007400512695, 0.1817764937877655, 0.1929071843624115, 0.20543882250785828, 0.2062085121870041, 0.21449756622314453, 0.2272961586713791, 0.19519346952438354, 0.19335126876831055, 0.21982109546661377], [0.1550881564617157, 0.18776628375053406, 0.181070014834404, 0.15052509307861328, 0.16891571879386902, 0.1637735366821289, 0.14620792865753174, 0.15586599707603455, 0.16532516479492188, 0.14461086690425873, 0.15286871790885925, 0.1524779349565506, 0.16318246722221375, 0.15383633971214294, 0.19414353370666504, 0.19170483946800232, 0.15543639659881592, 0.17100462317466736, 0.1476069986820221, 0.18456320464611053, 0.14369718730449677, 0.13012239336967468, 0.18751391768455505, 0.16406109929084778, 0.17842578887939453, 0.16677650809288025, 0.14974504709243774, 0.1656433641910553], [0.11998489499092102, 0.09439738094806671, 0.13000231981277466, 0.10908346623182297, 0.12404157966375351, 0.10293766111135483, 0.14747239649295807, 0.11470934003591537, 0.10403132438659668, 0.10363944619894028, 0.13349558413028717, 0.12026709318161011, 0.15964719653129578, 0.12299808114767075, 0.13116079568862915, 0.1377776563167572, 0.12421874701976776, 0.10873977839946747, 0.09696768969297409, 0.10855474323034286, 0.1579587757587433, 0.1709984838962555, 0.11593455076217651, 0.13438858091831207, 0.13573986291885376, 0.11956574767827988, 0.16151365637779236, 0.11149921268224716], [0.09905670583248138, 0.11245312541723251, 0.13226357102394104, 0.11501303315162659, 0.09318868815898895, 0.12283758819103241, 0.14908510446548462, 0.1368943452835083, 0.0952269658446312, 0.15152353048324585, 0.12180548161268234, 0.13866722583770752, 0.13271386921405792, 0.13711458444595337, 0.11766975373029709, 0.10569876432418823, 0.12486039102077484, 0.11014872789382935, 0.13214081525802612, 0.11687984317541122, 0.09947836399078369, 0.11765581369400024, 0.20341545343399048, 0.11246472597122192, 0.14455121755599976, 0.10092145204544067, 0.14030826091766357, 0.13399234414100647], [0.07852890342473984, 0.07507675141096115, 0.08356651663780212, 0.11012734472751617, 0.10493598878383636, 0.0652693510055542, 0.10794337093830109, 0.10410062968730927, 0.06769491732120514, 0.09414748847484589, 0.06945472955703735, 0.06871644407510757, 0.06694213300943375, 0.11783304065465927, 0.1001523956656456, 0.07140987366437912, 0.0706527829170227, 0.07016900181770325, 0.06132662296295166, 0.06844290345907211, 0.0643782690167427, 0.09503333270549774, 0.07349435985088348, 0.07650069892406464, 0.09157612174749374, 0.12810954451560974, 0.08781568706035614, 0.07938072085380554]], [[0.2853326201438904, 0.20115332305431366, 0.24154043197631836, 0.24935786426067352, 0.24344202876091003, 0.2351112812757492, 0.24216151237487793, 0.22420470416545868, 0.27889034152030945, 0.23407356441020966, 0.23460333049297333, 0.22175931930541992, 0.21139292418956757, 0.2190617024898529, 0.2278619259595871, 0.2962612509727478, 0.23371247947216034, 0.23589909076690674, 0.25185513496398926, 0.24788209795951843, 0.21420475840568542, 0.21350906789302826, 0.25684553384780884, 0.2053782194852829, 0.19522206485271454, 0.22320011258125305, 0.2103460431098938, 0.20578068494796753], [0.18147999048233032, 0.20517656207084656, 0.16681985557079315, 0.18556222319602966, 0.20033828914165497, 0.22978398203849792, 0.17537200450897217, 0.16507862508296967, 0.18142566084861755, 0.2028270661830902, 0.18892014026641846, 0.18484733998775482, 0.18965689837932587, 0.16334840655326843, 0.19607457518577576, 0.1630188524723053, 0.20079824328422546, 0.1456691175699234, 0.1814446747303009, 0.168901726603508, 0.1755896508693695, 0.18491506576538086, 0.20094871520996094, 0.17600247263908386, 0.1972193568944931, 0.16116687655448914, 0.19189117848873138, 0.17015382647514343], [0.25806689262390137, 0.20045089721679688, 0.22761891782283783, 0.20142674446105957, 0.21381090581417084, 0.21152600646018982, 0.1919439435005188, 0.23474183678627014, 0.23292386531829834, 0.21923230588436127, 0.23906728625297546, 0.20267373323440552, 0.24287959933280945, 0.18268124759197235, 0.22533252835273743, 0.20957879722118378, 0.2132159173488617, 0.2749880254268646, 0.21231625974178314, 0.24159596860408783, 0.2088007926940918, 0.2180759161710739, 0.24413591623306274, 0.2270592749118805, 0.22910809516906738, 0.20800340175628662, 0.1876346319913864, 0.23654526472091675], [0.17973433434963226, 0.1584281474351883, 0.18790559470653534, 0.1708841323852539, 0.17715559899806976, 0.16752564907073975, 0.1628318428993225, 0.15009769797325134, 0.15763773024082184, 0.1727266162633896, 0.1780748814344406, 0.15253618359565735, 0.16501840949058533, 0.129780113697052, 0.18072311580181122, 0.16687285900115967, 0.1697714626789093, 0.20120751857757568, 0.165327787399292, 0.2104455679655075, 0.19783556461334229, 0.16964581608772278, 0.1860053390264511, 0.16617587208747864, 0.13749437034130096, 0.16631311178207397, 0.18758009374141693, 0.18024055659770966], [0.14710447192192078, 0.13464783132076263, 0.13531440496444702, 0.14601142704486847, 0.15404453873634338, 0.1278952658176422, 0.11954545229673386, 0.1637144386768341, 0.12653976678848267, 0.1520860344171524, 0.14220067858695984, 0.1344275027513504, 0.13776633143424988, 0.1744059920310974, 0.12475842237472534, 0.1346445083618164, 0.145984947681427, 0.14216192066669464, 0.1416456699371338, 0.14359474182128906, 0.1678595244884491, 0.14629477262496948, 0.15374183654785156, 0.15217116475105286, 0.14989763498306274, 0.1551486849784851, 0.14560753107070923, 0.14897242188453674], [0.15574322640895844, 0.13648276031017303, 0.14565880596637726, 0.15140241384506226, 0.1463669240474701, 0.14526933431625366, 0.18545639514923096, 0.15520724654197693, 0.13684993982315063, 0.1548691838979721, 0.14012335240840912, 0.19252698123455048, 0.14368565380573273, 0.140975683927536, 0.1430605947971344, 0.14444276690483093, 0.1616220623254776, 0.13644026219844818, 0.15905945003032684, 0.14762303233146667, 0.1401376724243164, 0.15612047910690308, 0.13044559955596924, 0.1252741813659668, 0.13952764868736267, 0.14998477697372437, 0.12737008929252625, 0.15464487671852112]], [[0.24294838309288025, 0.27892276644706726, 0.23871807754039764, 0.23693370819091797, 0.2461974024772644, 0.3124706745147705, 0.2239748239517212, 0.26334917545318604, 0.2524808645248413, 0.25262269377708435, 0.23615781962871552, 0.24452432990074158, 0.2518063485622406, 0.2636645436286926, 0.24685034155845642, 0.23891320824623108, 0.29033586382865906, 0.2899779975414276, 0.24882929027080536, 0.2243562638759613, 0.22128860652446747, 0.2387012243270874, 0.26331377029418945, 0.23492297530174255, 0.24620851874351501, 0.22260484099388123, 0.26245713233947754, 0.2282717078924179], [0.23938767611980438, 0.20673315227031708, 0.235299214720726, 0.25639885663986206, 0.23121164739131927, 0.22325919568538666, 0.2023586928844452, 0.20396541059017181, 0.20168432593345642, 0.23537561297416687, 0.21210390329360962, 0.2239672839641571, 0.23987063765525818, 0.24169620871543884, 0.21232733130455017, 0.23157744109630585, 0.2516056299209595, 0.23115476965904236, 0.25703558325767517, 0.26803839206695557, 0.20555958151817322, 0.1937115639448166, 0.26059046387672424, 0.21226660907268524, 0.2057759016752243, 0.2419428676366806, 0.24148043990135193, 0.19267770648002625], [0.14327670633792877, 0.15000206232070923, 0.11818584054708481, 0.15986588597297668, 0.13917049765586853, 0.13629691302776337, 0.1259993016719818, 0.11611184477806091, 0.14938503503799438, 0.13619109988212585, 0.13986997306346893, 0.12396060675382614, 0.13406231999397278, 0.12995275855064392, 0.1182544156908989, 0.16141372919082642, 0.15801215171813965, 0.12880264222621918, 0.13760808110237122, 0.14363329112529755, 0.14818543195724487, 0.13834363222122192, 0.12681661546230316, 0.13080835342407227, 0.14411287009716034, 0.12483829259872437, 0.11333803832530975, 0.1570661962032318], [0.1460617184638977, 0.15458226203918457, 0.12911266088485718, 0.13014313578605652, 0.14542989432811737, 0.14804233610630035, 0.11893828958272934, 0.12770836055278778, 0.1479882299900055, 0.13751444220542908, 0.17542175948619843, 0.14591404795646667, 0.10640840232372284, 0.14235225319862366, 0.11670463532209396, 0.14496777951717377, 0.14241573214530945, 0.1650891751050949, 0.14022231101989746, 0.11663075536489487, 0.15171785652637482, 0.16486872732639313, 0.15022116899490356, 0.11927971243858337, 0.1584121286869049, 0.17474976181983948, 0.19262897968292236, 0.1255752295255661], [0.09090887755155563, 0.14575757086277008, 0.14851249754428864, 0.1373676210641861, 0.1013103723526001, 0.1268196403980255, 0.12410227954387665, 0.09354284405708313, 0.06806178390979767, 0.13859356939792633, 0.07701829075813293, 0.11796265095472336, 0.10963307321071625, 0.07204976677894592, 0.11222674697637558, 0.08497846126556396, 0.09525536000728607, 0.10385897010564804, 0.0708450973033905, 0.0972120389342308, 0.11428505182266235, 0.10386443138122559, 0.11661013215780258, 0.13426512479782104, 0.1215692013502121, 0.1406170129776001, 0.08016327023506165, 0.12112921476364136], [0.09945227950811386, 0.0760953277349472, 0.10615174472332001, 0.08637501299381256, 0.09503793716430664, 0.10316765308380127, 0.07650171965360641, 0.09884211421012878, 0.08958804607391357, 0.0890619158744812, 0.0946197509765625, 0.10792672634124756, 0.09986118972301483, 0.08662237972021103, 0.0979963168501854, 0.06742259114980698, 0.11142872273921967, 0.08287219703197479, 0.10846380889415741, 0.11390320956707001, 0.07975393533706665, 0.10373368114233017, 0.08579089492559433, 0.10767042636871338, 0.10003113746643066, 0.1368199586868286, 0.11640658229589462, 0.08987852931022644]], [[0.24878555536270142, 0.21906879544258118, 0.314081609249115, 0.3011816740036011, 0.2122998833656311, 0.28322023153305054, 0.2924560308456421, 0.2668468952178955, 0.23526790738105774, 0.33723771572113037, 0.2627423405647278, 0.2687389850616455, 0.27818095684051514, 0.3106144368648529, 0.27378973364830017, 0.23733237385749817, 0.2548907399177551, 0.27259066700935364, 0.27146512269973755, 0.2821802496910095, 0.27052363753318787, 0.2794191241264343, 0.30164963006973267, 0.31884700059890747, 0.2781277000904083, 0.25234436988830566, 0.23206546902656555, 0.249933123588562], [0.20669862627983093, 0.21429404616355896, 0.23923933506011963, 0.25593480467796326, 0.24565228819847107, 0.23484371602535248, 0.2566116452217102, 0.26270419359207153, 0.20407699048519135, 0.20063820481300354, 0.22941774129867554, 0.2663082182407379, 0.19257253408432007, 0.21024012565612793, 0.25782376527786255, 0.18791817128658295, 0.25177669525146484, 0.2199573963880539, 0.22214409708976746, 0.22347477078437805, 0.2049904763698578, 0.2391771525144577, 0.20981690287590027, 0.1999368965625763, 0.21742896735668182, 0.2520737648010254, 0.24523186683654785, 0.2141989916563034], [0.18159370124340057, 0.14617851376533508, 0.18064969778060913, 0.1592053472995758, 0.15622788667678833, 0.13923929631710052, 0.13620668649673462, 0.1487354338169098, 0.16015920042991638, 0.1588985025882721, 0.1332998275756836, 0.16264045238494873, 0.11189930886030197, 0.15136080980300903, 0.1500607132911682, 0.14293161034584045, 0.14827629923820496, 0.15705037117004395, 0.12892591953277588, 0.1321398913860321, 0.14895673096179962, 0.1529582291841507, 0.13303670287132263, 0.13223709166049957, 0.17174318432807922, 0.13267891108989716, 0.11769326776266098, 0.1831011027097702], [0.17220968008041382, 0.1816263645887375, 0.17921558022499084, 0.18445859849452972, 0.17770783603191376, 0.16870783269405365, 0.16400384902954102, 0.19684875011444092, 0.16619659960269928, 0.22220826148986816, 0.16150420904159546, 0.15600720047950745, 0.19757579267024994, 0.18369626998901367, 0.14981725811958313, 0.19434630870819092, 0.18130138516426086, 0.1809627264738083, 0.1676567792892456, 0.19447702169418335, 0.1933896392583847, 0.1609078347682953, 0.16107025742530823, 0.1799716055393219, 0.13933458924293518, 0.1704757660627365, 0.17321616411209106, 0.18237289786338806], [0.09128497540950775, 0.11220286786556244, 0.10732482373714447, 0.10877906531095505, 0.10753774642944336, 0.14168569445610046, 0.15065282583236694, 0.12991830706596375, 0.13033607602119446, 0.14329861104488373, 0.08814458549022675, 0.13875208795070648, 0.16850337386131287, 0.16107888519763947, 0.09646552801132202, 0.11166338622570038, 0.13355596363544464, 0.12708716094493866, 0.137674480676651, 0.11860384047031403, 0.12152986973524094, 0.15119759738445282, 0.10479100793600082, 0.12236931174993515, 0.13724365830421448, 0.12915271520614624, 0.1887901872396469, 0.13567635416984558], [0.09263011068105698, 0.08754845708608627, 0.09856250137090683, 0.09323115646839142, 0.10173635184764862, 0.08524312824010849, 0.07513748109340668, 0.10086824744939804, 0.10143627971410751, 0.08659449219703674, 0.08525530993938446, 0.10991477221250534, 0.1198679730296135, 0.09325850009918213, 0.10275775194168091, 0.1066388487815857, 0.09189008176326752, 0.08382146060466766, 0.115230493247509, 0.08881539106369019, 0.09922956675291061, 0.1292179673910141, 0.0871056467294693, 0.1003243550658226, 0.08445104211568832, 0.08430638164281845, 0.1187194213271141, 0.09049828350543976]], [[0.24271509051322937, 0.24071477353572845, 0.2021850049495697, 0.233290895819664, 0.22068028151988983, 0.25423726439476013, 0.23283955454826355, 0.19666311144828796, 0.23843520879745483, 0.23703883588314056, 0.21950682997703552, 0.23936235904693604, 0.195174902677536, 0.22344812750816345, 0.22337162494659424, 0.2080765813589096, 0.2445436418056488, 0.24327205121517181, 0.21728985011577606, 0.19792352616786957, 0.2223874032497406, 0.2358323335647583, 0.2560141980648041, 0.2286997139453888, 0.21373502910137177, 0.2251441776752472, 0.2313232123851776, 0.2560749650001526], [0.16289018094539642, 0.1609782874584198, 0.15586993098258972, 0.1686563789844513, 0.1569003462791443, 0.16891798377037048, 0.17867884039878845, 0.21027109026908875, 0.1686825454235077, 0.1581571102142334, 0.1923220157623291, 0.14376209676265717, 0.17468568682670593, 0.16440275311470032, 0.17472267150878906, 0.16773274540901184, 0.16639190912246704, 0.19618813693523407, 0.1726778745651245, 0.1376994401216507, 0.14080765843391418, 0.1638983190059662, 0.16254763305187225, 0.156929612159729, 0.17815938591957092, 0.1709173172712326, 0.15827201306819916, 0.16091573238372803], [0.19398455321788788, 0.13191956281661987, 0.16327476501464844, 0.13363726437091827, 0.1259469985961914, 0.1382926106452942, 0.15735100209712982, 0.14316895604133606, 0.12535947561264038, 0.11232082545757294, 0.1511731594800949, 0.13360381126403809, 0.14107473194599152, 0.13744749128818512, 0.15241321921348572, 0.1432371735572815, 0.1516985297203064, 0.12367060035467148, 0.13661985099315643, 0.13973858952522278, 0.13216263055801392, 0.1460878700017929, 0.15789052844047546, 0.14080429077148438, 0.14020571112632751, 0.12998515367507935, 0.1481759250164032, 0.17559096217155457], [0.06166411191225052, 0.049587201327085495, 0.08821036666631699, 0.05076482146978378, 0.08795064687728882, 0.06705622375011444, 0.0781589150428772, 0.05279992148280144, 0.09346061199903488, 0.08589636534452438, 0.05814892053604126, 0.056866422295570374, 0.0645856186747551, 0.06254208832979202, 0.06167539954185486, 0.08160142600536346, 0.07558964192867279, 0.07255195081233978, 0.07843821495771408, 0.10170906782150269, 0.07028526067733765, 0.06535889953374863, 0.0953131765127182, 0.0849638432264328, 0.07122813165187836, 0.07465186715126038, 0.07168767601251602, 0.06835345923900604], [0.09823950380086899, 0.08936726301908493, 0.13641658425331116, 0.09057410806417465, 0.11413067579269409, 0.09905429929494858, 0.10654298961162567, 0.1376313418149948, 0.09830217063426971, 0.08090436458587646, 0.08443975448608398, 0.1067606657743454, 0.0953003391623497, 0.09778972715139389, 0.14304298162460327, 0.10253529250621796, 0.09341707080602646, 0.09321194887161255, 0.12623371183872223, 0.13093112409114838, 0.09624350070953369, 0.10928362607955933, 0.09900488704442978, 0.11218136548995972, 0.14510776102542877, 0.12565912306308746, 0.08925727009773254, 0.10574635118246078], [0.07003284990787506, 0.05854300409555435, 0.0553971491754055, 0.06569911539554596, 0.053133510053157806, 0.08958391845226288, 0.0586206316947937, 0.05423204228281975, 0.07562001049518585, 0.03209976479411125, 0.05757937952876091, 0.03859078511595726, 0.0491023063659668, 0.07782929390668869, 0.10938545316457748, 0.04518057033419609, 0.10507908463478088, 0.054740481078624725, 0.088360995054245, 0.08092349767684937, 0.05618324130773544, 0.062702476978302, 0.08558695018291473, 0.06045292317867279, 0.06483623385429382, 0.08441253006458282, 0.08148913830518723, 0.08308493345975876]], [[0.3673548102378845, 0.2664681673049927, 0.30819928646087646, 0.2874056100845337, 0.2559843957424164, 0.33580827713012695, 0.27809298038482666, 0.2301134169101715, 0.30849188566207886, 0.2893826365470886, 0.2837119996547699, 0.2984326481819153, 0.35294151306152344, 0.2928403615951538, 0.279962956905365, 0.30753207206726074, 0.28405797481536865, 0.3127531111240387, 0.2695373594760895, 0.3238956332206726, 0.3391549289226532, 0.2939891517162323, 0.3419477939605713, 0.2608555853366852, 0.29316866397857666, 0.27985304594039917, 0.3322160243988037, 0.3087655007839203], [0.19277435541152954, 0.20181569457054138, 0.2009100615978241, 0.21808283030986786, 0.19137254357337952, 0.17855259776115417, 0.168440580368042, 0.19535106420516968, 0.16394370794296265, 0.17728690803050995, 0.20877552032470703, 0.1881466805934906, 0.20690982043743134, 0.1659361720085144, 0.17790719866752625, 0.1735973358154297, 0.22534143924713135, 0.16728387773036957, 0.2343764305114746, 0.1999957412481308, 0.18533599376678467, 0.16911065578460693, 0.16565251350402832, 0.16811120510101318, 0.16836445033550262, 0.16184282302856445, 0.21958951652050018, 0.19127267599105835], [0.1312452256679535, 0.10200946033000946, 0.10102393478155136, 0.15860602259635925, 0.14820753037929535, 0.13238117098808289, 0.1000642403960228, 0.11887683719396591, 0.14762024581432343, 0.1539578139781952, 0.19026929140090942, 0.13905896246433258, 0.15346573293209076, 0.1393381655216217, 0.11029024422168732, 0.10139167308807373, 0.1179213747382164, 0.1366807520389557, 0.1103023886680603, 0.11867599934339523, 0.11597837507724762, 0.13943077623844147, 0.13870444893836975, 0.13942298293113708, 0.12579463422298431, 0.15321838855743408, 0.14286473393440247, 0.13157153129577637], [0.06562690436840057, 0.1675117015838623, 0.09097792953252792, 0.07647989690303802, 0.13129329681396484, 0.10527171194553375, 0.12014493346214294, 0.08811866492033005, 0.10258912295103073, 0.12580615282058716, 0.09592853486537933, 0.10102705657482147, 0.09252241253852844, 0.07884827256202698, 0.09827229380607605, 0.11243598163127899, 0.08009342104196548, 0.0606558732688427, 0.1520615816116333, 0.12401971220970154, 0.11642275750637054, 0.06296664476394653, 0.08748380839824677, 0.05586957931518555, 0.08974240720272064, 0.12200015038251877, 0.1166384369134903, 0.12169277667999268], [0.13128170371055603, 0.14416466653347015, 0.11702793836593628, 0.11037282645702362, 0.08730729669332504, 0.16017059981822968, 0.10180019587278366, 0.10930195450782776, 0.12768878042697906, 0.12768587470054626, 0.1311626136302948, 0.14399856328964233, 0.08140459656715393, 0.09396117925643921, 0.09229540824890137, 0.16294704377651215, 0.09473787248134613, 0.17317263782024384, 0.11545787751674652, 0.12871190905570984, 0.13073834776878357, 0.12803106009960175, 0.11370803415775299, 0.14474162459373474, 0.0931830033659935, 0.0982394739985466, 0.11257734149694443, 0.08197186887264252], [0.07075712084770203, 0.10734140872955322, 0.07643457502126694, 0.11966788023710251, 0.12978965044021606, 0.11601444333791733, 0.0829169750213623, 0.05454796552658081, 0.07228384912014008, 0.11087195575237274, 0.08433198928833008, 0.07471127808094025, 0.09357310831546783, 0.07061365991830826, 0.12344541400671005, 0.09333308041095734, 0.06672979891300201, 0.06693209707736969, 0.10649190843105316, 0.12552005052566528, 0.05152881145477295, 0.09475691616535187, 0.07670560479164124, 0.10157862305641174, 0.1370244324207306, 0.10129430145025253, 0.08266551792621613, 0.09181666374206543]], [[0.3084540069103241, 0.2931405007839203, 0.2957110106945038, 0.29905110597610474, 0.2430858314037323, 0.2556799054145813, 0.3345715403556824, 0.2916598916053772, 0.2858218550682068, 0.2639155089855194, 0.27673038840293884, 0.2575427293777466, 0.25012779235839844, 0.2745544910430908, 0.33372074365615845, 0.28519484400749207, 0.287402868270874, 0.28607088327407837, 0.30600133538246155, 0.29633665084838867, 0.27328217029571533, 0.27346986532211304, 0.360480397939682, 0.27187228202819824, 0.3103649318218231, 0.31855833530426025, 0.2604653835296631, 0.27562111616134644], [0.2313995063304901, 0.2116309106349945, 0.2331245243549347, 0.24327364563941956, 0.22111162543296814, 0.2726471722126007, 0.23013955354690552, 0.20070335268974304, 0.2442459762096405, 0.2478928416967392, 0.2516527771949768, 0.21915742754936218, 0.2183014154434204, 0.26341986656188965, 0.254260778427124, 0.25750598311424255, 0.22968266904354095, 0.23204052448272705, 0.2291785180568695, 0.20791026949882507, 0.2223997563123703, 0.22244423627853394, 0.21066223084926605, 0.2588496208190918, 0.1960551142692566, 0.24605350196361542, 0.20545193552970886, 0.19155743718147278], [0.1576058566570282, 0.1944819688796997, 0.18752169609069824, 0.14166133105754852, 0.16888348758220673, 0.14136379957199097, 0.1899140328168869, 0.1830339878797531, 0.16972772777080536, 0.15883469581604004, 0.19656561315059662, 0.144969642162323, 0.183357834815979, 0.19171035289764404, 0.18019358813762665, 0.16784429550170898, 0.16906806826591492, 0.20275121927261353, 0.17599377036094666, 0.1307992786169052, 0.20799049735069275, 0.18259546160697937, 0.1564512550830841, 0.22060976922512054, 0.13254107534885406, 0.1810504049062729, 0.22721748054027557, 0.15597467124462128], [0.15488088130950928, 0.1910344809293747, 0.19578485190868378, 0.16795188188552856, 0.16662447154521942, 0.2183190882205963, 0.16963666677474976, 0.16715459525585175, 0.17507505416870117, 0.18253746628761292, 0.16255176067352295, 0.20085999369621277, 0.13475185632705688, 0.16332842409610748, 0.15698061883449554, 0.17715275287628174, 0.1671215295791626, 0.18966415524482727, 0.1613311469554901, 0.17171435058116913, 0.15293699502944946, 0.20043417811393738, 0.15385034680366516, 0.19958782196044922, 0.1687474548816681, 0.13266123831272125, 0.15205667912960052, 0.16985011100769043], [0.12129169702529907, 0.16631335020065308, 0.16416838765144348, 0.11248229444026947, 0.13100209832191467, 0.09483371675014496, 0.11853965371847153, 0.13961167633533478, 0.12781326472759247, 0.1743188351392746, 0.11673951148986816, 0.13326454162597656, 0.1478581428527832, 0.16578659415245056, 0.1495697796344757, 0.10978546738624573, 0.1269231140613556, 0.17952227592468262, 0.16051167249679565, 0.18444323539733887, 0.2012123316526413, 0.15921783447265625, 0.1437768042087555, 0.1530618965625763, 0.1195482462644577, 0.14950314164161682, 0.1399194896221161, 0.1343112587928772], [0.12117363512516022, 0.13616801798343658, 0.12031237781047821, 0.16488142311573029, 0.14616331458091736, 0.15787656605243683, 0.1415053904056549, 0.14363552629947662, 0.14764335751533508, 0.14876233041286469, 0.11685757339000702, 0.14494048058986664, 0.12386801838874817, 0.1439657062292099, 0.10154412686824799, 0.10315263271331787, 0.19747966527938843, 0.12149956077337265, 0.16104930639266968, 0.1542195826768875, 0.14988434314727783, 0.14703238010406494, 0.10701628774404526, 0.1511717438697815, 0.1304064393043518, 0.12316952645778656, 0.11829853057861328, 0.12239252030849457]], [[0.197206050157547, 0.22696048021316528, 0.18235301971435547, 0.2581619620323181, 0.1812368631362915, 0.21440258622169495, 0.21632230281829834, 0.23182258009910583, 0.18741440773010254, 0.2216789424419403, 0.1895824670791626, 0.194851815700531, 0.21138668060302734, 0.18681243062019348, 0.2524877190589905, 0.2158960998058319, 0.20278096199035645, 0.22620567679405212, 0.2525486946105957, 0.19020918011665344, 0.2144189327955246, 0.19726678729057312, 0.2249806821346283, 0.2984201908111572, 0.2108239382505417, 0.20517811179161072, 0.2251662015914917, 0.20791512727737427], [0.1344640851020813, 0.15420569479465485, 0.1300445795059204, 0.206474170088768, 0.1291847825050354, 0.1645415723323822, 0.12188243865966797, 0.1222580075263977, 0.14167442917823792, 0.16441400349140167, 0.12421683967113495, 0.1763172149658203, 0.15491345524787903, 0.16586950421333313, 0.11637008190155029, 0.12839004397392273, 0.14124827086925507, 0.15615269541740417, 0.1637745350599289, 0.1480584740638733, 0.10377667844295502, 0.1422020047903061, 0.14705735445022583, 0.1522887945175171, 0.1338297426700592, 0.12447889894247055, 0.1529383659362793, 0.11471410095691681], [0.15794731676578522, 0.1554657369852066, 0.1282767653465271, 0.17554454505443573, 0.2048003375530243, 0.16108237206935883, 0.1360350102186203, 0.2072148323059082, 0.15839502215385437, 0.13263355195522308, 0.14839738607406616, 0.19247061014175415, 0.1805470883846283, 0.1491876095533371, 0.18386898934841156, 0.16172796487808228, 0.19160747528076172, 0.1435614675283432, 0.12204751372337341, 0.14199298620224, 0.15607142448425293, 0.2241230607032776, 0.20399844646453857, 0.18352270126342773, 0.20231537520885468, 0.18825368583202362, 0.16433849930763245, 0.18716344237327576], [0.1289362609386444, 0.1477261185646057, 0.15001517534255981, 0.14018940925598145, 0.15394039452075958, 0.19693663716316223, 0.1337890326976776, 0.16166651248931885, 0.14878259599208832, 0.13356462121009827, 0.12288497388362885, 0.12099673599004745, 0.1774444282054901, 0.16893742978572845, 0.1691579669713974, 0.18444769084453583, 0.14732883870601654, 0.1559964418411255, 0.15133944153785706, 0.17031893134117126, 0.1783463954925537, 0.17239265143871307, 0.1624169647693634, 0.12943187355995178, 0.10547612607479095, 0.17346882820129395, 0.14005140960216522, 0.19084672629833221], [0.13929764926433563, 0.1126842051744461, 0.13908657431602478, 0.1533983051776886, 0.14448973536491394, 0.12709781527519226, 0.13285717368125916, 0.15086686611175537, 0.1455676555633545, 0.1555880308151245, 0.16874337196350098, 0.15674197673797607, 0.1611872762441635, 0.14406369626522064, 0.17631253600120544, 0.12178438901901245, 0.14652633666992188, 0.13187402486801147, 0.198271244764328, 0.14875350892543793, 0.15086902678012848, 0.12050400674343109, 0.161233589053154, 0.1493825614452362, 0.12817250192165375, 0.175653874874115, 0.15354298055171967, 0.16721153259277344], [0.13074545562267303, 0.11638724058866501, 0.10681130737066269, 0.11421003937721252, 0.09293082356452942, 0.12255992740392685, 0.14108747243881226, 0.12489445507526398, 0.14134502410888672, 0.13211403787136078, 0.0935128927230835, 0.16179734468460083, 0.12539662420749664, 0.11080338805913925, 0.11046620458364487, 0.12323808670043945, 0.11267176270484924, 0.10912454128265381, 0.12159931659698486, 0.1472983956336975, 0.1317996233701706, 0.13603556156158447, 0.107998326420784, 0.10141120851039886, 0.11957183480262756, 0.13186192512512207, 0.10394980758428574, 0.11713062226772308]], [[0.22513219714164734, 0.233067125082016, 0.22863546013832092, 0.26461029052734375, 0.2506176829338074, 0.20707160234451294, 0.27620989084243774, 0.3010442852973938, 0.27170777320861816, 0.27203628420829773, 0.2335299253463745, 0.2654937505722046, 0.24835292994976044, 0.23894242942333221, 0.24034057557582855, 0.24213223159313202, 0.22567808628082275, 0.2239988148212433, 0.24405530095100403, 0.2714765667915344, 0.26358556747436523, 0.1991393268108368, 0.22652578353881836, 0.24795791506767273, 0.21559461951255798, 0.23618267476558685, 0.2518290877342224, 0.26573145389556885], [0.19668364524841309, 0.18525205552577972, 0.2040824145078659, 0.20201727747917175, 0.1961221992969513, 0.24222998321056366, 0.2469354271888733, 0.23238401114940643, 0.2023708075284958, 0.26431572437286377, 0.2504321336746216, 0.2385711371898651, 0.20157258212566376, 0.26061397790908813, 0.2519253194332123, 0.24866072833538055, 0.2376900166273117, 0.185395747423172, 0.2652726173400879, 0.25730571150779724, 0.1857844889163971, 0.2802024483680725, 0.23303422331809998, 0.18616771697998047, 0.20875148475170135, 0.20242008566856384, 0.23487767577171326, 0.21731315553188324], [0.1295696496963501, 0.23821401596069336, 0.16276952624320984, 0.16513091325759888, 0.20702862739562988, 0.16702935099601746, 0.14995646476745605, 0.15393969416618347, 0.12327319383621216, 0.253892183303833, 0.1722373217344284, 0.17729972302913666, 0.1388063132762909, 0.1846909523010254, 0.20731334388256073, 0.17337237298488617, 0.18879275023937225, 0.17847898602485657, 0.14070166647434235, 0.13406996428966522, 0.15924587845802307, 0.18985697627067566, 0.18352341651916504, 0.1524190753698349, 0.15008878707885742, 0.1600324809551239, 0.13437378406524658, 0.12853990495204926], [0.19869014620780945, 0.18034327030181885, 0.1973879039287567, 0.16863307356834412, 0.17150692641735077, 0.19130229949951172, 0.17774298787117004, 0.20762494206428528, 0.1925819218158722, 0.23559290170669556, 0.17435365915298462, 0.18784403800964355, 0.1660771667957306, 0.17500779032707214, 0.17800520360469818, 0.21724450588226318, 0.15977419912815094, 0.1689743995666504, 0.1755586564540863, 0.15848654508590698, 0.1871201992034912, 0.19750389456748962, 0.19710949063301086, 0.19602277874946594, 0.19310900568962097, 0.19298289716243744, 0.21484267711639404, 0.15139031410217285], [0.17674830555915833, 0.17615878582000732, 0.1627737283706665, 0.21119964122772217, 0.1710902750492096, 0.16879698634147644, 0.1423889696598053, 0.15924644470214844, 0.17530497908592224, 0.16769838333129883, 0.19624309241771698, 0.185292050242424, 0.19374005496501923, 0.18609164655208588, 0.1720937341451645, 0.1921817511320114, 0.19981180131435394, 0.17267391085624695, 0.2111770361661911, 0.15721973776817322, 0.1713348627090454, 0.19394075870513916, 0.16853955388069153, 0.2277546525001526, 0.16699069738388062, 0.18513309955596924, 0.16147753596305847, 0.17927609384059906], [0.1860520839691162, 0.1709679365158081, 0.16214565932750702, 0.13944058120250702, 0.13264399766921997, 0.16046737134456635, 0.15285825729370117, 0.1480308622121811, 0.18754059076309204, 0.17135366797447205, 0.1899387538433075, 0.16671591997146606, 0.1770547330379486, 0.14688201248645782, 0.14351503551006317, 0.16483987867832184, 0.155030757188797, 0.16787299513816833, 0.16332286596298218, 0.16828171908855438, 0.14980658888816833, 0.15033261477947235, 0.18092748522758484, 0.13126137852668762, 0.12874355912208557, 0.19212523102760315, 0.19000189006328583, 0.17668917775154114]], [[0.3620154857635498, 0.29297029972076416, 0.28649434447288513, 0.29650774598121643, 0.3221853971481323, 0.330421507358551, 0.2978522777557373, 0.294103741645813, 0.3691571354866028, 0.3171512186527252, 0.3750770092010498, 0.32792702317237854, 0.2839893102645874, 0.3112086057662964, 0.3360545039176941, 0.3359869420528412, 0.3592965602874756, 0.34913843870162964, 0.3351558446884155, 0.29600590467453003, 0.33986562490463257, 0.28020554780960083, 0.33125680685043335, 0.35723674297332764, 0.28529104590415955, 0.31702616810798645, 0.3663582503795624, 0.3474375903606415], [0.23093247413635254, 0.2357485592365265, 0.28919416666030884, 0.24269163608551025, 0.31474483013153076, 0.26372843980789185, 0.29619157314300537, 0.2396250218153, 0.2292199581861496, 0.2683172821998596, 0.23746275901794434, 0.2758902311325073, 0.2534889876842499, 0.2276136577129364, 0.26694488525390625, 0.260596364736557, 0.2414957731962204, 0.2635284662246704, 0.25451868772506714, 0.2948641777038574, 0.23035669326782227, 0.2377605140209198, 0.29570820927619934, 0.24792735278606415, 0.2746451497077942, 0.26962754130363464, 0.2854050397872925, 0.2172166109085083], [0.1793489158153534, 0.18206684291362762, 0.20400536060333252, 0.18597018718719482, 0.12863588333129883, 0.17909583449363708, 0.15677878260612488, 0.19387021660804749, 0.23443464934825897, 0.15316389501094818, 0.19361542165279388, 0.12487749755382538, 0.18309596180915833, 0.16890433430671692, 0.12929168343544006, 0.12521086633205414, 0.2009158581495285, 0.13704723119735718, 0.22673696279525757, 0.23015567660331726, 0.15008613467216492, 0.17202411592006683, 0.1459728181362152, 0.15768156945705414, 0.16465415060520172, 0.1691051721572876, 0.15794523060321808, 0.16928720474243164], [0.19937235116958618, 0.22433003783226013, 0.24729704856872559, 0.21667687594890594, 0.2201974242925644, 0.19334833323955536, 0.20283794403076172, 0.25488898158073425, 0.16019299626350403, 0.1802057921886444, 0.16629864275455475, 0.2167171686887741, 0.18449458479881287, 0.25772106647491455, 0.20741336047649384, 0.18112194538116455, 0.23078307509422302, 0.18216753005981445, 0.17038515210151672, 0.1915631741285324, 0.2343589961528778, 0.17749392986297607, 0.2906763255596161, 0.1980903446674347, 0.2400398701429367, 0.20095530152320862, 0.21374158561229706, 0.21672677993774414], [0.18506602942943573, 0.13868895173072815, 0.1647801399230957, 0.18488207459449768, 0.12146022170782089, 0.1214345246553421, 0.1554545909166336, 0.20018963515758514, 0.1624969094991684, 0.14543195068836212, 0.1850668042898178, 0.16528338193893433, 0.18339547514915466, 0.15131619572639465, 0.17101454734802246, 0.1413457989692688, 0.16506579518318176, 0.14944373071193695, 0.21072153747081757, 0.12989865243434906, 0.21556460857391357, 0.1508641541004181, 0.11190780997276306, 0.10730531066656113, 0.13256968557834625, 0.14841778576374054, 0.13265179097652435, 0.14378461241722107], [0.22619281709194183, 0.1776587814092636, 0.21757644414901733, 0.19764374196529388, 0.18292073905467987, 0.19291190803050995, 0.17868411540985107, 0.21759983897209167, 0.16349130868911743, 0.16516129672527313, 0.1832679808139801, 0.1878105103969574, 0.1577310562133789, 0.17157118022441864, 0.2265121042728424, 0.21145141124725342, 0.17763733863830566, 0.15831312537193298, 0.22048649191856384, 0.21618585288524628, 0.18777410686016083, 0.20309099555015564, 0.2138442099094391, 0.1397905796766281, 0.1573774218559265, 0.18770703673362732, 0.1762651801109314, 0.21394208073616028]], [[0.30119237303733826, 0.34842485189437866, 0.2965354919433594, 0.2952926754951477, 0.29685014486312866, 0.2625531256198883, 0.37454313039779663, 0.30816224217414856, 0.3696667551994324, 0.28883445262908936, 0.30502939224243164, 0.293285071849823, 0.2450011968612671, 0.3070761561393738, 0.32302072644233704, 0.3019966781139374, 0.3171583414077759, 0.2846350073814392, 0.33747681975364685, 0.24038192629814148, 0.3106904625892639, 0.31267791986465454, 0.3305508494377136, 0.29913002252578735, 0.3103601932525635, 0.25760945677757263, 0.2992704510688782, 0.2887042164802551], [0.2249143123626709, 0.21610717475414276, 0.2442636936903, 0.21883706748485565, 0.2120181769132614, 0.19103848934173584, 0.190804123878479, 0.2128414362668991, 0.1756814569234848, 0.22781376540660858, 0.22454039752483368, 0.20718461275100708, 0.2061518132686615, 0.1861245334148407, 0.2141861915588379, 0.2809896469116211, 0.17764393985271454, 0.16271892189979553, 0.14771193265914917, 0.2120521515607834, 0.20053362846374512, 0.2249298095703125, 0.21339671313762665, 0.20009148120880127, 0.22283408045768738, 0.17769184708595276, 0.21673499047756195, 0.18519023060798645], [0.1542370319366455, 0.19000844657421112, 0.11721014231443405, 0.1515367031097412, 0.15840809047222137, 0.1213974580168724, 0.16005849838256836, 0.17256233096122742, 0.16277849674224854, 0.15791495144367218, 0.1497533768415451, 0.16481205821037292, 0.15765926241874695, 0.17037415504455566, 0.18741092085838318, 0.14996019005775452, 0.13712728023529053, 0.14416417479515076, 0.1631733775138855, 0.14326715469360352, 0.16124215722084045, 0.18611638247966766, 0.17084579169750214, 0.2081424444913864, 0.14960402250289917, 0.15267089009284973, 0.1645653396844864, 0.14043870568275452], [0.12965261936187744, 0.15175625681877136, 0.13526254892349243, 0.15053164958953857, 0.14910173416137695, 0.14676223695278168, 0.1292056143283844, 0.18094322085380554, 0.13275015354156494, 0.14195305109024048, 0.17540165781974792, 0.17408017814159393, 0.15651065111160278, 0.13863414525985718, 0.12172602117061615, 0.13061928749084473, 0.1746448278427124, 0.16285929083824158, 0.14585472643375397, 0.1703328937292099, 0.1450764238834381, 0.159773588180542, 0.1391436606645584, 0.15954731404781342, 0.14612342417240143, 0.1409943401813507, 0.18069712817668915, 0.12325167655944824], [0.1252584606409073, 0.14193522930145264, 0.12000641226768494, 0.09370611608028412, 0.11695156991481781, 0.15137046575546265, 0.15648388862609863, 0.1298680305480957, 0.12785889208316803, 0.14037804305553436, 0.12840375304222107, 0.16576340794563293, 0.12637189030647278, 0.12586215138435364, 0.15025383234024048, 0.1299317181110382, 0.11599621176719666, 0.13638511300086975, 0.15875999629497528, 0.10801421105861664, 0.14311131834983826, 0.11636706441640854, 0.13302560150623322, 0.1304127275943756, 0.1401735246181488, 0.12241046130657196, 0.16452234983444214, 0.14190557599067688], [0.14309105277061462, 0.1342567801475525, 0.1472415328025818, 0.09787315130233765, 0.1063258945941925, 0.16253522038459778, 0.11469259113073349, 0.16958001255989075, 0.13081960380077362, 0.14229077100753784, 0.12491221725940704, 0.15402214229106903, 0.10420354455709457, 0.10269328206777573, 0.11708132922649384, 0.18530337512493134, 0.1375659704208374, 0.11190467327833176, 0.14416387677192688, 0.1050790548324585, 0.12187854945659637, 0.136875718832016, 0.14675720036029816, 0.13177677989006042, 0.12356911599636078, 0.13435637950897217, 0.14179959893226624, 0.12676557898521423]], [[0.31499141454696655, 0.2888549268245697, 0.33951377868652344, 0.3482249677181244, 0.32131585478782654, 0.315479040145874, 0.3219725787639618, 0.2828027606010437, 0.2990019619464874, 0.3596409261226654, 0.4068302512168884, 0.3258661925792694, 0.3082845211029053, 0.3111239969730377, 0.3561011254787445, 0.31736716628074646, 0.263921320438385, 0.23977777361869812, 0.2780877351760864, 0.23955361545085907, 0.23127281665802002, 0.37214845418930054, 0.3470660448074341, 0.28478044271469116, 0.3112645149230957, 0.32986533641815186, 0.29638075828552246, 0.3049336075782776], [0.22868311405181885, 0.19624292850494385, 0.17111873626708984, 0.16969498991966248, 0.19943396747112274, 0.23891088366508484, 0.2320406138896942, 0.18186679482460022, 0.20184700191020966, 0.22474992275238037, 0.1896332949399948, 0.20937131345272064, 0.2250644564628601, 0.22401301562786102, 0.21387124061584473, 0.20033442974090576, 0.2049885392189026, 0.20583169162273407, 0.20433203876018524, 0.22016191482543945, 0.20352476835250854, 0.20132490992546082, 0.18865995109081268, 0.19932466745376587, 0.17831872403621674, 0.20609495043754578, 0.23497508466243744, 0.17473620176315308], [0.16850963234901428, 0.20193251967430115, 0.17195725440979004, 0.15335014462471008, 0.20634393393993378, 0.16446518898010254, 0.18176841735839844, 0.1868390142917633, 0.1905273199081421, 0.15783613920211792, 0.18357758224010468, 0.1915760040283203, 0.18760868906974792, 0.13752596080303192, 0.1955631822347641, 0.17061647772789001, 0.21222063899040222, 0.19576537609100342, 0.1599181890487671, 0.20684966444969177, 0.15479440987110138, 0.18837687373161316, 0.1522577852010727, 0.21294614672660828, 0.18743857741355896, 0.17610709369182587, 0.1659923493862152, 0.20015347003936768], [0.15246343612670898, 0.12069708108901978, 0.15666452050209045, 0.15803462266921997, 0.1396106779575348, 0.1703481376171112, 0.15049389004707336, 0.1341017186641693, 0.1311282217502594, 0.14348500967025757, 0.18281769752502441, 0.14419899880886078, 0.11016140878200531, 0.1448008418083191, 0.15776261687278748, 0.18094202876091003, 0.12865319848060608, 0.16895608603954315, 0.11783771961927414, 0.12798313796520233, 0.13910770416259766, 0.1791801154613495, 0.13039222359657288, 0.14831897616386414, 0.12025821208953857, 0.1603849232196808, 0.13546589016914368, 0.1276571899652481], [0.11353250592947006, 0.13402768969535828, 0.11750581115484238, 0.12571436166763306, 0.11262249946594238, 0.09690471738576889, 0.11248859018087387, 0.14939218759536743, 0.09166596829891205, 0.12495006620883942, 0.11371202766895294, 0.10014910995960236, 0.12492099404335022, 0.13023729622364044, 0.13679738342761993, 0.12666966021060944, 0.115875244140625, 0.137302428483963, 0.12039043009281158, 0.1255277395248413, 0.10232730954885483, 0.1281937211751938, 0.1299644261598587, 0.11273285001516342, 0.1341370791196823, 0.11483383178710938, 0.1104094609618187, 0.09604843705892563], [0.13955214619636536, 0.1050768792629242, 0.12969475984573364, 0.10463153570890427, 0.11207813024520874, 0.0862896740436554, 0.12697258591651917, 0.08301910758018494, 0.09048137068748474, 0.0910555049777031, 0.08683794736862183, 0.10534320771694183, 0.14764119684696198, 0.08642734587192535, 0.08632516860961914, 0.07219335436820984, 0.0934012159705162, 0.09468583762645721, 0.11483743786811829, 0.07868299633264542, 0.09145103394985199, 0.14704005420207977, 0.1102796196937561, 0.12665517628192902, 0.07193613052368164, 0.09270431101322174, 0.12337442487478256, 0.10888946056365967]], [[0.36146578192710876, 0.38228434324264526, 0.2931796908378601, 0.3158968687057495, 0.28604409098625183, 0.3440855145454407, 0.2952726483345032, 0.3410688042640686, 0.30849581956863403, 0.2757876515388489, 0.31140878796577454, 0.29359883069992065, 0.35056883096694946, 0.31975528597831726, 0.32705262303352356, 0.31636708974838257, 0.3004812002182007, 0.37141990661621094, 0.3414524793624878, 0.3620638847351074, 0.32193443179130554, 0.3719272017478943, 0.32198864221572876, 0.30931419134140015, 0.3113812804222107, 0.39129018783569336, 0.28874242305755615, 0.29977506399154663], [0.17285248637199402, 0.16940435767173767, 0.24643883109092712, 0.18530502915382385, 0.22329747676849365, 0.21470944583415985, 0.19479267299175262, 0.19889086484909058, 0.15923038125038147, 0.17027699947357178, 0.20803330838680267, 0.16338971257209778, 0.25973498821258545, 0.13991859555244446, 0.19518756866455078, 0.15742610394954681, 0.21390651166439056, 0.2279917597770691, 0.17216786742210388, 0.2273103892803192, 0.2001156508922577, 0.16989800333976746, 0.20019464194774628, 0.14999103546142578, 0.21890878677368164, 0.17481514811515808, 0.19578854739665985, 0.175371915102005], [0.11437937617301941, 0.12019111216068268, 0.11476525664329529, 0.12340086698532104, 0.10197001695632935, 0.1145220398902893, 0.1635550558567047, 0.10414525121450424, 0.08441098779439926, 0.10167180001735687, 0.08759967982769012, 0.16712412238121033, 0.08451452106237411, 0.11488543450832367, 0.11913030594587326, 0.09236542880535126, 0.13052941858768463, 0.12244929373264313, 0.09974604845046997, 0.12169383466243744, 0.09140299260616302, 0.09117572754621506, 0.1304953694343567, 0.13067053258419037, 0.16558614373207092, 0.11141234636306763, 0.08889541029930115, 0.1594260036945343], [0.13910220563411713, 0.13753151893615723, 0.12191986292600632, 0.14897437393665314, 0.141957089304924, 0.2290457934141159, 0.15278637409210205, 0.21045386791229248, 0.13636933267116547, 0.1280304193496704, 0.12913234531879425, 0.14788955450057983, 0.14798635244369507, 0.13018839061260223, 0.15093770623207092, 0.14529100060462952, 0.13581323623657227, 0.15653614699840546, 0.13149882853031158, 0.15386179089546204, 0.14511431753635406, 0.15030843019485474, 0.12860041856765747, 0.17461764812469482, 0.13365787267684937, 0.1441088318824768, 0.15270397067070007, 0.19064590334892273], [0.05914243683218956, 0.07417783886194229, 0.06299185752868652, 0.054049503058195114, 0.11787128448486328, 0.07570182532072067, 0.13044613599777222, 0.06932006776332855, 0.06318821012973785, 0.05939391255378723, 0.06190764158964157, 0.06683268398046494, 0.060545630753040314, 0.06504040211439133, 0.12262175977230072, 0.06511057913303375, 0.07710147649049759, 0.10037507861852646, 0.12489590048789978, 0.057907454669475555, 0.04258963465690613, 0.05863116309046745, 0.05523563548922539, 0.12557566165924072, 0.04249266907572746, 0.05463066324591637, 0.07340309023857117, 0.09183613955974579], [0.06795668601989746, 0.0706678256392479, 0.07404991239309311, 0.07253389060497284, 0.04904116690158844, 0.07280419766902924, 0.08048264682292938, 0.11332481354475021, 0.11802973598241806, 0.08771916478872299, 0.06560336798429489, 0.06004074215888977, 0.06590817868709564, 0.09621718525886536, 0.1176215261220932, 0.10871347039937973, 0.09827929735183716, 0.09011948108673096, 0.103653185069561, 0.09674465656280518, 0.07533834874629974, 0.0836876928806305, 0.057697784155607224, 0.06843581050634384, 0.0553702786564827, 0.1150951236486435, 0.10288313031196594, 0.14378002285957336]], [[0.16844969987869263, 0.19058853387832642, 0.19286680221557617, 0.18745112419128418, 0.22441475093364716, 0.2248443365097046, 0.18159309029579163, 0.18455325067043304, 0.18048499524593353, 0.233913391828537, 0.20183786749839783, 0.17867374420166016, 0.20769482851028442, 0.198872908949852, 0.2039709985256195, 0.17550145089626312, 0.18509352207183838, 0.21043404936790466, 0.20319116115570068, 0.1723155975341797, 0.1810966432094574, 0.23449331521987915, 0.21270641684532166, 0.15918296575546265, 0.16674408316612244, 0.22806736826896667, 0.20804131031036377, 0.18283352255821228], [0.14119434356689453, 0.10520269721746445, 0.15007781982421875, 0.13031259179115295, 0.13173146545886993, 0.12823407351970673, 0.10181306302547455, 0.12663178145885468, 0.13991858065128326, 0.12559527158737183, 0.1263544112443924, 0.11864729970693588, 0.14388279616832733, 0.11867658793926239, 0.15791866183280945, 0.12046768516302109, 0.132816880941391, 0.12319596111774445, 0.12644940614700317, 0.15912514925003052, 0.16270381212234497, 0.10156472772359848, 0.14287135004997253, 0.11594527959823608, 0.11226796358823776, 0.13197173178195953, 0.14510171115398407, 0.14144785702228546], [0.1313803791999817, 0.1064334362745285, 0.13010364770889282, 0.1743646115064621, 0.14079749584197998, 0.13238093256950378, 0.1374949812889099, 0.1520487666130066, 0.15485207736492157, 0.10428088903427124, 0.16502121090888977, 0.16364489495754242, 0.1528780162334442, 0.1474032998085022, 0.1051652655005455, 0.13782258331775665, 0.14723703265190125, 0.13791146874427795, 0.15493880212306976, 0.1108722910284996, 0.13301603496074677, 0.1589743196964264, 0.17519208788871765, 0.1065060943365097, 0.12411732971668243, 0.14588893949985504, 0.16563212871551514, 0.12107537686824799], [0.09375987946987152, 0.05255429074168205, 0.055203866213560104, 0.09747637808322906, 0.11198413372039795, 0.05753687024116516, 0.08080184459686279, 0.11614751815795898, 0.0595729760825634, 0.06040111929178238, 0.08286666870117188, 0.06557556241750717, 0.07686524093151093, 0.07976154237985611, 0.08006509393453598, 0.0923125371336937, 0.13196706771850586, 0.12503747642040253, 0.15692834556102753, 0.06204569339752197, 0.09552635997533798, 0.08254194259643555, 0.0504353865981102, 0.060524385422468185, 0.1489620804786682, 0.06716647744178772, 0.07411222159862518, 0.06675650924444199], [0.10875808447599411, 0.11436395347118378, 0.11253774166107178, 0.13048532605171204, 0.09333030879497528, 0.13561087846755981, 0.05976429209113121, 0.08285804092884064, 0.10452218353748322, 0.08600204437971115, 0.117174431681633, 0.10355442762374878, 0.13842356204986572, 0.070591501891613, 0.07613623142242432, 0.09382542222738266, 0.07995013892650604, 0.10233648866415024, 0.12367692589759827, 0.11056685447692871, 0.08613906800746918, 0.09801449626684189, 0.1115020364522934, 0.09200328588485718, 0.12579426169395447, 0.09375175088644028, 0.10468753427267075, 0.11758166551589966], [0.0451529286801815, 0.05260435491800308, 0.07088183611631393, 0.0628364235162735, 0.08093981444835663, 0.08477358520030975, 0.09738116711378098, 0.1258203089237213, 0.1401190161705017, 0.1159946545958519, 0.0871567353606224, 0.061367787420749664, 0.11406594514846802, 0.088546022772789, 0.12533798813819885, 0.08634448051452637, 0.07254993915557861, 0.07473041117191315, 0.08073949068784714, 0.11905430257320404, 0.07244549691677094, 0.06591960787773132, 0.08494582027196884, 0.10924798250198364, 0.11061929166316986, 0.1111656054854393, 0.0860121101140976, 0.09217482060194016]], [[0.21153005957603455, 0.2376084327697754, 0.21134643256664276, 0.20391623675823212, 0.22572879493236542, 0.20505908131599426, 0.22600418329238892, 0.21392276883125305, 0.23350214958190918, 0.2058914303779602, 0.22377412021160126, 0.24411073327064514, 0.22897844016551971, 0.2372005581855774, 0.20365211367607117, 0.23451489210128784, 0.21626698970794678, 0.22130027413368225, 0.22284387052059174, 0.23114687204360962, 0.22140610218048096, 0.22946810722351074, 0.23999880254268646, 0.22379039227962494, 0.24921751022338867, 0.22841891646385193, 0.22742044925689697, 0.23664604127407074], [0.1750262975692749, 0.20349834859371185, 0.1796954870223999, 0.18998989462852478, 0.17782507836818695, 0.1882343739271164, 0.16415300965309143, 0.21065855026245117, 0.16907629370689392, 0.17494329810142517, 0.17759476602077484, 0.19905619323253632, 0.2035236358642578, 0.18714205920696259, 0.2396964281797409, 0.17726904153823853, 0.19714531302452087, 0.18855713307857513, 0.20862004160881042, 0.18382513523101807, 0.19034212827682495, 0.19763925671577454, 0.16556021571159363, 0.1955549418926239, 0.2042844295501709, 0.204335018992424, 0.2005440890789032, 0.17306184768676758], [0.1015886515378952, 0.10833429545164108, 0.08199065923690796, 0.06935229897499084, 0.09145884215831757, 0.08381279557943344, 0.08740778267383575, 0.09867075085639954, 0.11159168183803558, 0.12969887256622314, 0.1115180253982544, 0.08571100234985352, 0.11381308734416962, 0.1198498010635376, 0.10724922269582748, 0.1409805715084076, 0.07821640372276306, 0.09446395933628082, 0.09816175699234009, 0.10794813930988312, 0.06574077904224396, 0.10462981462478638, 0.08609358966350555, 0.08041710406541824, 0.09735902398824692, 0.11108119785785675, 0.12142857164144516, 0.10690506547689438], [0.13081376254558563, 0.13848206400871277, 0.134233295917511, 0.15348738431930542, 0.1594964861869812, 0.1300184726715088, 0.11735604703426361, 0.17061835527420044, 0.1261308491230011, 0.13957470655441284, 0.11185605823993683, 0.13154929876327515, 0.17169515788555145, 0.13585515320301056, 0.14138850569725037, 0.1684328019618988, 0.15642189979553223, 0.14208221435546875, 0.1532193124294281, 0.15287941694259644, 0.1744847297668457, 0.12242619693279266, 0.17308706045150757, 0.15212342143058777, 0.1378512680530548, 0.15643587708473206, 0.1496017426252365, 0.13814012706279755], [0.09867274761199951, 0.06186824291944504, 0.07117556035518646, 0.08311255276203156, 0.060079798102378845, 0.09126957505941391, 0.06727327406406403, 0.07720799744129181, 0.09156782925128937, 0.09408019483089447, 0.09313484281301498, 0.09921660274267197, 0.06029526889324188, 0.07275458425283432, 0.11711385101079941, 0.055313557386398315, 0.09773840010166168, 0.09990235418081284, 0.09672244638204575, 0.06476783752441406, 0.09755611419677734, 0.07578852772712708, 0.09188725799322128, 0.08935002982616425, 0.06466762721538544, 0.11147189140319824, 0.10633626580238342, 0.08800311386585236], [0.06959041953086853, 0.07734289765357971, 0.10395141690969467, 0.09948848187923431, 0.10658630728721619, 0.050228655338287354, 0.1140744686126709, 0.09737277030944824, 0.09139411151409149, 0.07932048290967941, 0.09062986820936203, 0.07843683660030365, 0.12101760506629944, 0.1320614516735077, 0.07081171870231628, 0.07082276046276093, 0.06361858546733856, 0.09910615533590317, 0.08669137954711914, 0.10378088802099228, 0.11352875083684921, 0.09075485914945602, 0.07452695071697235, 0.09243807196617126, 0.06530075520277023, 0.10933314263820648, 0.06795114278793335, 0.1220310777425766]], [[0.22333475947380066, 0.26049551367759705, 0.29192054271698, 0.24664053320884705, 0.25273364782333374, 0.23004725575447083, 0.22187106311321259, 0.2345016896724701, 0.25543004274368286, 0.278968870639801, 0.27471238374710083, 0.26575180888175964, 0.23731589317321777, 0.2564370036125183, 0.25779539346694946, 0.2087315022945404, 0.24701425433158875, 0.2071722000837326, 0.2101798951625824, 0.22517196834087372, 0.2144436538219452, 0.24036149680614471, 0.27271372079849243, 0.22931306064128876, 0.227029487490654, 0.21984349191188812, 0.2790738046169281, 0.2613416910171509], [0.21050551533699036, 0.20511949062347412, 0.18452629446983337, 0.21189150214195251, 0.22985121607780457, 0.17512504756450653, 0.2006239891052246, 0.2449599951505661, 0.21752707660198212, 0.23546671867370605, 0.19647884368896484, 0.23100543022155762, 0.17439202964305878, 0.2094828486442566, 0.2288118302822113, 0.2109755128622055, 0.20575681328773499, 0.2197098731994629, 0.20642946660518646, 0.1934189796447754, 0.20567595958709717, 0.19343172013759613, 0.2082219421863556, 0.2417740821838379, 0.2395877093076706, 0.2079589068889618, 0.19551685452461243, 0.25303173065185547], [0.21646317839622498, 0.20341500639915466, 0.1863170862197876, 0.2135726660490036, 0.20642933249473572, 0.17986229062080383, 0.22397777438163757, 0.20294885337352753, 0.20957331359386444, 0.1949530839920044, 0.17490312457084656, 0.20922349393367767, 0.17471031844615936, 0.20227956771850586, 0.194217249751091, 0.25211405754089355, 0.18586429953575134, 0.21497182548046112, 0.1859205961227417, 0.26030290126800537, 0.19103875756263733, 0.20658311247825623, 0.23581871390342712, 0.19876615703105927, 0.2327803373336792, 0.186518594622612, 0.20839908719062805, 0.19548845291137695], [0.16786137223243713, 0.11985637247562408, 0.1543765366077423, 0.14697831869125366, 0.1316768229007721, 0.15161193907260895, 0.15248426795005798, 0.16316649317741394, 0.11954517662525177, 0.12151005864143372, 0.1500537097454071, 0.12339705228805542, 0.12460434436798096, 0.130229651927948, 0.14128297567367554, 0.1521047055721283, 0.11248493194580078, 0.14044524729251862, 0.15621763467788696, 0.1319555938243866, 0.16686269640922546, 0.1424066126346588, 0.13600516319274902, 0.14852814376354218, 0.1354706883430481, 0.1259898990392685, 0.1573493480682373, 0.153328999876976], [0.17539888620376587, 0.1426697075366974, 0.1491851806640625, 0.15408679842948914, 0.21086816489696503, 0.1578042209148407, 0.1417998969554901, 0.16215959191322327, 0.18032780289649963, 0.16733990609645844, 0.15828898549079895, 0.20882177352905273, 0.15988346934318542, 0.14837676286697388, 0.13963906466960907, 0.13929319381713867, 0.16209924221038818, 0.1605609953403473, 0.16634878516197205, 0.16190111637115479, 0.12625716626644135, 0.14122481644153595, 0.16296786069869995, 0.1392378807067871, 0.15492022037506104, 0.1748959720134735, 0.15413522720336914, 0.1446676254272461], [0.10675912350416183, 0.11024598777294159, 0.13807126879692078, 0.11056704819202423, 0.11200784146785736, 0.11984598636627197, 0.11043038219213486, 0.12969300150871277, 0.15051019191741943, 0.12016956508159637, 0.13600754737854004, 0.1154838427901268, 0.12719522416591644, 0.12157692760229111, 0.11834059655666351, 0.1275235116481781, 0.1515718549489975, 0.15765683352947235, 0.18379637598991394, 0.09795574843883514, 0.12871390581130981, 0.10729151219129562, 0.15854163467884064, 0.13736219704151154, 0.12713423371315002, 0.1240030974149704, 0.14606790244579315, 0.14076004922389984]], [[0.3524366021156311, 0.38681238889694214, 0.37636861205101013, 0.394977331161499, 0.36367496848106384, 0.34179699420928955, 0.36711522936820984, 0.35142260789871216, 0.3693927228450775, 0.36771899461746216, 0.3734334111213684, 0.38785287737846375, 0.37361881136894226, 0.40693849325180054, 0.39679038524627686, 0.3782821595668793, 0.3292004466056824, 0.34793275594711304, 0.40013474225997925, 0.373918354511261, 0.3941539525985718, 0.35183438658714294, 0.42523103952407837, 0.3796432912349701, 0.3892636001110077, 0.3955880403518677, 0.4532569348812103, 0.3758907914161682], [0.2828567326068878, 0.26975685358047485, 0.27679961919784546, 0.2511756420135498, 0.24530166387557983, 0.28661680221557617, 0.2693602740764618, 0.3040659427642822, 0.2397414892911911, 0.2758280336856842, 0.27020198106765747, 0.33452528715133667, 0.2731417417526245, 0.2600281834602356, 0.2664392590522766, 0.24444007873535156, 0.25812020897865295, 0.34695953130722046, 0.2953220307826996, 0.27088475227355957, 0.2657738924026489, 0.2980048656463623, 0.2301373928785324, 0.25720664858818054, 0.2927025258541107, 0.23663398623466492, 0.22578594088554382, 0.2592022120952606], [0.26636654138565063, 0.28207218647003174, 0.25655362010002136, 0.29110831022262573, 0.2959834039211273, 0.275039404630661, 0.3011837601661682, 0.28835660219192505, 0.2559015154838562, 0.26457738876342773, 0.2728378176689148, 0.29961273074150085, 0.28118324279785156, 0.2651684284210205, 0.24790021777153015, 0.31811511516571045, 0.2663516700267792, 0.3130419850349426, 0.26177918910980225, 0.25772565603256226, 0.2587288022041321, 0.2899017930030823, 0.26064062118530273, 0.294940710067749, 0.2652210593223572, 0.2668188810348511, 0.2615413963794708, 0.2602806091308594], [0.17157308757305145, 0.1730988621711731, 0.17617785930633545, 0.20013058185577393, 0.2834194600582123, 0.16280288994312286, 0.22902584075927734, 0.21150299906730652, 0.2026296854019165, 0.17450913786888123, 0.15162540972232819, 0.20690402388572693, 0.19382092356681824, 0.17993293702602386, 0.16817376017570496, 0.17066797614097595, 0.17677180469036102, 0.17814943194389343, 0.1814699023962021, 0.21952760219573975, 0.16450177133083344, 0.1679716557264328, 0.18751858174800873, 0.17133793234825134, 0.17724037170410156, 0.20242516696453094, 0.18253950774669647, 0.1535966545343399], [0.2037544697523117, 0.26755771040916443, 0.22268299758434296, 0.2121732234954834, 0.22465519607067108, 0.24463073909282684, 0.20312368869781494, 0.22590582072734833, 0.18175236880779266, 0.1728033721446991, 0.18776309490203857, 0.1873340606689453, 0.19028687477111816, 0.1857943832874298, 0.20976805686950684, 0.23819956183433533, 0.17180316150188446, 0.19471079111099243, 0.2018766701221466, 0.19226376712322235, 0.169425368309021, 0.19033347070217133, 0.18912261724472046, 0.18656973540782928, 0.18992601335048676, 0.21997645497322083, 0.1848755180835724, 0.22839240729808807], [0.1230388879776001, 0.11687150597572327, 0.15486478805541992, 0.1257408857345581, 0.1254321038722992, 0.13764017820358276, 0.11716705560684204, 0.1333860605955124, 0.13774585723876953, 0.1652653068304062, 0.11635763943195343, 0.12828396260738373, 0.13878849148750305, 0.2051287144422531, 0.14357516169548035, 0.13862690329551697, 0.10741846263408661, 0.11504946649074554, 0.13359475135803223, 0.1355024129152298, 0.13526463508605957, 0.12914927303791046, 0.11925341933965683, 0.14739973843097687, 0.1220875009894371, 0.13650843501091003, 0.10747477412223816, 0.15140168368816376]], [[0.1836741417646408, 0.2130247801542282, 0.21312205493450165, 0.23868224024772644, 0.23357586562633514, 0.25189274549484253, 0.23319965600967407, 0.2118123173713684, 0.25333547592163086, 0.24479535222053528, 0.1733919382095337, 0.2308652102947235, 0.2093532532453537, 0.2578587234020233, 0.28544044494628906, 0.26636576652526855, 0.22346554696559906, 0.23502318561077118, 0.23574605584144592, 0.21964919567108154, 0.23690633475780487, 0.20786818861961365, 0.2721238136291504, 0.225814551115036, 0.25675415992736816, 0.24823534488677979, 0.21465790271759033, 0.2505965828895569], [0.163862407207489, 0.16258972883224487, 0.15878412127494812, 0.17026159167289734, 0.1914273500442505, 0.20236438512802124, 0.20385047793388367, 0.18318331241607666, 0.19116513431072235, 0.16286060214042664, 0.14163541793823242, 0.18248948454856873, 0.19069623947143555, 0.1979140341281891, 0.17556461691856384, 0.17156779766082764, 0.19838689267635345, 0.1891411542892456, 0.15869353711605072, 0.19680675864219666, 0.16709396243095398, 0.2032335251569748, 0.1764797419309616, 0.1835990846157074, 0.1790281981229782, 0.1666783094406128, 0.15177512168884277, 0.15192872285842896], [0.197657972574234, 0.17111103236675262, 0.1698591709136963, 0.19502095878124237, 0.17335931956768036, 0.16750089824199677, 0.17901530861854553, 0.16380584239959717, 0.1674315631389618, 0.17759940028190613, 0.1589747667312622, 0.1779962033033371, 0.140774667263031, 0.18713140487670898, 0.19278323650360107, 0.17570476233959198, 0.18645760416984558, 0.15512099862098694, 0.1217956393957138, 0.18112322688102722, 0.179230198264122, 0.17756333947181702, 0.1918874979019165, 0.20208740234375, 0.15093927085399628, 0.12332360446453094, 0.1535181999206543, 0.16465318202972412], [0.11719914525747299, 0.09782638400793076, 0.12732034921646118, 0.11750303208827972, 0.10724043101072311, 0.14776849746704102, 0.10663697123527527, 0.09331266582012177, 0.1036497950553894, 0.13182085752487183, 0.12963581085205078, 0.13259035348892212, 0.1288526952266693, 0.10336853563785553, 0.11635970324277878, 0.09164824336767197, 0.11866392195224762, 0.14560338854789734, 0.12847672402858734, 0.11862705647945404, 0.14721457660198212, 0.1161596029996872, 0.09243552386760712, 0.14407578110694885, 0.14560946822166443, 0.10104499757289886, 0.10179086774587631, 0.11348216235637665], [0.12424924224615097, 0.13867509365081787, 0.12324625253677368, 0.154465913772583, 0.16603516042232513, 0.118485227227211, 0.1457887589931488, 0.09023978561162949, 0.1337185949087143, 0.13893310725688934, 0.13963189721107483, 0.17410433292388916, 0.1437903642654419, 0.16073748469352722, 0.13206879794597626, 0.12525984644889832, 0.14229613542556763, 0.1530931293964386, 0.1883569359779358, 0.1392216831445694, 0.15383578836917877, 0.11822864413261414, 0.16950389742851257, 0.20960520207881927, 0.12651875615119934, 0.1327422708272934, 0.14608177542686462, 0.12288948148488998], [0.08845492452383041, 0.10187464952468872, 0.11379605531692505, 0.09241019934415817, 0.10596518218517303, 0.09497365355491638, 0.1184806153178215, 0.11780720949172974, 0.14852091670036316, 0.10790526866912842, 0.10619368404150009, 0.10073670744895935, 0.1263267695903778, 0.10996322333812714, 0.12128941714763641, 0.12542149424552917, 0.11335635185241699, 0.0918671116232872, 0.10864877700805664, 0.1319209635257721, 0.09537279605865479, 0.10878580808639526, 0.07757947593927383, 0.13289785385131836, 0.09969338774681091, 0.08245131373405457, 0.09932546317577362, 0.09685802459716797]], [[0.3379296660423279, 0.2773045003414154, 0.3262721002101898, 0.30265408754348755, 0.2902927100658417, 0.2988654375076294, 0.30920523405075073, 0.2926289737224579, 0.2857779264450073, 0.27984175086021423, 0.25228989124298096, 0.2850712239742279, 0.23472581803798676, 0.2993340492248535, 0.27409884333610535, 0.28632649779319763, 0.3525441586971283, 0.290567010641098, 0.35182565450668335, 0.30860739946365356, 0.31100431084632874, 0.2955734133720398, 0.3011758029460907, 0.3004496991634369, 0.3557675778865814, 0.28002092242240906, 0.3075525164604187, 0.27559345960617065], [0.2650986909866333, 0.22914481163024902, 0.2380574345588684, 0.24335560202598572, 0.2688925266265869, 0.20963403582572937, 0.220245823264122, 0.2861521244049072, 0.21920615434646606, 0.2554936408996582, 0.22333872318267822, 0.2270011156797409, 0.24716708064079285, 0.23617342114448547, 0.21815654635429382, 0.2797856628894806, 0.2759764790534973, 0.22066223621368408, 0.2863699793815613, 0.22365599870681763, 0.23206959664821625, 0.2455921620130539, 0.2451663613319397, 0.22459015250205994, 0.2505360543727875, 0.21595850586891174, 0.2422570437192917, 0.21577423810958862], [0.20377659797668457, 0.23222878575325012, 0.28164148330688477, 0.19790583848953247, 0.2689952850341797, 0.22251540422439575, 0.2630433738231659, 0.21268515288829803, 0.21221014857292175, 0.20188109576702118, 0.2531479001045227, 0.3089156150817871, 0.20286130905151367, 0.20142880082130432, 0.2685803174972534, 0.27446839213371277, 0.26639091968536377, 0.18347136676311493, 0.2516549229621887, 0.19598066806793213, 0.23170694708824158, 0.22136637568473816, 0.21876481175422668, 0.21252964437007904, 0.22915035486221313, 0.20053598284721375, 0.21900758147239685, 0.1945003718137741], [0.17955449223518372, 0.2735353708267212, 0.19746482372283936, 0.18644510209560394, 0.2204921692609787, 0.2292809784412384, 0.18131189048290253, 0.17493557929992676, 0.22307710349559784, 0.21203148365020752, 0.24273765087127686, 0.2008015513420105, 0.2495139092206955, 0.2197352647781372, 0.20754298567771912, 0.29035282135009766, 0.16819730401039124, 0.1668453812599182, 0.1760846972465515, 0.17429284751415253, 0.19140127301216125, 0.21163694560527802, 0.21698856353759766, 0.1982177197933197, 0.18592208623886108, 0.18336966633796692, 0.1690634936094284, 0.16690203547477722], [0.19986748695373535, 0.17204400897026062, 0.18970833718776703, 0.19932608306407928, 0.24613118171691895, 0.22047166526317596, 0.22865745425224304, 0.19123291969299316, 0.2420329749584198, 0.260423481464386, 0.16681212186813354, 0.2339743971824646, 0.18180619180202484, 0.21401821076869965, 0.18312320113182068, 0.1857621967792511, 0.24714967608451843, 0.26351311802864075, 0.21123437583446503, 0.1822940558195114, 0.22645732760429382, 0.19030630588531494, 0.18714392185211182, 0.20735549926757812, 0.19561836123466492, 0.19383417069911957, 0.18743830919265747, 0.19612032175064087], [0.17158573865890503, 0.211406871676445, 0.27273640036582947, 0.18306252360343933, 0.23630398511886597, 0.173004612326622, 0.23375241458415985, 0.20776519179344177, 0.15488842129707336, 0.18736642599105835, 0.1844225376844406, 0.1836613416671753, 0.17694209516048431, 0.17872461676597595, 0.17910557985305786, 0.173246830701828, 0.24894770979881287, 0.23647575080394745, 0.20506033301353455, 0.1764138638973236, 0.1970078945159912, 0.1757739782333374, 0.22288456559181213, 0.23348844051361084, 0.2164289653301239, 0.17697715759277344, 0.18563109636306763, 0.18471315503120422]], [[0.3550851345062256, 0.33644068241119385, 0.28045862913131714, 0.32272854447364807, 0.35293787717819214, 0.3278820216655731, 0.33077093958854675, 0.35457247495651245, 0.34217166900634766, 0.3762429654598236, 0.31196123361587524, 0.37024328112602234, 0.376319020986557, 0.37686213850975037, 0.3304016590118408, 0.352914035320282, 0.3929370045661926, 0.3554421663284302, 0.30875343084335327, 0.3432469367980957, 0.3323427438735962, 0.31908413767814636, 0.34216582775115967, 0.30425959825515747, 0.35474926233291626, 0.3564634919166565, 0.32265862822532654, 0.3077143430709839], [0.24881809949874878, 0.24770157039165497, 0.1970757097005844, 0.26334866881370544, 0.29013168811798096, 0.2226196527481079, 0.2664403021335602, 0.24514798820018768, 0.29864177107810974, 0.2347671389579773, 0.23122917115688324, 0.24030828475952148, 0.21485178172588348, 0.249383807182312, 0.2551933526992798, 0.20390813052654266, 0.2490067183971405, 0.20570814609527588, 0.21709415316581726, 0.213881254196167, 0.21743172407150269, 0.253959596157074, 0.25835010409355164, 0.24588915705680847, 0.2099563330411911, 0.21033993363380432, 0.2539316713809967, 0.24362069368362427], [0.19476112723350525, 0.13677504658699036, 0.17060858011245728, 0.11515454947948456, 0.09709982573986053, 0.1098894476890564, 0.13167443871498108, 0.15466779470443726, 0.16278143227100372, 0.12099417299032211, 0.12366791069507599, 0.141917884349823, 0.13946954905986786, 0.15448695421218872, 0.12749052047729492, 0.14733773469924927, 0.15652307868003845, 0.1636679470539093, 0.13116908073425293, 0.14340850710868835, 0.12828879058361053, 0.16095837950706482, 0.14303374290466309, 0.12577824294567108, 0.1343166083097458, 0.11904703080654144, 0.12850239872932434, 0.13240112364292145], [0.14251872897148132, 0.13011595606803894, 0.14428278803825378, 0.12897183001041412, 0.14706461131572723, 0.1285688579082489, 0.13113465905189514, 0.1404830515384674, 0.11322610080242157, 0.1377779245376587, 0.1351669430732727, 0.1547265350818634, 0.12450014799833298, 0.15106049180030823, 0.15028861165046692, 0.1381470263004303, 0.14465494453907013, 0.13015010952949524, 0.13418440520763397, 0.12797506153583527, 0.13194257020950317, 0.13218462467193604, 0.11020545661449432, 0.1208464726805687, 0.12743528187274933, 0.12415091693401337, 0.14144672453403473, 0.12723308801651], [0.09762340784072876, 0.14223478734493256, 0.13631732761859894, 0.12171138823032379, 0.11568274348974228, 0.10961715877056122, 0.1401626169681549, 0.1057647317647934, 0.10068804025650024, 0.08091669529676437, 0.09271486848592758, 0.09723615646362305, 0.10069558024406433, 0.12730728089809418, 0.11986401677131653, 0.09086060523986816, 0.08846665918827057, 0.10267733037471771, 0.08644825220108032, 0.09498558938503265, 0.11107306182384491, 0.107661172747612, 0.10611958801746368, 0.11967425793409348, 0.17059239745140076, 0.09177782386541367, 0.12222959846258163, 0.1279861330986023], [0.09451456367969513, 0.07514549791812897, 0.08733799308538437, 0.07989382743835449, 0.056632690131664276, 0.07629549503326416, 0.039938315749168396, 0.06561484187841415, 0.08171152323484421, 0.08795630931854248, 0.043180808424949646, 0.04686903581023216, 0.058865778148174286, 0.0902184471487999, 0.03909389302134514, 0.05195053666830063, 0.04467902332544327, 0.040727388113737106, 0.07336634397506714, 0.07574979215860367, 0.05797397345304489, 0.1068439707159996, 0.10132548213005066, 0.08786256611347198, 0.08259588479995728, 0.03928784281015396, 0.08794107288122177, 0.07758176326751709]], [[0.24281319975852966, 0.27107077836990356, 0.23417149484157562, 0.30224794149398804, 0.31553709506988525, 0.2444000244140625, 0.25127094984054565, 0.25779709219932556, 0.2845233380794525, 0.28281474113464355, 0.23245088756084442, 0.2515169382095337, 0.265726238489151, 0.2478029578924179, 0.30271467566490173, 0.2802623212337494, 0.32693231105804443, 0.2669418752193451, 0.256502240896225, 0.25046050548553467, 0.3022337555885315, 0.2789745330810547, 0.2940256595611572, 0.2458336353302002, 0.2777153253555298, 0.25017625093460083, 0.24444642663002014, 0.26905491948127747], [0.17847704887390137, 0.18561896681785583, 0.1175999641418457, 0.12723982334136963, 0.13373792171478271, 0.1607050895690918, 0.16898410022258759, 0.19286760687828064, 0.1707061231136322, 0.14542004466056824, 0.191657155752182, 0.14784440398216248, 0.14012694358825684, 0.16201725602149963, 0.1727556437253952, 0.16909009218215942, 0.16251905262470245, 0.17499856650829315, 0.13465775549411774, 0.17828279733657837, 0.13209375739097595, 0.14799270033836365, 0.16842667758464813, 0.1517704427242279, 0.1485237330198288, 0.13382761180400848, 0.16041462123394012, 0.12525197863578796], [0.14282633364200592, 0.16317005455493927, 0.1682102382183075, 0.15179024636745453, 0.18893218040466309, 0.1630743443965912, 0.16237477958202362, 0.1868051141500473, 0.18209773302078247, 0.18613098561763763, 0.18696099519729614, 0.15566012263298035, 0.18768048286437988, 0.1625959575176239, 0.17002056539058685, 0.1600836217403412, 0.14447230100631714, 0.1781543344259262, 0.15184885263442993, 0.15259334444999695, 0.18222558498382568, 0.1654646098613739, 0.17086641490459442, 0.16709023714065552, 0.16712069511413574, 0.17052221298217773, 0.1541745960712433, 0.17844250798225403], [0.15489476919174194, 0.13190531730651855, 0.10514958202838898, 0.12369336187839508, 0.09510296583175659, 0.138029545545578, 0.1312267780303955, 0.11388689279556274, 0.1439361572265625, 0.12515094876289368, 0.09770946949720383, 0.10968746989965439, 0.09093903005123138, 0.11728861927986145, 0.12705253064632416, 0.11350040137767792, 0.15279382467269897, 0.12856921553611755, 0.10219909995794296, 0.1138940081000328, 0.11693590134382248, 0.14880509674549103, 0.1151009202003479, 0.10413312911987305, 0.13026338815689087, 0.12437419593334198, 0.12252430617809296, 0.13702574372291565], [0.06625518202781677, 0.11525394767522812, 0.10297201573848724, 0.1793515384197235, 0.13581298291683197, 0.10669557750225067, 0.14274626970291138, 0.11187531799077988, 0.10112407058477402, 0.10598641633987427, 0.13425622880458832, 0.10880835354328156, 0.12245353311300278, 0.08768557757139206, 0.13024714589118958, 0.0858207568526268, 0.1189747080206871, 0.11513527482748032, 0.12509620189666748, 0.1020626351237297, 0.0984896868467331, 0.11110375821590424, 0.10037561506032944, 0.1380215734243393, 0.1026010662317276, 0.08917417377233505, 0.08908434212207794, 0.11156099289655685], [0.07721085846424103, 0.10054802894592285, 0.13118235766887665, 0.1186237558722496, 0.09640606492757797, 0.1351962387561798, 0.07665516436100006, 0.11443807184696198, 0.10501889884471893, 0.10460668802261353, 0.092343769967556, 0.10178342461585999, 0.09918900579214096, 0.09918853640556335, 0.1277729570865631, 0.11094431579113007, 0.11857865750789642, 0.09504050016403198, 0.10832838714122772, 0.10124064981937408, 0.08762894570827484, 0.12531942129135132, 0.10990457981824875, 0.08856691420078278, 0.09661690890789032, 0.09567886590957642, 0.10241001844406128, 0.09219714254140854]], [[0.3267973065376282, 0.28718316555023193, 0.34011930227279663, 0.2952471375465393, 0.3081936836242676, 0.2807268798351288, 0.31282535195350647, 0.32298022508621216, 0.34279999136924744, 0.3049365282058716, 0.3359977602958679, 0.2947564125061035, 0.27193811535835266, 0.3053252398967743, 0.30897700786590576, 0.29071301221847534, 0.29768988490104675, 0.3069300353527069, 0.27106496691703796, 0.2972031235694885, 0.3130683898925781, 0.2964610457420349, 0.3028692603111267, 0.29549044370651245, 0.31114739179611206, 0.28448590636253357, 0.29875993728637695, 0.24666827917099], [0.20662376284599304, 0.2170647233724594, 0.21938657760620117, 0.21830123662948608, 0.261699378490448, 0.2078154981136322, 0.2528839707374573, 0.2246100902557373, 0.22113806009292603, 0.21024960279464722, 0.2319549024105072, 0.21826934814453125, 0.21807372570037842, 0.2766353189945221, 0.23196256160736084, 0.2070898711681366, 0.22599300742149353, 0.23990166187286377, 0.24807894229888916, 0.22569094598293304, 0.22588908672332764, 0.226352259516716, 0.24396269023418427, 0.2277352660894394, 0.22475728392601013, 0.2545805871486664, 0.2818480432033539, 0.22959181666374207], [0.16229692101478577, 0.17216579616069794, 0.167210191488266, 0.17571043968200684, 0.18983402848243713, 0.1752696931362152, 0.19032904505729675, 0.20406875014305115, 0.20033100247383118, 0.19007468223571777, 0.1809094250202179, 0.2133316993713379, 0.21400338411331177, 0.23963384330272675, 0.20430821180343628, 0.1854477822780609, 0.20203141868114471, 0.18989384174346924, 0.2151481807231903, 0.17597994208335876, 0.22187519073486328, 0.20018045604228973, 0.1449822336435318, 0.18891535699367523, 0.19181254506111145, 0.18423959612846375, 0.1861499398946762, 0.19973617792129517], [0.17045538127422333, 0.1877138465642929, 0.15664878487586975, 0.19029176235198975, 0.15849526226520538, 0.19123642146587372, 0.17595361173152924, 0.1985452026128769, 0.189120352268219, 0.18066148459911346, 0.16641205549240112, 0.18794181942939758, 0.18139486014842987, 0.22480034828186035, 0.1757168471813202, 0.1878192126750946, 0.19526825845241547, 0.19863280653953552, 0.19454309344291687, 0.20502226054668427, 0.17518913745880127, 0.24604880809783936, 0.2031419277191162, 0.24516354501247406, 0.1869593858718872, 0.1555955410003662, 0.21163973212242126, 0.1778988093137741], [0.16343548893928528, 0.15306076407432556, 0.1651175618171692, 0.2118110954761505, 0.15657413005828857, 0.2236957550048828, 0.20674948394298553, 0.17708128690719604, 0.18084076046943665, 0.20495235919952393, 0.1497734636068344, 0.1691199541091919, 0.16103099286556244, 0.1727825403213501, 0.17375819385051727, 0.18790709972381592, 0.18017815053462982, 0.16338171064853668, 0.18970684707164764, 0.16851294040679932, 0.15391811728477478, 0.15121866762638092, 0.18845880031585693, 0.18733637034893036, 0.18989959359169006, 0.19105327129364014, 0.15875303745269775, 0.16526739299297333], [0.1676115244626999, 0.1506408452987671, 0.22224166989326477, 0.17344436049461365, 0.1749761998653412, 0.20344990491867065, 0.22828409075737, 0.1659615933895111, 0.1681261509656906, 0.15907831490039825, 0.21519026160240173, 0.18226128816604614, 0.22218498587608337, 0.16294485330581665, 0.15792295336723328, 0.2097170352935791, 0.1523517221212387, 0.17729799449443817, 0.1927787959575653, 0.185738205909729, 0.18556180596351624, 0.18046975135803223, 0.17595958709716797, 0.15086999535560608, 0.17307639122009277, 0.17593637108802795, 0.17704014480113983, 0.14493507146835327]], [[0.3044254779815674, 0.28803130984306335, 0.29961299896240234, 0.28353485465049744, 0.24489717185497284, 0.2884252071380615, 0.30965667963027954, 0.31907808780670166, 0.2931522727012634, 0.29479560256004333, 0.2819998264312744, 0.2967793643474579, 0.2570973336696625, 0.2860257923603058, 0.2927682101726532, 0.3056831955909729, 0.3627707362174988, 0.3257160186767578, 0.299663782119751, 0.3492833077907562, 0.2929486036300659, 0.2943142354488373, 0.3646117150783539, 0.3120129704475403, 0.274148166179657, 0.29947754740715027, 0.35062333941459656, 0.3182964622974396], [0.19381120800971985, 0.17412543296813965, 0.1661320924758911, 0.16039703786373138, 0.18915139138698578, 0.17018863558769226, 0.14232736825942993, 0.1406853199005127, 0.16259603202342987, 0.15885032713413239, 0.16778086125850677, 0.15754008293151855, 0.1968393325805664, 0.17583417892456055, 0.1251116394996643, 0.19204053282737732, 0.18698684871196747, 0.1749989092350006, 0.1699790060520172, 0.14733350276947021, 0.1778963804244995, 0.15972229838371277, 0.1973617523908615, 0.12622186541557312, 0.1978529542684555, 0.18808436393737793, 0.20008042454719543, 0.17764544486999512], [0.1349267065525055, 0.11424513906240463, 0.18681089580059052, 0.18396461009979248, 0.1407114714384079, 0.14542213082313538, 0.18543706834316254, 0.14762096107006073, 0.18258389830589294, 0.12981858849525452, 0.17598089575767517, 0.11336912214756012, 0.1406739056110382, 0.17103564739227295, 0.14074565470218658, 0.16430093348026276, 0.15136532485485077, 0.16114473342895508, 0.13973870873451233, 0.16303497552871704, 0.13861572742462158, 0.16130352020263672, 0.15933918952941895, 0.1785118281841278, 0.16229622066020966, 0.136586993932724, 0.23097734153270721, 0.18070721626281738], [0.11113117635250092, 0.08398669213056564, 0.10904522240161896, 0.11165162920951843, 0.08481471240520477, 0.11045140027999878, 0.12198780477046967, 0.12428084015846252, 0.1397837996482849, 0.0691007524728775, 0.12608931958675385, 0.11675737798213959, 0.10556517541408539, 0.10483479499816895, 0.13637420535087585, 0.12152369320392609, 0.11802881956100464, 0.11839795112609863, 0.08653553575277328, 0.12979291379451752, 0.07502401620149612, 0.12491786479949951, 0.08812230825424194, 0.07404936850070953, 0.08677884191274643, 0.09275001287460327, 0.10623391717672348, 0.09747844934463501], [0.11212526261806488, 0.13149496912956238, 0.09070181846618652, 0.11952555179595947, 0.09154348075389862, 0.09040705859661102, 0.10509483516216278, 0.12826894223690033, 0.10727177560329437, 0.11615001410245895, 0.11664335429668427, 0.1491728276014328, 0.15287631750106812, 0.10794030129909515, 0.11973726749420166, 0.11045839637517929, 0.11866623163223267, 0.1395452469587326, 0.13210967183113098, 0.12421868741512299, 0.09535513818264008, 0.10668056458234787, 0.10595878958702087, 0.11050175130367279, 0.16509413719177246, 0.09772288799285889, 0.07833810895681381, 0.09953268617391586], [0.09520649164915085, 0.05650843307375908, 0.08244350552558899, 0.08936436474323273, 0.11555962264537811, 0.1413659155368805, 0.11367583274841309, 0.05974448844790459, 0.10033470392227173, 0.10404005646705627, 0.12059494107961655, 0.13368916511535645, 0.10718798637390137, 0.08897542953491211, 0.05958223342895508, 0.13330253958702087, 0.11330529302358627, 0.09066318720579147, 0.08627167344093323, 0.09970110654830933, 0.08662419021129608, 0.09078274667263031, 0.07335692644119263, 0.06824701279401779, 0.10844248533248901, 0.13504664599895477, 0.0902799591422081, 0.09140123426914215]]], 'model_path': PosixPath('models/base_2.pth')}}\n",
      "dictionary saved successfully to file\n"
     ]
    }
   ],
   "source": [
    "\n",
    "def generate_data_dict(default_hyperparams, model_params, training_params, data_path, iterations=1, num_param_sets=1, full_info = False):\n",
    "    \"\"\"\n",
    "    Generates a dict with models and losses for different cominations of augmentation and smoothing methods.\n",
    "\n",
    "    Parameter:\n",
    "        default_hyperparams - data params without any augmention activated but rest specified\n",
    "        model_params - see general Framework\n",
    "        training_params - see general Framework\n",
    "        data_path - path to the stored training data\n",
    "        iterations - int (optional) : number of training iterations per hyperparameter combination\n",
    "                                      A mean of the losses of all iterations is calculated\n",
    "        num_param_sets - int (optional) : number of data augmentation methods that should be activated at the same time\n",
    "        full_info - bool (optional) : Decides whether all hyperparamters are displayed in the data dict or just the important ones\n",
    "\n",
    "    Output:\n",
    "        dict of the following form ( i goes from 0 to 3*(binomialcoefficient of 7 over num_param_sets))\n",
    "        {\n",
    "        i : {'hyperparamters: dict of all hyperparameters used, 'losses': all losses of all iterations, 'mean_loss' : mean loss of the former, 'model_path': the path of the model}\n",
    "        }\n",
    "\n",
    "        Note that due to memory constraints only the model of the last iteration is saved. The entries are ordered in that way such that the first\n",
    "        thrid corresponds to models gained without label smoothing, the second third to the ones with moving_average and the last third to the ones with gaussian.\n",
    "\n",
    "    Example Output:\n",
    "        {\n",
    "        0: {'hyperparameters': {'smooth_config': [{'method': None}], 'flip_directions': ['rot90', 'rot180', 'rot270', 'horizontal', 'rot90h', 'rot180h', 'rot270h']}, \n",
    "            'losses': [[0.8622125446941784, 0.502665628376958, 0.9997981435460822, 0.05102520717926129, 0.5388939939871608], \n",
    "                        [0.3558698446884161, 0.2705493808054401, 0.48269186459249935, 0.2491237867913484, 0.38873620674942544]], \n",
    "            'mean_loss': [0.6090411946912972, 0.3866075045911991, 0.7412450040692908, 0.15007449698530484, 0.4638151003682931], \n",
    "            'model_path': WindowsPath('models/base_0.pth')}, \n",
    "        1: {'hyperparameters': {'smooth_config': [{'method': None}], 'random_cropping': 7}, \n",
    "            'losses': [[0.7626264974031293, 0.2689442247687813, 0.9088380703604804, 0.9525747675117152, 0.4033501597465432], \n",
    "                        [0.7827444620421088, 0.21095104753937977, 0.9780642573537827, 0.07168438963068557, 0.2123980986295645]], \n",
    "            'mean_loss': [0.772685479722619, 0.23994763615408055, 0.9434511638571315, 0.5121295785712003, 0.30787412918805385], \n",
    "            'model_path': WindowsPath('models/base_1.pth')},\n",
    "        }\n",
    "    \n",
    "    \"\"\"\n",
    "    from os.path import exists\n",
    "\n",
    "    \n",
    "\n",
    "    def run_training(data_params, model_params, training_params, model_path):\n",
    "        \n",
    "        if exists(model_path) and model_params['force_training'] == False:\n",
    "            model = ls.init_model(model_params)\n",
    "        else:\n",
    "            data_loader, val_loader = ls.load_data(data_path, data_params)\n",
    "            model, loss, val_loss_array = ls.trainer(model_params, training_params, data_loader, val_loader)\n",
    "        return model, loss, val_loss_array\n",
    "    \n",
    "\n",
    "    data_dict = {}\n",
    "\n",
    "    # Define the hyperparameters and their possible values in lists otherwise they need to stay constant\n",
    "    hyperparams = {\n",
    "        'batch_size': 12,  \n",
    "        'num_of_dataloader_workers': 0,  \n",
    "        'shuffle_dataset': True,  \n",
    "        'flip_directions': [['rot90', 'rot180', 'rot270', 'horizontal', 'rot90h', 'rot180h', 'rot270h']],  \n",
    "        'force_preprocessing': False,  \n",
    "        'random_cropping': [7],  \n",
    "        'cropping_scale': 0.85,  \n",
    "        'perspective_transform': [ 7],  \n",
    "        'distortion_scale': 0.2,  \n",
    "        'elastic_transform': [[50.0, 75.0, 100.0, 125.0, 150.0, 200.0, 225.0]],  \n",
    "        'gauss': [7],  \n",
    "        'sigma': (0.1, 5.0), \n",
    "        'validation_split': (0.05, 0.95),  \n",
    "        'grid_mask': [7],  \n",
    "        'grid_param': {\"ratio\": 0.6, \"d_min\": 30, \"d_max\": 70},  \n",
    "        'local_rotation': [ 7],  \n",
    "        'smooth_config': [[{'method': None}], [{'method': 'moving_average', 'window_size': 2}], [{'method': 'gaussian', 'sigma': 0.5}]]  \n",
    "    }\n",
    "\n",
    "    # Select all keys that should be included in the iterator\n",
    "    variable_keys = ['flip_directions', 'random_cropping', 'perspective_transform', 'elastic_transform', 'gauss', 'grid_mask', 'local_rotation']\n",
    "    fixed_key = 'smooth_config'\n",
    "\n",
    "    # Generate key combinations based on num_param_sets\n",
    "    if num_param_sets >= 1:\n",
    "        key_combinations = list(itertools.combinations(variable_keys, num_param_sets ))\n",
    "    else:\n",
    "        key_combinations = []\n",
    "\n",
    "    # Calculate the total number of combinations\n",
    "    total_combinations = 0\n",
    "    for smooth_value in hyperparams[fixed_key]:\n",
    "        if num_param_sets >= 1:\n",
    "            for selected_key_set in key_combinations:\n",
    "                selected_keys = [fixed_key] + list(selected_key_set)\n",
    "                selected_hyperparams = {k: hyperparams[k] for k in selected_keys}\n",
    "                selected_hyperparams[fixed_key] = [smooth_value]\n",
    "                keys, values = zip(*selected_hyperparams.items())\n",
    "                combinations = [dict(zip(keys, v)) for v in itertools.product(*values)]\n",
    "                total_combinations += len(combinations)\n",
    "        else:\n",
    "            total_combinations += len(hyperparams[fixed_key])\n",
    "\n",
    "    training_params['total_combinations'] = total_combinations\n",
    "\n",
    "    # Print out the number of data_params combinations\n",
    "\n",
    "    #Prepeare saving models\n",
    "    models_dir = Path('models')\n",
    "    models_dir.mkdir(exist_ok=True)\n",
    "\n",
    "    # Extract model path from model_params\n",
    "    model_path = Path(model_params['path'])\n",
    "    \n",
    "    # Get the name without the suffix\n",
    "    model_name = model_path.stem  \n",
    "\n",
    "    counter = 0\n",
    "\n",
    "    # Iterate over each smooth_config option first\n",
    "    for smooth_value in hyperparams[fixed_key]:\n",
    "        # Iterate over each key combination\n",
    "        selected_keys = [fixed_key]\n",
    "        if num_param_sets>=1:\n",
    "            for selected_key_set in key_combinations:\n",
    "                selected_keys = [fixed_key] + list(selected_key_set)\n",
    "                selected_hyperparams = {k: hyperparams[k] for k in selected_keys}\n",
    "                selected_hyperparams[fixed_key] = [smooth_value]\n",
    "\n",
    "                # Create all combinations of the selected hyperparameters\n",
    "                keys, values = zip(*selected_hyperparams.items())\n",
    "                combinations = [dict(zip(keys, v)) for v in itertools.product(*values)]\n",
    "\n",
    "                # Iterate through each combination and run the training\n",
    "                for combo in combinations:\n",
    "                    losses = []\n",
    "                    val_losses = []\n",
    "                    new_model_path = models_dir / f\"{model_name}_{counter}.pth\"\n",
    "                    model_params['path'] = new_model_path\n",
    "                    data_params = default_hyperparams.copy()\n",
    "                    for key in combo.keys():\n",
    "                        data_params[key]=combo[key]\n",
    "                    ###only save the model of the last iteration\n",
    "                    for _ in range(training_params['iterations']):\n",
    "                        model, loss, val_loss = run_training(data_params, model_params, training_params, model_path)\n",
    "                        losses.append(loss)\n",
    "                        val_losses.append(val_loss)\n",
    "                    transposed_losses = np.transpose(losses)\n",
    "                    mean_loss = [np.mean(sublist) for sublist in transposed_losses]\n",
    "                    if full_info == False:\n",
    "                        data_dict[counter] = {\n",
    "                            'hyperparameters': combo,\n",
    "                            'losses': losses,\n",
    "                            'mean_loss': mean_loss,\n",
    "                            'val_loss' : val_losses\n",
    "                        }\n",
    "                    else:\n",
    "                        data_dict[counter] = {\n",
    "                            'hyperparameters': data_params,\n",
    "                            'losses': losses,\n",
    "                            'mean_loss': mean_loss,\n",
    "                            'val_loss' : val_losses\n",
    "                        }\n",
    "                    data_dict[counter]['model_path']=new_model_path\n",
    "                    counter += 1\n",
    "        else:\n",
    "            selected_hyperparams = {}\n",
    "            selected_hyperparams[fixed_key] = [smooth_value]\n",
    "\n",
    "            # Create all combinations of the selected hyperparameters\n",
    "            keys, values = zip(*selected_hyperparams.items())\n",
    "            combinations = [dict(zip(keys, v)) for v in itertools.product(*values)]\n",
    "\n",
    "            # Iterate through each combination and run the training\n",
    "            for combo in combinations:\n",
    "                losses = []\n",
    "                val_losses = []\n",
    "                new_model_path = models_dir / f\"{model_name}_{counter}.pth\"\n",
    "                model_params['path'] = new_model_path\n",
    "                data_params = default_hyperparams.copy()\n",
    "                for key in combo.keys():\n",
    "                    data_params[key]=combo[key]\n",
    "                ###only save the model of the last iteration\n",
    "                for _ in range(training_params['iterations']):\n",
    "                    model, loss, val_loss = run_training(data_params, model_params, training_params, model_path)\n",
    "                    losses.append(loss)\n",
    "                    val_losses.append(val_loss)\n",
    "\n",
    "                transposed_losses = np.transpose(losses)\n",
    "                mean_loss = [np.mean(sublist) for sublist in transposed_losses]\n",
    "                if full_info == False:\n",
    "                    data_dict[counter] = {\n",
    "                        'hyperparameters': combo,\n",
    "                        'losses': losses,\n",
    "                        'mean_loss': mean_loss,\n",
    "                        'val_loss' : val_losses\n",
    "                    }\n",
    "                else:\n",
    "                    data_dict[counter] = {\n",
    "                        'hyperparameters': data_params,\n",
    "                        'losses': losses,\n",
    "                        'mean_loss': mean_loss,\n",
    "                        'val_loss' : val_losses\n",
    "                    }\n",
    "                data_dict[counter]['model_path']=new_model_path\n",
    "                counter += 1\n",
    "\n",
    "    return data_dict\n",
    "\n",
    "# Example usage:\n",
    "# model_params = {...}  # Your model parameters here\n",
    "# training_params = {...}  # Your training parameters here\n",
    "# model_path = 'path/to/your/model'\n",
    "# data_dict = generate_data_dict(data_params, model_params, training_params, model_path)\n",
    "\n",
    "model_path = \"base.pth\"\n",
    "\n",
    "\n",
    "model_params = {\n",
    "    'device': \"cuda\",\n",
    "    'path': model_path,\n",
    "    'force_training': True,\n",
    "}\n",
    "\n",
    "training_params = {\n",
    "    'learning rate' : 0.00001,\n",
    "    'num_epochs' : 6, \n",
    "    'criterion' : torch.nn.MSELoss(),\n",
    "    'device' : \"cuda\",\n",
    "    'optimizer' : torch.optim.Adam,\n",
    "    'log_training_to_console': True,\n",
    "    'pretrained': False,\n",
    "    'iterations' : 30,\n",
    "    'current_iteration' : 0,\n",
    "}\n",
    "\n",
    "default_hyperparams = {\n",
    "        'batch_size': 12,  \n",
    "        'num_of_dataloader_workers': 0,  \n",
    "        'shuffle_dataset': True,  \n",
    "        'flip_directions': [],  \n",
    "        'force_preprocessing': False,  \n",
    "        'random_cropping': 0,  \n",
    "        'cropping_scale': 0.85,  \n",
    "        'perspective_transform': 0,  \n",
    "        'distortion_scale': 0.2,  \n",
    "        'elastic_transform': [],  \n",
    "        'gauss': 0,  \n",
    "        'sigma': (0.1, 5.0), \n",
    "        'validation_split': (0.05, 0.95),  \n",
    "        'grid_mask': 0,  \n",
    "        'grid_param': {\"ratio\": 0.6, \"d_min\": 30, \"d_max\": 70},  \n",
    "        'local_rotation': 0,  \n",
    "        'smooth_config': [] \n",
    "    }\n",
    "\n",
    "\n",
    "data_dict=generate_data_dict( default_hyperparams, model_params, training_params, '../data', num_param_sets=0)\n",
    "\n",
    "print(data_dict)\n",
    "\n",
    "with open('unaugmented.pkl', 'wb') as fp:\n",
    "    pickle.dump(data_dict, fp)\n",
    "    print('dictionary saved successfully to file')\n"
   ]
  }
 ],
 "metadata": {
  "kernelspec": {
   "display_name": "light",
   "language": "python",
   "name": "python3"
  },
  "language_info": {
   "codemirror_mode": {
    "name": "ipython",
    "version": 3
   },
   "file_extension": ".py",
   "mimetype": "text/x-python",
   "name": "python",
   "nbconvert_exporter": "python",
   "pygments_lexer": "ipython3",
   "version": "3.1.undefined"
  }
 },
 "nbformat": 4,
 "nbformat_minor": 2
}
