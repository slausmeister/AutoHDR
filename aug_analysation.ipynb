{
 "cells": [
  {
   "cell_type": "code",
   "execution_count": 19,
   "metadata": {},
   "outputs": [],
   "source": [
    "import numpy as np\n",
    "import pickle\n",
    "import plotly.graph_objects as go\n",
    "import plotly.io as pio"
   ]
  },
  {
   "cell_type": "code",
   "execution_count": 20,
   "metadata": {},
   "outputs": [
    {
     "name": "stdout",
     "output_type": "stream",
     "text": [
      "dict_keys([-3, -2, -1, 0, 1, 2, 3, 4, 5, 6, 7, 8, 9, 10, 11, 12, 13, 14, 15, 16, 17, 18, 19, 20])\n"
     ]
    }
   ],
   "source": [
    "with open('unaugmented.pkl', 'rb') as handle:\n",
    "    input_dict1 = pickle.load(handle)\n",
    "input_dict1[-3] = input_dict1.pop(0)\n",
    "input_dict1[-2] = input_dict1.pop(1)\n",
    "input_dict1[-1] = input_dict1.pop(2)\n",
    "input_dict1[-3]['hyperparameters']['no augmentation'] = True\n",
    "input_dict1[-2]['hyperparameters']['no augmentation'] = True\n",
    "input_dict1[-1]['hyperparameters']['no augmentation'] = True\n",
    "\n",
    "with open('tmp.pkl', 'rb') as handle:\n",
    "    input_dict2 = pickle.load(handle)\n",
    "\n",
    "\n",
    "\n",
    "input_dict = input_dict1 | input_dict2\n",
    "\n",
    "print(input_dict.keys())"
   ]
  },
  {
   "cell_type": "code",
   "execution_count": 21,
   "metadata": {},
   "outputs": [
    {
     "data": {
      "application/vnd.plotly.v1+json": {
       "config": {
        "plotlyServerURL": "https://plot.ly"
       },
       "data": [
        {
         "hoverinfo": "name",
         "legendgroup": "0",
         "line": {
          "color": "#1f77b4",
          "dash": "solid"
         },
         "mode": "lines",
         "name": "no augmentation",
         "opacity": 0.7,
         "type": "scatter",
         "x": [
          1,
          2,
          3,
          4,
          5,
          6
         ],
         "y": [
          0.2618068440861645,
          0.19139568571533475,
          0.1646256403199264,
          0.1393068662888947,
          0.12236602430320567,
          0.11594994562190203
         ]
        },
        {
         "hoverinfo": "name",
         "legendgroup": "0",
         "line": {
          "color": "#1f77b4",
          "dash": "dash"
         },
         "mode": "lines",
         "name": "no augmentation",
         "opacity": 0.7,
         "type": "scatter",
         "x": [
          1,
          2,
          3,
          4,
          5,
          6
         ],
         "y": [
          0.29879774570110296,
          0.20763010305485555,
          0.18791065815658797,
          0.14910167844167777,
          0.13603947942721703,
          0.1250282652010875
         ]
        },
        {
         "hoverinfo": "name",
         "legendgroup": "0",
         "line": {
          "color": "#1f77b4",
          "dash": "dot"
         },
         "mode": "lines",
         "name": "no augmentation",
         "opacity": 0.7,
         "type": "scatter",
         "x": [
          1,
          2,
          3,
          4,
          5,
          6
         ],
         "y": [
          0.2823165127741439,
          0.2106245406814629,
          0.17393132056153957,
          0.1444065008711602,
          0.13644493126886942,
          0.11894403605145358
         ]
        },
        {
         "hoverinfo": "name",
         "legendgroup": "1",
         "line": {
          "color": "#ff7f0e",
          "dash": "solid"
         },
         "mode": "lines",
         "name": "flip_directions",
         "opacity": 0.7,
         "type": "scatter",
         "x": [
          1,
          2,
          3,
          4,
          5,
          6
         ],
         "y": [
          0.11888288936267297,
          0.08599365503926362,
          0.07486248641895751,
          0.06860400305927865,
          0.06608355738045205,
          0.06440895429945417
         ]
        },
        {
         "hoverinfo": "name",
         "legendgroup": "1",
         "line": {
          "color": "#ff7f0e",
          "dash": "dash"
         },
         "mode": "lines",
         "name": "flip_directions",
         "opacity": 0.7,
         "type": "scatter",
         "x": [
          1,
          2,
          3,
          4,
          5,
          6
         ],
         "y": [
          0.12216900399486934,
          0.08289682875121278,
          0.06958120548875914,
          0.06130404756626203,
          0.05906252285598644,
          0.05797550348742377
         ]
        },
        {
         "hoverinfo": "name",
         "legendgroup": "1",
         "line": {
          "color": "#ff7f0e",
          "dash": "dot"
         },
         "mode": "lines",
         "name": "flip_directions",
         "opacity": 0.7,
         "type": "scatter",
         "x": [
          1,
          2,
          3,
          4,
          5,
          6
         ],
         "y": [
          0.1201188666213836,
          0.0817884465657352,
          0.0710094062123625,
          0.06484491958149842,
          0.06286645656495932,
          0.06187140483497864
         ]
        },
        {
         "hoverinfo": "name",
         "legendgroup": "2",
         "line": {
          "color": "#2ca02c",
          "dash": "solid"
         },
         "mode": "lines",
         "name": "random_cropping",
         "opacity": 0.7,
         "type": "scatter",
         "x": [
          1,
          2,
          3,
          4,
          5,
          6
         ],
         "y": [
          0.12896714972420817,
          0.08796159024572088,
          0.07465405952451484,
          0.06869944414966518,
          0.0691017674016101,
          0.06879298795857244
         ]
        },
        {
         "hoverinfo": "name",
         "legendgroup": "2",
         "line": {
          "color": "#2ca02c",
          "dash": "dash"
         },
         "mode": "lines",
         "name": "random_cropping",
         "opacity": 0.7,
         "type": "scatter",
         "x": [
          1,
          2,
          3,
          4,
          5,
          6
         ],
         "y": [
          0.12818853382819465,
          0.07894760697991365,
          0.06490140900326272,
          0.061354724670361196,
          0.059233269365947874,
          0.05903350019250952
         ]
        },
        {
         "hoverinfo": "name",
         "legendgroup": "2",
         "line": {
          "color": "#2ca02c",
          "dash": "dot"
         },
         "mode": "lines",
         "name": "random_cropping",
         "opacity": 0.7,
         "type": "scatter",
         "x": [
          1,
          2,
          3,
          4,
          5,
          6
         ],
         "y": [
          0.1255451838264153,
          0.0750641165190332,
          0.06309584239497781,
          0.05618854383716271,
          0.05397101025363164,
          0.0496459029592751
         ]
        },
        {
         "hoverinfo": "name",
         "legendgroup": "3",
         "line": {
          "color": "#d62728",
          "dash": "solid"
         },
         "mode": "lines",
         "name": "perspective_transform",
         "opacity": 0.7,
         "type": "scatter",
         "x": [
          1,
          2,
          3,
          4,
          5,
          6
         ],
         "y": [
          0.13829439128970816,
          0.09499799700764318,
          0.07244708804369328,
          0.06497607742924066,
          0.06370044096506068,
          0.06391779890816127
         ]
        },
        {
         "hoverinfo": "name",
         "legendgroup": "3",
         "line": {
          "color": "#d62728",
          "dash": "dash"
         },
         "mode": "lines",
         "name": "perspective_transform",
         "opacity": 0.7,
         "type": "scatter",
         "x": [
          1,
          2,
          3,
          4,
          5,
          6
         ],
         "y": [
          0.12289329645490008,
          0.08453541655714313,
          0.0678764441937563,
          0.06011001559728313,
          0.05772811054429483,
          0.057786767142603085
         ]
        },
        {
         "hoverinfo": "name",
         "legendgroup": "3",
         "line": {
          "color": "#d62728",
          "dash": "dot"
         },
         "mode": "lines",
         "name": "perspective_transform",
         "opacity": 0.7,
         "type": "scatter",
         "x": [
          1,
          2,
          3,
          4,
          5,
          6
         ],
         "y": [
          0.13562282270618847,
          0.09410371961781666,
          0.07512235143665402,
          0.0688672292312341,
          0.06468901686326024,
          0.06332244792332252
         ]
        },
        {
         "hoverinfo": "name",
         "legendgroup": "4",
         "line": {
          "color": "#9467bd",
          "dash": "solid"
         },
         "mode": "lines",
         "name": "elastic_transform",
         "opacity": 0.7,
         "type": "scatter",
         "x": [
          1,
          2,
          3,
          4,
          5,
          6
         ],
         "y": [
          0.1338975506834686,
          0.096334208650071,
          0.07766596267798118,
          0.07087281931723867,
          0.06579790928489751,
          0.06172848073100405
         ]
        },
        {
         "hoverinfo": "name",
         "legendgroup": "4",
         "line": {
          "color": "#9467bd",
          "dash": "dash"
         },
         "mode": "lines",
         "name": "elastic_transform",
         "opacity": 0.7,
         "type": "scatter",
         "x": [
          1,
          2,
          3,
          4,
          5,
          6
         ],
         "y": [
          0.1269993461845886,
          0.086101081774437,
          0.07055450013971755,
          0.06363009678510329,
          0.061234518515300894,
          0.06084203397899511
         ]
        },
        {
         "hoverinfo": "name",
         "legendgroup": "4",
         "line": {
          "color": "#9467bd",
          "dash": "dot"
         },
         "mode": "lines",
         "name": "elastic_transform",
         "opacity": 0.7,
         "type": "scatter",
         "x": [
          1,
          2,
          3,
          4,
          5,
          6
         ],
         "y": [
          0.12877632466898786,
          0.08924740959358002,
          0.07688795294435251,
          0.06904108374202181,
          0.06403551718574904,
          0.0635555011963117
         ]
        },
        {
         "hoverinfo": "name",
         "legendgroup": "5",
         "line": {
          "color": "#8c564b",
          "dash": "solid"
         },
         "mode": "lines",
         "name": "gauss",
         "opacity": 0.7,
         "type": "scatter",
         "x": [
          1,
          2,
          3,
          4,
          5,
          6
         ],
         "y": [
          0.12318035909196451,
          0.08474045319793125,
          0.07150439501385249,
          0.0639774921350181,
          0.062339093112608504,
          0.062071465443642365
         ]
        },
        {
         "hoverinfo": "name",
         "legendgroup": "5",
         "line": {
          "color": "#8c564b",
          "dash": "dash"
         },
         "mode": "lines",
         "name": "gauss",
         "opacity": 0.7,
         "type": "scatter",
         "x": [
          1,
          2,
          3,
          4,
          5,
          6
         ],
         "y": [
          0.10939198204404896,
          0.07002988001109943,
          0.05858976603042157,
          0.05536256788431534,
          0.05417733541911557,
          0.05488874245701092
         ]
        },
        {
         "hoverinfo": "name",
         "legendgroup": "5",
         "line": {
          "color": "#8c564b",
          "dash": "dot"
         },
         "mode": "lines",
         "name": "gauss",
         "opacity": 0.7,
         "type": "scatter",
         "x": [
          1,
          2,
          3,
          4,
          5,
          6
         ],
         "y": [
          0.10810472214417088,
          0.07395647017817412,
          0.06227916431879359,
          0.058109374229042304,
          0.05599341457266183,
          0.05459924168618662
         ]
        },
        {
         "hoverinfo": "name",
         "legendgroup": "6",
         "line": {
          "color": "#e377c2",
          "dash": "solid"
         },
         "mode": "lines",
         "name": "grid_mask",
         "opacity": 0.7,
         "type": "scatter",
         "x": [
          1,
          2,
          3,
          4,
          5,
          6
         ],
         "y": [
          0.1416263391396829,
          0.0932254380723905,
          0.07800207553387042,
          0.06958888829020517,
          0.06859917400981344,
          0.06810513464512215
         ]
        },
        {
         "hoverinfo": "name",
         "legendgroup": "6",
         "line": {
          "color": "#e377c2",
          "dash": "dash"
         },
         "mode": "lines",
         "name": "grid_mask",
         "opacity": 0.7,
         "type": "scatter",
         "x": [
          1,
          2,
          3,
          4,
          5,
          6
         ],
         "y": [
          0.11803085764958746,
          0.08283844206792614,
          0.07146741256250867,
          0.06712981737884027,
          0.06610113154830677,
          0.06537719845017861
         ]
        },
        {
         "hoverinfo": "name",
         "legendgroup": "6",
         "line": {
          "color": "#e377c2",
          "dash": "dot"
         },
         "mode": "lines",
         "name": "grid_mask",
         "opacity": 0.7,
         "type": "scatter",
         "x": [
          1,
          2,
          3,
          4,
          5,
          6
         ],
         "y": [
          0.12511168121404592,
          0.08907675351504059,
          0.07169525680087861,
          0.06345757683517322,
          0.05753301616225924,
          0.05693812793386834
         ]
        },
        {
         "hoverinfo": "name",
         "legendgroup": "7",
         "line": {
          "color": "#1f77b4",
          "dash": "solid"
         },
         "mode": "lines",
         "name": "local_rotation",
         "opacity": 0.7,
         "type": "scatter",
         "x": [
          1,
          2,
          3,
          4,
          5,
          6
         ],
         "y": [
          0.1302586173860445,
          0.09038873131697377,
          0.07569082280665282,
          0.07227531154861762,
          0.06720040177904246,
          0.06480694866650516
         ]
        },
        {
         "hoverinfo": "name",
         "legendgroup": "7",
         "line": {
          "color": "#1f77b4",
          "dash": "dash"
         },
         "mode": "lines",
         "name": "local_rotation",
         "opacity": 0.7,
         "type": "scatter",
         "x": [
          1,
          2,
          3,
          4,
          5,
          6
         ],
         "y": [
          0.11745332516286344,
          0.07619733183999501,
          0.05794712426806135,
          0.0556393739601065,
          0.05229704684932672,
          0.05060511848977989
         ]
        },
        {
         "hoverinfo": "name",
         "legendgroup": "7",
         "line": {
          "color": "#1f77b4",
          "dash": "dot"
         },
         "mode": "lines",
         "name": "local_rotation",
         "opacity": 0.7,
         "type": "scatter",
         "x": [
          1,
          2,
          3,
          4,
          5,
          6
         ],
         "y": [
          0.13205634313857273,
          0.08983609696761483,
          0.07576112087616431,
          0.06602320606110706,
          0.06484826089636911,
          0.060689898771012114
         ]
        }
       ],
       "layout": {
        "annotations": [
         {
          "font": {
           "size": 12
          },
          "showarrow": false,
          "text": "<span>─ No Smoothing</span>",
          "x": 0,
          "xref": "paper",
          "y": 1.1,
          "yref": "paper"
         },
         {
          "font": {
           "size": 12
          },
          "showarrow": false,
          "text": "<span>─ ─ ─ Boxcar Smoothing</span>",
          "x": 0.2,
          "xref": "paper",
          "y": 1.1,
          "yref": "paper"
         },
         {
          "font": {
           "size": 12
          },
          "showarrow": false,
          "text": "<span>• • • Gaussian Smoothing</span>",
          "x": 0.6,
          "xref": "paper",
          "y": 1.1,
          "yref": "paper"
         }
        ],
        "showlegend": false,
        "template": {
         "data": {
          "bar": [
           {
            "error_x": {
             "color": "#2a3f5f"
            },
            "error_y": {
             "color": "#2a3f5f"
            },
            "marker": {
             "line": {
              "color": "white",
              "width": 0.5
             },
             "pattern": {
              "fillmode": "overlay",
              "size": 10,
              "solidity": 0.2
             }
            },
            "type": "bar"
           }
          ],
          "barpolar": [
           {
            "marker": {
             "line": {
              "color": "white",
              "width": 0.5
             },
             "pattern": {
              "fillmode": "overlay",
              "size": 10,
              "solidity": 0.2
             }
            },
            "type": "barpolar"
           }
          ],
          "carpet": [
           {
            "aaxis": {
             "endlinecolor": "#2a3f5f",
             "gridcolor": "#C8D4E3",
             "linecolor": "#C8D4E3",
             "minorgridcolor": "#C8D4E3",
             "startlinecolor": "#2a3f5f"
            },
            "baxis": {
             "endlinecolor": "#2a3f5f",
             "gridcolor": "#C8D4E3",
             "linecolor": "#C8D4E3",
             "minorgridcolor": "#C8D4E3",
             "startlinecolor": "#2a3f5f"
            },
            "type": "carpet"
           }
          ],
          "choropleth": [
           {
            "colorbar": {
             "outlinewidth": 0,
             "ticks": ""
            },
            "type": "choropleth"
           }
          ],
          "contour": [
           {
            "colorbar": {
             "outlinewidth": 0,
             "ticks": ""
            },
            "colorscale": [
             [
              0,
              "#0d0887"
             ],
             [
              0.1111111111111111,
              "#46039f"
             ],
             [
              0.2222222222222222,
              "#7201a8"
             ],
             [
              0.3333333333333333,
              "#9c179e"
             ],
             [
              0.4444444444444444,
              "#bd3786"
             ],
             [
              0.5555555555555556,
              "#d8576b"
             ],
             [
              0.6666666666666666,
              "#ed7953"
             ],
             [
              0.7777777777777778,
              "#fb9f3a"
             ],
             [
              0.8888888888888888,
              "#fdca26"
             ],
             [
              1,
              "#f0f921"
             ]
            ],
            "type": "contour"
           }
          ],
          "contourcarpet": [
           {
            "colorbar": {
             "outlinewidth": 0,
             "ticks": ""
            },
            "type": "contourcarpet"
           }
          ],
          "heatmap": [
           {
            "colorbar": {
             "outlinewidth": 0,
             "ticks": ""
            },
            "colorscale": [
             [
              0,
              "#0d0887"
             ],
             [
              0.1111111111111111,
              "#46039f"
             ],
             [
              0.2222222222222222,
              "#7201a8"
             ],
             [
              0.3333333333333333,
              "#9c179e"
             ],
             [
              0.4444444444444444,
              "#bd3786"
             ],
             [
              0.5555555555555556,
              "#d8576b"
             ],
             [
              0.6666666666666666,
              "#ed7953"
             ],
             [
              0.7777777777777778,
              "#fb9f3a"
             ],
             [
              0.8888888888888888,
              "#fdca26"
             ],
             [
              1,
              "#f0f921"
             ]
            ],
            "type": "heatmap"
           }
          ],
          "heatmapgl": [
           {
            "colorbar": {
             "outlinewidth": 0,
             "ticks": ""
            },
            "colorscale": [
             [
              0,
              "#0d0887"
             ],
             [
              0.1111111111111111,
              "#46039f"
             ],
             [
              0.2222222222222222,
              "#7201a8"
             ],
             [
              0.3333333333333333,
              "#9c179e"
             ],
             [
              0.4444444444444444,
              "#bd3786"
             ],
             [
              0.5555555555555556,
              "#d8576b"
             ],
             [
              0.6666666666666666,
              "#ed7953"
             ],
             [
              0.7777777777777778,
              "#fb9f3a"
             ],
             [
              0.8888888888888888,
              "#fdca26"
             ],
             [
              1,
              "#f0f921"
             ]
            ],
            "type": "heatmapgl"
           }
          ],
          "histogram": [
           {
            "marker": {
             "pattern": {
              "fillmode": "overlay",
              "size": 10,
              "solidity": 0.2
             }
            },
            "type": "histogram"
           }
          ],
          "histogram2d": [
           {
            "colorbar": {
             "outlinewidth": 0,
             "ticks": ""
            },
            "colorscale": [
             [
              0,
              "#0d0887"
             ],
             [
              0.1111111111111111,
              "#46039f"
             ],
             [
              0.2222222222222222,
              "#7201a8"
             ],
             [
              0.3333333333333333,
              "#9c179e"
             ],
             [
              0.4444444444444444,
              "#bd3786"
             ],
             [
              0.5555555555555556,
              "#d8576b"
             ],
             [
              0.6666666666666666,
              "#ed7953"
             ],
             [
              0.7777777777777778,
              "#fb9f3a"
             ],
             [
              0.8888888888888888,
              "#fdca26"
             ],
             [
              1,
              "#f0f921"
             ]
            ],
            "type": "histogram2d"
           }
          ],
          "histogram2dcontour": [
           {
            "colorbar": {
             "outlinewidth": 0,
             "ticks": ""
            },
            "colorscale": [
             [
              0,
              "#0d0887"
             ],
             [
              0.1111111111111111,
              "#46039f"
             ],
             [
              0.2222222222222222,
              "#7201a8"
             ],
             [
              0.3333333333333333,
              "#9c179e"
             ],
             [
              0.4444444444444444,
              "#bd3786"
             ],
             [
              0.5555555555555556,
              "#d8576b"
             ],
             [
              0.6666666666666666,
              "#ed7953"
             ],
             [
              0.7777777777777778,
              "#fb9f3a"
             ],
             [
              0.8888888888888888,
              "#fdca26"
             ],
             [
              1,
              "#f0f921"
             ]
            ],
            "type": "histogram2dcontour"
           }
          ],
          "mesh3d": [
           {
            "colorbar": {
             "outlinewidth": 0,
             "ticks": ""
            },
            "type": "mesh3d"
           }
          ],
          "parcoords": [
           {
            "line": {
             "colorbar": {
              "outlinewidth": 0,
              "ticks": ""
             }
            },
            "type": "parcoords"
           }
          ],
          "pie": [
           {
            "automargin": true,
            "type": "pie"
           }
          ],
          "scatter": [
           {
            "fillpattern": {
             "fillmode": "overlay",
             "size": 10,
             "solidity": 0.2
            },
            "type": "scatter"
           }
          ],
          "scatter3d": [
           {
            "line": {
             "colorbar": {
              "outlinewidth": 0,
              "ticks": ""
             }
            },
            "marker": {
             "colorbar": {
              "outlinewidth": 0,
              "ticks": ""
             }
            },
            "type": "scatter3d"
           }
          ],
          "scattercarpet": [
           {
            "marker": {
             "colorbar": {
              "outlinewidth": 0,
              "ticks": ""
             }
            },
            "type": "scattercarpet"
           }
          ],
          "scattergeo": [
           {
            "marker": {
             "colorbar": {
              "outlinewidth": 0,
              "ticks": ""
             }
            },
            "type": "scattergeo"
           }
          ],
          "scattergl": [
           {
            "marker": {
             "colorbar": {
              "outlinewidth": 0,
              "ticks": ""
             }
            },
            "type": "scattergl"
           }
          ],
          "scattermapbox": [
           {
            "marker": {
             "colorbar": {
              "outlinewidth": 0,
              "ticks": ""
             }
            },
            "type": "scattermapbox"
           }
          ],
          "scatterpolar": [
           {
            "marker": {
             "colorbar": {
              "outlinewidth": 0,
              "ticks": ""
             }
            },
            "type": "scatterpolar"
           }
          ],
          "scatterpolargl": [
           {
            "marker": {
             "colorbar": {
              "outlinewidth": 0,
              "ticks": ""
             }
            },
            "type": "scatterpolargl"
           }
          ],
          "scatterternary": [
           {
            "marker": {
             "colorbar": {
              "outlinewidth": 0,
              "ticks": ""
             }
            },
            "type": "scatterternary"
           }
          ],
          "surface": [
           {
            "colorbar": {
             "outlinewidth": 0,
             "ticks": ""
            },
            "colorscale": [
             [
              0,
              "#0d0887"
             ],
             [
              0.1111111111111111,
              "#46039f"
             ],
             [
              0.2222222222222222,
              "#7201a8"
             ],
             [
              0.3333333333333333,
              "#9c179e"
             ],
             [
              0.4444444444444444,
              "#bd3786"
             ],
             [
              0.5555555555555556,
              "#d8576b"
             ],
             [
              0.6666666666666666,
              "#ed7953"
             ],
             [
              0.7777777777777778,
              "#fb9f3a"
             ],
             [
              0.8888888888888888,
              "#fdca26"
             ],
             [
              1,
              "#f0f921"
             ]
            ],
            "type": "surface"
           }
          ],
          "table": [
           {
            "cells": {
             "fill": {
              "color": "#EBF0F8"
             },
             "line": {
              "color": "white"
             }
            },
            "header": {
             "fill": {
              "color": "#C8D4E3"
             },
             "line": {
              "color": "white"
             }
            },
            "type": "table"
           }
          ]
         },
         "layout": {
          "annotationdefaults": {
           "arrowcolor": "#2a3f5f",
           "arrowhead": 0,
           "arrowwidth": 1
          },
          "autotypenumbers": "strict",
          "coloraxis": {
           "colorbar": {
            "outlinewidth": 0,
            "ticks": ""
           }
          },
          "colorscale": {
           "diverging": [
            [
             0,
             "#8e0152"
            ],
            [
             0.1,
             "#c51b7d"
            ],
            [
             0.2,
             "#de77ae"
            ],
            [
             0.3,
             "#f1b6da"
            ],
            [
             0.4,
             "#fde0ef"
            ],
            [
             0.5,
             "#f7f7f7"
            ],
            [
             0.6,
             "#e6f5d0"
            ],
            [
             0.7,
             "#b8e186"
            ],
            [
             0.8,
             "#7fbc41"
            ],
            [
             0.9,
             "#4d9221"
            ],
            [
             1,
             "#276419"
            ]
           ],
           "sequential": [
            [
             0,
             "#0d0887"
            ],
            [
             0.1111111111111111,
             "#46039f"
            ],
            [
             0.2222222222222222,
             "#7201a8"
            ],
            [
             0.3333333333333333,
             "#9c179e"
            ],
            [
             0.4444444444444444,
             "#bd3786"
            ],
            [
             0.5555555555555556,
             "#d8576b"
            ],
            [
             0.6666666666666666,
             "#ed7953"
            ],
            [
             0.7777777777777778,
             "#fb9f3a"
            ],
            [
             0.8888888888888888,
             "#fdca26"
            ],
            [
             1,
             "#f0f921"
            ]
           ],
           "sequentialminus": [
            [
             0,
             "#0d0887"
            ],
            [
             0.1111111111111111,
             "#46039f"
            ],
            [
             0.2222222222222222,
             "#7201a8"
            ],
            [
             0.3333333333333333,
             "#9c179e"
            ],
            [
             0.4444444444444444,
             "#bd3786"
            ],
            [
             0.5555555555555556,
             "#d8576b"
            ],
            [
             0.6666666666666666,
             "#ed7953"
            ],
            [
             0.7777777777777778,
             "#fb9f3a"
            ],
            [
             0.8888888888888888,
             "#fdca26"
            ],
            [
             1,
             "#f0f921"
            ]
           ]
          },
          "colorway": [
           "#636efa",
           "#EF553B",
           "#00cc96",
           "#ab63fa",
           "#FFA15A",
           "#19d3f3",
           "#FF6692",
           "#B6E880",
           "#FF97FF",
           "#FECB52"
          ],
          "font": {
           "color": "#2a3f5f"
          },
          "geo": {
           "bgcolor": "white",
           "lakecolor": "white",
           "landcolor": "white",
           "showlakes": true,
           "showland": true,
           "subunitcolor": "#C8D4E3"
          },
          "hoverlabel": {
           "align": "left"
          },
          "hovermode": "closest",
          "mapbox": {
           "style": "light"
          },
          "paper_bgcolor": "white",
          "plot_bgcolor": "white",
          "polar": {
           "angularaxis": {
            "gridcolor": "#EBF0F8",
            "linecolor": "#EBF0F8",
            "ticks": ""
           },
           "bgcolor": "white",
           "radialaxis": {
            "gridcolor": "#EBF0F8",
            "linecolor": "#EBF0F8",
            "ticks": ""
           }
          },
          "scene": {
           "xaxis": {
            "backgroundcolor": "white",
            "gridcolor": "#DFE8F3",
            "gridwidth": 2,
            "linecolor": "#EBF0F8",
            "showbackground": true,
            "ticks": "",
            "zerolinecolor": "#EBF0F8"
           },
           "yaxis": {
            "backgroundcolor": "white",
            "gridcolor": "#DFE8F3",
            "gridwidth": 2,
            "linecolor": "#EBF0F8",
            "showbackground": true,
            "ticks": "",
            "zerolinecolor": "#EBF0F8"
           },
           "zaxis": {
            "backgroundcolor": "white",
            "gridcolor": "#DFE8F3",
            "gridwidth": 2,
            "linecolor": "#EBF0F8",
            "showbackground": true,
            "ticks": "",
            "zerolinecolor": "#EBF0F8"
           }
          },
          "shapedefaults": {
           "line": {
            "color": "#2a3f5f"
           }
          },
          "ternary": {
           "aaxis": {
            "gridcolor": "#DFE8F3",
            "linecolor": "#A2B1C6",
            "ticks": ""
           },
           "baxis": {
            "gridcolor": "#DFE8F3",
            "linecolor": "#A2B1C6",
            "ticks": ""
           },
           "bgcolor": "white",
           "caxis": {
            "gridcolor": "#DFE8F3",
            "linecolor": "#A2B1C6",
            "ticks": ""
           }
          },
          "title": {
           "x": 0.05
          },
          "xaxis": {
           "automargin": true,
           "gridcolor": "#EBF0F8",
           "linecolor": "#EBF0F8",
           "ticks": "",
           "title": {
            "standoff": 15
           },
           "zerolinecolor": "#EBF0F8",
           "zerolinewidth": 2
          },
          "yaxis": {
           "automargin": true,
           "gridcolor": "#EBF0F8",
           "linecolor": "#EBF0F8",
           "ticks": "",
           "title": {
            "standoff": 15
           },
           "zerolinecolor": "#EBF0F8",
           "zerolinewidth": 2
          }
         }
        },
        "updatemenus": [
         {
          "buttons": [
           {
            "args": [
             {
              "opacity": [
               0.7,
               0.7,
               0.7,
               0.7,
               0.7,
               0.7,
               0.7,
               0.7,
               0.7,
               0.7,
               0.7,
               0.7,
               0.7,
               0.7,
               0.7,
               0.7,
               0.7,
               0.7,
               0.7,
               0.7,
               0.7,
               0.7,
               0.7,
               0.7
              ]
             }
            ],
            "args2": [
             {
              "opacity": [
               0.2,
               0.2,
               0.2,
               0.2,
               0.2,
               0.2,
               0.2,
               0.2,
               0.2,
               0.2,
               0.2,
               0.2,
               0.2,
               0.2,
               0.2,
               0.2,
               0.2,
               0.2,
               0.2,
               0.2,
               0.2,
               0.2,
               0.2,
               0.2
              ]
             }
            ],
            "label": "All",
            "method": "restyle"
           },
           {
            "args": [
             {
              "opacity": [
               1,
               1,
               1,
               0.2,
               0.2,
               0.2,
               0.2,
               0.2,
               0.2,
               0.2,
               0.2,
               0.2,
               0.2,
               0.2,
               0.2,
               0.2,
               0.2,
               0.2,
               0.2,
               0.2,
               0.2,
               0.2,
               0.2,
               0.2
              ]
             }
            ],
            "args2": [
             {
              "opacity": [
               0.2,
               0.2,
               0.2,
               0.2,
               0.2,
               0.2,
               0.2,
               0.2,
               0.2,
               0.2,
               0.2,
               0.2,
               0.2,
               0.2,
               0.2,
               0.2,
               0.2,
               0.2,
               0.2,
               0.2,
               0.2,
               0.2,
               0.2,
               0.2
              ]
             }
            ],
            "label": "no augmentation",
            "method": "restyle"
           },
           {
            "args": [
             {
              "opacity": [
               0.2,
               0.2,
               0.2,
               1,
               1,
               1,
               0.2,
               0.2,
               0.2,
               0.2,
               0.2,
               0.2,
               0.2,
               0.2,
               0.2,
               0.2,
               0.2,
               0.2,
               0.2,
               0.2,
               0.2,
               0.2,
               0.2,
               0.2
              ]
             }
            ],
            "args2": [
             {
              "opacity": [
               0.2,
               0.2,
               0.2,
               0.2,
               0.2,
               0.2,
               0.2,
               0.2,
               0.2,
               0.2,
               0.2,
               0.2,
               0.2,
               0.2,
               0.2,
               0.2,
               0.2,
               0.2,
               0.2,
               0.2,
               0.2,
               0.2,
               0.2,
               0.2
              ]
             }
            ],
            "label": "flip_directions",
            "method": "restyle"
           },
           {
            "args": [
             {
              "opacity": [
               0.2,
               0.2,
               0.2,
               0.2,
               0.2,
               0.2,
               1,
               1,
               1,
               0.2,
               0.2,
               0.2,
               0.2,
               0.2,
               0.2,
               0.2,
               0.2,
               0.2,
               0.2,
               0.2,
               0.2,
               0.2,
               0.2,
               0.2
              ]
             }
            ],
            "args2": [
             {
              "opacity": [
               0.2,
               0.2,
               0.2,
               0.2,
               0.2,
               0.2,
               0.2,
               0.2,
               0.2,
               0.2,
               0.2,
               0.2,
               0.2,
               0.2,
               0.2,
               0.2,
               0.2,
               0.2,
               0.2,
               0.2,
               0.2,
               0.2,
               0.2,
               0.2
              ]
             }
            ],
            "label": "random_cropping",
            "method": "restyle"
           },
           {
            "args": [
             {
              "opacity": [
               0.2,
               0.2,
               0.2,
               0.2,
               0.2,
               0.2,
               0.2,
               0.2,
               0.2,
               1,
               1,
               1,
               0.2,
               0.2,
               0.2,
               0.2,
               0.2,
               0.2,
               0.2,
               0.2,
               0.2,
               0.2,
               0.2,
               0.2
              ]
             }
            ],
            "args2": [
             {
              "opacity": [
               0.2,
               0.2,
               0.2,
               0.2,
               0.2,
               0.2,
               0.2,
               0.2,
               0.2,
               0.2,
               0.2,
               0.2,
               0.2,
               0.2,
               0.2,
               0.2,
               0.2,
               0.2,
               0.2,
               0.2,
               0.2,
               0.2,
               0.2,
               0.2
              ]
             }
            ],
            "label": "perspective_transform",
            "method": "restyle"
           },
           {
            "args": [
             {
              "opacity": [
               0.2,
               0.2,
               0.2,
               0.2,
               0.2,
               0.2,
               0.2,
               0.2,
               0.2,
               0.2,
               0.2,
               0.2,
               1,
               1,
               1,
               0.2,
               0.2,
               0.2,
               0.2,
               0.2,
               0.2,
               0.2,
               0.2,
               0.2
              ]
             }
            ],
            "args2": [
             {
              "opacity": [
               0.2,
               0.2,
               0.2,
               0.2,
               0.2,
               0.2,
               0.2,
               0.2,
               0.2,
               0.2,
               0.2,
               0.2,
               0.2,
               0.2,
               0.2,
               0.2,
               0.2,
               0.2,
               0.2,
               0.2,
               0.2,
               0.2,
               0.2,
               0.2
              ]
             }
            ],
            "label": "elastic_transform",
            "method": "restyle"
           },
           {
            "args": [
             {
              "opacity": [
               0.2,
               0.2,
               0.2,
               0.2,
               0.2,
               0.2,
               0.2,
               0.2,
               0.2,
               0.2,
               0.2,
               0.2,
               0.2,
               0.2,
               0.2,
               1,
               1,
               1,
               0.2,
               0.2,
               0.2,
               0.2,
               0.2,
               0.2
              ]
             }
            ],
            "args2": [
             {
              "opacity": [
               0.2,
               0.2,
               0.2,
               0.2,
               0.2,
               0.2,
               0.2,
               0.2,
               0.2,
               0.2,
               0.2,
               0.2,
               0.2,
               0.2,
               0.2,
               0.2,
               0.2,
               0.2,
               0.2,
               0.2,
               0.2,
               0.2,
               0.2,
               0.2
              ]
             }
            ],
            "label": "gauss",
            "method": "restyle"
           },
           {
            "args": [
             {
              "opacity": [
               0.2,
               0.2,
               0.2,
               0.2,
               0.2,
               0.2,
               0.2,
               0.2,
               0.2,
               0.2,
               0.2,
               0.2,
               0.2,
               0.2,
               0.2,
               0.2,
               0.2,
               0.2,
               1,
               1,
               1,
               0.2,
               0.2,
               0.2
              ]
             }
            ],
            "args2": [
             {
              "opacity": [
               0.2,
               0.2,
               0.2,
               0.2,
               0.2,
               0.2,
               0.2,
               0.2,
               0.2,
               0.2,
               0.2,
               0.2,
               0.2,
               0.2,
               0.2,
               0.2,
               0.2,
               0.2,
               0.2,
               0.2,
               0.2,
               0.2,
               0.2,
               0.2
              ]
             }
            ],
            "label": "grid_mask",
            "method": "restyle"
           },
           {
            "args": [
             {
              "opacity": [
               0.2,
               0.2,
               0.2,
               0.2,
               0.2,
               0.2,
               0.2,
               0.2,
               0.2,
               0.2,
               0.2,
               0.2,
               0.2,
               0.2,
               0.2,
               0.2,
               0.2,
               0.2,
               0.2,
               0.2,
               0.2,
               1,
               1,
               1
              ]
             }
            ],
            "args2": [
             {
              "opacity": [
               0.2,
               0.2,
               0.2,
               0.2,
               0.2,
               0.2,
               0.2,
               0.2,
               0.2,
               0.2,
               0.2,
               0.2,
               0.2,
               0.2,
               0.2,
               0.2,
               0.2,
               0.2,
               0.2,
               0.2,
               0.2,
               0.2,
               0.2,
               0.2
              ]
             }
            ],
            "label": "local_rotation",
            "method": "restyle"
           }
          ],
          "direction": "down",
          "pad": {
           "r": 10,
           "t": 10
          },
          "showactive": true,
          "x": 1.1,
          "xanchor": "left",
          "y": 1,
          "yanchor": "top"
         }
        ],
        "xaxis": {
         "fixedrange": true,
         "title": {
          "text": "Epoch"
         }
        },
        "yaxis": {
         "fixedrange": true,
         "title": {
          "text": "Average Loss"
         },
         "type": "log"
        }
       }
      },
      "text/html": [
       "<div>                            <div id=\"e0ce789c-5fa2-4602-ba9a-06bc9bc42d7c\" class=\"plotly-graph-div\" style=\"height:525px; width:100%;\"></div>            <script type=\"text/javascript\">                require([\"plotly\"], function(Plotly) {                    window.PLOTLYENV=window.PLOTLYENV || {};                                    if (document.getElementById(\"e0ce789c-5fa2-4602-ba9a-06bc9bc42d7c\")) {                    Plotly.newPlot(                        \"e0ce789c-5fa2-4602-ba9a-06bc9bc42d7c\",                        [{\"hoverinfo\":\"name\",\"legendgroup\":\"0\",\"line\":{\"color\":\"#1f77b4\",\"dash\":\"solid\"},\"mode\":\"lines\",\"name\":\"no augmentation\",\"opacity\":0.7,\"x\":[1,2,3,4,5,6],\"y\":[0.2618068440861645,0.19139568571533475,0.1646256403199264,0.1393068662888947,0.12236602430320567,0.11594994562190203],\"type\":\"scatter\"},{\"hoverinfo\":\"name\",\"legendgroup\":\"0\",\"line\":{\"color\":\"#1f77b4\",\"dash\":\"dash\"},\"mode\":\"lines\",\"name\":\"no augmentation\",\"opacity\":0.7,\"x\":[1,2,3,4,5,6],\"y\":[0.29879774570110296,0.20763010305485555,0.18791065815658797,0.14910167844167777,0.13603947942721703,0.1250282652010875],\"type\":\"scatter\"},{\"hoverinfo\":\"name\",\"legendgroup\":\"0\",\"line\":{\"color\":\"#1f77b4\",\"dash\":\"dot\"},\"mode\":\"lines\",\"name\":\"no augmentation\",\"opacity\":0.7,\"x\":[1,2,3,4,5,6],\"y\":[0.2823165127741439,0.2106245406814629,0.17393132056153957,0.1444065008711602,0.13644493126886942,0.11894403605145358],\"type\":\"scatter\"},{\"hoverinfo\":\"name\",\"legendgroup\":\"1\",\"line\":{\"color\":\"#ff7f0e\",\"dash\":\"solid\"},\"mode\":\"lines\",\"name\":\"flip_directions\",\"opacity\":0.7,\"x\":[1,2,3,4,5,6],\"y\":[0.11888288936267297,0.08599365503926362,0.07486248641895751,0.06860400305927865,0.06608355738045205,0.06440895429945417],\"type\":\"scatter\"},{\"hoverinfo\":\"name\",\"legendgroup\":\"1\",\"line\":{\"color\":\"#ff7f0e\",\"dash\":\"dash\"},\"mode\":\"lines\",\"name\":\"flip_directions\",\"opacity\":0.7,\"x\":[1,2,3,4,5,6],\"y\":[0.12216900399486934,0.08289682875121278,0.06958120548875914,0.06130404756626203,0.05906252285598644,0.05797550348742377],\"type\":\"scatter\"},{\"hoverinfo\":\"name\",\"legendgroup\":\"1\",\"line\":{\"color\":\"#ff7f0e\",\"dash\":\"dot\"},\"mode\":\"lines\",\"name\":\"flip_directions\",\"opacity\":0.7,\"x\":[1,2,3,4,5,6],\"y\":[0.1201188666213836,0.0817884465657352,0.0710094062123625,0.06484491958149842,0.06286645656495932,0.06187140483497864],\"type\":\"scatter\"},{\"hoverinfo\":\"name\",\"legendgroup\":\"2\",\"line\":{\"color\":\"#2ca02c\",\"dash\":\"solid\"},\"mode\":\"lines\",\"name\":\"random_cropping\",\"opacity\":0.7,\"x\":[1,2,3,4,5,6],\"y\":[0.12896714972420817,0.08796159024572088,0.07465405952451484,0.06869944414966518,0.0691017674016101,0.06879298795857244],\"type\":\"scatter\"},{\"hoverinfo\":\"name\",\"legendgroup\":\"2\",\"line\":{\"color\":\"#2ca02c\",\"dash\":\"dash\"},\"mode\":\"lines\",\"name\":\"random_cropping\",\"opacity\":0.7,\"x\":[1,2,3,4,5,6],\"y\":[0.12818853382819465,0.07894760697991365,0.06490140900326272,0.061354724670361196,0.059233269365947874,0.05903350019250952],\"type\":\"scatter\"},{\"hoverinfo\":\"name\",\"legendgroup\":\"2\",\"line\":{\"color\":\"#2ca02c\",\"dash\":\"dot\"},\"mode\":\"lines\",\"name\":\"random_cropping\",\"opacity\":0.7,\"x\":[1,2,3,4,5,6],\"y\":[0.1255451838264153,0.0750641165190332,0.06309584239497781,0.05618854383716271,0.05397101025363164,0.0496459029592751],\"type\":\"scatter\"},{\"hoverinfo\":\"name\",\"legendgroup\":\"3\",\"line\":{\"color\":\"#d62728\",\"dash\":\"solid\"},\"mode\":\"lines\",\"name\":\"perspective_transform\",\"opacity\":0.7,\"x\":[1,2,3,4,5,6],\"y\":[0.13829439128970816,0.09499799700764318,0.07244708804369328,0.06497607742924066,0.06370044096506068,0.06391779890816127],\"type\":\"scatter\"},{\"hoverinfo\":\"name\",\"legendgroup\":\"3\",\"line\":{\"color\":\"#d62728\",\"dash\":\"dash\"},\"mode\":\"lines\",\"name\":\"perspective_transform\",\"opacity\":0.7,\"x\":[1,2,3,4,5,6],\"y\":[0.12289329645490008,0.08453541655714313,0.0678764441937563,0.06011001559728313,0.05772811054429483,0.057786767142603085],\"type\":\"scatter\"},{\"hoverinfo\":\"name\",\"legendgroup\":\"3\",\"line\":{\"color\":\"#d62728\",\"dash\":\"dot\"},\"mode\":\"lines\",\"name\":\"perspective_transform\",\"opacity\":0.7,\"x\":[1,2,3,4,5,6],\"y\":[0.13562282270618847,0.09410371961781666,0.07512235143665402,0.0688672292312341,0.06468901686326024,0.06332244792332252],\"type\":\"scatter\"},{\"hoverinfo\":\"name\",\"legendgroup\":\"4\",\"line\":{\"color\":\"#9467bd\",\"dash\":\"solid\"},\"mode\":\"lines\",\"name\":\"elastic_transform\",\"opacity\":0.7,\"x\":[1,2,3,4,5,6],\"y\":[0.1338975506834686,0.096334208650071,0.07766596267798118,0.07087281931723867,0.06579790928489751,0.06172848073100405],\"type\":\"scatter\"},{\"hoverinfo\":\"name\",\"legendgroup\":\"4\",\"line\":{\"color\":\"#9467bd\",\"dash\":\"dash\"},\"mode\":\"lines\",\"name\":\"elastic_transform\",\"opacity\":0.7,\"x\":[1,2,3,4,5,6],\"y\":[0.1269993461845886,0.086101081774437,0.07055450013971755,0.06363009678510329,0.061234518515300894,0.06084203397899511],\"type\":\"scatter\"},{\"hoverinfo\":\"name\",\"legendgroup\":\"4\",\"line\":{\"color\":\"#9467bd\",\"dash\":\"dot\"},\"mode\":\"lines\",\"name\":\"elastic_transform\",\"opacity\":0.7,\"x\":[1,2,3,4,5,6],\"y\":[0.12877632466898786,0.08924740959358002,0.07688795294435251,0.06904108374202181,0.06403551718574904,0.0635555011963117],\"type\":\"scatter\"},{\"hoverinfo\":\"name\",\"legendgroup\":\"5\",\"line\":{\"color\":\"#8c564b\",\"dash\":\"solid\"},\"mode\":\"lines\",\"name\":\"gauss\",\"opacity\":0.7,\"x\":[1,2,3,4,5,6],\"y\":[0.12318035909196451,0.08474045319793125,0.07150439501385249,0.0639774921350181,0.062339093112608504,0.062071465443642365],\"type\":\"scatter\"},{\"hoverinfo\":\"name\",\"legendgroup\":\"5\",\"line\":{\"color\":\"#8c564b\",\"dash\":\"dash\"},\"mode\":\"lines\",\"name\":\"gauss\",\"opacity\":0.7,\"x\":[1,2,3,4,5,6],\"y\":[0.10939198204404896,0.07002988001109943,0.05858976603042157,0.05536256788431534,0.05417733541911557,0.05488874245701092],\"type\":\"scatter\"},{\"hoverinfo\":\"name\",\"legendgroup\":\"5\",\"line\":{\"color\":\"#8c564b\",\"dash\":\"dot\"},\"mode\":\"lines\",\"name\":\"gauss\",\"opacity\":0.7,\"x\":[1,2,3,4,5,6],\"y\":[0.10810472214417088,0.07395647017817412,0.06227916431879359,0.058109374229042304,0.05599341457266183,0.05459924168618662],\"type\":\"scatter\"},{\"hoverinfo\":\"name\",\"legendgroup\":\"6\",\"line\":{\"color\":\"#e377c2\",\"dash\":\"solid\"},\"mode\":\"lines\",\"name\":\"grid_mask\",\"opacity\":0.7,\"x\":[1,2,3,4,5,6],\"y\":[0.1416263391396829,0.0932254380723905,0.07800207553387042,0.06958888829020517,0.06859917400981344,0.06810513464512215],\"type\":\"scatter\"},{\"hoverinfo\":\"name\",\"legendgroup\":\"6\",\"line\":{\"color\":\"#e377c2\",\"dash\":\"dash\"},\"mode\":\"lines\",\"name\":\"grid_mask\",\"opacity\":0.7,\"x\":[1,2,3,4,5,6],\"y\":[0.11803085764958746,0.08283844206792614,0.07146741256250867,0.06712981737884027,0.06610113154830677,0.06537719845017861],\"type\":\"scatter\"},{\"hoverinfo\":\"name\",\"legendgroup\":\"6\",\"line\":{\"color\":\"#e377c2\",\"dash\":\"dot\"},\"mode\":\"lines\",\"name\":\"grid_mask\",\"opacity\":0.7,\"x\":[1,2,3,4,5,6],\"y\":[0.12511168121404592,0.08907675351504059,0.07169525680087861,0.06345757683517322,0.05753301616225924,0.05693812793386834],\"type\":\"scatter\"},{\"hoverinfo\":\"name\",\"legendgroup\":\"7\",\"line\":{\"color\":\"#1f77b4\",\"dash\":\"solid\"},\"mode\":\"lines\",\"name\":\"local_rotation\",\"opacity\":0.7,\"x\":[1,2,3,4,5,6],\"y\":[0.1302586173860445,0.09038873131697377,0.07569082280665282,0.07227531154861762,0.06720040177904246,0.06480694866650516],\"type\":\"scatter\"},{\"hoverinfo\":\"name\",\"legendgroup\":\"7\",\"line\":{\"color\":\"#1f77b4\",\"dash\":\"dash\"},\"mode\":\"lines\",\"name\":\"local_rotation\",\"opacity\":0.7,\"x\":[1,2,3,4,5,6],\"y\":[0.11745332516286344,0.07619733183999501,0.05794712426806135,0.0556393739601065,0.05229704684932672,0.05060511848977989],\"type\":\"scatter\"},{\"hoverinfo\":\"name\",\"legendgroup\":\"7\",\"line\":{\"color\":\"#1f77b4\",\"dash\":\"dot\"},\"mode\":\"lines\",\"name\":\"local_rotation\",\"opacity\":0.7,\"x\":[1,2,3,4,5,6],\"y\":[0.13205634313857273,0.08983609696761483,0.07576112087616431,0.06602320606110706,0.06484826089636911,0.060689898771012114],\"type\":\"scatter\"}],                        {\"template\":{\"data\":{\"barpolar\":[{\"marker\":{\"line\":{\"color\":\"white\",\"width\":0.5},\"pattern\":{\"fillmode\":\"overlay\",\"size\":10,\"solidity\":0.2}},\"type\":\"barpolar\"}],\"bar\":[{\"error_x\":{\"color\":\"#2a3f5f\"},\"error_y\":{\"color\":\"#2a3f5f\"},\"marker\":{\"line\":{\"color\":\"white\",\"width\":0.5},\"pattern\":{\"fillmode\":\"overlay\",\"size\":10,\"solidity\":0.2}},\"type\":\"bar\"}],\"carpet\":[{\"aaxis\":{\"endlinecolor\":\"#2a3f5f\",\"gridcolor\":\"#C8D4E3\",\"linecolor\":\"#C8D4E3\",\"minorgridcolor\":\"#C8D4E3\",\"startlinecolor\":\"#2a3f5f\"},\"baxis\":{\"endlinecolor\":\"#2a3f5f\",\"gridcolor\":\"#C8D4E3\",\"linecolor\":\"#C8D4E3\",\"minorgridcolor\":\"#C8D4E3\",\"startlinecolor\":\"#2a3f5f\"},\"type\":\"carpet\"}],\"choropleth\":[{\"colorbar\":{\"outlinewidth\":0,\"ticks\":\"\"},\"type\":\"choropleth\"}],\"contourcarpet\":[{\"colorbar\":{\"outlinewidth\":0,\"ticks\":\"\"},\"type\":\"contourcarpet\"}],\"contour\":[{\"colorbar\":{\"outlinewidth\":0,\"ticks\":\"\"},\"colorscale\":[[0.0,\"#0d0887\"],[0.1111111111111111,\"#46039f\"],[0.2222222222222222,\"#7201a8\"],[0.3333333333333333,\"#9c179e\"],[0.4444444444444444,\"#bd3786\"],[0.5555555555555556,\"#d8576b\"],[0.6666666666666666,\"#ed7953\"],[0.7777777777777778,\"#fb9f3a\"],[0.8888888888888888,\"#fdca26\"],[1.0,\"#f0f921\"]],\"type\":\"contour\"}],\"heatmapgl\":[{\"colorbar\":{\"outlinewidth\":0,\"ticks\":\"\"},\"colorscale\":[[0.0,\"#0d0887\"],[0.1111111111111111,\"#46039f\"],[0.2222222222222222,\"#7201a8\"],[0.3333333333333333,\"#9c179e\"],[0.4444444444444444,\"#bd3786\"],[0.5555555555555556,\"#d8576b\"],[0.6666666666666666,\"#ed7953\"],[0.7777777777777778,\"#fb9f3a\"],[0.8888888888888888,\"#fdca26\"],[1.0,\"#f0f921\"]],\"type\":\"heatmapgl\"}],\"heatmap\":[{\"colorbar\":{\"outlinewidth\":0,\"ticks\":\"\"},\"colorscale\":[[0.0,\"#0d0887\"],[0.1111111111111111,\"#46039f\"],[0.2222222222222222,\"#7201a8\"],[0.3333333333333333,\"#9c179e\"],[0.4444444444444444,\"#bd3786\"],[0.5555555555555556,\"#d8576b\"],[0.6666666666666666,\"#ed7953\"],[0.7777777777777778,\"#fb9f3a\"],[0.8888888888888888,\"#fdca26\"],[1.0,\"#f0f921\"]],\"type\":\"heatmap\"}],\"histogram2dcontour\":[{\"colorbar\":{\"outlinewidth\":0,\"ticks\":\"\"},\"colorscale\":[[0.0,\"#0d0887\"],[0.1111111111111111,\"#46039f\"],[0.2222222222222222,\"#7201a8\"],[0.3333333333333333,\"#9c179e\"],[0.4444444444444444,\"#bd3786\"],[0.5555555555555556,\"#d8576b\"],[0.6666666666666666,\"#ed7953\"],[0.7777777777777778,\"#fb9f3a\"],[0.8888888888888888,\"#fdca26\"],[1.0,\"#f0f921\"]],\"type\":\"histogram2dcontour\"}],\"histogram2d\":[{\"colorbar\":{\"outlinewidth\":0,\"ticks\":\"\"},\"colorscale\":[[0.0,\"#0d0887\"],[0.1111111111111111,\"#46039f\"],[0.2222222222222222,\"#7201a8\"],[0.3333333333333333,\"#9c179e\"],[0.4444444444444444,\"#bd3786\"],[0.5555555555555556,\"#d8576b\"],[0.6666666666666666,\"#ed7953\"],[0.7777777777777778,\"#fb9f3a\"],[0.8888888888888888,\"#fdca26\"],[1.0,\"#f0f921\"]],\"type\":\"histogram2d\"}],\"histogram\":[{\"marker\":{\"pattern\":{\"fillmode\":\"overlay\",\"size\":10,\"solidity\":0.2}},\"type\":\"histogram\"}],\"mesh3d\":[{\"colorbar\":{\"outlinewidth\":0,\"ticks\":\"\"},\"type\":\"mesh3d\"}],\"parcoords\":[{\"line\":{\"colorbar\":{\"outlinewidth\":0,\"ticks\":\"\"}},\"type\":\"parcoords\"}],\"pie\":[{\"automargin\":true,\"type\":\"pie\"}],\"scatter3d\":[{\"line\":{\"colorbar\":{\"outlinewidth\":0,\"ticks\":\"\"}},\"marker\":{\"colorbar\":{\"outlinewidth\":0,\"ticks\":\"\"}},\"type\":\"scatter3d\"}],\"scattercarpet\":[{\"marker\":{\"colorbar\":{\"outlinewidth\":0,\"ticks\":\"\"}},\"type\":\"scattercarpet\"}],\"scattergeo\":[{\"marker\":{\"colorbar\":{\"outlinewidth\":0,\"ticks\":\"\"}},\"type\":\"scattergeo\"}],\"scattergl\":[{\"marker\":{\"colorbar\":{\"outlinewidth\":0,\"ticks\":\"\"}},\"type\":\"scattergl\"}],\"scattermapbox\":[{\"marker\":{\"colorbar\":{\"outlinewidth\":0,\"ticks\":\"\"}},\"type\":\"scattermapbox\"}],\"scatterpolargl\":[{\"marker\":{\"colorbar\":{\"outlinewidth\":0,\"ticks\":\"\"}},\"type\":\"scatterpolargl\"}],\"scatterpolar\":[{\"marker\":{\"colorbar\":{\"outlinewidth\":0,\"ticks\":\"\"}},\"type\":\"scatterpolar\"}],\"scatter\":[{\"fillpattern\":{\"fillmode\":\"overlay\",\"size\":10,\"solidity\":0.2},\"type\":\"scatter\"}],\"scatterternary\":[{\"marker\":{\"colorbar\":{\"outlinewidth\":0,\"ticks\":\"\"}},\"type\":\"scatterternary\"}],\"surface\":[{\"colorbar\":{\"outlinewidth\":0,\"ticks\":\"\"},\"colorscale\":[[0.0,\"#0d0887\"],[0.1111111111111111,\"#46039f\"],[0.2222222222222222,\"#7201a8\"],[0.3333333333333333,\"#9c179e\"],[0.4444444444444444,\"#bd3786\"],[0.5555555555555556,\"#d8576b\"],[0.6666666666666666,\"#ed7953\"],[0.7777777777777778,\"#fb9f3a\"],[0.8888888888888888,\"#fdca26\"],[1.0,\"#f0f921\"]],\"type\":\"surface\"}],\"table\":[{\"cells\":{\"fill\":{\"color\":\"#EBF0F8\"},\"line\":{\"color\":\"white\"}},\"header\":{\"fill\":{\"color\":\"#C8D4E3\"},\"line\":{\"color\":\"white\"}},\"type\":\"table\"}]},\"layout\":{\"annotationdefaults\":{\"arrowcolor\":\"#2a3f5f\",\"arrowhead\":0,\"arrowwidth\":1},\"autotypenumbers\":\"strict\",\"coloraxis\":{\"colorbar\":{\"outlinewidth\":0,\"ticks\":\"\"}},\"colorscale\":{\"diverging\":[[0,\"#8e0152\"],[0.1,\"#c51b7d\"],[0.2,\"#de77ae\"],[0.3,\"#f1b6da\"],[0.4,\"#fde0ef\"],[0.5,\"#f7f7f7\"],[0.6,\"#e6f5d0\"],[0.7,\"#b8e186\"],[0.8,\"#7fbc41\"],[0.9,\"#4d9221\"],[1,\"#276419\"]],\"sequential\":[[0.0,\"#0d0887\"],[0.1111111111111111,\"#46039f\"],[0.2222222222222222,\"#7201a8\"],[0.3333333333333333,\"#9c179e\"],[0.4444444444444444,\"#bd3786\"],[0.5555555555555556,\"#d8576b\"],[0.6666666666666666,\"#ed7953\"],[0.7777777777777778,\"#fb9f3a\"],[0.8888888888888888,\"#fdca26\"],[1.0,\"#f0f921\"]],\"sequentialminus\":[[0.0,\"#0d0887\"],[0.1111111111111111,\"#46039f\"],[0.2222222222222222,\"#7201a8\"],[0.3333333333333333,\"#9c179e\"],[0.4444444444444444,\"#bd3786\"],[0.5555555555555556,\"#d8576b\"],[0.6666666666666666,\"#ed7953\"],[0.7777777777777778,\"#fb9f3a\"],[0.8888888888888888,\"#fdca26\"],[1.0,\"#f0f921\"]]},\"colorway\":[\"#636efa\",\"#EF553B\",\"#00cc96\",\"#ab63fa\",\"#FFA15A\",\"#19d3f3\",\"#FF6692\",\"#B6E880\",\"#FF97FF\",\"#FECB52\"],\"font\":{\"color\":\"#2a3f5f\"},\"geo\":{\"bgcolor\":\"white\",\"lakecolor\":\"white\",\"landcolor\":\"white\",\"showlakes\":true,\"showland\":true,\"subunitcolor\":\"#C8D4E3\"},\"hoverlabel\":{\"align\":\"left\"},\"hovermode\":\"closest\",\"mapbox\":{\"style\":\"light\"},\"paper_bgcolor\":\"white\",\"plot_bgcolor\":\"white\",\"polar\":{\"angularaxis\":{\"gridcolor\":\"#EBF0F8\",\"linecolor\":\"#EBF0F8\",\"ticks\":\"\"},\"bgcolor\":\"white\",\"radialaxis\":{\"gridcolor\":\"#EBF0F8\",\"linecolor\":\"#EBF0F8\",\"ticks\":\"\"}},\"scene\":{\"xaxis\":{\"backgroundcolor\":\"white\",\"gridcolor\":\"#DFE8F3\",\"gridwidth\":2,\"linecolor\":\"#EBF0F8\",\"showbackground\":true,\"ticks\":\"\",\"zerolinecolor\":\"#EBF0F8\"},\"yaxis\":{\"backgroundcolor\":\"white\",\"gridcolor\":\"#DFE8F3\",\"gridwidth\":2,\"linecolor\":\"#EBF0F8\",\"showbackground\":true,\"ticks\":\"\",\"zerolinecolor\":\"#EBF0F8\"},\"zaxis\":{\"backgroundcolor\":\"white\",\"gridcolor\":\"#DFE8F3\",\"gridwidth\":2,\"linecolor\":\"#EBF0F8\",\"showbackground\":true,\"ticks\":\"\",\"zerolinecolor\":\"#EBF0F8\"}},\"shapedefaults\":{\"line\":{\"color\":\"#2a3f5f\"}},\"ternary\":{\"aaxis\":{\"gridcolor\":\"#DFE8F3\",\"linecolor\":\"#A2B1C6\",\"ticks\":\"\"},\"baxis\":{\"gridcolor\":\"#DFE8F3\",\"linecolor\":\"#A2B1C6\",\"ticks\":\"\"},\"bgcolor\":\"white\",\"caxis\":{\"gridcolor\":\"#DFE8F3\",\"linecolor\":\"#A2B1C6\",\"ticks\":\"\"}},\"title\":{\"x\":0.05},\"xaxis\":{\"automargin\":true,\"gridcolor\":\"#EBF0F8\",\"linecolor\":\"#EBF0F8\",\"ticks\":\"\",\"title\":{\"standoff\":15},\"zerolinecolor\":\"#EBF0F8\",\"zerolinewidth\":2},\"yaxis\":{\"automargin\":true,\"gridcolor\":\"#EBF0F8\",\"linecolor\":\"#EBF0F8\",\"ticks\":\"\",\"title\":{\"standoff\":15},\"zerolinecolor\":\"#EBF0F8\",\"zerolinewidth\":2}}},\"yaxis\":{\"title\":{\"text\":\"Average Loss\"},\"type\":\"log\",\"fixedrange\":true},\"updatemenus\":[{\"buttons\":[{\"args\":[{\"opacity\":[0.7,0.7,0.7,0.7,0.7,0.7,0.7,0.7,0.7,0.7,0.7,0.7,0.7,0.7,0.7,0.7,0.7,0.7,0.7,0.7,0.7,0.7,0.7,0.7]}],\"args2\":[{\"opacity\":[0.2,0.2,0.2,0.2,0.2,0.2,0.2,0.2,0.2,0.2,0.2,0.2,0.2,0.2,0.2,0.2,0.2,0.2,0.2,0.2,0.2,0.2,0.2,0.2]}],\"label\":\"All\",\"method\":\"restyle\"},{\"args\":[{\"opacity\":[1,1,1,0.2,0.2,0.2,0.2,0.2,0.2,0.2,0.2,0.2,0.2,0.2,0.2,0.2,0.2,0.2,0.2,0.2,0.2,0.2,0.2,0.2]}],\"args2\":[{\"opacity\":[0.2,0.2,0.2,0.2,0.2,0.2,0.2,0.2,0.2,0.2,0.2,0.2,0.2,0.2,0.2,0.2,0.2,0.2,0.2,0.2,0.2,0.2,0.2,0.2]}],\"label\":\"no augmentation\",\"method\":\"restyle\"},{\"args\":[{\"opacity\":[0.2,0.2,0.2,1,1,1,0.2,0.2,0.2,0.2,0.2,0.2,0.2,0.2,0.2,0.2,0.2,0.2,0.2,0.2,0.2,0.2,0.2,0.2]}],\"args2\":[{\"opacity\":[0.2,0.2,0.2,0.2,0.2,0.2,0.2,0.2,0.2,0.2,0.2,0.2,0.2,0.2,0.2,0.2,0.2,0.2,0.2,0.2,0.2,0.2,0.2,0.2]}],\"label\":\"flip_directions\",\"method\":\"restyle\"},{\"args\":[{\"opacity\":[0.2,0.2,0.2,0.2,0.2,0.2,1,1,1,0.2,0.2,0.2,0.2,0.2,0.2,0.2,0.2,0.2,0.2,0.2,0.2,0.2,0.2,0.2]}],\"args2\":[{\"opacity\":[0.2,0.2,0.2,0.2,0.2,0.2,0.2,0.2,0.2,0.2,0.2,0.2,0.2,0.2,0.2,0.2,0.2,0.2,0.2,0.2,0.2,0.2,0.2,0.2]}],\"label\":\"random_cropping\",\"method\":\"restyle\"},{\"args\":[{\"opacity\":[0.2,0.2,0.2,0.2,0.2,0.2,0.2,0.2,0.2,1,1,1,0.2,0.2,0.2,0.2,0.2,0.2,0.2,0.2,0.2,0.2,0.2,0.2]}],\"args2\":[{\"opacity\":[0.2,0.2,0.2,0.2,0.2,0.2,0.2,0.2,0.2,0.2,0.2,0.2,0.2,0.2,0.2,0.2,0.2,0.2,0.2,0.2,0.2,0.2,0.2,0.2]}],\"label\":\"perspective_transform\",\"method\":\"restyle\"},{\"args\":[{\"opacity\":[0.2,0.2,0.2,0.2,0.2,0.2,0.2,0.2,0.2,0.2,0.2,0.2,1,1,1,0.2,0.2,0.2,0.2,0.2,0.2,0.2,0.2,0.2]}],\"args2\":[{\"opacity\":[0.2,0.2,0.2,0.2,0.2,0.2,0.2,0.2,0.2,0.2,0.2,0.2,0.2,0.2,0.2,0.2,0.2,0.2,0.2,0.2,0.2,0.2,0.2,0.2]}],\"label\":\"elastic_transform\",\"method\":\"restyle\"},{\"args\":[{\"opacity\":[0.2,0.2,0.2,0.2,0.2,0.2,0.2,0.2,0.2,0.2,0.2,0.2,0.2,0.2,0.2,1,1,1,0.2,0.2,0.2,0.2,0.2,0.2]}],\"args2\":[{\"opacity\":[0.2,0.2,0.2,0.2,0.2,0.2,0.2,0.2,0.2,0.2,0.2,0.2,0.2,0.2,0.2,0.2,0.2,0.2,0.2,0.2,0.2,0.2,0.2,0.2]}],\"label\":\"gauss\",\"method\":\"restyle\"},{\"args\":[{\"opacity\":[0.2,0.2,0.2,0.2,0.2,0.2,0.2,0.2,0.2,0.2,0.2,0.2,0.2,0.2,0.2,0.2,0.2,0.2,1,1,1,0.2,0.2,0.2]}],\"args2\":[{\"opacity\":[0.2,0.2,0.2,0.2,0.2,0.2,0.2,0.2,0.2,0.2,0.2,0.2,0.2,0.2,0.2,0.2,0.2,0.2,0.2,0.2,0.2,0.2,0.2,0.2]}],\"label\":\"grid_mask\",\"method\":\"restyle\"},{\"args\":[{\"opacity\":[0.2,0.2,0.2,0.2,0.2,0.2,0.2,0.2,0.2,0.2,0.2,0.2,0.2,0.2,0.2,0.2,0.2,0.2,0.2,0.2,0.2,1,1,1]}],\"args2\":[{\"opacity\":[0.2,0.2,0.2,0.2,0.2,0.2,0.2,0.2,0.2,0.2,0.2,0.2,0.2,0.2,0.2,0.2,0.2,0.2,0.2,0.2,0.2,0.2,0.2,0.2]}],\"label\":\"local_rotation\",\"method\":\"restyle\"}],\"direction\":\"down\",\"pad\":{\"r\":10,\"t\":10},\"showactive\":true,\"x\":1.1,\"xanchor\":\"left\",\"y\":1,\"yanchor\":\"top\"}],\"xaxis\":{\"title\":{\"text\":\"Epoch\"},\"fixedrange\":true},\"showlegend\":false,\"annotations\":[{\"font\":{\"size\":12},\"showarrow\":false,\"text\":\"\\u003cspan\\u003e\\u2500 No Smoothing\\u003c\\u002fspan\\u003e\",\"x\":0,\"xref\":\"paper\",\"y\":1.1,\"yref\":\"paper\"},{\"font\":{\"size\":12},\"showarrow\":false,\"text\":\"\\u003cspan\\u003e\\u2500 \\u2500 \\u2500 Boxcar Smoothing\\u003c\\u002fspan\\u003e\",\"x\":0.2,\"xref\":\"paper\",\"y\":1.1,\"yref\":\"paper\"},{\"font\":{\"size\":12},\"showarrow\":false,\"text\":\"\\u003cspan\\u003e\\u2022 \\u2022 \\u2022 Gaussian Smoothing\\u003c\\u002fspan\\u003e\",\"x\":0.6,\"xref\":\"paper\",\"y\":1.1,\"yref\":\"paper\"}]},                        {\"responsive\": true}                    ).then(function(){\n",
       "                            \n",
       "var gd = document.getElementById('e0ce789c-5fa2-4602-ba9a-06bc9bc42d7c');\n",
       "var x = new MutationObserver(function (mutations, observer) {{\n",
       "        var display = window.getComputedStyle(gd).display;\n",
       "        if (!display || display === 'none') {{\n",
       "            console.log([gd, 'removed!']);\n",
       "            Plotly.purge(gd);\n",
       "            observer.disconnect();\n",
       "        }}\n",
       "}});\n",
       "\n",
       "// Listen for the removal of the full notebook cells\n",
       "var notebookContainer = gd.closest('#notebook-container');\n",
       "if (notebookContainer) {{\n",
       "    x.observe(notebookContainer, {childList: true});\n",
       "}}\n",
       "\n",
       "// Listen for the clearing of the current output cell\n",
       "var outputEl = gd.closest('.output');\n",
       "if (outputEl) {{\n",
       "    x.observe(outputEl, {childList: true});\n",
       "}}\n",
       "\n",
       "                        })                };                });            </script>        </div>"
      ]
     },
     "metadata": {},
     "output_type": "display_data"
    }
   ],
   "source": [
    "def compute_average_loss(losses):\n",
    "    losses_array = np.array(losses)\n",
    "    average_loss_per_epoch = np.mean(losses_array, axis=(0, 2))\n",
    "    return average_loss_per_epoch\n",
    "\n",
    "def create_label(hyperparameters, keys_to_exclude):\n",
    "    label_parts = []\n",
    "    for key in hyperparameters.keys():\n",
    "        if key not in keys_to_exclude:\n",
    "            label_parts.append(f\"{key}\")\n",
    "    return \", \".join(label_parts)\n",
    "\n",
    "def plot_loss(input_dict, keys_to_exclude=['smooth_config']):\n",
    "    # Define line styles and color map\n",
    "    line_styles = ['solid', 'dash', 'dot']\n",
    "    line_style_labels = ['No Smoothing', 'Boxcar Smoothing', 'Gaussian Smoothing']\n",
    "    unicode_line_styles = ['─', '─ ─ ─', '• • •']\n",
    "    color_map = ['#1f77b4', '#ff7f0e', '#2ca02c', '#d62728', '#9467bd', '#8c564b', '#e377c2']\n",
    "\n",
    "    fig = go.Figure()\n",
    "    group_labels = {}\n",
    "    color_index = 0\n",
    "\n",
    "    # Group data by unique hyperparameter sets (excluding certain keys)\n",
    "    unique_hyperparams = {}\n",
    "    for key, setting in input_dict.items():\n",
    "        hyperparameters = setting['hyperparameters']\n",
    "        filtered_hyperparams = {k: v for k, v in hyperparameters.items() if k not in keys_to_exclude}\n",
    "        filtered_hyperparams_str = str(filtered_hyperparams)\n",
    "\n",
    "        if filtered_hyperparams_str not in unique_hyperparams:\n",
    "            unique_hyperparams[filtered_hyperparams_str] = []\n",
    "        unique_hyperparams[filtered_hyperparams_str].append(key)\n",
    "\n",
    "    # Plot each group\n",
    "    for group_index, (hyperparams_str, keys) in enumerate(unique_hyperparams.items()):\n",
    "        color = color_map[color_index % len(color_map)]\n",
    "        color_index += 1\n",
    "\n",
    "        for setting_index, key in enumerate(keys):\n",
    "            setting = input_dict[key]\n",
    "            hyperparameters = setting['hyperparameters']\n",
    "            losses = setting['val_loss']\n",
    "            average_loss_per_epoch = compute_average_loss(losses)\n",
    "            label = create_label(hyperparameters, keys_to_exclude)\n",
    "            line_style = line_styles[setting_index % len(line_styles)]\n",
    "\n",
    "            trace = go.Scatter(\n",
    "                x=list(range(1, len(average_loss_per_epoch) + 1)),\n",
    "                y=average_loss_per_epoch,\n",
    "                mode='lines',\n",
    "                name=label,\n",
    "                line=dict(color=color, dash=line_style),\n",
    "                hoverinfo='name',\n",
    "                legendgroup=str(group_index),\n",
    "                opacity=0.7\n",
    "            )\n",
    "            fig.add_trace(trace)\n",
    "\n",
    "            if group_index not in group_labels:\n",
    "                group_labels[group_index] = label\n",
    "\n",
    "    # Add dropdown menu to handle opacity updates\n",
    "    buttons = []\n",
    "    for i in range(len(group_labels)):\n",
    "        visibility = [0.2] * len(fig.data)\n",
    "        for j in range(len(fig.data)):\n",
    "            if fig.data[j].legendgroup == str(i):\n",
    "                visibility[j] = 1\n",
    "        buttons.append(dict(label=group_labels[i],\n",
    "                            method='restyle',\n",
    "                            args=[{'opacity': visibility}],\n",
    "                            args2=[{'opacity': [0.2] * len(fig.data)}]))\n",
    "\n",
    "    buttons.insert(0, dict(label='All',\n",
    "                        method='restyle',\n",
    "                        args=[{'opacity': [0.7] * len(fig.data)}],\n",
    "                        args2=[{'opacity': [0.2] * len(fig.data)}]))\n",
    "\n",
    "    fig.update_layout(\n",
    "        updatemenus=[\n",
    "            dict(\n",
    "                buttons=buttons,\n",
    "                direction=\"down\",\n",
    "                showactive=True,\n",
    "                x=1.1,\n",
    "                xanchor='left',\n",
    "                y=1,\n",
    "                yanchor='top',\n",
    "                pad={'r': 10, 't': 10}\n",
    "            )\n",
    "        ],\n",
    "        xaxis_title='Epoch',\n",
    "        yaxis_title='Average Loss',\n",
    "        yaxis_type='log',\n",
    "        template='plotly_white',\n",
    "        showlegend=False\n",
    "    )\n",
    "\n",
    "    annotations = [\n",
    "        dict(\n",
    "            x=0,\n",
    "            y=1.1,\n",
    "            xref='paper',\n",
    "            yref='paper',\n",
    "            text=f'<span>{unicode_line_styles[0]} {line_style_labels[0]}</span>',\n",
    "            showarrow=False,\n",
    "            font=dict(size=12)\n",
    "        ),\n",
    "        dict(\n",
    "            x=0.2,\n",
    "            y=1.1,\n",
    "            xref='paper',\n",
    "            yref='paper',\n",
    "            text=f'<span>{unicode_line_styles[1]} {line_style_labels[1]}</span>',\n",
    "            showarrow=False,\n",
    "            font=dict(size=12)\n",
    "        ),\n",
    "        dict(\n",
    "            x=0.6,\n",
    "            y=1.1,\n",
    "            xref='paper',\n",
    "            yref='paper',\n",
    "            text=f'<span>{unicode_line_styles[2]} {line_style_labels[2]}</span>',\n",
    "            showarrow=False,\n",
    "            font=dict(size=12)\n",
    "        )\n",
    "    ]\n",
    "\n",
    "    fig.update_layout(\n",
    "        annotations=annotations\n",
    "    )\n",
    "\n",
    "    fig.layout.xaxis.fixedrange = True\n",
    "    fig.layout.yaxis.fixedrange = True\n",
    "\n",
    "    fig.show()\n",
    "\n",
    "    pio.write_html(fig, file='interactive_plot.html', include_plotlyjs='cdn', config={'displayModeBar': False})\n",
    "\n",
    "plot_loss(input_dict)"
   ]
  }
 ],
 "metadata": {
  "kernelspec": {
   "display_name": "light",
   "language": "python",
   "name": "python3"
  },
  "language_info": {
   "codemirror_mode": {
    "name": "ipython",
    "version": 3
   },
   "file_extension": ".py",
   "mimetype": "text/x-python",
   "name": "python",
   "nbconvert_exporter": "python",
   "pygments_lexer": "ipython3",
   "version": "3.1.undefined"
  }
 },
 "nbformat": 4,
 "nbformat_minor": 2
}
